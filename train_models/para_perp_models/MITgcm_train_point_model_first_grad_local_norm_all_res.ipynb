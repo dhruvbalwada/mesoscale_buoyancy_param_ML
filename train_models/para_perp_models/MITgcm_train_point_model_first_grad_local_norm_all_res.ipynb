{
 "cells": [
  {
   "cell_type": "markdown",
   "id": "a0e7cba6-6c6d-4163-acc9-493d17697d2f",
   "metadata": {},
   "source": [
    "## Train pointwise ML model using first order gradients, but on wider stencil. Also with local norm.\n",
    "## Also using the parallel perp division \n",
    "\n",
    "Taking inspiration from LES gradient models we train a ML model using the first order gradients of velocity and slopes as input. The output will be the streamfunction. "
   ]
  },
  {
   "cell_type": "markdown",
   "id": "95dcadbd-3ee5-4c09-b189-0f130c7584e4",
   "metadata": {},
   "source": [
    "Here we attempt to a local normalization, with the hope that this helps improve the model performance. \n",
    "\n",
    "\n",
    "$$\n",
    "\\mathbf{\\Psi} = \\triangle x^2 |\\nabla \\overline{\\mathbf{u}}| |\\overline{\\mathbf{S}}| g_{nn} (\\nabla \\overline{\\mathbf{u}}/|\\nabla \\overline{\\mathbf{u}}|, \\overline{\\mathbf{S}}/|\\overline{\\mathbf{S}}|)\n",
    "$$\n",
    "\n",
    "\n",
    "Here the idea is that $g_{nn}$ may learn something that is less reliant on the amplitudes of simulation. Here the magnitudes of the velocity gradients and slopes are local, so calculated over the quantities over the region that the prediction is made. \n",
    "\n",
    "A more general form will be of the type:\n",
    "\n",
    "$$\n",
    "\\mathbf{\\Psi} = \\triangle x^2 |\\nabla \\overline{\\mathbf{u}}| |\\overline{\\mathbf{S}}| g_{nn} (\\nabla \\overline{\\mathbf{u}}/|\\nabla \\overline{\\mathbf{u}}|, \\overline{\\mathbf{S}}/|\\overline{\\mathbf{S}}|, \\triangle x)\n",
    "$$ \n",
    "But then the question becomes if we want to let the nn adjust based on the length scales, or if we think that the g may be scale invariant (or we adjust some coeff in front). "
   ]
  },
  {
   "cell_type": "code",
   "execution_count": 1,
   "id": "ad043a62-6446-40b0-8bd7-8712907e3300",
   "metadata": {},
   "outputs": [],
   "source": [
    "import warnings\n",
    "\n",
    "# Ignore all warnings\n",
    "warnings.filterwarnings(\"ignore\")"
   ]
  },
  {
   "cell_type": "code",
   "execution_count": 2,
   "id": "dca44cb6-627e-429d-89d6-60b0e98062be",
   "metadata": {
    "tags": []
   },
   "outputs": [],
   "source": [
    "import matplotlib.pyplot as plt\n",
    "import numpy as np\n",
    "import xarray as xr"
   ]
  },
  {
   "cell_type": "code",
   "execution_count": 3,
   "id": "9db7b11a-4742-4a72-b6e1-798605887040",
   "metadata": {
    "tags": []
   },
   "outputs": [],
   "source": [
    "import sys\n",
    "sys.path.append('../../modules/')"
   ]
  },
  {
   "cell_type": "code",
   "execution_count": 4,
   "id": "089dd712-243a-4910-85c5-a201d181ff2c",
   "metadata": {
    "tags": []
   },
   "outputs": [
    {
     "name": "stderr",
     "output_type": "stream",
     "text": [
      "2024-03-08 19:51:24.579883: E tensorflow/compiler/xla/stream_executor/cuda/cuda_dnn.cc:9342] Unable to register cuDNN factory: Attempting to register factory for plugin cuDNN when one has already been registered\n",
      "2024-03-08 19:51:24.579916: E tensorflow/compiler/xla/stream_executor/cuda/cuda_fft.cc:609] Unable to register cuFFT factory: Attempting to register factory for plugin cuFFT when one has already been registered\n",
      "2024-03-08 19:51:24.579921: E tensorflow/compiler/xla/stream_executor/cuda/cuda_blas.cc:1518] Unable to register cuBLAS factory: Attempting to register factory for plugin cuBLAS when one has already been registered\n"
     ]
    }
   ],
   "source": [
    "%reload_ext autoreload\n",
    "%autoreload 2\n",
    "import datasets\n",
    "import ML_classes"
   ]
  },
  {
   "cell_type": "code",
   "execution_count": 5,
   "id": "3d8e3f6f-4dc2-44e9-ad01-6acc930b483d",
   "metadata": {},
   "outputs": [],
   "source": [
    "kind = 'MITgcm'\n",
    "MITgcm_bucket ='gs://leap-persistent/dhruvbalwada/m2lines_transfer'\n",
    "\n",
    "window_size=1\n",
    "\n",
    "#fname = f'{MITgcm_bucket}/ML_data/ds_ML_'+L+'km_3D'\n",
    "    \n",
    "# Open dataset\n",
    "ML_data = datasets.MITgcm_all_transformer('-', '-', \n",
    "                                      input_channels=['U_x', 'U_y', \n",
    "                                                      'V_x', 'V_y', \n",
    "                                                      'Sx', 'Sy'])"
   ]
  },
  {
   "cell_type": "code",
   "execution_count": 6,
   "id": "5efe17a1-a8f9-4897-803a-ccaf8bf227f6",
   "metadata": {},
   "outputs": [
    {
     "name": "stdout",
     "output_type": "stream",
     "text": [
      "Dataset loaded from gs://leap-persistent/dhruvbalwada/m2lines_transfer/ML_data/ds_ML_50km_3D\n",
      "Centered\n",
      "Out para perp\n",
      "Dataset loaded from gs://leap-persistent/dhruvbalwada/m2lines_transfer/ML_data/ds_ML_100km_3D\n",
      "Centered\n",
      "Out para perp\n",
      "Dataset loaded from gs://leap-persistent/dhruvbalwada/m2lines_transfer/ML_data/ds_ML_200km_3D\n",
      "Centered\n",
      "Out para perp\n",
      "Dataset loaded from gs://leap-persistent/dhruvbalwada/m2lines_transfer/ML_data/ds_ML_400km_3D\n",
      "Centered\n",
      "Out para perp\n"
     ]
    }
   ],
   "source": [
    "ML_data.read_datatree(MITgcm_bucket, keep_filt_scale=True, para_perp_out=True)"
   ]
  },
  {
   "cell_type": "code",
   "execution_count": 7,
   "id": "e210ef58-6fc1-4d28-a2eb-d19ac565d7ba",
   "metadata": {},
   "outputs": [
    {
     "name": "stdout",
     "output_type": "stream",
     "text": [
      "Test and train batches split. Number of batches: 44-4\n"
     ]
    }
   ],
   "source": [
    "ML_data.generate_test_train_batches(normalize=False)"
   ]
  },
  {
   "cell_type": "code",
   "execution_count": 8,
   "id": "0ec2b95f-fb67-45aa-9091-2196c7126456",
   "metadata": {},
   "outputs": [
    {
     "name": "stderr",
     "output_type": "stream",
     "text": [
      "No GPU/TPU found, falling back to CPU. (Set TF_CPP_MIN_LOG_LEVEL=0 and rerun for more info.)\n"
     ]
    }
   ],
   "source": [
    "ANN_model = ML_classes.ANN(num_in = len(ML_data.input_channels))"
   ]
  },
  {
   "cell_type": "code",
   "execution_count": 9,
   "id": "a0b206a3-37ec-4f67-95ce-664399078337",
   "metadata": {},
   "outputs": [],
   "source": [
    "regress_sys = ML_classes.RegressionSystem(ANN_model, local_norm=True)"
   ]
  },
  {
   "cell_type": "code",
   "execution_count": 10,
   "id": "5ed1683e-227d-4ea5-a6d1-f87dae20b5a4",
   "metadata": {},
   "outputs": [
    {
     "name": "stdout",
     "output_type": "stream",
     "text": [
      "Train loss step 0:  14.906734975901516 test loss: 6.455430388450623\n",
      "Train loss step 1:  5.372953274033287 test loss: 5.357800006866455\n",
      "Train loss step 2:  4.708368648182262 test loss: 4.843255996704102\n",
      "Train loss step 3:  4.3644348274577744 test loss: 4.593209862709045\n",
      "Train loss step 4:  4.184389862147245 test loss: 4.45799195766449\n",
      "Train loss step 5:  4.075441631403836 test loss: 4.367826461791992\n",
      "Train loss step 6:  3.997361486608332 test loss: 4.306921482086182\n",
      "Train loss step 7:  3.9425810196182947 test loss: 4.263686776161194\n",
      "Train loss step 8:  3.9025442491878164 test loss: 4.230242967605591\n",
      "Train loss step 9:  3.8715422316031023 test loss: 4.201201319694519\n",
      "Train loss step 10:  3.8467519229108635 test loss: 4.174210429191589\n",
      "Train loss step 11:  3.8254317858002405 test loss: 4.152777075767517\n",
      "Train loss step 12:  3.808390042998574 test loss: 4.138951659202576\n",
      "Train loss step 13:  3.795295016332106 test loss: 4.124682903289795\n",
      "Train loss step 14:  3.7849211638624016 test loss: 4.112314224243164\n",
      "Train loss step 15:  3.7766920057210056 test loss: 4.102866172790527\n",
      "Train loss step 16:  3.7696872407739814 test loss: 4.0963534116744995\n",
      "Train loss step 17:  3.7633455341512505 test loss: 4.089931488037109\n",
      "Train loss step 18:  3.757552807981318 test loss: 4.082867860794067\n",
      "Train loss step 19:  3.7523678703741594 test loss: 4.077176809310913\n",
      "Train loss step 20:  3.747836698185314 test loss: 4.072541356086731\n",
      "Train loss step 21:  3.743492998860099 test loss: 4.067786931991577\n",
      "Train loss step 22:  3.7392382513393057 test loss: 4.0650094747543335\n",
      "Train loss step 23:  3.7350798086686567 test loss: 4.062819957733154\n",
      "Train loss step 24:  3.7310918515378777 test loss: 4.0603097677230835\n",
      "Train loss step 25:  3.726936649192463 test loss: 4.058501243591309\n",
      "Train loss step 26:  3.7227842861955818 test loss: 4.057503700256348\n",
      "Train loss step 27:  3.718876388939944 test loss: 4.054567098617554\n",
      "Train loss step 28:  3.7155003547668457 test loss: 4.05187201499939\n",
      "Train loss step 29:  3.712575300173326 test loss: 4.0499231815338135\n",
      "Train loss step 30:  3.7098702029748396 test loss: 4.048902869224548\n",
      "CPU times: user 32min 40s, sys: 4.11 s, total: 32min 44s\n",
      "Wall time: 27min 49s\n"
     ]
    }
   ],
   "source": [
    "%%time\n",
    "regress_sys.train_system(ML_data, 31, 1)"
   ]
  },
  {
   "cell_type": "code",
   "execution_count": 12,
   "id": "f24aefca-7f64-4c58-8146-a21fa2221023",
   "metadata": {},
   "outputs": [
    {
     "data": {
      "text/plain": [
       "<matplotlib.legend.Legend at 0x7933e49bed50>"
      ]
     },
     "execution_count": 12,
     "metadata": {},
     "output_type": "execute_result"
    },
    {
     "data": {
      "image/png": "[encoded data removed]",
      "text/plain": [
       "<Figure size 640x480 with 1 Axes>"
      ]
     },
     "metadata": {},
     "output_type": "display_data"
    }
   ],
   "source": [
    "## Loss plot\n",
    "plt.plot(regress_sys.train_loss, label='Training loss, '+str(regress_sys.train_loss[-1]))\n",
    "plt.plot(regress_sys.test_loss, label='Test loss'+str(regress_sys.test_loss[-1]))\n",
    "\n",
    "plt.title('Loss curve')\n",
    "plt.grid()\n",
    "plt.yscale('log')\n",
    "plt.legend()"
   ]
  },
  {
   "cell_type": "code",
   "execution_count": 13,
   "id": "0d840a33-61a4-474e-9d1c-b80fb9a38758",
   "metadata": {},
   "outputs": [],
   "source": [
    "# Save the checkpoint\n",
    "CKPT_DIR = '/home/jovyan/mesoscale_buoyancy_param_ML/ML_checkpoints/ckpts_all_MITgcm_window_1_local_norm_true_out_para_perp'\n",
    "regress_sys.save_checkpoint(CKPT_DIR)\n",
    "\n",
    "# Save model nc file\n",
    "model_nc = '/home/jovyan/mesoscale_buoyancy_param_ML/ML_model_ncs/' +'MITgcm_all_window_1_local_norm_true_out_para_perp'+'.nc'\n",
    "regress_sys.save_weights_nc(model_nc)"
   ]
  },
  {
   "cell_type": "code",
   "execution_count": null,
   "id": "f6d087a0-d292-42c7-b789-98817f6c2654",
   "metadata": {},
   "outputs": [],
   "source": []
  }
 ],
 "metadata": {
  "kernelspec": {
   "display_name": "Python 3 (ipykernel)",
   "language": "python",
   "name": "python3"
  },
  "language_info": {
   "codemirror_mode": {
    "name": "ipython",
    "version": 3
   },
   "file_extension": ".py",
   "mimetype": "text/x-python",
   "name": "python",
   "nbconvert_exporter": "python",
   "pygments_lexer": "ipython3",
   "version": "3.11.7"
  }
 },
 "nbformat": 4,
 "nbformat_minor": 5
}
