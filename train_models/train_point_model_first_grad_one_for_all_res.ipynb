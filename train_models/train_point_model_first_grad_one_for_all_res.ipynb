{
 "cells": [
  {
   "cell_type": "markdown",
   "id": "7e8c307f-794f-4d81-b1a5-a8e51dffcb36",
   "metadata": {},
   "source": [
    "# Train a single ML model for all resolutions with first order gradients"
   ]
  },
  {
   "cell_type": "code",
   "execution_count": 1,
   "id": "fbf157b8-d6e4-4fff-a98b-e9f4c4a44c83",
   "metadata": {
    "tags": []
   },
   "outputs": [
    {
     "name": "stderr",
     "output_type": "stream",
     "text": [
      "WARNING:absl:GlobalAsyncCheckpointManager is not imported correctly. Checkpointing of GlobalDeviceArrays will not be available.To use the feature, install tensorstore.\n"
     ]
    }
   ],
   "source": [
    "import xarray as xr\n",
    "import numpy as np \n",
    "\n",
    "import jax\n",
    "from typing import Any, Callable, Sequence\n",
    "from jax import lax, random, numpy as jnp\n",
    "#from flax.core import freeze, unfreeze\n",
    "from flax import linen as nn\n",
    "from flax.training import train_state \n",
    "from flax.training import checkpoints\n",
    "import flax\n",
    "flax.config.update('flax_use_orbax_checkpointing', True)\n",
    "\n",
    "import optax\n",
    "import xbatcher\n",
    "import fsspec\n",
    "\n",
    "#import hvplot.xarray\n",
    "\n",
    "import matplotlib.pyplot as plt\n",
    "from datatree import DataTree\n",
    "from datatree import open_datatree\n",
    "\n",
    "from datetime import datetime\n",
    "\n",
    "import xgcm\n",
    "\n",
    "import sys\n",
    "\n",
    "sys.path.append('../modules/')\n",
    "import helper_func as hf\n",
    "import ml_helper_func as ml_hf"
   ]
  },
  {
   "cell_type": "code",
   "execution_count": 2,
   "id": "5d7df161-4e8a-43ed-844e-54de50bab18c",
   "metadata": {
    "tags": []
   },
   "outputs": [],
   "source": [
    "import os \n",
    "M2LINES_BUCKET ='gs://leap-persistent/dhruvbalwada/m2lines_transfer'\n",
    "\n",
    "# Open all the datasets\n",
    "Lkey = ['50', '100', '200', '400']\n",
    "\n",
    "res_name = 'all'\n",
    "\n",
    "ds = {}\n",
    "for L in Lkey:\n",
    "    \n",
    "    ds_temp = xr.open_zarr(f'{M2LINES_BUCKET}/ML_data/ds_ML_'+L+'km_3D')\n",
    "    \n",
    "    ds[L] = ds_temp\n",
    "ds_tree = DataTree.from_dict(ds)\n",
    "\n",
    "# Open the mask files\n",
    "ds_mask_tree = open_datatree(f'{M2LINES_BUCKET}/ML_data/ds_ML_masks', engine='zarr')"
   ]
  },
  {
   "cell_type": "code",
   "execution_count": 4,
   "id": "c041f10f-f616-44fc-adbd-eccaece1bbda",
   "metadata": {
    "tags": []
   },
   "outputs": [],
   "source": [
    "output_channels = ['Sfnx','Sfny']                                      \n",
    "\n",
    "input_channels = ['U_x', 'U_y', \n",
    "                  'V_x', 'V_y', \n",
    "                  'Sx', 'Sy', 'Lfilt']"
   ]
  },
  {
   "cell_type": "code",
   "execution_count": 5,
   "id": "0653c37a-c0c2-4a26-9593-05712486d329",
   "metadata": {},
   "outputs": [],
   "source": [
    "design_name = 'first_order'"
   ]
  },
  {
   "cell_type": "code",
   "execution_count": 6,
   "id": "6055fa04-f622-4460-9ee3-3c19b4e732d2",
   "metadata": {
    "tags": []
   },
   "outputs": [],
   "source": [
    "# Normalize by T_z for some variables\n",
    "# Center all the data\n",
    "facs = {}\n",
    "\n",
    "ds_tree_centered = {}\n",
    "ds_tree_centered_small = {}\n",
    "\n",
    "for L in Lkey:\n",
    "    \n",
    "    # Select dataset\n",
    "    ds = ds_tree[L].ds\n",
    "    grid = xgcm.Grid(ds, periodic='X')\n",
    "    \n",
    "    ds_mask= ds_mask_tree[L].to_dataset().maskC\n",
    "    \n",
    "    # Center the variables\n",
    "    ds_centered = hf.center_data(ds)\n",
    "    ds_centered['T_z'] = (ds_centered['T_z'].where(ds_centered['T_z']>=5e-5, 5e-5)) #.isel(time=0, XC=0).plot(vmin=-6e-3)\n",
    "\n",
    "    # Add variables that are actually used in the ML model.\n",
    "    ds_centered['Sx'] = -ds_centered['T_x']/ds_centered['T_z']\n",
    "    ds_centered['Sy'] = -ds_centered['T_y']/ds_centered['T_z']\n",
    "\n",
    "    ds_centered['Sfnx'] =  - ds_centered['uT']/ds_centered['T_z']\n",
    "    ds_centered['Sfny'] =  - ds_centered['vT']/ds_centered['T_z']\n",
    "    \n",
    "    ds_centered['Lfilt'] = (float(L) + 0*ds_centered.T)\n",
    "\n",
    "    ds_ML_vars = xr.merge([ds_centered[output_channels], ds_centered[input_channels]])\n",
    "    \n",
    "    \n",
    "    ds_tree_centered[L] = ds_ML_vars\n",
    "    \n",
    "        \n",
    "    sub_samp_fac = int( 400/ int(L) )\n",
    "    ds_ML_vars = ds_ML_vars.where(ds_mask>0.9999999, drop=True\n",
    "                                 ).sel(Z=slice(-200, -2700), YC=slice(400e3,1600e3))\n",
    "    \n",
    "    ds_tree_centered_small[L] = ds_ML_vars.isel( XC=slice(0,None,sub_samp_fac), \n",
    "                                                YC=slice(0,None,sub_samp_fac) )\n",
    "    \n",
    "    \n",
    "ds_tree_centered = DataTree.from_dict(ds_tree_centered)\n",
    "ds_tree_centered_small = DataTree.from_dict(ds_tree_centered_small)"
   ]
  },
  {
   "cell_type": "code",
   "execution_count": 8,
   "id": "c571231a-f47e-499d-a778-9ee808112f35",
   "metadata": {
    "tags": []
   },
   "outputs": [],
   "source": [
    "# Open standardization constants file (divide by std) \n",
    "\n",
    "# ds_std_tree = {}\n",
    "# for L in Lkey:\n",
    "#     #print(L)\n",
    "#     ds = ds_tree_centered[L].to_dataset()\n",
    "\n",
    "#     ds_var = list(ds.keys())\n",
    "    \n",
    "#     ds_mask = ds_mask_tree[L].to_dataset().maskC\n",
    "    \n",
    "#     try: \n",
    "#         ds_std = xr.open_zarr('./STD_'+L+'_km.nc')\n",
    "#         print('Found '+L+'km standard deviations on local')\n",
    "#     except:\n",
    "#         print('Not found')\n",
    "#         ds_std = hf.compute_std(ds, ds_mask, slice(0,100))\n",
    "#         ds_std.compute();\n",
    "#         ds_std.to_zarr('./STD_'+L+'_km.nc')\n",
    "    \n",
    "#     #ds_normalized = hf.normalize_ds(ds, ds_std)\n",
    "\n",
    "#     ds_std_tree[L] = ds_std\n",
    "    \n",
    "# ds_std_tree = DataTree.from_dict(ds_std_tree)"
   ]
  },
  {
   "cell_type": "markdown",
   "id": "5de35a4a-4563-436c-b7b4-12785e37b5b2",
   "metadata": {},
   "source": [
    "- Mask the test and train data appropriately\n",
    "- Split into test and train\n",
    "- Add variable for filter scale\n",
    "- Stack and merge into one. \n",
    "- batch \n",
    "- >> train"
   ]
  },
  {
   "cell_type": "code",
   "execution_count": 9,
   "id": "85144b75-d944-497a-b7d3-cf65366893fe",
   "metadata": {
    "tags": []
   },
   "outputs": [],
   "source": [
    "#%%time\n",
    "#ds_tree_centered_small.load();"
   ]
  },
  {
   "cell_type": "code",
   "execution_count": 10,
   "id": "9dc5f7fb-2075-47a4-9fa6-e087a8dc7d6c",
   "metadata": {
    "tags": []
   },
   "outputs": [],
   "source": [
    "ds_train, ds_test = hf.split_train_test(ds_tree_centered_small)"
   ]
  },
  {
   "cell_type": "code",
   "execution_count": 11,
   "id": "187d41de-1741-4bab-ab6f-bf2c74009af5",
   "metadata": {
    "tags": []
   },
   "outputs": [],
   "source": [
    "ds_train_stacked = ds_train.stack(points=('XC','YC','Z','time'))\n",
    "ds_test_stacked  = ds_test.stack(points=('XC','YC','Z','time'))"
   ]
  },
  {
   "cell_type": "code",
   "execution_count": 12,
   "id": "27c946ba-a04e-4313-8377-d0df5b8554aa",
   "metadata": {
    "tags": []
   },
   "outputs": [],
   "source": [
    "ds_test_concat = xr.concat([ds_test_stacked['50'].to_dataset(),\n",
    "                            ds_test_stacked['100'].to_dataset(),\n",
    "                            ds_test_stacked['200'].to_dataset(),\n",
    "                            ds_test_stacked['400'].to_dataset()], \n",
    "                           dim='points')\n",
    "\n",
    "ds_train_concat = xr.concat([ds_train_stacked['50'].to_dataset(),\n",
    "                            ds_train_stacked['100'].to_dataset(),\n",
    "                            ds_train_stacked['200'].to_dataset(),\n",
    "                            ds_train_stacked['400'].to_dataset()],\n",
    "                           dim='points')"
   ]
  },
  {
   "cell_type": "code",
   "execution_count": 13,
   "id": "80d4d0be-19da-403c-ab7c-9cdc8f89de55",
   "metadata": {
    "tags": []
   },
   "outputs": [],
   "source": [
    "ds_train_nonan = ds_train_concat.dropna('points', subset=['Sfnx'])\n",
    "ds_test_nonan  = ds_test_concat.dropna('points', subset=['Sfnx'])"
   ]
  },
  {
   "cell_type": "code",
   "execution_count": 14,
   "id": "e3c78537-1c04-4d07-aa63-4e9fab036fb1",
   "metadata": {
    "tags": []
   },
   "outputs": [
    {
     "name": "stdout",
     "output_type": "stream",
     "text": [
      "11101500 1665225\n"
     ]
    }
   ],
   "source": [
    "npoints_train = len(ds_train_nonan['Sfnx'])\n",
    "npoints_test = len(ds_test_nonan['Sfnx'])\n",
    "print(npoints_train, npoints_test)"
   ]
  },
  {
   "cell_type": "code",
   "execution_count": 15,
   "id": "e4107fe4-6847-4980-a7ae-14f40fd2b449",
   "metadata": {
    "tags": []
   },
   "outputs": [
    {
     "name": "stdout",
     "output_type": "stream",
     "text": [
      "CPU times: user 3min 4s, sys: 23.3 s, total: 3min 27s\n",
      "Wall time: 3min 48s\n"
     ]
    }
   ],
   "source": [
    "%%time\n",
    "\n",
    "ds_train_nonan.load();\n",
    "ds_test_nonan.load();"
   ]
  },
  {
   "cell_type": "code",
   "execution_count": 16,
   "id": "ead5239f-91dd-444f-a064-c06d856244f8",
   "metadata": {
    "tags": []
   },
   "outputs": [],
   "source": [
    "ds_train_randomized = ds_train_nonan.isel(points=np.random.choice(npoints_train, size=npoints_train, replace=False))\n",
    "ds_test_randomized  = ds_test_nonan.isel(points=np.random.choice(npoints_test, size=npoints_test, replace=False))"
   ]
  },
  {
   "cell_type": "code",
   "execution_count": 17,
   "id": "626749fe-ac87-4c03-87ed-0b91da75916f",
   "metadata": {
    "tags": []
   },
   "outputs": [
    {
     "name": "stdout",
     "output_type": "stream",
     "text": [
      "Found all km standard deviations on local\n"
     ]
    }
   ],
   "source": [
    "try: \n",
    "    ds_norms = xr.open_zarr('./STD_all.nc')\n",
    "    print('Found all km standard deviations on local')\n",
    "except:\n",
    "    print('Not found')\n",
    "    ds_norms = ds_train_randomized.std()\n",
    "    ds_norms.compute();\n",
    "    ds_norms.to_zarr('./STD_all.nc')"
   ]
  },
  {
   "cell_type": "code",
   "execution_count": 18,
   "id": "acc16e02-2ae5-4b4a-bdaf-9a1709d50e3f",
   "metadata": {
    "tags": []
   },
   "outputs": [],
   "source": [
    "ds_train_normalized = (ds_train_randomized / ds_norms)\n",
    "ds_test_normalized = (ds_test_randomized / ds_norms)"
   ]
  },
  {
   "cell_type": "code",
   "execution_count": 19,
   "id": "219ee9df-b5f5-40bd-b475-e5c81e4ee5e8",
   "metadata": {
    "tags": []
   },
   "outputs": [],
   "source": [
    "bgen_train = xbatcher.BatchGenerator(ds = ds_train_normalized, \n",
    "                               input_dims={},\n",
    "                               batch_dims={'points': int(756000/2)}   )\n",
    "\n",
    "bgen_test = xbatcher.BatchGenerator(ds = ds_test_normalized, \n",
    "                               input_dims={},\n",
    "                               batch_dims={'points': int(756000/2)}   )"
   ]
  },
  {
   "cell_type": "code",
   "execution_count": 20,
   "id": "2f4a2e88-923b-40cb-a37e-8b902d15c7e3",
   "metadata": {
    "tags": []
   },
   "outputs": [
    {
     "data": {
      "text/plain": [
       "(29, 4)"
      ]
     },
     "execution_count": 20,
     "metadata": {},
     "output_type": "execute_result"
    }
   ],
   "source": [
    "len(bgen_train), len(bgen_test)"
   ]
  },
  {
   "cell_type": "markdown",
   "id": "5c3d62ea-6284-4836-af83-7327745a168c",
   "metadata": {},
   "source": [
    "### ML model"
   ]
  },
  {
   "cell_type": "code",
   "execution_count": 21,
   "id": "0c603212-f80b-4250-8f38-5e3614af0b3b",
   "metadata": {
    "tags": []
   },
   "outputs": [],
   "source": [
    "# this is something we play with (I think 32, 24, 2 work quite well).\n",
    "\n",
    "#size_name = 'small'\n",
    "#layer_sizes = [24, 24, 2]\n",
    "\n",
    "#size_name = 'medium'\n",
    "#layer_sizes = [32, 32, 2]\n",
    "\n",
    "size_name = 'large'\n",
    "layer_sizes = [64, 64, 2]\n",
    "\n",
    "\n",
    "model, params = ml_hf.initialize_model(layer_sizes, len(input_channels) )\n",
    "#model, params = ml_hf.initialize_model([64, 32, 32, 2], len(input_channels), bias=False )"
   ]
  },
  {
   "cell_type": "code",
   "execution_count": 22,
   "id": "68287675-c6ae-459f-83b4-6b990ce55d34",
   "metadata": {
    "tags": []
   },
   "outputs": [
    {
     "name": "stdout",
     "output_type": "stream",
     "text": [
      "4802\n"
     ]
    }
   ],
   "source": [
    "param_count = sum(x.size for x in jax.tree_util.tree_leaves(params))\n",
    "print(param_count)"
   ]
  },
  {
   "cell_type": "code",
   "execution_count": 23,
   "id": "b0541ea5-08db-43b1-bb85-70c2f24dc2d9",
   "metadata": {
    "tags": []
   },
   "outputs": [],
   "source": [
    "# setup loss function\n",
    "loss_grad_fn = jax.value_and_grad(ml_hf.mse) # more convenient function as it outputs both value and gradient."
   ]
  },
  {
   "cell_type": "code",
   "execution_count": 24,
   "id": "a2310fa5-444a-470b-b2c4-5d0a9ef09ec5",
   "metadata": {
    "tags": []
   },
   "outputs": [],
   "source": [
    "# Setup optimizer \n",
    "\n",
    "learning_rate = .01 # .05 for 100, .01 for 100, .05 for 100\n",
    "# Maybe useful if wanting to set learning rates manually: https://github.com/deepmind/optax/issues/4\n",
    "\n",
    "# Initialize optimizer\n",
    "tx = optax.adam(learning_rate=learning_rate)\n",
    "\n",
    "# Define training state \n",
    "state = train_state.TrainState.create(\n",
    "            apply_fn=model.apply, params=params, tx=tx)"
   ]
  },
  {
   "cell_type": "code",
   "execution_count": 25,
   "id": "0679d560-9ca6-4f14-a14c-fc860a3ac3f8",
   "metadata": {
    "tags": []
   },
   "outputs": [],
   "source": [
    "num_epochs = 201"
   ]
  },
  {
   "cell_type": "code",
   "execution_count": 26,
   "id": "a518ec93-df5e-4a2f-beb8-cb857cff3e37",
   "metadata": {
    "tags": []
   },
   "outputs": [
    {
     "name": "stderr",
     "output_type": "stream",
     "text": [
      "\u001b[34m\u001b[1mwandb\u001b[0m: Currently logged in as: \u001b[33mdhruvbalwada\u001b[0m (\u001b[33mm2lines\u001b[0m). Use \u001b[1m`wandb login --relogin`\u001b[0m to force relogin\n"
     ]
    },
    {
     "data": {
      "text/plain": [
       "True"
      ]
     },
     "execution_count": 26,
     "metadata": {},
     "output_type": "execute_result"
    }
   ],
   "source": [
    "# initialize for wandb\n",
    "import wandb\n",
    "wandb.login()"
   ]
  },
  {
   "cell_type": "code",
   "execution_count": 27,
   "id": "56daf150-9939-44e1-a8ee-00475b513778",
   "metadata": {
    "tags": []
   },
   "outputs": [
    {
     "data": {
      "text/html": [
       "Tracking run with wandb version 0.15.12"
      ],
      "text/plain": [
       "<IPython.core.display.HTML object>"
      ]
     },
     "metadata": {},
     "output_type": "display_data"
    },
    {
     "data": {
      "text/html": [
       "Run data is saved locally in <code>/home/jovyan/mesoscale_buoyancy_param_ML/train_models/wandb/run-20231011_153301-c6w0nug4</code>"
      ],
      "text/plain": [
       "<IPython.core.display.HTML object>"
      ]
     },
     "metadata": {},
     "output_type": "display_data"
    },
    {
     "data": {
      "text/html": [
       "Syncing run <strong><a href='https://wandb.ai/m2lines/pointwise_oct_2023/runs/c6w0nug4' target=\"_blank\">first_order, all, large</a></strong> to <a href='https://wandb.ai/m2lines/pointwise_oct_2023' target=\"_blank\">Weights & Biases</a> (<a href='https://wandb.me/run' target=\"_blank\">docs</a>)<br/>"
      ],
      "text/plain": [
       "<IPython.core.display.HTML object>"
      ]
     },
     "metadata": {},
     "output_type": "display_data"
    },
    {
     "data": {
      "text/html": [
       " View project at <a href='https://wandb.ai/m2lines/pointwise_oct_2023' target=\"_blank\">https://wandb.ai/m2lines/pointwise_oct_2023</a>"
      ],
      "text/plain": [
       "<IPython.core.display.HTML object>"
      ]
     },
     "metadata": {},
     "output_type": "display_data"
    },
    {
     "data": {
      "text/html": [
       " View run at <a href='https://wandb.ai/m2lines/pointwise_oct_2023/runs/c6w0nug4' target=\"_blank\">https://wandb.ai/m2lines/pointwise_oct_2023/runs/c6w0nug4</a>"
      ],
      "text/plain": [
       "<IPython.core.display.HTML object>"
      ]
     },
     "metadata": {},
     "output_type": "display_data"
    }
   ],
   "source": [
    "run = wandb.init(\n",
    "    # Set the project where this run will be logged\n",
    "    project=\"pointwise_oct_2023\",\n",
    "    # Track hyperparameters and run metadata\n",
    "    name=design_name + \", \"+ res_name + \", \" + size_name,\n",
    "    config={\n",
    "        \"scale\": Lkey,\n",
    "        \"learning_rate\": learning_rate,\n",
    "        \"epochs\": num_epochs,\n",
    "        \"layer_sizes\": layer_sizes,\n",
    "        \"inputs\": input_channels, \n",
    "        \"outputs\": output_channels,\n",
    "        \"date\": str(datetime.now()),\n",
    "    })"
   ]
  },
  {
   "cell_type": "code",
   "execution_count": 28,
   "id": "58606c8a-4133-4bb4-b662-e818ea56b8c0",
   "metadata": {
    "tags": []
   },
   "outputs": [],
   "source": [
    "# to track model\n",
    "train_loss = np.array([])\n",
    "test_loss = np.array([])"
   ]
  },
  {
   "cell_type": "code",
   "execution_count": 29,
   "id": "b9aeea9f-d41e-409e-b3e6-25e9855aae65",
   "metadata": {
    "tags": []
   },
   "outputs": [
    {
     "name": "stdout",
     "output_type": "stream",
     "text": [
      "Train loss step 0:  0.7106225593336697 test loss: 0.5556425899267197\n",
      "Train loss step 10:  0.17439571125753994 test loss: 0.18136179074645042\n",
      "Train loss step 20:  0.1638326449640866 test loss: 0.1714000105857849\n",
      "Train loss step 30:  0.16086095211834744 test loss: 0.1683257296681404\n",
      "Train loss step 40:  0.15803210745597707 test loss: 0.16596711426973343\n",
      "Train loss step 50:  0.15657664321619888 test loss: 0.16425712779164314\n",
      "Train loss step 60:  0.15483580015856643 test loss: 0.16280179470777512\n",
      "Train loss step 70:  0.1538816443805037 test loss: 0.16113541275262833\n",
      "Train loss step 80:  0.1527994603946291 test loss: 0.160322405397892\n",
      "Train loss step 90:  0.15190303788102907 test loss: 0.1594306156039238\n",
      "Train loss step 100:  0.15098673053856554 test loss: 0.15842515602707863\n",
      "Train loss step 110:  0.15026724698214694 test loss: 0.15844879671931267\n",
      "Train loss step 120:  0.14939193119262828 test loss: 0.15732363983988762\n",
      "Train loss step 130:  0.14889211747153053 test loss: 0.15692012012004852\n",
      "Train loss step 140:  0.14842894570580845 test loss: 0.15658669918775558\n",
      "Train loss step 150:  0.14771190234299364 test loss: 0.15724662318825722\n",
      "Train loss step 160:  0.14732666878864684 test loss: 0.15641853585839272\n",
      "Train loss step 170:  0.14827548995100218 test loss: 0.15632568299770355\n",
      "Train loss step 180:  0.14755731512760295 test loss: 0.1575826220214367\n",
      "Train loss step 190:  0.14831345965122356 test loss: 0.15668701753020287\n",
      "Train loss step 200:  0.14649333830537467 test loss: 0.1561090499162674\n",
      "CPU times: user 7min 56s, sys: 40.6 s, total: 8min 36s\n",
      "Wall time: 7min 19s\n"
     ]
    }
   ],
   "source": [
    "%%time\n",
    "# Main training loop\n",
    "\n",
    "\n",
    "for i in range(num_epochs):\n",
    "    n=0\n",
    "    \n",
    "    loss_temp = np.array([]) # temp array to save batches\n",
    "    for batch in bgen_train:\n",
    "        \n",
    "        #batch = ml_hf.zero_nans(batch, 'uTbyT_z')\n",
    "        X_train = jnp.asarray(batch[input_channels].to_array().transpose(...,'variable').data)\n",
    "        y_train = jnp.asarray(batch[output_channels].to_array().transpose(...,'variable').data)\n",
    "        \n",
    "        \n",
    "        # Compute gradients and update parameters and optimizer state \n",
    "        loss_val, grads = loss_grad_fn(state.params, state.apply_fn, X_train, y_train)\n",
    "        state = state.apply_gradients(grads=grads)\n",
    "        \n",
    "        loss_temp = np.append(loss_temp, loss_val)\n",
    "    \n",
    "    \n",
    "    train_loss = np.append(train_loss, np.mean(loss_temp))\n",
    "    \n",
    "    test_loss_temp = np.array([])\n",
    "    for batch in bgen_test:\n",
    "        \n",
    "        #batch = ml_hf.zero_nans(batch, 'uTbyT_z')\n",
    "        X_test = jnp.asarray(batch[input_channels].to_array().transpose(...,'variable').data)\n",
    "        y_test = jnp.asarray(batch[output_channels].to_array().transpose(...,'variable').data)\n",
    "        \n",
    "        test_loss_temp = np.append(test_loss_temp, ml_hf.mse(state.params, state.apply_fn, X_test, y_test))\n",
    "    \n",
    "    test_loss = np.append(test_loss, np.mean(test_loss_temp))\n",
    "    \n",
    "    wandb.log({'train_loss': train_loss[-1], 'test_loss': test_loss[-1]})\n",
    "    \n",
    "    if i % 10  == 0:\n",
    "        print(f'Train loss step {i}: ', train_loss[-1], f'test loss:', test_loss[-1])\n",
    "        "
   ]
  },
  {
   "cell_type": "code",
   "execution_count": 30,
   "id": "b8e2a3f3-07b9-4a48-85eb-8b1bd33646e0",
   "metadata": {
    "tags": []
   },
   "outputs": [
    {
     "data": {
      "image/png": "[encoded data removed]",
      "text/plain": [
       "<Figure size 640x480 with 1 Axes>"
      ]
     },
     "metadata": {},
     "output_type": "display_data"
    }
   ],
   "source": [
    "fig, ax = plt.subplots()\n",
    "\n",
    "ax.plot(train_loss, label='Training loss')\n",
    "ax.plot(test_loss, label='Test loss')\n",
    "\n",
    "ax.set_title('Loss curve for all filter scales')\n",
    "ax.grid()\n",
    "ax.set_yscale('log')\n",
    "ax.legend()\n",
    "\n",
    "fig.savefig('figures/'+res_name+'_km'+'/loss_curve_'+size_name+'.png')\n",
    "\n",
    "run.log({\"loss_curve\": wandb.Image(fig)})"
   ]
  },
  {
   "cell_type": "code",
   "execution_count": 31,
   "id": "149f358d-05ce-422e-ba4e-5ee87aa88659",
   "metadata": {
    "tags": []
   },
   "outputs": [
    {
     "data": {
      "text/plain": [
       "'ckpts_single_all_res_large/checkpoint_1'"
      ]
     },
     "execution_count": 31,
     "metadata": {},
     "output_type": "execute_result"
    }
   ],
   "source": [
    "# Save the checkpoint\n",
    "CKPT_DIR = 'ckpts_single_all_res_'+size_name\n",
    "checkpoints.save_checkpoint(ckpt_dir=CKPT_DIR, target=state, step=1, overwrite=True)"
   ]
  },
  {
   "cell_type": "code",
   "execution_count": 32,
   "id": "6c773a5e-447f-463a-8d58-d6fc5dbaf52f",
   "metadata": {
    "tags": []
   },
   "outputs": [],
   "source": [
    "# Read back from the checkpoint\n",
    "state = checkpoints.restore_checkpoint(ckpt_dir=CKPT_DIR, target=state)"
   ]
  },
  {
   "cell_type": "code",
   "execution_count": 33,
   "id": "208e6be1-4186-43f6-9a64-c8069927b61d",
   "metadata": {
    "tags": []
   },
   "outputs": [],
   "source": [
    "input_norms = np.zeros((len(input_channels),))\n",
    "\n",
    "for n, i in enumerate(input_channels):\n",
    "    #print(i + '=' + str(ds_std[i].values))\n",
    "    input_norms[n] = ds_norms[i].values\n",
    "    \n",
    "output_norms = np.zeros((len(output_channels),))\n",
    "\n",
    "for n, i in enumerate(output_channels):\n",
    "    #print(i + '=' + str(ds_std[i].values))\n",
    "    output_norms[n] = ds_norms[i].values\n",
    "    \n",
    "ds_layers = xr.Dataset()\n",
    "\n",
    "ds_layers['layer_sizes'] = xr.DataArray(np.array([len(input_channels),layer_sizes[0], layer_sizes[1], len(output_channels)]).astype('int32'), dims=['num_layers'])\n",
    "\n",
    "ds_layers['A0'] = xr.DataArray(np.array(state.params['params']['layers_0']['kernel']).astype('float32'), dims=['input', 'layer1'])\n",
    "ds_layers['b0'] = xr.DataArray(np.array(state.params['params']['layers_0']['bias']).astype('float32'), dims=['layer1'])\n",
    "\n",
    "ds_layers['A1'] = xr.DataArray(np.array(state.params['params']['layers_1']['kernel']).astype('float32'), dims=['layer1', 'layer2'])\n",
    "ds_layers['b1'] = xr.DataArray(np.array(state.params['params']['layers_1']['bias']).astype('float32'), dims=['layer2'])\n",
    "\n",
    "ds_layers['A2'] = xr.DataArray(np.array(state.params['params']['layers_2']['kernel']).astype('float32'), dims=['layer2', 'output'])\n",
    "ds_layers['b2'] = xr.DataArray(np.array(state.params['params']['layers_2']['bias']).astype('float32'), dims=['output'])\n",
    "\n",
    "ds_layers['input_norms'] = xr.DataArray(input_norms.astype('float32'), dims=['input'])\n",
    "ds_layers['output_norms'] = xr.DataArray(output_norms.astype('float32'), dims=['output'])"
   ]
  },
  {
   "cell_type": "code",
   "execution_count": 34,
   "id": "a5986d50-4ab0-40be-b908-a7cf67728e11",
   "metadata": {
    "tags": []
   },
   "outputs": [
    {
     "data": {
      "text/html": [
       "<div><svg style=\"position: absolute; width: 0; height: 0; overflow: hidden\">\n",
       "<defs>\n",
       "<symbol id=\"icon-database\" viewBox=\"0 0 32 32\">\n",
       "<path d=\"M16 0c-8.837 0-16 2.239-16 5v4c0 2.761 7.163 5 16 5s16-2.239 16-5v-4c0-2.761-7.163-5-16-5z\"></path>\n",
       "<path d=\"M16 17c-8.837 0-16-2.239-16-5v6c0 2.761 7.163 5 16 5s16-2.239 16-5v-6c0 2.761-7.163 5-16 5z\"></path>\n",
       "<path d=\"M16 26c-8.837 0-16-2.239-16-5v6c0 2.761 7.163 5 16 5s16-2.239 16-5v-6c0 2.761-7.163 5-16 5z\"></path>\n",
       "</symbol>\n",
       "<symbol id=\"icon-file-text2\" viewBox=\"0 0 32 32\">\n",
       "<path d=\"M28.681 7.159c-0.694-0.947-1.662-2.053-2.724-3.116s-2.169-2.030-3.116-2.724c-1.612-1.182-2.393-1.319-2.841-1.319h-15.5c-1.378 0-2.5 1.121-2.5 2.5v27c0 1.378 1.122 2.5 2.5 2.5h23c1.378 0 2.5-1.122 2.5-2.5v-19.5c0-0.448-0.137-1.23-1.319-2.841zM24.543 5.457c0.959 0.959 1.712 1.825 2.268 2.543h-4.811v-4.811c0.718 0.556 1.584 1.309 2.543 2.268zM28 29.5c0 0.271-0.229 0.5-0.5 0.5h-23c-0.271 0-0.5-0.229-0.5-0.5v-27c0-0.271 0.229-0.5 0.5-0.5 0 0 15.499-0 15.5 0v7c0 0.552 0.448 1 1 1h7v19.5z\"></path>\n",
       "<path d=\"M23 26h-14c-0.552 0-1-0.448-1-1s0.448-1 1-1h14c0.552 0 1 0.448 1 1s-0.448 1-1 1z\"></path>\n",
       "<path d=\"M23 22h-14c-0.552 0-1-0.448-1-1s0.448-1 1-1h14c0.552 0 1 0.448 1 1s-0.448 1-1 1z\"></path>\n",
       "<path d=\"M23 18h-14c-0.552 0-1-0.448-1-1s0.448-1 1-1h14c0.552 0 1 0.448 1 1s-0.448 1-1 1z\"></path>\n",
       "</symbol>\n",
       "</defs>\n",
       "</svg>\n",
       "<style>/* CSS stylesheet for displaying xarray objects in jupyterlab.\n",
       " *\n",
       " */\n",
       "\n",
       ":root {\n",
       "  --xr-font-color0: var(--jp-content-font-color0, rgba(0, 0, 0, 1));\n",
       "  --xr-font-color2: var(--jp-content-font-color2, rgba(0, 0, 0, 0.54));\n",
       "  --xr-font-color3: var(--jp-content-font-color3, rgba(0, 0, 0, 0.38));\n",
       "  --xr-border-color: var(--jp-border-color2, #e0e0e0);\n",
       "  --xr-disabled-color: var(--jp-layout-color3, #bdbdbd);\n",
       "  --xr-background-color: var(--jp-layout-color0, white);\n",
       "  --xr-background-color-row-even: var(--jp-layout-color1, white);\n",
       "  --xr-background-color-row-odd: var(--jp-layout-color2, #eeeeee);\n",
       "}\n",
       "\n",
       "html[theme=dark],\n",
       "body[data-theme=dark],\n",
       "body.vscode-dark {\n",
       "  --xr-font-color0: rgba(255, 255, 255, 1);\n",
       "  --xr-font-color2: rgba(255, 255, 255, 0.54);\n",
       "  --xr-font-color3: rgba(255, 255, 255, 0.38);\n",
       "  --xr-border-color: #1F1F1F;\n",
       "  --xr-disabled-color: #515151;\n",
       "  --xr-background-color: #111111;\n",
       "  --xr-background-color-row-even: #111111;\n",
       "  --xr-background-color-row-odd: #313131;\n",
       "}\n",
       "\n",
       ".xr-wrap {\n",
       "  display: block !important;\n",
       "  min-width: 300px;\n",
       "  max-width: 700px;\n",
       "}\n",
       "\n",
       ".xr-text-repr-fallback {\n",
       "  /* fallback to plain text repr when CSS is not injected (untrusted notebook) */\n",
       "  display: none;\n",
       "}\n",
       "\n",
       ".xr-header {\n",
       "  padding-top: 6px;\n",
       "  padding-bottom: 6px;\n",
       "  margin-bottom: 4px;\n",
       "  border-bottom: solid 1px var(--xr-border-color);\n",
       "}\n",
       "\n",
       ".xr-header > div,\n",
       ".xr-header > ul {\n",
       "  display: inline;\n",
       "  margin-top: 0;\n",
       "  margin-bottom: 0;\n",
       "}\n",
       "\n",
       ".xr-obj-type,\n",
       ".xr-array-name {\n",
       "  margin-left: 2px;\n",
       "  margin-right: 10px;\n",
       "}\n",
       "\n",
       ".xr-obj-type {\n",
       "  color: var(--xr-font-color2);\n",
       "}\n",
       "\n",
       ".xr-sections {\n",
       "  padding-left: 0 !important;\n",
       "  display: grid;\n",
       "  grid-template-columns: 150px auto auto 1fr 20px 20px;\n",
       "}\n",
       "\n",
       ".xr-section-item {\n",
       "  display: contents;\n",
       "}\n",
       "\n",
       ".xr-section-item input {\n",
       "  display: none;\n",
       "}\n",
       "\n",
       ".xr-section-item input + label {\n",
       "  color: var(--xr-disabled-color);\n",
       "}\n",
       "\n",
       ".xr-section-item input:enabled + label {\n",
       "  cursor: pointer;\n",
       "  color: var(--xr-font-color2);\n",
       "}\n",
       "\n",
       ".xr-section-item input:enabled + label:hover {\n",
       "  color: var(--xr-font-color0);\n",
       "}\n",
       "\n",
       ".xr-section-summary {\n",
       "  grid-column: 1;\n",
       "  color: var(--xr-font-color2);\n",
       "  font-weight: 500;\n",
       "}\n",
       "\n",
       ".xr-section-summary > span {\n",
       "  display: inline-block;\n",
       "  padding-left: 0.5em;\n",
       "}\n",
       "\n",
       ".xr-section-summary-in:disabled + label {\n",
       "  color: var(--xr-font-color2);\n",
       "}\n",
       "\n",
       ".xr-section-summary-in + label:before {\n",
       "  display: inline-block;\n",
       "  content: '►';\n",
       "  font-size: 11px;\n",
       "  width: 15px;\n",
       "  text-align: center;\n",
       "}\n",
       "\n",
       ".xr-section-summary-in:disabled + label:before {\n",
       "  color: var(--xr-disabled-color);\n",
       "}\n",
       "\n",
       ".xr-section-summary-in:checked + label:before {\n",
       "  content: '▼';\n",
       "}\n",
       "\n",
       ".xr-section-summary-in:checked + label > span {\n",
       "  display: none;\n",
       "}\n",
       "\n",
       ".xr-section-summary,\n",
       ".xr-section-inline-details {\n",
       "  padding-top: 4px;\n",
       "  padding-bottom: 4px;\n",
       "}\n",
       "\n",
       ".xr-section-inline-details {\n",
       "  grid-column: 2 / -1;\n",
       "}\n",
       "\n",
       ".xr-section-details {\n",
       "  display: none;\n",
       "  grid-column: 1 / -1;\n",
       "  margin-bottom: 5px;\n",
       "}\n",
       "\n",
       ".xr-section-summary-in:checked ~ .xr-section-details {\n",
       "  display: contents;\n",
       "}\n",
       "\n",
       ".xr-array-wrap {\n",
       "  grid-column: 1 / -1;\n",
       "  display: grid;\n",
       "  grid-template-columns: 20px auto;\n",
       "}\n",
       "\n",
       ".xr-array-wrap > label {\n",
       "  grid-column: 1;\n",
       "  vertical-align: top;\n",
       "}\n",
       "\n",
       ".xr-preview {\n",
       "  color: var(--xr-font-color3);\n",
       "}\n",
       "\n",
       ".xr-array-preview,\n",
       ".xr-array-data {\n",
       "  padding: 0 5px !important;\n",
       "  grid-column: 2;\n",
       "}\n",
       "\n",
       ".xr-array-data,\n",
       ".xr-array-in:checked ~ .xr-array-preview {\n",
       "  display: none;\n",
       "}\n",
       "\n",
       ".xr-array-in:checked ~ .xr-array-data,\n",
       ".xr-array-preview {\n",
       "  display: inline-block;\n",
       "}\n",
       "\n",
       ".xr-dim-list {\n",
       "  display: inline-block !important;\n",
       "  list-style: none;\n",
       "  padding: 0 !important;\n",
       "  margin: 0;\n",
       "}\n",
       "\n",
       ".xr-dim-list li {\n",
       "  display: inline-block;\n",
       "  padding: 0;\n",
       "  margin: 0;\n",
       "}\n",
       "\n",
       ".xr-dim-list:before {\n",
       "  content: '(';\n",
       "}\n",
       "\n",
       ".xr-dim-list:after {\n",
       "  content: ')';\n",
       "}\n",
       "\n",
       ".xr-dim-list li:not(:last-child):after {\n",
       "  content: ',';\n",
       "  padding-right: 5px;\n",
       "}\n",
       "\n",
       ".xr-has-index {\n",
       "  font-weight: bold;\n",
       "}\n",
       "\n",
       ".xr-var-list,\n",
       ".xr-var-item {\n",
       "  display: contents;\n",
       "}\n",
       "\n",
       ".xr-var-item > div,\n",
       ".xr-var-item label,\n",
       ".xr-var-item > .xr-var-name span {\n",
       "  background-color: var(--xr-background-color-row-even);\n",
       "  margin-bottom: 0;\n",
       "}\n",
       "\n",
       ".xr-var-item > .xr-var-name:hover span {\n",
       "  padding-right: 5px;\n",
       "}\n",
       "\n",
       ".xr-var-list > li:nth-child(odd) > div,\n",
       ".xr-var-list > li:nth-child(odd) > label,\n",
       ".xr-var-list > li:nth-child(odd) > .xr-var-name span {\n",
       "  background-color: var(--xr-background-color-row-odd);\n",
       "}\n",
       "\n",
       ".xr-var-name {\n",
       "  grid-column: 1;\n",
       "}\n",
       "\n",
       ".xr-var-dims {\n",
       "  grid-column: 2;\n",
       "}\n",
       "\n",
       ".xr-var-dtype {\n",
       "  grid-column: 3;\n",
       "  text-align: right;\n",
       "  color: var(--xr-font-color2);\n",
       "}\n",
       "\n",
       ".xr-var-preview {\n",
       "  grid-column: 4;\n",
       "}\n",
       "\n",
       ".xr-index-preview {\n",
       "  grid-column: 2 / 5;\n",
       "  color: var(--xr-font-color2);\n",
       "}\n",
       "\n",
       ".xr-var-name,\n",
       ".xr-var-dims,\n",
       ".xr-var-dtype,\n",
       ".xr-preview,\n",
       ".xr-attrs dt {\n",
       "  white-space: nowrap;\n",
       "  overflow: hidden;\n",
       "  text-overflow: ellipsis;\n",
       "  padding-right: 10px;\n",
       "}\n",
       "\n",
       ".xr-var-name:hover,\n",
       ".xr-var-dims:hover,\n",
       ".xr-var-dtype:hover,\n",
       ".xr-attrs dt:hover {\n",
       "  overflow: visible;\n",
       "  width: auto;\n",
       "  z-index: 1;\n",
       "}\n",
       "\n",
       ".xr-var-attrs,\n",
       ".xr-var-data,\n",
       ".xr-index-data {\n",
       "  display: none;\n",
       "  background-color: var(--xr-background-color) !important;\n",
       "  padding-bottom: 5px !important;\n",
       "}\n",
       "\n",
       ".xr-var-attrs-in:checked ~ .xr-var-attrs,\n",
       ".xr-var-data-in:checked ~ .xr-var-data,\n",
       ".xr-index-data-in:checked ~ .xr-index-data {\n",
       "  display: block;\n",
       "}\n",
       "\n",
       ".xr-var-data > table {\n",
       "  float: right;\n",
       "}\n",
       "\n",
       ".xr-var-name span,\n",
       ".xr-var-data,\n",
       ".xr-index-name div,\n",
       ".xr-index-data,\n",
       ".xr-attrs {\n",
       "  padding-left: 25px !important;\n",
       "}\n",
       "\n",
       ".xr-attrs,\n",
       ".xr-var-attrs,\n",
       ".xr-var-data,\n",
       ".xr-index-data {\n",
       "  grid-column: 1 / -1;\n",
       "}\n",
       "\n",
       "dl.xr-attrs {\n",
       "  padding: 0;\n",
       "  margin: 0;\n",
       "  display: grid;\n",
       "  grid-template-columns: 125px auto;\n",
       "}\n",
       "\n",
       ".xr-attrs dt,\n",
       ".xr-attrs dd {\n",
       "  padding: 0;\n",
       "  margin: 0;\n",
       "  float: left;\n",
       "  padding-right: 10px;\n",
       "  width: auto;\n",
       "}\n",
       "\n",
       ".xr-attrs dt {\n",
       "  font-weight: normal;\n",
       "  grid-column: 1;\n",
       "}\n",
       "\n",
       ".xr-attrs dt:hover span {\n",
       "  display: inline-block;\n",
       "  background: var(--xr-background-color);\n",
       "  padding-right: 10px;\n",
       "}\n",
       "\n",
       ".xr-attrs dd {\n",
       "  grid-column: 2;\n",
       "  white-space: pre-wrap;\n",
       "  word-break: break-all;\n",
       "}\n",
       "\n",
       ".xr-icon-database,\n",
       ".xr-icon-file-text2,\n",
       ".xr-no-icon {\n",
       "  display: inline-block;\n",
       "  vertical-align: middle;\n",
       "  width: 1em;\n",
       "  height: 1.5em !important;\n",
       "  stroke-width: 0;\n",
       "  stroke: currentColor;\n",
       "  fill: currentColor;\n",
       "}\n",
       "</style><pre class='xr-text-repr-fallback'>&lt;xarray.DataArray &#x27;layer_sizes&#x27; (num_layers: 4)&gt;\n",
       "array([ 7, 64, 64,  2], dtype=int32)\n",
       "Dimensions without coordinates: num_layers</pre><div class='xr-wrap' style='display:none'><div class='xr-header'><div class='xr-obj-type'>xarray.DataArray</div><div class='xr-array-name'>'layer_sizes'</div><ul class='xr-dim-list'><li><span>num_layers</span>: 4</li></ul></div><ul class='xr-sections'><li class='xr-section-item'><div class='xr-array-wrap'><input id='section-f0730a5f-0330-4075-9fe0-fac61064115c' class='xr-array-in' type='checkbox' checked><label for='section-f0730a5f-0330-4075-9fe0-fac61064115c' title='Show/hide data repr'><svg class='icon xr-icon-database'><use xlink:href='#icon-database'></use></svg></label><div class='xr-array-preview xr-preview'><span>7 64 64 2</span></div><div class='xr-array-data'><pre>array([ 7, 64, 64,  2], dtype=int32)</pre></div></div></li><li class='xr-section-item'><input id='section-55700b66-8353-4cf5-8e1d-f8b98e6c2c16' class='xr-section-summary-in' type='checkbox' disabled ><label for='section-55700b66-8353-4cf5-8e1d-f8b98e6c2c16' class='xr-section-summary'  title='Expand/collapse section'>Coordinates: <span>(0)</span></label><div class='xr-section-inline-details'></div><div class='xr-section-details'><ul class='xr-var-list'></ul></div></li><li class='xr-section-item'><input id='section-cb0839e2-173f-4aed-bdc8-96041fee1f55' class='xr-section-summary-in' type='checkbox' disabled ><label for='section-cb0839e2-173f-4aed-bdc8-96041fee1f55' class='xr-section-summary'  title='Expand/collapse section'>Indexes: <span>(0)</span></label><div class='xr-section-inline-details'></div><div class='xr-section-details'><ul class='xr-var-list'></ul></div></li><li class='xr-section-item'><input id='section-c7516950-581b-4a45-a1cd-c1a4e3bad54a' class='xr-section-summary-in' type='checkbox' disabled ><label for='section-c7516950-581b-4a45-a1cd-c1a4e3bad54a' class='xr-section-summary'  title='Expand/collapse section'>Attributes: <span>(0)</span></label><div class='xr-section-inline-details'></div><div class='xr-section-details'><dl class='xr-attrs'></dl></div></li></ul></div></div>"
      ],
      "text/plain": [
       "<xarray.DataArray 'layer_sizes' (num_layers: 4)>\n",
       "array([ 7, 64, 64,  2], dtype=int32)\n",
       "Dimensions without coordinates: num_layers"
      ]
     },
     "execution_count": 34,
     "metadata": {},
     "output_type": "execute_result"
    }
   ],
   "source": [
    "ds_layers['layer_sizes'] "
   ]
  },
  {
   "cell_type": "code",
   "execution_count": 35,
   "id": "4a3374e6-49d7-477e-af2a-dff9e7d53174",
   "metadata": {
    "tags": []
   },
   "outputs": [],
   "source": [
    "ds_layers.to_netcdf('ann_params_all_res_'+size_name+'.nc', mode='w')"
   ]
  },
  {
   "cell_type": "markdown",
   "id": "93d75026-5a92-4e89-bf21-949acde9e086",
   "metadata": {},
   "source": [
    "### Check if the model is doing well. "
   ]
  },
  {
   "cell_type": "code",
   "execution_count": 41,
   "id": "78b2e3ab-ab49-4147-83ff-d685467a4c1c",
   "metadata": {
    "tags": []
   },
   "outputs": [],
   "source": [
    "def R2_score(true, pred, dims = ['XC', 'YC', 'Z', 'time']):\n",
    "    RSS = ((true  - pred)**2).mean(dims)\n",
    "    TSS = ((true)**2).mean(dims)\n",
    "    R2 = 1 - RSS/TSS\n",
    "    return R2 \n",
    "\n",
    "def corr(true, pred, dims=['XC', 'YC', 'time','Z']):\n",
    "    RSS = ((true - true.mean(dims))* (pred - pred.mean(dims))).mean(dims)\n",
    "    TSS1 = ((true - true.mean(dims))**2).mean(dims)\n",
    "    TSS2 = ((pred - pred.mean(dims))**2).mean(dims)\n",
    "   \n",
    "    corr =  RSS/(TSS1**0.5 * TSS2**0.5)\n",
    "    return corr"
   ]
  },
  {
   "cell_type": "code",
   "execution_count": 42,
   "id": "2dd07976-14a8-4f99-8c9b-19d5670e6d92",
   "metadata": {
    "tags": []
   },
   "outputs": [],
   "source": [
    "R2_all = np.zeros((4,2))\n",
    "corr_all = np.zeros((4,2))\n",
    "\n",
    "for i, L in enumerate(Lkey):\n",
    "    ds_mask = ds_mask_tree[L].ds.maskC\n",
    "    ds_test = ds_tree_centered[L].ds.isel(time=slice(-10,-1)).where(ds_mask>0.99999).sel(YC=slice(400e3, 1600e3), Z=slice(-200, -2000))\n",
    "\n",
    "    ds_test_normalized = ds_test/ds_norms\n",
    "\n",
    "    y_pred = state.apply_fn(state.params, \n",
    "                            ds_test_normalized[input_channels].to_array().transpose(...,'variable'))\n",
    "\n",
    "    dims = ds_test[output_channels].to_array().transpose(...,'variable').dims\n",
    "    coords = ds_test[output_channels].to_array().transpose(...,'variable').coords\n",
    "\n",
    "    ds_pred = xr.DataArray(y_pred, dims=dims, coords=coords).to_dataset(dim='variable')\n",
    "    \n",
    "    R2_all[i,0] = R2_score(ds_test_normalized, ds_pred).Sfnx.values\n",
    "    R2_all[i,1] = R2_score(ds_test_normalized, ds_pred).Sfny.values\n",
    "    \n",
    "    corr_all[i,0] = corr(ds_test_normalized, ds_pred).Sfnx.values\n",
    "    corr_all[i,1] = corr(ds_test_normalized, ds_pred).Sfny.values"
   ]
  },
  {
   "cell_type": "code",
   "execution_count": 43,
   "id": "84c3a0f7-23ed-4a99-a693-97f4b94cb22e",
   "metadata": {
    "tags": []
   },
   "outputs": [
    {
     "data": {
      "text/plain": [
       "array([[0.96040315, 0.96752425],\n",
       "       [0.92948297, 0.94518822],\n",
       "       [0.87050913, 0.89708722],\n",
       "       [0.8149873 , 0.78633321]])"
      ]
     },
     "execution_count": 43,
     "metadata": {},
     "output_type": "execute_result"
    }
   ],
   "source": [
    "R2_all"
   ]
  },
  {
   "cell_type": "code",
   "execution_count": 44,
   "id": "494f4b23-4608-4401-911e-0aef574c8b32",
   "metadata": {
    "tags": []
   },
   "outputs": [
    {
     "data": {
      "text/plain": [
       "array([[0.98003839, 0.98366683],\n",
       "       [0.96413229, 0.97170071],\n",
       "       [0.93276058, 0.94395916],\n",
       "       [0.89954609, 0.8703123 ]])"
      ]
     },
     "execution_count": 44,
     "metadata": {},
     "output_type": "execute_result"
    }
   ],
   "source": [
    "corr_all"
   ]
  },
  {
   "cell_type": "code",
   "execution_count": 45,
   "id": "597ab02e-882f-4454-9860-f831c1a0ee08",
   "metadata": {
    "tags": []
   },
   "outputs": [
    {
     "name": "stderr",
     "output_type": "stream",
     "text": [
      "/tmp/ipykernel_1081/3345578052.py:19: UserWarning: The figure layout has changed to tight\n",
      "  plt.tight_layout()\n"
     ]
    },
    {
     "data": {
      "image/png": "[encoded data removed]",
      "text/plain": [
       "<Figure size 800x360 with 2 Axes>"
      ]
     },
     "metadata": {},
     "output_type": "display_data"
    }
   ],
   "source": [
    "fig = plt.figure(figsize=(8 , 3.6))\n",
    "\n",
    "plt.subplot(121)\n",
    "plt.plot(Lkey, R2_all, label=['X', 'Y'])\n",
    "plt.ylim([0., 1.])\n",
    "plt.xlabel('Scale [km]')\n",
    "plt.ylabel('R2')\n",
    "plt.legend()\n",
    "plt.grid()\n",
    "\n",
    "plt.subplot(122)\n",
    "plt.plot(Lkey, corr_all)\n",
    "plt.ylim([0., 1.])\n",
    "plt.tight_layout()\n",
    "plt.xlabel('Scale [km]')\n",
    "plt.ylabel('Correlation')\n",
    "plt.grid()\n",
    "\n",
    "plt.tight_layout()\n",
    "run.log({\"R2&Corr\": wandb.Image(fig)})"
   ]
  },
  {
   "cell_type": "code",
   "execution_count": 46,
   "id": "4af2aa7d-6a24-4438-b139-f6e4e586cec3",
   "metadata": {},
   "outputs": [
    {
     "data": {
      "text/html": [
       "Waiting for W&B process to finish... <strong style=\"color:green\">(success).</strong>"
      ],
      "text/plain": [
       "<IPython.core.display.HTML object>"
      ]
     },
     "metadata": {},
     "output_type": "display_data"
    },
    {
     "data": {
      "text/html": [
       "<style>\n",
       "    table.wandb td:nth-child(1) { padding: 0 10px; text-align: left ; width: auto;} td:nth-child(2) {text-align: left ; width: 100%}\n",
       "    .wandb-row { display: flex; flex-direction: row; flex-wrap: wrap; justify-content: flex-start; width: 100% }\n",
       "    .wandb-col { display: flex; flex-direction: column; flex-basis: 100%; flex: 1; padding: 10px; }\n",
       "    </style>\n",
       "<div class=\"wandb-row\"><div class=\"wandb-col\"><h3>Run history:</h3><br/><table class=\"wandb\"><tr><td>test_loss</td><td>█▃▂▂▂▁▁▁▁▁▁▁▁▁▁▁▁▁▁▁▁▁▁▁▁▁▁▁▁▁▁▁▁▁▁▁▁▁▁▁</td></tr><tr><td>train_loss</td><td>█▂▂▁▁▁▁▁▁▁▁▁▁▁▁▁▁▁▁▁▁▁▁▁▁▁▁▁▁▁▁▁▁▁▁▁▁▁▁▁</td></tr></table><br/></div><div class=\"wandb-col\"><h3>Run summary:</h3><br/><table class=\"wandb\"><tr><td>test_loss</td><td>0.1546</td></tr><tr><td>train_loss</td><td>0.14717</td></tr></table><br/></div></div>"
      ],
      "text/plain": [
       "<IPython.core.display.HTML object>"
      ]
     },
     "metadata": {},
     "output_type": "display_data"
    },
    {
     "data": {
      "text/html": [
       " View run <strong style=\"color:#cdcd00\">first_order, all, large</strong> at: <a href='https://wandb.ai/m2lines/pointwise_oct_2023/runs/ef8ohi7n' target=\"_blank\">https://wandb.ai/m2lines/pointwise_oct_2023/runs/ef8ohi7n</a><br/> View job at <a href='https://wandb.ai/m2lines/pointwise_oct_2023/jobs/QXJ0aWZhY3RDb2xsZWN0aW9uOjEwNDU1MjM2MQ==/version_details/v2' target=\"_blank\">https://wandb.ai/m2lines/pointwise_oct_2023/jobs/QXJ0aWZhY3RDb2xsZWN0aW9uOjEwNDU1MjM2MQ==/version_details/v2</a><br/>Synced 6 W&B file(s), 2 media file(s), 0 artifact file(s) and 0 other file(s)"
      ],
      "text/plain": [
       "<IPython.core.display.HTML object>"
      ]
     },
     "metadata": {},
     "output_type": "display_data"
    },
    {
     "data": {
      "text/html": [
       "Find logs at: <code>./wandb/run-20231006_120555-ef8ohi7n/logs</code>"
      ],
      "text/plain": [
       "<IPython.core.display.HTML object>"
      ]
     },
     "metadata": {},
     "output_type": "display_data"
    }
   ],
   "source": [
    "run.finish()"
   ]
  },
  {
   "cell_type": "code",
   "execution_count": null,
   "id": "e9262de6-815d-4d71-8de8-44dc35019122",
   "metadata": {},
   "outputs": [],
   "source": []
  }
 ],
 "metadata": {
  "kernelspec": {
   "display_name": "Python 3 (ipykernel)",
   "language": "python",
   "name": "python3"
  },
  "language_info": {
   "codemirror_mode": {
    "name": "ipython",
    "version": 3
   },
   "file_extension": ".py",
   "mimetype": "text/x-python",
   "name": "python",
   "nbconvert_exporter": "python",
   "pygments_lexer": "ipython3",
   "version": "3.10.12"
  }
 },
 "nbformat": 4,
 "nbformat_minor": 5
}
