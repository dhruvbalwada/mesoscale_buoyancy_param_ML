{
 "cells": [
  {
   "cell_type": "code",
   "execution_count": 1,
   "id": "c83c9f77-8d7c-47aa-97af-b7fda2cdc1db",
   "metadata": {},
   "outputs": [
    {
     "name": "stderr",
     "output_type": "stream",
     "text": [
      "2024-03-18 10:41:13.268448: E tensorflow/compiler/xla/stream_executor/cuda/cuda_dnn.cc:9342] Unable to register cuDNN factory: Attempting to register factory for plugin cuDNN when one has already been registered\n",
      "2024-03-18 10:41:13.268489: E tensorflow/compiler/xla/stream_executor/cuda/cuda_fft.cc:609] Unable to register cuFFT factory: Attempting to register factory for plugin cuFFT when one has already been registered\n",
      "2024-03-18 10:41:13.268498: E tensorflow/compiler/xla/stream_executor/cuda/cuda_blas.cc:1518] Unable to register cuBLAS factory: Attempting to register factory for plugin cuBLAS when one has already been registered\n"
     ]
    }
   ],
   "source": [
    "import sys\n",
    "sys.path.append('../../../modules/')\n",
    "\n",
    "%reload_ext autoreload\n",
    "%autoreload 2\n",
    "import datasets\n",
    "import ML_classes\n",
    "\n",
    "import matplotlib.pyplot as plt"
   ]
  },
  {
   "cell_type": "code",
   "execution_count": 2,
   "id": "2c636366-f932-4929-8b42-26ee24dc2736",
   "metadata": {},
   "outputs": [],
   "source": [
    "MOM6_bucket = 'gs://leap-persistent/dhruvbalwada/MOM6/Double_Gyre/res5km/ml_data_'\n",
    "L = 'all'\n",
    "window_size=3"
   ]
  },
  {
   "cell_type": "code",
   "execution_count": 3,
   "id": "0db7ad06-a80d-4cab-9195-166bb8e30a24",
   "metadata": {},
   "outputs": [],
   "source": [
    "ML_data = datasets.MOM6_all_transformer('-', 'all', \n",
    "                                       input_channels = ['U_x', 'U_y', \n",
    "                                                         'V_x', 'V_y', \n",
    "                                                         'Sx', 'Sy'])"
   ]
  },
  {
   "cell_type": "code",
   "execution_count": 4,
   "id": "fab86fc7-9006-451f-aa05-ce89eece9bb1",
   "metadata": {},
   "outputs": [
    {
     "name": "stdout",
     "output_type": "stream",
     "text": [
      "Dataset loaded from gs://leap-persistent/dhruvbalwada/MOM6/Double_Gyre/res5km/ml_data_50km.zarr\n",
      "Out para perp\n",
      "Subsampling\n",
      "Dataset loaded from gs://leap-persistent/dhruvbalwada/MOM6/Double_Gyre/res5km/ml_data_100km.zarr\n",
      "Out para perp\n",
      "Subsampling\n",
      "Dataset loaded from gs://leap-persistent/dhruvbalwada/MOM6/Double_Gyre/res5km/ml_data_200km.zarr\n",
      "Out para perp\n",
      "Subsampling\n",
      "Dataset loaded from gs://leap-persistent/dhruvbalwada/MOM6/Double_Gyre/res5km/ml_data_400km.zarr\n",
      "Out para perp\n",
      "Subsampling\n"
     ]
    }
   ],
   "source": [
    "ML_data.read_datatree(MOM6_bucket, \n",
    "                      file_names='', # need this for file names in DG sim\n",
    "                      keep_filt_scale=True, \n",
    "                      para_perp_out = True, \n",
    "                      eta_bottom=True,\n",
    "                      large_filt=4,\n",
    "                      H_mask=150,\n",
    "                      sub_sample=True, \n",
    "                      window_size=window_size)"
   ]
  },
  {
   "cell_type": "code",
   "execution_count": 5,
   "id": "c4e88e70-d0af-41f5-a890-1d4f2c551c3a",
   "metadata": {},
   "outputs": [
    {
     "name": "stdout",
     "output_type": "stream",
     "text": [
      "Test and train batches split. Number of batches: 37-5\n"
     ]
    }
   ],
   "source": [
    "ML_data.generate_test_train_batches(normalize=False, input_dims = {'Xn':window_size,'Yn':window_size})"
   ]
  },
  {
   "cell_type": "code",
   "execution_count": 6,
   "id": "9b5d4923-348f-4985-bbf1-297e1442af4c",
   "metadata": {},
   "outputs": [
    {
     "name": "stderr",
     "output_type": "stream",
     "text": [
      "No GPU/TPU found, falling back to CPU. (Set TF_CPP_MIN_LOG_LEVEL=0 and rerun for more info.)\n"
     ]
    }
   ],
   "source": [
    "ANN_model = ML_classes.ANN(num_in =  len(ML_data.input_channels)* ML_data.window_size**2)"
   ]
  },
  {
   "cell_type": "code",
   "execution_count": 7,
   "id": "2a5cfefc-7454-4414-b37a-55e065ff3af8",
   "metadata": {},
   "outputs": [
    {
     "data": {
      "text/plain": [
       "['U_x', 'U_y', 'V_x', 'V_y', 'Sx', 'Sy']"
      ]
     },
     "execution_count": 7,
     "metadata": {},
     "output_type": "execute_result"
    }
   ],
   "source": [
    "ML_data.input_channels"
   ]
  },
  {
   "cell_type": "code",
   "execution_count": 8,
   "id": "499cf13c-d246-4747-8fbe-75be6c2baf10",
   "metadata": {},
   "outputs": [],
   "source": [
    "regress_sys = ML_classes.RegressionSystem(ANN_model, local_norm=True)"
   ]
  },
  {
   "cell_type": "code",
   "execution_count": 9,
   "id": "5eaf0780-2ab3-452c-abef-aff779f4eba4",
   "metadata": {},
   "outputs": [
    {
     "name": "stdout",
     "output_type": "stream",
     "text": [
      "Train loss step 0:  0.23865148062641556 test loss: 0.119411800801754\n",
      "Train loss step 1:  0.10560706157136608 test loss: 0.09001637548208237\n",
      "Train loss step 2:  0.0846489611509684 test loss: 0.07671845555305482\n",
      "Train loss step 3:  0.07443725478810233 test loss: 0.06869364380836487\n",
      "Train loss step 4:  0.06712681860537142 test loss: 0.06329630762338638\n",
      "Train loss step 5:  0.06228490546345711 test loss: 0.05988592654466629\n",
      "Train loss step 6:  0.059460309308928413 test loss: 0.05760418027639389\n",
      "Train loss step 7:  0.05720999424119253 test loss: 0.05594073161482811\n",
      "Train loss step 8:  0.05573313109375335 test loss: 0.054534824937582015\n",
      "Train loss step 9:  0.05476256067285667 test loss: 0.053648791462183\n",
      "Train loss step 10:  0.05378985032439232 test loss: 0.05246838703751564\n",
      "Train loss step 11:  0.05292821897042764 test loss: 0.051717837899923326\n",
      "Train loss step 12:  0.05208333883736584 test loss: 0.05090517103672028\n",
      "Train loss step 13:  0.05129974979806591 test loss: 0.05033661648631096\n",
      "Train loss step 14:  0.050553247735307026 test loss: 0.04934295192360878\n",
      "Train loss step 15:  0.049773210508597863 test loss: 0.04871603846549988\n",
      "Train loss step 16:  0.04913115531608865 test loss: 0.048330572247505185\n",
      "Train loss step 17:  0.04853592370007489 test loss: 0.047806573659181596\n",
      "Train loss step 18:  0.04810206843791781 test loss: 0.047093258053064344\n",
      "Train loss step 19:  0.04767208606810183 test loss: 0.04642780795693398\n",
      "Train loss step 20:  0.04683979177797163 test loss: 0.04598357826471329\n",
      "Train loss step 21:  0.04650930798537022 test loss: 0.04583206474781036\n",
      "Train loss step 22:  0.04597990476601833 test loss: 0.04530162662267685\n",
      "Train loss step 23:  0.04562874118218551 test loss: 0.04489488527178764\n",
      "Train loss step 24:  0.045234635774348234 test loss: 0.044548651576042174\n",
      "Train loss step 25:  0.04476124682539218 test loss: 0.04415626302361488\n",
      "Train loss step 26:  0.04443660781190202 test loss: 0.04401726648211479\n",
      "Train loss step 27:  0.04402593593742397 test loss: 0.043605240434408186\n",
      "Train loss step 28:  0.04374708778954841 test loss: 0.04349699318408966\n",
      "Train loss step 29:  0.043375515756574834 test loss: 0.042983537167310716\n",
      "Train loss step 30:  0.04316229121507825 test loss: 0.04298606514930725\n",
      "CPU times: user 35min, sys: 3.73 s, total: 35min 4s\n",
      "Wall time: 33min 48s\n"
     ]
    }
   ],
   "source": [
    "%%time\n",
    "regress_sys.train_system_windowed(ML_data, 31, 1)"
   ]
  },
  {
   "cell_type": "code",
   "execution_count": 12,
   "id": "f3ae2124-10c8-471d-aa0b-1d088de1365a",
   "metadata": {},
   "outputs": [
    {
     "name": "stdout",
     "output_type": "stream",
     "text": [
      "Train loss step 0:  0.04282816388719791 test loss: 0.04272151216864586\n",
      "Train loss step 1:  0.04259287435058001 test loss: 0.04243889376521111\n",
      "Train loss step 2:  0.04232145382745846 test loss: 0.04226691424846649\n",
      "Train loss step 3:  0.042054159717785346 test loss: 0.04213850498199463\n",
      "Train loss step 4:  0.04180027826412304 test loss: 0.04227820411324501\n",
      "Train loss step 5:  0.04159488730333947 test loss: 0.04239012449979782\n",
      "Train loss step 6:  0.041270962035333786 test loss: 0.04140003323554993\n",
      "Train loss step 7:  0.04133529789947175 test loss: 0.041830948740243915\n",
      "Train loss step 8:  0.040944675537380015 test loss: 0.04133727177977562\n",
      "Train loss step 9:  0.040909400662860355 test loss: 0.04143090695142746\n",
      "Train loss step 10:  0.04068087353496938 test loss: 0.04118908643722534\n",
      "CPU times: user 11min 4s, sys: 1.25 s, total: 11min 6s\n",
      "Wall time: 10min 42s\n"
     ]
    }
   ],
   "source": [
    "%%time\n",
    "regress_sys.train_system_windowed(ML_data, 11, 1)"
   ]
  },
  {
   "cell_type": "code",
   "execution_count": 16,
   "id": "88f09a01-a244-460d-8e73-ce333b13141e",
   "metadata": {},
   "outputs": [
    {
     "name": "stdout",
     "output_type": "stream",
     "text": [
      "Train loss step 0:  0.04060065877195951 test loss: 0.04123738780617714\n",
      "Train loss step 1:  0.040408688018450864 test loss: 0.04088456854224205\n",
      "Train loss step 2:  0.040391990260497945 test loss: 0.04117301926016807\n",
      "Train loss step 3:  0.040113392915274645 test loss: 0.04031195715069771\n",
      "Train loss step 4:  0.040289713824922975 test loss: 0.04053284227848053\n",
      "Train loss step 5:  0.03977746848721762 test loss: 0.040415655076503756\n",
      "Train loss step 6:  0.04011705437222043 test loss: 0.04060028046369553\n",
      "Train loss step 7:  0.03958824609179754 test loss: 0.040160907059907915\n",
      "Train loss step 8:  0.03987684382780178 test loss: 0.040165428817272184\n",
      "Train loss step 9:  0.03941599058138358 test loss: 0.03978482484817505\n",
      "Train loss step 10:  0.03963138354388443 test loss: 0.039860958606004714\n",
      "Train loss step 11:  0.03919696093008325 test loss: 0.039756964147090915\n",
      "Train loss step 12:  0.03942802125537718 test loss: 0.039606187492609024\n",
      "Train loss step 13:  0.03895214995419657 test loss: 0.03965863808989525\n",
      "Train loss step 14:  0.03918494847980705 test loss: 0.039445356279611585\n",
      "Train loss step 15:  0.03874225471470807 test loss: 0.03945431411266327\n",
      "Train loss step 16:  0.03897419340304426 test loss: 0.03939477056264877\n",
      "Train loss step 17:  0.038567240777853375 test loss: 0.03938020020723343\n",
      "Train loss step 18:  0.038746540510171165 test loss: 0.0392484039068222\n",
      "Train loss step 19:  0.0384296892663917 test loss: 0.038881811499595645\n",
      "Train loss step 20:  0.03858044391145577 test loss: 0.03887127041816711\n",
      "Train loss step 21:  0.03822859155165183 test loss: 0.03883159607648849\n",
      "Train loss step 22:  0.03848642644447249 test loss: 0.03874877989292145\n",
      "Train loss step 23:  0.03808113409055246 test loss: 0.038574821501970294\n",
      "Train loss step 24:  0.038096601193821106 test loss: 0.03855418860912323\n",
      "Train loss step 25:  0.03803931035705515 test loss: 0.03851566761732102\n",
      "Train loss step 26:  0.037975291343959605 test loss: 0.03842354789376259\n",
      "Train loss step 27:  0.037911423758880514 test loss: 0.038359759747982024\n",
      "Train loss step 28:  0.03786013990237906 test loss: 0.038306381553411484\n",
      "Train loss step 29:  0.03779312052034043 test loss: 0.038273225724697116\n",
      "Train loss step 30:  0.037806599728159 test loss: 0.03820600211620331\n",
      "CPU times: user 31min 36s, sys: 4.19 s, total: 31min 40s\n",
      "Wall time: 30min 32s\n"
     ]
    }
   ],
   "source": [
    "%%time\n",
    "regress_sys.train_system_windowed(ML_data, 31, 1)"
   ]
  },
  {
   "cell_type": "code",
   "execution_count": 17,
   "id": "10e275f0-0356-4084-b6c1-eb4752d5f4bf",
   "metadata": {},
   "outputs": [
    {
     "data": {
      "text/plain": [
       "(0.03, 0.3)"
      ]
     },
     "execution_count": 17,
     "metadata": {},
     "output_type": "execute_result"
    },
    {
     "data": {
      "image/png": "[encoded data removed]",
      "text/plain": [
       "<Figure size 640x480 with 1 Axes>"
      ]
     },
     "metadata": {},
     "output_type": "display_data"
    }
   ],
   "source": [
    "## Loss plot\n",
    "plt.plot(regress_sys.train_loss, label='Training loss, '+str(regress_sys.train_loss[-1]))\n",
    "plt.plot(regress_sys.test_loss, label='Test loss'+str(regress_sys.test_loss[-1]))\n",
    "\n",
    "plt.title('Loss curve for '+ L+ 'km filter scale')\n",
    "plt.grid()\n",
    "plt.yscale('log')\n",
    "plt.legend()\n",
    "plt.ylim([0.03, .3])\n",
    "\n",
    "#plt.savefig('figures/MOM6_'+L+'km_loss_curve_36_36.png')"
   ]
  },
  {
   "cell_type": "code",
   "execution_count": 20,
   "id": "f52bf714-974b-426f-bb46-6e492752fa70",
   "metadata": {},
   "outputs": [],
   "source": [
    "# Save the checkpoint\n",
    "CKPT_DIR = '/home/jovyan/mesoscale_buoyancy_param_ML/ML_checkpoints/ckpts_all_MOM6_DG_window_3_local_norm_true_out_para_perp'\n",
    "regress_sys.save_checkpoint(CKPT_DIR)\n",
    "\n",
    "# Save model nc file\n",
    "model_nc = '/home/jovyan/mesoscale_buoyancy_param_ML/ML_model_ncs/' +'MOM6_DG_all_window_3_local_norm_true_out_para_perp'+'.nc'\n",
    "regress_sys.save_weights_nc(model_nc)"
   ]
  },
  {
   "cell_type": "code",
   "execution_count": 14,
   "id": "7049fe88-6ad5-4cfa-a920-7e13c86d5428",
   "metadata": {},
   "outputs": [],
   "source": [
    "ANN_model_large = ML_classes.ANN(shape=[36,36,2], num_in = len(ML_data.input_channels))"
   ]
  },
  {
   "cell_type": "code",
   "execution_count": 18,
   "id": "b4bce5da-6ed8-4567-a88f-3989f139bde1",
   "metadata": {},
   "outputs": [],
   "source": [
    "regress_sys_large = ML_classes.RegressionSystem(ANN_model_large, local_norm=True)"
   ]
  },
  {
   "cell_type": "code",
   "execution_count": 18,
   "id": "c7ca801a-9d4d-4220-bf6c-dd6cd0943035",
   "metadata": {},
   "outputs": [
    {
     "ename": "NameError",
     "evalue": "name 'regress_sys_large' is not defined",
     "output_type": "error",
     "traceback": [
      "\u001b[0;31m---------------------------------------------------------------------------\u001b[0m",
      "\u001b[0;31mNameError\u001b[0m                                 Traceback (most recent call last)",
      "File \u001b[0;32m<timed eval>:1\u001b[0m\n",
      "\u001b[0;31mNameError\u001b[0m: name 'regress_sys_large' is not defined"
     ]
    }
   ],
   "source": [
    "%%time\n",
    "regress_sys_large.train_system(ML_data, 31, 1)"
   ]
  },
  {
   "cell_type": "code",
   "execution_count": 20,
   "id": "3075329c-d78e-41c7-84a2-3d6be828407d",
   "metadata": {},
   "outputs": [],
   "source": [
    "# Save the checkpoint\n",
    "CKPT_DIR = '/home/jovyan/mesoscale_buoyancy_param_ML/ML_checkpoints/ckpts_all_MOM6_P2L_window_1_local_norm_true_out_para_perp_size_36_36'\n",
    "regress_sys.save_checkpoint(CKPT_DIR)\n",
    "\n",
    "# Save model nc file\n",
    "model_nc = '/home/jovyan/mesoscale_buoyancy_param_ML/ML_model_ncs/' +'MOM6_P2L_all_window_1_local_norm_true_out_para_perp_size_36_36'+'.nc'\n",
    "regress_sys.save_weights_nc(model_nc)"
   ]
  },
  {
   "cell_type": "code",
   "execution_count": null,
   "id": "d0ff22c4-7d09-4369-a67b-37b8638607ec",
   "metadata": {},
   "outputs": [],
   "source": []
  }
 ],
 "metadata": {
  "kernelspec": {
   "display_name": "Python 3 (ipykernel)",
   "language": "python",
   "name": "python3"
  },
  "language_info": {
   "codemirror_mode": {
    "name": "ipython",
    "version": 3
   },
   "file_extension": ".py",
   "mimetype": "text/x-python",
   "name": "python",
   "nbconvert_exporter": "python",
   "pygments_lexer": "ipython3",
   "version": "3.11.7"
  }
 },
 "nbformat": 4,
 "nbformat_minor": 5
}
