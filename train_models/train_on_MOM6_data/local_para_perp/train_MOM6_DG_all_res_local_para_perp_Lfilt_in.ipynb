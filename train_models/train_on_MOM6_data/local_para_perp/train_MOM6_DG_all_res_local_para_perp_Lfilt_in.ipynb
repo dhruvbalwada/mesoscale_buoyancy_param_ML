{
 "cells": [
  {
   "cell_type": "code",
   "execution_count": 1,
   "id": "c83c9f77-8d7c-47aa-97af-b7fda2cdc1db",
   "metadata": {},
   "outputs": [
    {
     "name": "stderr",
     "output_type": "stream",
     "text": [
      "2024-03-18 14:27:23.506382: E tensorflow/compiler/xla/stream_executor/cuda/cuda_dnn.cc:9342] Unable to register cuDNN factory: Attempting to register factory for plugin cuDNN when one has already been registered\n",
      "2024-03-18 14:27:23.506424: E tensorflow/compiler/xla/stream_executor/cuda/cuda_fft.cc:609] Unable to register cuFFT factory: Attempting to register factory for plugin cuFFT when one has already been registered\n",
      "2024-03-18 14:27:23.506430: E tensorflow/compiler/xla/stream_executor/cuda/cuda_blas.cc:1518] Unable to register cuBLAS factory: Attempting to register factory for plugin cuBLAS when one has already been registered\n"
     ]
    }
   ],
   "source": [
    "import sys\n",
    "sys.path.append('../../../modules/')\n",
    "\n",
    "%reload_ext autoreload\n",
    "%autoreload 2\n",
    "import datasets\n",
    "import ML_classes\n",
    "\n",
    "import matplotlib.pyplot as plt"
   ]
  },
  {
   "cell_type": "code",
   "execution_count": 2,
   "id": "2c636366-f932-4929-8b42-26ee24dc2736",
   "metadata": {},
   "outputs": [],
   "source": [
    "MOM6_bucket = 'gs://leap-persistent/dhruvbalwada/MOM6/Double_Gyre/res5km/ml_data_'\n",
    "L = 'all'"
   ]
  },
  {
   "cell_type": "code",
   "execution_count": 3,
   "id": "0db7ad06-a80d-4cab-9195-166bb8e30a24",
   "metadata": {},
   "outputs": [],
   "source": [
    "ML_data = datasets.MOM6_all_transformer('-', 'all', \n",
    "                                       input_channels = ['U_x', 'U_y', \n",
    "                                                         'V_x', 'V_y', \n",
    "                                                         'Sx', 'Sy', \n",
    "                                                         'hx', 'hy',\n",
    "                                                         'Lfilt'])"
   ]
  },
  {
   "cell_type": "code",
   "execution_count": 4,
   "id": "fab86fc7-9006-451f-aa05-ce89eece9bb1",
   "metadata": {},
   "outputs": [
    {
     "name": "stdout",
     "output_type": "stream",
     "text": [
      "Dataset loaded from gs://leap-persistent/dhruvbalwada/MOM6/Double_Gyre/res5km/ml_data_50km.zarr\n",
      "Out para perp\n",
      "Subsampling\n",
      "Dataset loaded from gs://leap-persistent/dhruvbalwada/MOM6/Double_Gyre/res5km/ml_data_100km.zarr\n",
      "Out para perp\n",
      "Subsampling\n",
      "Dataset loaded from gs://leap-persistent/dhruvbalwada/MOM6/Double_Gyre/res5km/ml_data_200km.zarr\n",
      "Out para perp\n",
      "Subsampling\n",
      "Dataset loaded from gs://leap-persistent/dhruvbalwada/MOM6/Double_Gyre/res5km/ml_data_400km.zarr\n",
      "Out para perp\n",
      "Subsampling\n"
     ]
    }
   ],
   "source": [
    "ML_data.read_datatree(MOM6_bucket, \n",
    "                      file_names='', # need this for file names in DG sim\n",
    "                      keep_filt_scale=True, \n",
    "                      para_perp_out = True, \n",
    "                      eta_bottom=True,\n",
    "                      large_filt=4,\n",
    "                      H_mask=150,\n",
    "                      sub_sample=True)"
   ]
  },
  {
   "cell_type": "code",
   "execution_count": 5,
   "id": "c4e88e70-d0af-41f5-a890-1d4f2c551c3a",
   "metadata": {},
   "outputs": [
    {
     "name": "stdout",
     "output_type": "stream",
     "text": [
      "Test and train batches split. Number of batches: 37-5\n"
     ]
    }
   ],
   "source": [
    "ML_data.generate_test_train_batches(normalize=False)"
   ]
  },
  {
   "cell_type": "code",
   "execution_count": 6,
   "id": "9b5d4923-348f-4985-bbf1-297e1442af4c",
   "metadata": {},
   "outputs": [
    {
     "name": "stderr",
     "output_type": "stream",
     "text": [
      "No GPU/TPU found, falling back to CPU. (Set TF_CPP_MIN_LOG_LEVEL=0 and rerun for more info.)\n"
     ]
    }
   ],
   "source": [
    "ANN_model = ML_classes.ANN(num_in = len(ML_data.input_channels))"
   ]
  },
  {
   "cell_type": "code",
   "execution_count": 7,
   "id": "2a5cfefc-7454-4414-b37a-55e065ff3af8",
   "metadata": {},
   "outputs": [
    {
     "data": {
      "text/plain": [
       "['U_x', 'U_y', 'V_x', 'V_y', 'Sx', 'Sy', 'hx', 'hy', 'Lfilt']"
      ]
     },
     "execution_count": 7,
     "metadata": {},
     "output_type": "execute_result"
    }
   ],
   "source": [
    "ML_data.input_channels"
   ]
  },
  {
   "cell_type": "code",
   "execution_count": 8,
   "id": "499cf13c-d246-4747-8fbe-75be6c2baf10",
   "metadata": {},
   "outputs": [],
   "source": [
    "regress_sys = ML_classes.RegressionSystem(ANN_model, local_norm=True)"
   ]
  },
  {
   "cell_type": "code",
   "execution_count": 9,
   "id": "5eaf0780-2ab3-452c-abef-aff779f4eba4",
   "metadata": {},
   "outputs": [
    {
     "name": "stdout",
     "output_type": "stream",
     "text": [
      "Train loss step 0:  0.28870866709464305 test loss: 0.12214880138635635\n",
      "Train loss step 1:  0.11670364620717796 test loss: 0.10831512361764908\n",
      "Train loss step 2:  0.10553134897270718 test loss: 0.10011274963617325\n",
      "Train loss step 3:  0.0991032502135715 test loss: 0.09509520828723908\n",
      "Train loss step 4:  0.09430314942791655 test loss: 0.0903193935751915\n",
      "Train loss step 5:  0.08937853051198495 test loss: 0.08573183566331863\n",
      "Train loss step 6:  0.08573908842093236 test loss: 0.08276890516281128\n",
      "Train loss step 7:  0.08338996788134447 test loss: 0.08083608895540237\n",
      "Train loss step 8:  0.08200194706787935 test loss: 0.07969531267881394\n",
      "Train loss step 9:  0.08109732294404828 test loss: 0.07892230153083801\n",
      "Train loss step 10:  0.08042957553186932 test loss: 0.078350467979908\n",
      "Train loss step 11:  0.07986480964196695 test loss: 0.07791307419538498\n",
      "Train loss step 12:  0.07935281782536893 test loss: 0.07746253460645676\n",
      "Train loss step 13:  0.07887619190119408 test loss: 0.0769788756966591\n",
      "Train loss step 14:  0.07844900017654574 test loss: 0.07665911465883254\n",
      "Train loss step 15:  0.0780587389662459 test loss: 0.0763225331902504\n",
      "Train loss step 16:  0.07769456163451478 test loss: 0.07598648220300674\n",
      "Train loss step 17:  0.07736109156866332 test loss: 0.07577807754278183\n",
      "Train loss step 18:  0.0770471593415415 test loss: 0.07551660537719726\n",
      "Train loss step 19:  0.07674773983858726 test loss: 0.07517347931861877\n",
      "Train loss step 20:  0.07648705630689054 test loss: 0.07499919980764388\n",
      "Train loss step 21:  0.07628970935538008 test loss: 0.07480955719947815\n",
      "Train loss step 22:  0.07609456515795476 test loss: 0.07463397979736328\n",
      "Train loss step 23:  0.0759011190888044 test loss: 0.07444854080677032\n",
      "Train loss step 24:  0.07571720976281811 test loss: 0.07432082295417786\n",
      "Train loss step 25:  0.07554893739320137 test loss: 0.07413849383592605\n",
      "Train loss step 26:  0.07538582042262361 test loss: 0.07402843683958053\n",
      "Train loss step 27:  0.07523338718188775 test loss: 0.07385439127683639\n",
      "Train loss step 28:  0.07507925963885076 test loss: 0.07377150505781174\n",
      "Train loss step 29:  0.07496007129147246 test loss: 0.07368024736642838\n",
      "Train loss step 30:  0.07484386740504084 test loss: 0.07354605048894883\n",
      "Train loss step 31:  0.07472828654824076 test loss: 0.07346564531326294\n",
      "Train loss step 32:  0.07462484490227055 test loss: 0.07336842864751816\n",
      "Train loss step 33:  0.07451740873826516 test loss: 0.07327660918235779\n",
      "Train loss step 34:  0.07438952596606435 test loss: 0.07316119968891144\n",
      "Train loss step 35:  0.07428324967622757 test loss: 0.07308741360902786\n",
      "Train loss step 36:  0.07420728375782838 test loss: 0.07301828861236573\n",
      "Train loss step 37:  0.07412978241572508 test loss: 0.07292363643646241\n",
      "Train loss step 38:  0.07404986507183797 test loss: 0.07284155040979386\n",
      "Train loss step 39:  0.07399180088494275 test loss: 0.07277712225914001\n",
      "Train loss step 40:  0.07393411365715233 test loss: 0.07269065082073212\n",
      "Train loss step 41:  0.07386195861004494 test loss: 0.07260651737451554\n",
      "Train loss step 42:  0.07381051074008683 test loss: 0.07256674915552139\n",
      "Train loss step 43:  0.07376939581858145 test loss: 0.0725437119603157\n",
      "Train loss step 44:  0.07372999211420884 test loss: 0.0724581927061081\n",
      "Train loss step 45:  0.07367215446523719 test loss: 0.07240055948495865\n",
      "Train loss step 46:  0.07362485898507608 test loss: 0.07234180122613906\n",
      "Train loss step 47:  0.07357680656619973 test loss: 0.07228580564260483\n",
      "Train loss step 48:  0.07354250872457349 test loss: 0.07224964648485184\n",
      "Train loss step 49:  0.07351804866984084 test loss: 0.07224106639623643\n",
      "Train loss step 50:  0.07348813781061687 test loss: 0.07218020707368851\n",
      "CPU times: user 19min 7s, sys: 5.11 s, total: 19min 12s\n",
      "Wall time: 17min 32s\n"
     ]
    }
   ],
   "source": [
    "%%time\n",
    "regress_sys.train_system(ML_data, 51, 1)"
   ]
  },
  {
   "cell_type": "code",
   "execution_count": 10,
   "id": "f52bf714-974b-426f-bb46-6e492752fa70",
   "metadata": {},
   "outputs": [],
   "source": [
    "# Save the checkpoint\n",
    "CKPT_DIR = '/home/jovyan/mesoscale_buoyancy_param_ML/ML_checkpoints/ckpts_all_MOM6_DG_window_1_local_norm_true_out_para_perp_Lfilt_in_Topo_in'\n",
    "regress_sys.save_checkpoint(CKPT_DIR)\n",
    "\n",
    "# Save model nc file\n",
    "model_nc = '/home/jovyan/mesoscale_buoyancy_param_ML/ML_model_ncs/' +'MOM6_DG_all_window_1_local_norm_true_out_para_perp_Lfilt_in_Topo_in'+'.nc'\n",
    "regress_sys.save_weights_nc(model_nc)"
   ]
  },
  {
   "cell_type": "code",
   "execution_count": 14,
   "id": "10e275f0-0356-4084-b6c1-eb4752d5f4bf",
   "metadata": {},
   "outputs": [
    {
     "data": {
      "text/plain": [
       "<matplotlib.legend.Legend at 0x7a38a87cbc50>"
      ]
     },
     "execution_count": 14,
     "metadata": {},
     "output_type": "execute_result"
    },
    {
     "data": {
      "image/png": "[encoded data removed]",
      "text/plain": [
       "<Figure size 640x480 with 1 Axes>"
      ]
     },
     "metadata": {},
     "output_type": "display_data"
    }
   ],
   "source": [
    "## Loss plot\n",
    "plt.plot(regress_sys.train_loss, label='Training loss, '+str(regress_sys.train_loss[-1]))\n",
    "plt.plot(regress_sys.test_loss, label='Test loss'+str(regress_sys.test_loss[-1]))\n",
    "\n",
    "plt.title('Loss curve for '+ L+ 'km filter scale')\n",
    "plt.grid()\n",
    "plt.yscale('log')\n",
    "plt.legend()\n",
    "\n",
    "#plt.savefig('figures/MOM6_'+L+'km_loss_curve_36_36.png')"
   ]
  },
  {
   "cell_type": "code",
   "execution_count": 14,
   "id": "7049fe88-6ad5-4cfa-a920-7e13c86d5428",
   "metadata": {},
   "outputs": [],
   "source": [
    "ANN_model_large = ML_classes.ANN(shape=[36,36,2], num_in = len(ML_data.input_channels))"
   ]
  },
  {
   "cell_type": "code",
   "execution_count": 18,
   "id": "b4bce5da-6ed8-4567-a88f-3989f139bde1",
   "metadata": {},
   "outputs": [],
   "source": [
    "regress_sys_large = ML_classes.RegressionSystem(ANN_model_large, local_norm=True)"
   ]
  },
  {
   "cell_type": "code",
   "execution_count": 18,
   "id": "c7ca801a-9d4d-4220-bf6c-dd6cd0943035",
   "metadata": {},
   "outputs": [
    {
     "ename": "NameError",
     "evalue": "name 'regress_sys_large' is not defined",
     "output_type": "error",
     "traceback": [
      "\u001b[0;31m---------------------------------------------------------------------------\u001b[0m",
      "\u001b[0;31mNameError\u001b[0m                                 Traceback (most recent call last)",
      "File \u001b[0;32m<timed eval>:1\u001b[0m\n",
      "\u001b[0;31mNameError\u001b[0m: name 'regress_sys_large' is not defined"
     ]
    }
   ],
   "source": [
    "%%time\n",
    "regress_sys_large.train_system(ML_data, 31, 1)"
   ]
  },
  {
   "cell_type": "code",
   "execution_count": 20,
   "id": "3075329c-d78e-41c7-84a2-3d6be828407d",
   "metadata": {},
   "outputs": [],
   "source": [
    "# Save the checkpoint\n",
    "CKPT_DIR = '/home/jovyan/mesoscale_buoyancy_param_ML/ML_checkpoints/ckpts_all_MOM6_P2L_window_1_local_norm_true_out_para_perp_size_36_36'\n",
    "regress_sys.save_checkpoint(CKPT_DIR)\n",
    "\n",
    "# Save model nc file\n",
    "model_nc = '/home/jovyan/mesoscale_buoyancy_param_ML/ML_model_ncs/' +'MOM6_P2L_all_window_1_local_norm_true_out_para_perp_size_36_36'+'.nc'\n",
    "regress_sys.save_weights_nc(model_nc)"
   ]
  },
  {
   "cell_type": "code",
   "execution_count": null,
   "id": "d0ff22c4-7d09-4369-a67b-37b8638607ec",
   "metadata": {},
   "outputs": [],
   "source": []
  }
 ],
 "metadata": {
  "kernelspec": {
   "display_name": "Python 3 (ipykernel)",
   "language": "python",
   "name": "python3"
  },
  "language_info": {
   "codemirror_mode": {
    "name": "ipython",
    "version": 3
   },
   "file_extension": ".py",
   "mimetype": "text/x-python",
   "name": "python",
   "nbconvert_exporter": "python",
   "pygments_lexer": "ipython3",
   "version": "3.11.7"
  }
 },
 "nbformat": 4,
 "nbformat_minor": 5
}
