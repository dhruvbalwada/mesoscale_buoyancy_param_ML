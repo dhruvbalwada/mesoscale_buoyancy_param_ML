{
 "cells": [
  {
   "cell_type": "markdown",
   "id": "3aeea457-085b-4805-9834-6de27957433c",
   "metadata": {},
   "source": [
    "## Interface height vs layer thickness gradients\n",
    "\n",
    "In models with large scale bottom slope changes the bottom layer thickness ends up incorporating this information in it. While this bottom slope probably impacts the eddy fluxes, it does not seem to be the case that this has a first order effect. "
   ]
  },
  {
   "cell_type": "code",
   "execution_count": 1,
   "id": "bc80cf57-5376-4562-b0f0-27952d60d360",
   "metadata": {},
   "outputs": [],
   "source": [
    "import warnings\n",
    "\n",
    "# Ignore all warnings\n",
    "warnings.filterwarnings(\"ignore\")\n",
    "\n",
    "import matplotlib.pyplot as plt\n",
    "import numpy as np\n",
    "import xarray as xr"
   ]
  },
  {
   "cell_type": "code",
   "execution_count": 2,
   "id": "d43a33fa-337f-48b5-869c-ef6c4fd275ed",
   "metadata": {},
   "outputs": [],
   "source": [
    "import sys\n",
    "sys.path.append('../modules/')"
   ]
  },
  {
   "cell_type": "code",
   "execution_count": 3,
   "id": "32369470-7ffa-42c1-90d0-6820a96a6bf2",
   "metadata": {},
   "outputs": [
    {
     "name": "stderr",
     "output_type": "stream",
     "text": [
      "2024-10-05 01:42:47.513346: E external/local_xla/xla/stream_executor/cuda/cuda_dnn.cc:10575] Unable to register cuDNN factory: Attempting to register factory for plugin cuDNN when one has already been registered\n",
      "2024-10-05 01:42:47.513375: E external/local_xla/xla/stream_executor/cuda/cuda_fft.cc:479] Unable to register cuFFT factory: Attempting to register factory for plugin cuFFT when one has already been registered\n",
      "2024-10-05 01:42:47.514764: E external/local_xla/xla/stream_executor/cuda/cuda_blas.cc:1442] Unable to register cuBLAS factory: Attempting to register factory for plugin cuBLAS when one has already been registered\n"
     ]
    }
   ],
   "source": [
    "%reload_ext autoreload\n",
    "%autoreload 2\n",
    "import datasets\n",
    "import ML_classes\n",
    "import evaluation"
   ]
  },
  {
   "cell_type": "markdown",
   "id": "e76a5a75-8f1b-4163-91da-d1226de6d6ee",
   "metadata": {},
   "source": [
    "We will run a few experiment configs. All with non-dim outputs. The goal is to compare the impact of inputs.\n",
    "\n",
    "1. Inputs: norm vel gradients, thickness gradients\n",
    "2. Inputs: norm vel gradients, interface slope\n",
    "3. Inputs: norm vel gradients, thickness gradients, inteface slopes"
   ]
  },
  {
   "cell_type": "code",
   "execution_count": 4,
   "id": "4cf42a10-fb5c-4799-839c-55e6d4ace569",
   "metadata": {},
   "outputs": [],
   "source": [
    "# Experiment\n",
    "experiment_config= {'simulation_names':['DG'], \n",
    "                    'filter_scales':['50','100','200','400'],\n",
    "                    'window_size':3, \n",
    "                    \n",
    "                    'input_channels' : ['dudx_widened',  \n",
    "                                        'dvdx_widened', \n",
    "                                        'dudy_widened',\n",
    "                                        'dvdy_widened',\n",
    "                                        #'dhdx_widened',\n",
    "                                        #'dhdy_widened',\n",
    "                                        'dedx_middle_widened',\n",
    "                                        'dedy_middle_widened',\n",
    "                                        'filter_scale'],\n",
    "                    \n",
    "                    'output_channels' : ['uphp',\n",
    "                                         'vphp'],\n",
    "                    \n",
    "                    'coeff_channels'  : [], \n",
    "        \n",
    "                    'train_time_range': slice(0, 640),\n",
    "                    'test_time_range' : slice(-64, None),\n",
    "                    'num_train_batches': 37, \n",
    "                    'num_test_batches' : 5, \n",
    "\n",
    "                    'num_inputs': 8*9 + 1, \n",
    "                    'network_shape': [36, 36, 2],\n",
    "\n",
    "                    'exp_ckpt_save_dir': '/home/jovyan/mesoscale_buoyancy_param_ML/ML_checkpoints/test_ckpt'\n",
    "                    \n",
    "            }\n",
    "\n",
    "experiment_config['all_ml_variables'] = (experiment_config['input_channels'] + \n",
    "                                           experiment_config['output_channels'] +\n",
    "                                           experiment_config['coeff_channels'])\n",
    "\n",
    "experiment_config['num_inputs'] = (len(experiment_config['input_channels']) - 1)*experiment_config['window_size']**2 + 1"
   ]
  },
  {
   "cell_type": "code",
   "execution_count": 5,
   "id": "49e35a9e-95d1-4e39-9d24-fa50204e77c9",
   "metadata": {},
   "outputs": [
    {
     "data": {
      "text/plain": [
       "55"
      ]
     },
     "execution_count": 5,
     "metadata": {},
     "output_type": "execute_result"
    }
   ],
   "source": [
    "experiment_config['num_inputs']"
   ]
  },
  {
   "cell_type": "code",
   "execution_count": 6,
   "id": "9658b5f4-57bc-4f98-8ad7-dbf4a7efcfd3",
   "metadata": {},
   "outputs": [
    {
     "name": "stdout",
     "output_type": "stream",
     "text": [
      "Will load : 1.733376 gb into memory.\n",
      "load took: 38.5133 seconds\n",
      "Will load : 0.1733376 gb into memory.\n",
      "load took: 5.3502 seconds\n"
     ]
    }
   ],
   "source": [
    "#DT = datasets.SimulationData(simulation_names=['P2L', 'DG'], filter_scales=['50','100','200','400'])\n",
    "DT = datasets.SimulationData(simulation_names=experiment_config['simulation_names'], \n",
    "                             filter_scales=experiment_config['filter_scales'], \n",
    "                             window_size = experiment_config['window_size'])\n",
    "\n",
    "ML_DT_train = datasets.MLXarrayDataset(simulation_data=DT, \n",
    "                                       all_ml_variables=experiment_config['all_ml_variables'],\n",
    "                                       time_range=experiment_config['train_time_range'],\n",
    "                                       num_batches = experiment_config['num_train_batches'])\n",
    "\n",
    "ML_DT_test = datasets.MLXarrayDataset(simulation_data=DT,\n",
    "                                      all_ml_variables=experiment_config['all_ml_variables'],\n",
    "                                      time_range=experiment_config['test_time_range'],\n",
    "                                      num_batches = experiment_config['num_test_batches'])"
   ]
  },
  {
   "cell_type": "code",
   "execution_count": 7,
   "id": "29800f80-ec75-4e96-a396-8b16ed6e0980",
   "metadata": {
    "scrolled": true
   },
   "outputs": [],
   "source": [
    "batch_xr = ML_DT_train.ml_batches[0]"
   ]
  },
  {
   "cell_type": "code",
   "execution_count": 8,
   "id": "c616fb24-9243-45ad-8c40-528caef46766",
   "metadata": {},
   "outputs": [
    {
     "data": {
      "image/png": "[encoded data removed]",
      "text/plain": [
       "<Figure size 640x480 with 4 Axes>"
      ]
     },
     "metadata": {},
     "output_type": "display_data"
    }
   ],
   "source": [
    "plt.subplot(221)\n",
    "batch_xr[experiment_config['input_channels'][0]].plot.hist();\n",
    "batch_xr[experiment_config['input_channels'][1]].plot.hist();\n",
    "batch_xr[experiment_config['input_channels'][2]].plot.hist();\n",
    "batch_xr[experiment_config['input_channels'][3]].plot.hist();\n",
    "\n",
    "plt.subplot(222)\n",
    "batch_xr[experiment_config['input_channels'][4]].plot.hist();\n",
    "batch_xr[experiment_config['input_channels'][5]].plot.hist();\n",
    "\n",
    "plt.subplot(223)\n",
    "batch_xr[experiment_config['input_channels'][6]].plot.hist();\n",
    "\n",
    "plt.subplot(224)\n",
    "batch_xr[experiment_config['output_channels'][0]].plot.hist();\n",
    "batch_xr[experiment_config['output_channels'][1]].plot.hist();\n",
    "\n",
    "plt.tight_layout()"
   ]
  },
  {
   "cell_type": "code",
   "execution_count": 9,
   "id": "dd1974f0-0898-4d24-9d33-9cc12eae61f5",
   "metadata": {},
   "outputs": [
    {
     "data": {
      "text/html": [
       "<div><svg style=\"position: absolute; width: 0; height: 0; overflow: hidden\">\n",
       "<defs>\n",
       "<symbol id=\"icon-database\" viewBox=\"0 0 32 32\">\n",
       "<path d=\"M16 0c-8.837 0-16 2.239-16 5v4c0 2.761 7.163 5 16 5s16-2.239 16-5v-4c0-2.761-7.163-5-16-5z\"></path>\n",
       "<path d=\"M16 17c-8.837 0-16-2.239-16-5v6c0 2.761 7.163 5 16 5s16-2.239 16-5v-6c0 2.761-7.163 5-16 5z\"></path>\n",
       "<path d=\"M16 26c-8.837 0-16-2.239-16-5v6c0 2.761 7.163 5 16 5s16-2.239 16-5v-6c0 2.761-7.163 5-16 5z\"></path>\n",
       "</symbol>\n",
       "<symbol id=\"icon-file-text2\" viewBox=\"0 0 32 32\">\n",
       "<path d=\"M28.681 7.159c-0.694-0.947-1.662-2.053-2.724-3.116s-2.169-2.030-3.116-2.724c-1.612-1.182-2.393-1.319-2.841-1.319h-15.5c-1.378 0-2.5 1.121-2.5 2.5v27c0 1.378 1.122 2.5 2.5 2.5h23c1.378 0 2.5-1.122 2.5-2.5v-19.5c0-0.448-0.137-1.23-1.319-2.841zM24.543 5.457c0.959 0.959 1.712 1.825 2.268 2.543h-4.811v-4.811c0.718 0.556 1.584 1.309 2.543 2.268zM28 29.5c0 0.271-0.229 0.5-0.5 0.5h-23c-0.271 0-0.5-0.229-0.5-0.5v-27c0-0.271 0.229-0.5 0.5-0.5 0 0 15.499-0 15.5 0v7c0 0.552 0.448 1 1 1h7v19.5z\"></path>\n",
       "<path d=\"M23 26h-14c-0.552 0-1-0.448-1-1s0.448-1 1-1h14c0.552 0 1 0.448 1 1s-0.448 1-1 1z\"></path>\n",
       "<path d=\"M23 22h-14c-0.552 0-1-0.448-1-1s0.448-1 1-1h14c0.552 0 1 0.448 1 1s-0.448 1-1 1z\"></path>\n",
       "<path d=\"M23 18h-14c-0.552 0-1-0.448-1-1s0.448-1 1-1h14c0.552 0 1 0.448 1 1s-0.448 1-1 1z\"></path>\n",
       "</symbol>\n",
       "</defs>\n",
       "</svg>\n",
       "<style>/* CSS stylesheet for displaying xarray objects in jupyterlab.\n",
       " *\n",
       " */\n",
       "\n",
       ":root {\n",
       "  --xr-font-color0: var(--jp-content-font-color0, rgba(0, 0, 0, 1));\n",
       "  --xr-font-color2: var(--jp-content-font-color2, rgba(0, 0, 0, 0.54));\n",
       "  --xr-font-color3: var(--jp-content-font-color3, rgba(0, 0, 0, 0.38));\n",
       "  --xr-border-color: var(--jp-border-color2, #e0e0e0);\n",
       "  --xr-disabled-color: var(--jp-layout-color3, #bdbdbd);\n",
       "  --xr-background-color: var(--jp-layout-color0, white);\n",
       "  --xr-background-color-row-even: var(--jp-layout-color1, white);\n",
       "  --xr-background-color-row-odd: var(--jp-layout-color2, #eeeeee);\n",
       "}\n",
       "\n",
       "html[theme=dark],\n",
       "body[data-theme=dark],\n",
       "body.vscode-dark {\n",
       "  --xr-font-color0: rgba(255, 255, 255, 1);\n",
       "  --xr-font-color2: rgba(255, 255, 255, 0.54);\n",
       "  --xr-font-color3: rgba(255, 255, 255, 0.38);\n",
       "  --xr-border-color: #1F1F1F;\n",
       "  --xr-disabled-color: #515151;\n",
       "  --xr-background-color: #111111;\n",
       "  --xr-background-color-row-even: #111111;\n",
       "  --xr-background-color-row-odd: #313131;\n",
       "}\n",
       "\n",
       ".xr-wrap {\n",
       "  display: block !important;\n",
       "  min-width: 300px;\n",
       "  max-width: 700px;\n",
       "}\n",
       "\n",
       ".xr-text-repr-fallback {\n",
       "  /* fallback to plain text repr when CSS is not injected (untrusted notebook) */\n",
       "  display: none;\n",
       "}\n",
       "\n",
       ".xr-header {\n",
       "  padding-top: 6px;\n",
       "  padding-bottom: 6px;\n",
       "  margin-bottom: 4px;\n",
       "  border-bottom: solid 1px var(--xr-border-color);\n",
       "}\n",
       "\n",
       ".xr-header > div,\n",
       ".xr-header > ul {\n",
       "  display: inline;\n",
       "  margin-top: 0;\n",
       "  margin-bottom: 0;\n",
       "}\n",
       "\n",
       ".xr-obj-type,\n",
       ".xr-array-name {\n",
       "  margin-left: 2px;\n",
       "  margin-right: 10px;\n",
       "}\n",
       "\n",
       ".xr-obj-type {\n",
       "  color: var(--xr-font-color2);\n",
       "}\n",
       "\n",
       ".xr-sections {\n",
       "  padding-left: 0 !important;\n",
       "  display: grid;\n",
       "  grid-template-columns: 150px auto auto 1fr 20px 20px;\n",
       "}\n",
       "\n",
       ".xr-section-item {\n",
       "  display: contents;\n",
       "}\n",
       "\n",
       ".xr-section-item input {\n",
       "  display: none;\n",
       "}\n",
       "\n",
       ".xr-section-item input + label {\n",
       "  color: var(--xr-disabled-color);\n",
       "}\n",
       "\n",
       ".xr-section-item input:enabled + label {\n",
       "  cursor: pointer;\n",
       "  color: var(--xr-font-color2);\n",
       "}\n",
       "\n",
       ".xr-section-item input:enabled + label:hover {\n",
       "  color: var(--xr-font-color0);\n",
       "}\n",
       "\n",
       ".xr-section-summary {\n",
       "  grid-column: 1;\n",
       "  color: var(--xr-font-color2);\n",
       "  font-weight: 500;\n",
       "}\n",
       "\n",
       ".xr-section-summary > span {\n",
       "  display: inline-block;\n",
       "  padding-left: 0.5em;\n",
       "}\n",
       "\n",
       ".xr-section-summary-in:disabled + label {\n",
       "  color: var(--xr-font-color2);\n",
       "}\n",
       "\n",
       ".xr-section-summary-in + label:before {\n",
       "  display: inline-block;\n",
       "  content: '►';\n",
       "  font-size: 11px;\n",
       "  width: 15px;\n",
       "  text-align: center;\n",
       "}\n",
       "\n",
       ".xr-section-summary-in:disabled + label:before {\n",
       "  color: var(--xr-disabled-color);\n",
       "}\n",
       "\n",
       ".xr-section-summary-in:checked + label:before {\n",
       "  content: '▼';\n",
       "}\n",
       "\n",
       ".xr-section-summary-in:checked + label > span {\n",
       "  display: none;\n",
       "}\n",
       "\n",
       ".xr-section-summary,\n",
       ".xr-section-inline-details {\n",
       "  padding-top: 4px;\n",
       "  padding-bottom: 4px;\n",
       "}\n",
       "\n",
       ".xr-section-inline-details {\n",
       "  grid-column: 2 / -1;\n",
       "}\n",
       "\n",
       ".xr-section-details {\n",
       "  display: none;\n",
       "  grid-column: 1 / -1;\n",
       "  margin-bottom: 5px;\n",
       "}\n",
       "\n",
       ".xr-section-summary-in:checked ~ .xr-section-details {\n",
       "  display: contents;\n",
       "}\n",
       "\n",
       ".xr-array-wrap {\n",
       "  grid-column: 1 / -1;\n",
       "  display: grid;\n",
       "  grid-template-columns: 20px auto;\n",
       "}\n",
       "\n",
       ".xr-array-wrap > label {\n",
       "  grid-column: 1;\n",
       "  vertical-align: top;\n",
       "}\n",
       "\n",
       ".xr-preview {\n",
       "  color: var(--xr-font-color3);\n",
       "}\n",
       "\n",
       ".xr-array-preview,\n",
       ".xr-array-data {\n",
       "  padding: 0 5px !important;\n",
       "  grid-column: 2;\n",
       "}\n",
       "\n",
       ".xr-array-data,\n",
       ".xr-array-in:checked ~ .xr-array-preview {\n",
       "  display: none;\n",
       "}\n",
       "\n",
       ".xr-array-in:checked ~ .xr-array-data,\n",
       ".xr-array-preview {\n",
       "  display: inline-block;\n",
       "}\n",
       "\n",
       ".xr-dim-list {\n",
       "  display: inline-block !important;\n",
       "  list-style: none;\n",
       "  padding: 0 !important;\n",
       "  margin: 0;\n",
       "}\n",
       "\n",
       ".xr-dim-list li {\n",
       "  display: inline-block;\n",
       "  padding: 0;\n",
       "  margin: 0;\n",
       "}\n",
       "\n",
       ".xr-dim-list:before {\n",
       "  content: '(';\n",
       "}\n",
       "\n",
       ".xr-dim-list:after {\n",
       "  content: ')';\n",
       "}\n",
       "\n",
       ".xr-dim-list li:not(:last-child):after {\n",
       "  content: ',';\n",
       "  padding-right: 5px;\n",
       "}\n",
       "\n",
       ".xr-has-index {\n",
       "  font-weight: bold;\n",
       "}\n",
       "\n",
       ".xr-var-list,\n",
       ".xr-var-item {\n",
       "  display: contents;\n",
       "}\n",
       "\n",
       ".xr-var-item > div,\n",
       ".xr-var-item label,\n",
       ".xr-var-item > .xr-var-name span {\n",
       "  background-color: var(--xr-background-color-row-even);\n",
       "  margin-bottom: 0;\n",
       "}\n",
       "\n",
       ".xr-var-item > .xr-var-name:hover span {\n",
       "  padding-right: 5px;\n",
       "}\n",
       "\n",
       ".xr-var-list > li:nth-child(odd) > div,\n",
       ".xr-var-list > li:nth-child(odd) > label,\n",
       ".xr-var-list > li:nth-child(odd) > .xr-var-name span {\n",
       "  background-color: var(--xr-background-color-row-odd);\n",
       "}\n",
       "\n",
       ".xr-var-name {\n",
       "  grid-column: 1;\n",
       "}\n",
       "\n",
       ".xr-var-dims {\n",
       "  grid-column: 2;\n",
       "}\n",
       "\n",
       ".xr-var-dtype {\n",
       "  grid-column: 3;\n",
       "  text-align: right;\n",
       "  color: var(--xr-font-color2);\n",
       "}\n",
       "\n",
       ".xr-var-preview {\n",
       "  grid-column: 4;\n",
       "}\n",
       "\n",
       ".xr-index-preview {\n",
       "  grid-column: 2 / 5;\n",
       "  color: var(--xr-font-color2);\n",
       "}\n",
       "\n",
       ".xr-var-name,\n",
       ".xr-var-dims,\n",
       ".xr-var-dtype,\n",
       ".xr-preview,\n",
       ".xr-attrs dt {\n",
       "  white-space: nowrap;\n",
       "  overflow: hidden;\n",
       "  text-overflow: ellipsis;\n",
       "  padding-right: 10px;\n",
       "}\n",
       "\n",
       ".xr-var-name:hover,\n",
       ".xr-var-dims:hover,\n",
       ".xr-var-dtype:hover,\n",
       ".xr-attrs dt:hover {\n",
       "  overflow: visible;\n",
       "  width: auto;\n",
       "  z-index: 1;\n",
       "}\n",
       "\n",
       ".xr-var-attrs,\n",
       ".xr-var-data,\n",
       ".xr-index-data {\n",
       "  display: none;\n",
       "  background-color: var(--xr-background-color) !important;\n",
       "  padding-bottom: 5px !important;\n",
       "}\n",
       "\n",
       ".xr-var-attrs-in:checked ~ .xr-var-attrs,\n",
       ".xr-var-data-in:checked ~ .xr-var-data,\n",
       ".xr-index-data-in:checked ~ .xr-index-data {\n",
       "  display: block;\n",
       "}\n",
       "\n",
       ".xr-var-data > table {\n",
       "  float: right;\n",
       "}\n",
       "\n",
       ".xr-var-name span,\n",
       ".xr-var-data,\n",
       ".xr-index-name div,\n",
       ".xr-index-data,\n",
       ".xr-attrs {\n",
       "  padding-left: 25px !important;\n",
       "}\n",
       "\n",
       ".xr-attrs,\n",
       ".xr-var-attrs,\n",
       ".xr-var-data,\n",
       ".xr-index-data {\n",
       "  grid-column: 1 / -1;\n",
       "}\n",
       "\n",
       "dl.xr-attrs {\n",
       "  padding: 0;\n",
       "  margin: 0;\n",
       "  display: grid;\n",
       "  grid-template-columns: 125px auto;\n",
       "}\n",
       "\n",
       ".xr-attrs dt,\n",
       ".xr-attrs dd {\n",
       "  padding: 0;\n",
       "  margin: 0;\n",
       "  float: left;\n",
       "  padding-right: 10px;\n",
       "  width: auto;\n",
       "}\n",
       "\n",
       ".xr-attrs dt {\n",
       "  font-weight: normal;\n",
       "  grid-column: 1;\n",
       "}\n",
       "\n",
       ".xr-attrs dt:hover span {\n",
       "  display: inline-block;\n",
       "  background: var(--xr-background-color);\n",
       "  padding-right: 10px;\n",
       "}\n",
       "\n",
       ".xr-attrs dd {\n",
       "  grid-column: 2;\n",
       "  white-space: pre-wrap;\n",
       "  word-break: break-all;\n",
       "}\n",
       "\n",
       ".xr-icon-database,\n",
       ".xr-icon-file-text2,\n",
       ".xr-no-icon {\n",
       "  display: inline-block;\n",
       "  vertical-align: middle;\n",
       "  width: 1em;\n",
       "  height: 1.5em !important;\n",
       "  stroke-width: 0;\n",
       "  stroke: currentColor;\n",
       "  fill: currentColor;\n",
       "}\n",
       "</style><pre class='xr-text-repr-fallback'>&lt;xarray.Dataset&gt; Size: 64B\n",
       "Dimensions:              ()\n",
       "Data variables:\n",
       "    dudx_widened         float64 8B 3.877e-07\n",
       "    dvdx_widened         float64 8B 9.091e-07\n",
       "    dudy_widened         float64 8B 5.773e-07\n",
       "    dvdy_widened         float64 8B 3.897e-07\n",
       "    dedx_middle_widened  float64 8B 0.001258\n",
       "    dedy_middle_widened  float64 8B 0.001128\n",
       "    filter_scale         float64 8B 1.341e+05\n",
       "    uphp                 float32 4B 0.3548\n",
       "    vphp                 float32 4B 0.5337</pre><div class='xr-wrap' style='display:none'><div class='xr-header'><div class='xr-obj-type'>xarray.Dataset</div></div><ul class='xr-sections'><li class='xr-section-item'><input id='section-c20f99f4-b107-424b-be09-f0ca487abb7a' class='xr-section-summary-in' type='checkbox' disabled ><label for='section-c20f99f4-b107-424b-be09-f0ca487abb7a' class='xr-section-summary'  title='Expand/collapse section'>Dimensions:</label><div class='xr-section-inline-details'></div><div class='xr-section-details'></div></li><li class='xr-section-item'><input id='section-8dd0eb45-7c95-40fe-9dce-38800869afc6' class='xr-section-summary-in' type='checkbox' disabled ><label for='section-8dd0eb45-7c95-40fe-9dce-38800869afc6' class='xr-section-summary'  title='Expand/collapse section'>Coordinates: <span>(0)</span></label><div class='xr-section-inline-details'></div><div class='xr-section-details'><ul class='xr-var-list'></ul></div></li><li class='xr-section-item'><input id='section-d5882752-fdd3-4c2f-b243-e0eaf3cdd3de' class='xr-section-summary-in' type='checkbox'  checked><label for='section-d5882752-fdd3-4c2f-b243-e0eaf3cdd3de' class='xr-section-summary' >Data variables: <span>(9)</span></label><div class='xr-section-inline-details'></div><div class='xr-section-details'><ul class='xr-var-list'><li class='xr-var-item'><div class='xr-var-name'><span>dudx_widened</span></div><div class='xr-var-dims'>()</div><div class='xr-var-dtype'>float64</div><div class='xr-var-preview xr-preview'>3.877e-07</div><input id='attrs-01932e7c-bb27-4f79-8f00-a4453cd53b84' class='xr-var-attrs-in' type='checkbox' disabled><label for='attrs-01932e7c-bb27-4f79-8f00-a4453cd53b84' title='Show/Hide attributes'><svg class='icon xr-icon-file-text2'><use xlink:href='#icon-file-text2'></use></svg></label><input id='data-ec950047-45c0-46e6-8dda-ce04bccf20d8' class='xr-var-data-in' type='checkbox'><label for='data-ec950047-45c0-46e6-8dda-ce04bccf20d8' title='Show/Hide data repr'><svg class='icon xr-icon-database'><use xlink:href='#icon-database'></use></svg></label><div class='xr-var-attrs'><dl class='xr-attrs'></dl></div><div class='xr-var-data'><pre>array(3.87726339e-07)</pre></div></li><li class='xr-var-item'><div class='xr-var-name'><span>dvdx_widened</span></div><div class='xr-var-dims'>()</div><div class='xr-var-dtype'>float64</div><div class='xr-var-preview xr-preview'>9.091e-07</div><input id='attrs-a6c404c8-d589-44c2-82f4-66b266190852' class='xr-var-attrs-in' type='checkbox' disabled><label for='attrs-a6c404c8-d589-44c2-82f4-66b266190852' title='Show/Hide attributes'><svg class='icon xr-icon-file-text2'><use xlink:href='#icon-file-text2'></use></svg></label><input id='data-bf3bb4ca-fa22-4596-b6a8-c8bc52e92585' class='xr-var-data-in' type='checkbox'><label for='data-bf3bb4ca-fa22-4596-b6a8-c8bc52e92585' title='Show/Hide data repr'><svg class='icon xr-icon-database'><use xlink:href='#icon-database'></use></svg></label><div class='xr-var-attrs'><dl class='xr-attrs'></dl></div><div class='xr-var-data'><pre>array(9.09090923e-07)</pre></div></li><li class='xr-var-item'><div class='xr-var-name'><span>dudy_widened</span></div><div class='xr-var-dims'>()</div><div class='xr-var-dtype'>float64</div><div class='xr-var-preview xr-preview'>5.773e-07</div><input id='attrs-d07a9807-ccc1-4abe-8725-c01e0a821712' class='xr-var-attrs-in' type='checkbox' disabled><label for='attrs-d07a9807-ccc1-4abe-8725-c01e0a821712' title='Show/Hide attributes'><svg class='icon xr-icon-file-text2'><use xlink:href='#icon-file-text2'></use></svg></label><input id='data-bdcdae7e-28fe-4c7f-80a9-15c80f85e34b' class='xr-var-data-in' type='checkbox'><label for='data-bdcdae7e-28fe-4c7f-80a9-15c80f85e34b' title='Show/Hide data repr'><svg class='icon xr-icon-database'><use xlink:href='#icon-database'></use></svg></label><div class='xr-var-attrs'><dl class='xr-attrs'></dl></div><div class='xr-var-data'><pre>array(5.77283831e-07)</pre></div></li><li class='xr-var-item'><div class='xr-var-name'><span>dvdy_widened</span></div><div class='xr-var-dims'>()</div><div class='xr-var-dtype'>float64</div><div class='xr-var-preview xr-preview'>3.897e-07</div><input id='attrs-c8994d5d-4dc3-476d-960a-fa6ebe6b3c70' class='xr-var-attrs-in' type='checkbox' disabled><label for='attrs-c8994d5d-4dc3-476d-960a-fa6ebe6b3c70' title='Show/Hide attributes'><svg class='icon xr-icon-file-text2'><use xlink:href='#icon-file-text2'></use></svg></label><input id='data-dfb57d46-f1d4-4acf-930f-18544d917817' class='xr-var-data-in' type='checkbox'><label for='data-dfb57d46-f1d4-4acf-930f-18544d917817' title='Show/Hide data repr'><svg class='icon xr-icon-database'><use xlink:href='#icon-database'></use></svg></label><div class='xr-var-attrs'><dl class='xr-attrs'></dl></div><div class='xr-var-data'><pre>array(3.89700334e-07)</pre></div></li><li class='xr-var-item'><div class='xr-var-name'><span>dedx_middle_widened</span></div><div class='xr-var-dims'>()</div><div class='xr-var-dtype'>float64</div><div class='xr-var-preview xr-preview'>0.001258</div><input id='attrs-69e649bf-6aac-4563-bcc5-927f3bf35e77' class='xr-var-attrs-in' type='checkbox' disabled><label for='attrs-69e649bf-6aac-4563-bcc5-927f3bf35e77' title='Show/Hide attributes'><svg class='icon xr-icon-file-text2'><use xlink:href='#icon-file-text2'></use></svg></label><input id='data-16ca470d-3c04-49c1-9dd2-274979204055' class='xr-var-data-in' type='checkbox'><label for='data-16ca470d-3c04-49c1-9dd2-274979204055' title='Show/Hide data repr'><svg class='icon xr-icon-database'><use xlink:href='#icon-database'></use></svg></label><div class='xr-var-attrs'><dl class='xr-attrs'></dl></div><div class='xr-var-data'><pre>array(0.00125802)</pre></div></li><li class='xr-var-item'><div class='xr-var-name'><span>dedy_middle_widened</span></div><div class='xr-var-dims'>()</div><div class='xr-var-dtype'>float64</div><div class='xr-var-preview xr-preview'>0.001128</div><input id='attrs-877567c1-4e49-4b63-992a-9ce5da3465df' class='xr-var-attrs-in' type='checkbox' disabled><label for='attrs-877567c1-4e49-4b63-992a-9ce5da3465df' title='Show/Hide attributes'><svg class='icon xr-icon-file-text2'><use xlink:href='#icon-file-text2'></use></svg></label><input id='data-c6e5ab97-854e-4183-9201-e17007d7d60c' class='xr-var-data-in' type='checkbox'><label for='data-c6e5ab97-854e-4183-9201-e17007d7d60c' title='Show/Hide data repr'><svg class='icon xr-icon-database'><use xlink:href='#icon-database'></use></svg></label><div class='xr-var-attrs'><dl class='xr-attrs'></dl></div><div class='xr-var-data'><pre>array(0.0011279)</pre></div></li><li class='xr-var-item'><div class='xr-var-name'><span>filter_scale</span></div><div class='xr-var-dims'>()</div><div class='xr-var-dtype'>float64</div><div class='xr-var-preview xr-preview'>1.341e+05</div><input id='attrs-0a5013c8-dd15-430a-8652-f70e8758cffd' class='xr-var-attrs-in' type='checkbox' disabled><label for='attrs-0a5013c8-dd15-430a-8652-f70e8758cffd' title='Show/Hide attributes'><svg class='icon xr-icon-file-text2'><use xlink:href='#icon-file-text2'></use></svg></label><input id='data-3ceaa1ca-3d09-4e8c-88b4-c4446c80a040' class='xr-var-data-in' type='checkbox'><label for='data-3ceaa1ca-3d09-4e8c-88b4-c4446c80a040' title='Show/Hide data repr'><svg class='icon xr-icon-database'><use xlink:href='#icon-database'></use></svg></label><div class='xr-var-attrs'><dl class='xr-attrs'></dl></div><div class='xr-var-data'><pre>array(134145.87400213)</pre></div></li><li class='xr-var-item'><div class='xr-var-name'><span>uphp</span></div><div class='xr-var-dims'>()</div><div class='xr-var-dtype'>float32</div><div class='xr-var-preview xr-preview'>0.3548</div><input id='attrs-6f464f18-efa8-434e-83dd-d5aa241121cf' class='xr-var-attrs-in' type='checkbox' disabled><label for='attrs-6f464f18-efa8-434e-83dd-d5aa241121cf' title='Show/Hide attributes'><svg class='icon xr-icon-file-text2'><use xlink:href='#icon-file-text2'></use></svg></label><input id='data-2e060769-3c1a-4e41-8ee4-a50ba8df8bd2' class='xr-var-data-in' type='checkbox'><label for='data-2e060769-3c1a-4e41-8ee4-a50ba8df8bd2' title='Show/Hide data repr'><svg class='icon xr-icon-database'><use xlink:href='#icon-database'></use></svg></label><div class='xr-var-attrs'><dl class='xr-attrs'></dl></div><div class='xr-var-data'><pre>array(0.35478, dtype=float32)</pre></div></li><li class='xr-var-item'><div class='xr-var-name'><span>vphp</span></div><div class='xr-var-dims'>()</div><div class='xr-var-dtype'>float32</div><div class='xr-var-preview xr-preview'>0.5337</div><input id='attrs-80ad760d-a117-40fd-85e6-1fcf2ceae17f' class='xr-var-attrs-in' type='checkbox' disabled><label for='attrs-80ad760d-a117-40fd-85e6-1fcf2ceae17f' title='Show/Hide attributes'><svg class='icon xr-icon-file-text2'><use xlink:href='#icon-file-text2'></use></svg></label><input id='data-bc595796-f83e-4a15-b199-358563857745' class='xr-var-data-in' type='checkbox'><label for='data-bc595796-f83e-4a15-b199-358563857745' title='Show/Hide data repr'><svg class='icon xr-icon-database'><use xlink:href='#icon-database'></use></svg></label><div class='xr-var-attrs'><dl class='xr-attrs'></dl></div><div class='xr-var-data'><pre>array(0.5337485, dtype=float32)</pre></div></li></ul></div></li><li class='xr-section-item'><input id='section-8fcac746-84f9-48ea-91ab-4e71490a3953' class='xr-section-summary-in' type='checkbox' disabled ><label for='section-8fcac746-84f9-48ea-91ab-4e71490a3953' class='xr-section-summary'  title='Expand/collapse section'>Indexes: <span>(0)</span></label><div class='xr-section-inline-details'></div><div class='xr-section-details'><ul class='xr-var-list'></ul></div></li><li class='xr-section-item'><input id='section-20a14eac-fcc0-4806-8385-4365a44d0573' class='xr-section-summary-in' type='checkbox' disabled ><label for='section-20a14eac-fcc0-4806-8385-4365a44d0573' class='xr-section-summary'  title='Expand/collapse section'>Attributes: <span>(0)</span></label><div class='xr-section-inline-details'></div><div class='xr-section-details'><dl class='xr-attrs'></dl></div></li></ul></div></div>"
      ],
      "text/plain": [
       "<xarray.Dataset> Size: 64B\n",
       "Dimensions:              ()\n",
       "Data variables:\n",
       "    dudx_widened         float64 8B 3.877e-07\n",
       "    dvdx_widened         float64 8B 9.091e-07\n",
       "    dudy_widened         float64 8B 5.773e-07\n",
       "    dvdy_widened         float64 8B 3.897e-07\n",
       "    dedx_middle_widened  float64 8B 0.001258\n",
       "    dedy_middle_widened  float64 8B 0.001128\n",
       "    filter_scale         float64 8B 1.341e+05\n",
       "    uphp                 float32 4B 0.3548\n",
       "    vphp                 float32 4B 0.5337"
      ]
     },
     "execution_count": 9,
     "metadata": {},
     "output_type": "execute_result"
    }
   ],
   "source": [
    "batch_xr.std()"
   ]
  },
  {
   "cell_type": "code",
   "execution_count": 10,
   "id": "ca28629a-eabb-407d-849b-c71da566da76",
   "metadata": {},
   "outputs": [],
   "source": [
    "# Define the variables and assign normalizations \n",
    "\n",
    "normalize_data_dic = {\n",
    "    'dudx': ([], 1e-6),  # scalar value\n",
    "    'dvdx': ([], 1e-6),\n",
    "    'dudy': ([], 1e-6),\n",
    "    'dvdy': ([], 1e-6),\n",
    "    'dhdx': ([], 1e-3),\n",
    "    'dhdy': ([], 1e-3),\n",
    "    'dedx_middle': ([], 1e-3),\n",
    "    'dedy_middle': ([], 1e-3),\n",
    "    'filter_scale': ([], 140e3),\n",
    "    'uphp': ([], 4.),\n",
    "    'vphp': ([], 4.),\n",
    "\n",
    "    'dudx_nondim': ([], 1.),  # scalar value\n",
    "    'dvdx_nondim': ([], 1.),\n",
    "    'dudy_nondim': ([], 1.),\n",
    "    'dvdy_nondim': ([], 1.),\n",
    "    \n",
    "    'uphp_nondim': ([], 1e-5),\n",
    "    'vphp_nondim': ([], 1e-5),\n",
    "\n",
    "    'dudx_widened': ([], 1e-6),  # scalar value\n",
    "    'dvdx_widened': ([], 1e-6),\n",
    "    'dudy_widened': ([], 1e-6),\n",
    "    'dvdy_widened': ([], 1e-6),\n",
    "    'dhdx_widened': ([], 1e-3),\n",
    "    'dhdy_widened': ([], 1e-3),\n",
    "    'dedx_middle_widened': ([], 1e-3),\n",
    "    'dedy_middle_widened': ([], 1e-3),\n",
    "    'dhdx_widened_rotated': ([], 1e-3),\n",
    "    'dhdy_widened_rotated': ([], 1e-3),\n",
    "    \n",
    "    'dudx_widened_rotated_nondim': ([], 1e-1),  # scalar value\n",
    "    'dvdx_widened_rotated_nondim': ([], 1e-1),\n",
    "    'dudy_widened_rotated_nondim': ([], 1e-1),\n",
    "    'dvdy_widened_rotated_nondim': ([], 1e-1),\n",
    "    'dhdx_widened_rotated_nondim': ([], 1e-1),\n",
    "    'dhdy_widened_rotated_nondim': ([], 1e-1),\n",
    "    'uphp_rotated_nondim': ([], 1e-5),\n",
    "    'vphp_rotated_nondim': ([], 1e-5),\n",
    "}\n",
    "\n",
    "ds_norm = xr.Dataset(normalize_data_dic)"
   ]
  },
  {
   "cell_type": "code",
   "execution_count": 11,
   "id": "b6c15cc0-1d83-45f3-820a-2a9a1428e03e",
   "metadata": {},
   "outputs": [],
   "source": [
    "train_ML_data = datasets.MLJAXDataset(ML_DT_train, \n",
    "                                      input_channels=experiment_config['input_channels'], \n",
    "                                      output_channels=experiment_config['output_channels'], \n",
    "                                      coeff_channels=experiment_config['coeff_channels'], \n",
    "                                      ds_norm=ds_norm)\n",
    "\n",
    "test_ML_data = datasets.MLJAXDataset(ML_DT_test, \n",
    "                                      input_channels=experiment_config['input_channels'], \n",
    "                                      output_channels=experiment_config['output_channels'], \n",
    "                                      coeff_channels=experiment_config['coeff_channels'],\n",
    "                                      ds_norm=ds_norm)\n",
    "\n",
    "ML_data_combo = {'train_data':train_ML_data, 'test_data':test_ML_data}"
   ]
  },
  {
   "cell_type": "code",
   "execution_count": 12,
   "id": "46c42845-27bc-4062-b1c9-edfffe4289a6",
   "metadata": {},
   "outputs": [
    {
     "name": "stdout",
     "output_type": "stream",
     "text": [
      "Input (X) batch shape: (68937, 55)\n",
      "Output (y) batch shape: (68937, 2)\n"
     ]
    }
   ],
   "source": [
    "for batch_out in ML_data_combo['train_data'].get_batches():\n",
    "    print(\"Input (X) batch shape:\", batch_out['X'].shape)\n",
    "    print(\"Output (y) batch shape:\", batch_out['y'].shape)\n",
    "    \n",
    "    # If you want to view a sample of the data\n",
    "    #print(\"Sample X:\", batch_out['X'])  # First sample of the batch\n",
    "    #print(\"Sample y:\", batch_out['y'])  # Corresponding label/target\n",
    "    break  # Remove break to print more batches"
   ]
  },
  {
   "cell_type": "code",
   "execution_count": 13,
   "id": "70333e9b-5fe5-4781-aada-364c60b006e2",
   "metadata": {},
   "outputs": [
    {
     "data": {
      "text/plain": [
       "55"
      ]
     },
     "execution_count": 13,
     "metadata": {},
     "output_type": "execute_result"
    }
   ],
   "source": [
    "num_in = batch_out['X'].shape[-1]\n",
    "num_in"
   ]
  },
  {
   "cell_type": "code",
   "execution_count": 14,
   "id": "657307d4-ea8b-49f3-9742-26207f04a046",
   "metadata": {},
   "outputs": [],
   "source": [
    "ANN_model = ML_classes.PointwiseANN(num_in = experiment_config['num_inputs'],\n",
    "                                    shape = experiment_config['network_shape']) "
   ]
  },
  {
   "cell_type": "code",
   "execution_count": 15,
   "id": "28434452-2e2c-4cc2-b4f2-03476551a2fd",
   "metadata": {},
   "outputs": [
    {
     "name": "stdout",
     "output_type": "stream",
     "text": [
      "3422\n"
     ]
    }
   ],
   "source": [
    "ANN_model.count_parameters()"
   ]
  },
  {
   "cell_type": "code",
   "execution_count": 16,
   "id": "2d3f874e-0a33-412f-8cad-8ed4ed13e548",
   "metadata": {},
   "outputs": [],
   "source": [
    "regress_sys = ML_classes.AnnRegressionSystem(ANN_model)"
   ]
  },
  {
   "cell_type": "code",
   "execution_count": 18,
   "id": "c233c2a0-ae93-4d2d-8c12-242be7cabbc5",
   "metadata": {},
   "outputs": [
    {
     "name": "stdout",
     "output_type": "stream",
     "text": [
      "At epoch 42. Train loss :  0.003022075712529791 , Test loss: 0.003985677193850279\n",
      "At epoch 44. Train loss :  0.0029570720334713523 , Test loss: 0.0037757044192403555\n",
      "At epoch 46. Train loss :  0.0029244670342351937 , Test loss: 0.003711099550127983\n",
      "At epoch 48. Train loss :  0.002872590038522675 , Test loss: 0.003739687241613865\n",
      "At epoch 50. Train loss :  0.002794515882694238 , Test loss: 0.003575137164443731\n",
      "At epoch 52. Train loss :  0.0027465615421533585 , Test loss: 0.0035170013550668957\n",
      "At epoch 54. Train loss :  0.002685112752825827 , Test loss: 0.003444062452763319\n",
      "At epoch 56. Train loss :  0.0026605968816658934 , Test loss: 0.0033824747893959283\n",
      "At epoch 58. Train loss :  0.0026805107230068862 , Test loss: 0.0034791797865182162\n",
      "At epoch 60. Train loss :  0.0026707728708011877 , Test loss: 0.0034084183629602195\n",
      "At epoch 62. Train loss :  0.0026176997800231787 , Test loss: 0.0033791638910770417\n",
      "At epoch 64. Train loss :  0.0026002088247018087 , Test loss: 0.0033707518596202135\n",
      "At epoch 66. Train loss :  0.002553321427439113 , Test loss: 0.0033558479975908996\n",
      "At epoch 68. Train loss :  0.0025380971476536346 , Test loss: 0.003366926359012723\n",
      "At epoch 70. Train loss :  0.0025284369350285145 , Test loss: 0.0034116263035684825\n",
      "At epoch 72. Train loss :  0.002515599597245455 , Test loss: 0.0033700427040457724\n",
      "At epoch 74. Train loss :  0.0024813601080126858 , Test loss: 0.0033514928072690964\n",
      "At epoch 76. Train loss :  0.002472823825538964 , Test loss: 0.003354952111840248\n",
      "At epoch 78. Train loss :  0.002467089521421774 , Test loss: 0.0033605792559683323\n",
      "At epoch 80. Train loss :  0.002445109364752834 , Test loss: 0.0033448482863605022\n",
      "At epoch 82. Train loss :  0.0024429838663923577 , Test loss: 0.0033153390046209096\n",
      "CPU times: user 2min 47s, sys: 54.7 s, total: 3min 41s\n",
      "Wall time: 1min 45s\n"
     ]
    }
   ],
   "source": [
    "%%time \n",
    "regress_sys.train_system(ML_data_combo, num_epoch=41, print_freq=2)"
   ]
  },
  {
   "cell_type": "markdown",
   "id": "a646a4c5-d662-4ee9-90ee-e51757ba912e",
   "metadata": {},
   "source": [
    "Clearly and obviously this loss is a function of the normalization that is used. "
   ]
  },
  {
   "cell_type": "code",
   "execution_count": 19,
   "id": "99cf3540-5d7e-4647-b7ea-401e11afc6c4",
   "metadata": {},
   "outputs": [],
   "source": [
    "regress_sys.save_checkpoint(experiment_config['exp_ckpt_save_dir'])"
   ]
  },
  {
   "cell_type": "markdown",
   "id": "28b32119-5983-4c3c-92b8-b604ffe62ab6",
   "metadata": {},
   "source": [
    "### Model evaluation "
   ]
  },
  {
   "cell_type": "code",
   "execution_count": 20,
   "id": "b68a1323-ee38-40c6-af18-1ee9e071c19d",
   "metadata": {},
   "outputs": [],
   "source": [
    "test_eval = evaluation.EvalSystem(simulation_data=DT,\n",
    "                                 input_channels=experiment_config['input_channels'],\n",
    "                                 output_channels=experiment_config['output_channels'], \n",
    "                                 coeff_channels=experiment_config['coeff_channels'], \n",
    "                                 ds_norm_factors=ds_norm,\n",
    "                                 eval_time_slice=slice(1000, 1010), \n",
    "                                 num_inputs=experiment_config['num_inputs'], \n",
    "                                 shape=experiment_config['network_shape'], \n",
    "                                 ckpt_dir=experiment_config['exp_ckpt_save_dir'])\n"
   ]
  },
  {
   "cell_type": "code",
   "execution_count": 21,
   "id": "ac745e21-67c7-4422-adb6-6c15076c9eb2",
   "metadata": {},
   "outputs": [],
   "source": [
    "# Spin up \n",
    "test_eval.read_ann_regression_model()\n",
    "test_eval.read_eval_data()\n",
    "test_eval.predict()"
   ]
  },
  {
   "cell_type": "code",
   "execution_count": 22,
   "id": "8a12298d-60dd-4176-a2fc-e017f080cb45",
   "metadata": {},
   "outputs": [
    {
     "data": {
      "image/png": "[encoded data removed]",
      "text/plain": [
       "<Figure size 1200x700 with 12 Axes>"
      ]
     },
     "metadata": {},
     "output_type": "display_data"
    }
   ],
   "source": [
    "exp = experiment_config['simulation_names'][0]\n",
    "scale = '200'\n",
    "\n",
    "plt.figure(figsize=(12, 7))\n",
    "\n",
    "vmin=-3.5\n",
    "zl_choice = 0\n",
    "\n",
    "plt.subplot(231)\n",
    "test_eval.eval_datatree.ml_dataset[exp][scale][experiment_config['output_channels'][zl_choice]].isel(Time=0, zl=0).plot(vmin=vmin)\n",
    "\n",
    "plt.subplot(232)\n",
    "test_eval.eval_datatree.ml_dataset[exp][scale][experiment_config['output_channels'][zl_choice]+'_pred'].isel(Time=0, zl=0).plot(vmin=vmin)\n",
    "\n",
    "plt.subplot(233)\n",
    "(test_eval.eval_datatree.ml_dataset[exp][scale][experiment_config['output_channels'][zl_choice]] - \n",
    " test_eval.eval_datatree.ml_dataset[exp][scale][experiment_config['output_channels'][zl_choice]+'_pred']).isel(Time=0, zl=0).plot(vmin=vmin)\n",
    "\n",
    "\n",
    "vmin=-1.2 \n",
    "zl_choice = 1\n",
    "\n",
    "plt.subplot(234)\n",
    "test_eval.eval_datatree.ml_dataset[exp][scale][experiment_config['output_channels'][0]].isel(Time=0, zl=zl_choice).plot(vmin=vmin)\n",
    "\n",
    "plt.subplot(235)\n",
    "test_eval.eval_datatree.ml_dataset[exp][scale][experiment_config['output_channels'][0]+'_pred'].isel(Time=0, zl=zl_choice).plot(vmin=vmin)\n",
    "\n",
    "plt.subplot(236)\n",
    "(test_eval.eval_datatree.ml_dataset[exp][scale][experiment_config['output_channels'][0]] - \n",
    " test_eval.eval_datatree.ml_dataset[exp][scale][experiment_config['output_channels'][0]+'_pred']).isel(Time=0, zl=zl_choice).plot(vmin=vmin)\n",
    "\n",
    "plt.tight_layout()"
   ]
  },
  {
   "cell_type": "code",
   "execution_count": 24,
   "id": "9384a2ac-244b-4435-ba86-015ca1b306fb",
   "metadata": {},
   "outputs": [],
   "source": [
    "# Pick some region away from boundaries to do that stats "
   ]
  },
  {
   "cell_type": "code",
   "execution_count": 27,
   "id": "6ccbea64-98c5-45f7-b29a-c5d429334e40",
   "metadata": {},
   "outputs": [],
   "source": [
    "test_eval.calc_time_hor_space_metrics(yh_region=slice(31, 45), xh_region=slice(5, 17), dims=['Time','xh','yh'])\n",
    "test_eval.calc_time_hor_space_metrics(var='vphp',yh_region=slice(31, 45), xh_region=slice(5, 17), dims=['Time','xh','yh'])"
   ]
  },
  {
   "cell_type": "code",
   "execution_count": 28,
   "id": "6c4df013-0343-473c-a778-68d43f9213a5",
   "metadata": {},
   "outputs": [
    {
     "name": "stdout",
     "output_type": "stream",
     "text": [
      "DG 50km, R2 for uphp is (layer:[0,1])[0.73224286 0.51353481]\n",
      "DG 50km, R2 for vphp is (layer:[0,1])[0.74295524 0.34927308]\n",
      "DG 100km, R2 for uphp is (layer:[0,1])[0.78178258 0.43515932]\n",
      "DG 100km, R2 for vphp is (layer:[0,1])[0.85211159 0.32160105]\n",
      "DG 200km, R2 for uphp is (layer:[0,1])[0.73597551 0.34044244]\n",
      "DG 200km, R2 for vphp is (layer:[0,1])[0.70467573 0.21887488]\n",
      "DG 400km, R2 for uphp is (layer:[0,1])[0.63122926 0.53926194]\n",
      "DG 400km, R2 for vphp is (layer:[0,1])[0.45358915 0.11587619]\n"
     ]
    }
   ],
   "source": [
    "for exp in experiment_config['simulation_names']: \n",
    "    for scale in experiment_config['filter_scales']: \n",
    "        print(exp+' '+scale+'km, R2 for uphp is (layer:[0,1])'+ str(test_eval.eval_datatree.ml_dataset[exp][scale].uphp_R2_all_space_time.values))\n",
    "        print(exp+' '+scale+'km, R2 for vphp is (layer:[0,1])'+ str(test_eval.eval_datatree.ml_dataset[exp][scale].vphp_R2_all_space_time.values))"
   ]
  },
  {
   "cell_type": "code",
   "execution_count": 26,
   "id": "ae0e9a40-a4fc-433c-9b6c-ef742f2050b4",
   "metadata": {},
   "outputs": [
    {
     "name": "stdout",
     "output_type": "stream",
     "text": [
      "DG 50km, R2 for uphp is (layer:[0,1])[0.73224286 0.51353481]\n",
      "DG 50km, R2 for vphp is (layer:[0,1])[0.74295524 0.34927308]\n",
      "DG 100km, R2 for uphp is (layer:[0,1])[0.78178258 0.43515932]\n",
      "DG 100km, R2 for vphp is (layer:[0,1])[0.85211159 0.32160105]\n",
      "DG 200km, R2 for uphp is (layer:[0,1])[0.73597551 0.34044244]\n",
      "DG 200km, R2 for vphp is (layer:[0,1])[0.70467573 0.21887488]\n",
      "DG 400km, R2 for uphp is (layer:[0,1])[0.63122926 0.53926194]\n",
      "DG 400km, R2 for vphp is (layer:[0,1])[0.45358915 0.11587619]\n"
     ]
    }
   ],
   "source": [
    "for exp in experiment_config['simulation_names']: \n",
    "    for scale in experiment_config['filter_scales']: \n",
    "        print(exp+' '+scale+'km, R2 for uphp is (layer:[0,1])'+ str(test_eval.eval_datatree.ml_dataset[exp][scale].uphp_R2_all_space_time.values))\n",
    "        print(exp+' '+scale+'km, R2 for vphp is (layer:[0,1])'+ str(test_eval.eval_datatree.ml_dataset[exp][scale].vphp_R2_all_space_time.values))"
   ]
  },
  {
   "cell_type": "code",
   "execution_count": 27,
   "id": "353a2e6b-6825-401c-980a-bdfc6660629a",
   "metadata": {
    "jupyter": {
     "source_hidden": true
    }
   },
   "outputs": [
    {
     "name": "stdout",
     "output_type": "stream",
     "text": [
      "DG 50, corr for uphp is (layer:[0,1])[0.78441032 0.55904447]\n",
      "DG 50, corr for vphp is (layer:[0,1])[0.78142829 0.52418744]\n",
      "DG 100, corr for uphp is (layer:[0,1])[0.85802039 0.48067469]\n",
      "DG 100, corr for vphp is (layer:[0,1])[0.88039649 0.53824103]\n",
      "DG 200, corr for uphp is (layer:[0,1])[0.83922752 0.40536113]\n",
      "DG 200, corr for vphp is (layer:[0,1])[0.77243363 0.61768843]\n",
      "DG 400, corr for uphp is (layer:[0,1])[0.58792902 0.38283237]\n",
      "DG 400, corr for vphp is (layer:[0,1])[0.48691577 0.40678166]\n"
     ]
    }
   ],
   "source": [
    "for exp in experiment_config['simulation_names']: \n",
    "    for scale in experiment_config['filter_scales']: \n",
    "        print(exp+' '+scale+', corr for uphp is (layer:[0,1])'+ str(test_eval.eval_datatree.ml_dataset[exp][scale].uphp_corr_all_space_time.values))\n",
    "        print(exp+' '+scale+', corr for vphp is (layer:[0,1])'+ str(test_eval.eval_datatree.ml_dataset[exp][scale].vphp_corr_all_space_time.values))"
   ]
  },
  {
   "cell_type": "code",
   "execution_count": null,
   "id": "8182fc57-0167-4dae-a9b0-a13cab8fea57",
   "metadata": {},
   "outputs": [],
   "source": []
  },
  {
   "cell_type": "code",
   "execution_count": null,
   "id": "1ab615c6-4319-4474-a5bd-f74de0c6ce55",
   "metadata": {},
   "outputs": [],
   "source": []
  },
  {
   "cell_type": "code",
   "execution_count": 24,
   "id": "b70c39fd-4938-4ed0-a372-9ef8c146a15e",
   "metadata": {},
   "outputs": [
    {
     "name": "stdout",
     "output_type": "stream",
     "text": [
      "DG 50, R2 for uphp is [0.70192167 0.60855438]\n",
      "DG 50, R2 for vphp is [0.65977634 0.43067083]\n",
      "DG 100, R2 for uphp is [0.79598482 0.51705361]\n",
      "DG 100, R2 for vphp is [0.78039784 0.57871463]\n",
      "DG 200, R2 for uphp is [0.76950102 0.46607727]\n",
      "DG 200, R2 for vphp is [0.66287939 0.52810765]\n",
      "DG 400, R2 for uphp is [0.61908327 0.56835334]\n",
      "DG 400, R2 for vphp is [0.41232279 0.24914097]\n"
     ]
    }
   ],
   "source": [
    "for exp in experiment_config['simulation_names']: \n",
    "    for scale in experiment_config['filter_scales']: \n",
    "        print(exp+' '+scale+', R2 for uphp is '+ str(test_eval.eval_datatree.ml_dataset[exp][scale].uphp_R2_all_space_time.values))\n",
    "        print(exp+' '+scale+', R2 for vphp is '+ str(test_eval.eval_datatree.ml_dataset[exp][scale].vphp_R2_all_space_time.values))"
   ]
  },
  {
   "cell_type": "code",
   "execution_count": 25,
   "id": "e9f6ed3b-d47e-4c2d-89b2-45a6aebff941",
   "metadata": {},
   "outputs": [
    {
     "name": "stdout",
     "output_type": "stream",
     "text": [
      "DG 50, corr for uphp is [0.87071838 0.81082214]\n",
      "DG 50, corr for vphp is [0.84869956 0.76134763]\n",
      "DG 100, corr for uphp is [0.8919992  0.72329992]\n",
      "DG 100, corr for vphp is [0.88471719 0.76465405]\n",
      "DG 200, corr for uphp is [0.87665484 0.64796012]\n",
      "DG 200, corr for vphp is [0.82057495 0.72779364]\n",
      "DG 400, corr for uphp is [0.76615327 0.68904841]\n",
      "DG 400, corr for vphp is [0.51884333 0.52130305]\n"
     ]
    }
   ],
   "source": [
    "for exp in experiment_config['simulation_names']: \n",
    "    for scale in experiment_config['filter_scales']: \n",
    "        print(exp+' '+scale+', corr for uphp is '+ str(test_eval.eval_datatree.ml_dataset[exp][scale].uphp_corr_all_space_time.values))\n",
    "        print(exp+' '+scale+', corr for vphp is '+ str(test_eval.eval_datatree.ml_dataset[exp][scale].vphp_corr_all_space_time.values))"
   ]
  },
  {
   "cell_type": "code",
   "execution_count": 26,
   "id": "23bef68e-ee41-43c0-b8fe-818ca2f182a4",
   "metadata": {},
   "outputs": [
    {
     "name": "stdout",
     "output_type": "stream",
     "text": [
      "DG 50, mse for uphp is [0.02471782 0.01546896]\n",
      "DG 50, mse for vphp is [0.04055041 0.02687258]\n",
      "DG 100, mse for uphp is [0.05180349 0.04501214]\n",
      "DG 100, mse for vphp is [0.09298881 0.05174112]\n",
      "DG 200, mse for uphp is [0.0678222  0.05552641]\n",
      "DG 200, mse for vphp is [0.11158357 0.07066557]\n",
      "DG 400, mse for uphp is [0.04248629 0.02660162]\n",
      "DG 400, mse for vphp is [0.05123057 0.04926057]\n"
     ]
    }
   ],
   "source": [
    "for exp in experiment_config['simulation_names']: \n",
    "    for scale in experiment_config['filter_scales']: \n",
    "        print(exp+' '+scale+', mse for uphp is '+ str(test_eval.eval_datatree.ml_dataset[exp][scale].uphp_mse_all_space_time.values))\n",
    "        print(exp+' '+scale+', mse for vphp is '+ str(test_eval.eval_datatree.ml_dataset[exp][scale].vphp_mse_all_space_time.values))"
   ]
  },
  {
   "cell_type": "markdown",
   "id": "2adb7319-889d-4a11-b577-8aab0137bf7e",
   "metadata": {},
   "source": [
    "Note that the MSE values here are a bit larger than what we had in loss. This is for 2 reasons (i) There is a factor of 4 in normalization, and (ii) we divided the MSE in training by 2 out of convention. "
   ]
  },
  {
   "cell_type": "code",
   "execution_count": null,
   "id": "d2b93f3d-a546-43b9-ad84-37217b221602",
   "metadata": {},
   "outputs": [],
   "source": []
  }
 ],
 "metadata": {
  "kernelspec": {
   "display_name": "Python 3 (ipykernel)",
   "language": "python",
   "name": "python3"
  },
  "language_info": {
   "codemirror_mode": {
    "name": "ipython",
    "version": 3
   },
   "file_extension": ".py",
   "mimetype": "text/x-python",
   "name": "python",
   "nbconvert_exporter": "python",
   "pygments_lexer": "ipython3",
   "version": "3.12.4"
  }
 },
 "nbformat": 4,
 "nbformat_minor": 5
}
