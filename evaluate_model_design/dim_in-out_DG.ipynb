{
 "cells": [
  {
   "cell_type": "markdown",
   "id": "3aeea457-085b-4805-9834-6de27957433c",
   "metadata": {},
   "source": [
    "## Interface height vs layer thickness gradients\n",
    "\n",
    "In models with large scale bottom slope changes the bottom layer thickness ends up incorporating this information in it. While this bottom slope probably impacts the eddy fluxes, it does not seem to be the case that this has a first order effect. "
   ]
  },
  {
   "cell_type": "code",
   "execution_count": 1,
   "id": "bc80cf57-5376-4562-b0f0-27952d60d360",
   "metadata": {},
   "outputs": [],
   "source": [
    "import warnings\n",
    "\n",
    "# Ignore all warnings\n",
    "warnings.filterwarnings(\"ignore\")\n",
    "\n",
    "import matplotlib.pyplot as plt\n",
    "import numpy as np\n",
    "import xarray as xr"
   ]
  },
  {
   "cell_type": "code",
   "execution_count": 2,
   "id": "791cc99b-d1a6-478c-981c-71df4a63ca00",
   "metadata": {},
   "outputs": [],
   "source": [
    "# import yaml\n",
    "# with open('DG_exp_config.yml', 'r') as file:\n",
    "#     experiment_config = yaml.safe_load(file)"
   ]
  },
  {
   "cell_type": "code",
   "execution_count": 3,
   "id": "fc36c62e-b9f9-45d6-88a6-626c6f7e25e4",
   "metadata": {},
   "outputs": [],
   "source": [
    "import wandb"
   ]
  },
  {
   "cell_type": "code",
   "execution_count": 4,
   "id": "d43a33fa-337f-48b5-869c-ef6c4fd275ed",
   "metadata": {},
   "outputs": [],
   "source": [
    "import sys\n",
    "sys.path.append('../modules/')"
   ]
  },
  {
   "cell_type": "code",
   "execution_count": 5,
   "id": "32369470-7ffa-42c1-90d0-6820a96a6bf2",
   "metadata": {},
   "outputs": [
    {
     "name": "stderr",
     "output_type": "stream",
     "text": [
      "2024-10-08 16:49:35.879514: E external/local_xla/xla/stream_executor/cuda/cuda_dnn.cc:10575] Unable to register cuDNN factory: Attempting to register factory for plugin cuDNN when one has already been registered\n",
      "2024-10-08 16:49:35.879544: E external/local_xla/xla/stream_executor/cuda/cuda_fft.cc:479] Unable to register cuFFT factory: Attempting to register factory for plugin cuFFT when one has already been registered\n",
      "2024-10-08 16:49:35.881281: E external/local_xla/xla/stream_executor/cuda/cuda_blas.cc:1442] Unable to register cuBLAS factory: Attempting to register factory for plugin cuBLAS when one has already been registered\n"
     ]
    }
   ],
   "source": [
    "%reload_ext autoreload\n",
    "%autoreload 2\n",
    "import datasets\n",
    "import ML_classes\n",
    "import evaluation"
   ]
  },
  {
   "cell_type": "markdown",
   "id": "e76a5a75-8f1b-4163-91da-d1226de6d6ee",
   "metadata": {},
   "source": [
    "We will run a few experiment configs. All with non-dim outputs. The goal is to compare the impact of inputs.\n",
    "\n",
    "1. Inputs: norm vel gradients, thickness gradients\n",
    "2. Inputs: norm vel gradients, interface slope\n",
    "3. Inputs: norm vel gradients, thickness gradients, inteface slopes"
   ]
  },
  {
   "cell_type": "code",
   "execution_count": 6,
   "id": "b45ce119-3f64-49c0-acd9-da53d493ec3d",
   "metadata": {},
   "outputs": [],
   "source": [
    "experiment_config= {'experiment_name': 'DG_5_with_topo', # Any sort of name will work here \n",
    "                    'simulation_names':['DG'], \n",
    "                    'filter_scales':['50','100','200','400'],\n",
    "                    'window_size':5, \n",
    "                    \n",
    "                    'input_channels' : ['dudx_widened',  \n",
    "                                        'dvdx_widened', \n",
    "                                        'dudy_widened',\n",
    "                                        'dvdy_widened',\n",
    "                                        'dhdx_widened',\n",
    "                                        'dhdy_widened',\n",
    "                                        'dhbardx_widened',\n",
    "                                        'dhbardy_widened',\n",
    "                                        'filter_scale'],\n",
    "                    \n",
    "                    'output_channels' : ['uphp',\n",
    "                                         'vphp'],\n",
    "                    \n",
    "                    'coeff_channels'  : [], \n",
    "\n",
    "                    'all_time_range': slice(0, 1400), \n",
    "                    'train_time_range': slice(0, 1200),\n",
    "                    'test_time_range' : slice(-100, None),\n",
    "                    'num_train_batches': 37, \n",
    "                    'num_test_batches' : 5, \n",
    "                   \n",
    "                    'network_shape': [36, 36, 2],\n",
    "                    'single_layer_mask': True}\n",
    "\n",
    "experiment_config['all_ml_variables'] = (experiment_config['input_channels'] + \n",
    "                                           experiment_config['output_channels'] +\n",
    "                                           experiment_config['coeff_channels'])\n",
    "\n",
    "experiment_config['num_inputs'] = (len(experiment_config['input_channels']) - 1)*experiment_config['window_size']**2 + 1\n",
    "\n",
    "experiment_config['exp_ckpt_save_dir'] = ('/home/jovyan/mesoscale_buoyancy_param_ML/ML_checkpoints/raw_models/' + \n",
    "                                          '_'.join(experiment_config['simulation_names']) + \n",
    "                                          '_' + str(experiment_config['window_size']) + '_with_topo')"
   ]
  },
  {
   "cell_type": "code",
   "execution_count": 7,
   "id": "bb9050d3-2ab0-4255-88ec-387db0bfdfc2",
   "metadata": {},
   "outputs": [
    {
     "data": {
      "text/plain": [
       "'/home/jovyan/mesoscale_buoyancy_param_ML/ML_checkpoints/raw_models/DG_5_with_topo'"
      ]
     },
     "execution_count": 7,
     "metadata": {},
     "output_type": "execute_result"
    }
   ],
   "source": [
    "experiment_config['exp_ckpt_save_dir']"
   ]
  },
  {
   "cell_type": "code",
   "execution_count": 8,
   "id": "6aaf4dd3-e6f2-4947-8030-c21dad47a845",
   "metadata": {},
   "outputs": [
    {
     "name": "stderr",
     "output_type": "stream",
     "text": [
      "Failed to detect the name of this notebook, you can set it manually with the WANDB_NOTEBOOK_NAME environment variable to enable code saving.\n",
      "\u001b[34m\u001b[1mwandb\u001b[0m: Using wandb-core as the SDK backend. Please refer to https://wandb.me/wandb-core for more information.\n",
      "\u001b[34m\u001b[1mwandb\u001b[0m: Currently logged in as: \u001b[33mdhruvbalwada\u001b[0m (\u001b[33mm2lines\u001b[0m). Use \u001b[1m`wandb login --relogin`\u001b[0m to force relogin\n"
     ]
    },
    {
     "data": {
      "text/html": [
       "Tracking run with wandb version 0.18.3"
      ],
      "text/plain": [
       "<IPython.core.display.HTML object>"
      ]
     },
     "metadata": {},
     "output_type": "display_data"
    },
    {
     "data": {
      "text/html": [
       "Run data is saved locally in <code>/home/jovyan/mesoscale_buoyancy_param_ML/evaluate_model_design/wandb/run-20241008_164942-peum1fff</code>"
      ],
      "text/plain": [
       "<IPython.core.display.HTML object>"
      ]
     },
     "metadata": {},
     "output_type": "display_data"
    },
    {
     "data": {
      "text/html": [
       "Syncing run <strong><a href='https://wandb.ai/m2lines/dimensional_models/runs/peum1fff' target=\"_blank\">major-cherry-12</a></strong> to <a href='https://wandb.ai/m2lines/dimensional_models' target=\"_blank\">Weights & Biases</a> (<a href='https://wandb.me/run' target=\"_blank\">docs</a>)<br/>"
      ],
      "text/plain": [
       "<IPython.core.display.HTML object>"
      ]
     },
     "metadata": {},
     "output_type": "display_data"
    },
    {
     "data": {
      "text/html": [
       " View project at <a href='https://wandb.ai/m2lines/dimensional_models' target=\"_blank\">https://wandb.ai/m2lines/dimensional_models</a>"
      ],
      "text/plain": [
       "<IPython.core.display.HTML object>"
      ]
     },
     "metadata": {},
     "output_type": "display_data"
    },
    {
     "data": {
      "text/html": [
       " View run at <a href='https://wandb.ai/m2lines/dimensional_models/runs/peum1fff' target=\"_blank\">https://wandb.ai/m2lines/dimensional_models/runs/peum1fff</a>"
      ],
      "text/plain": [
       "<IPython.core.display.HTML object>"
      ]
     },
     "metadata": {},
     "output_type": "display_data"
    },
    {
     "data": {
      "text/html": [
       "<button onClick=\"this.nextSibling.style.display='block';this.style.display='none';\">Display W&B run</button><iframe src='https://wandb.ai/m2lines/dimensional_models/runs/peum1fff?jupyter=true' style='border:none;width:100%;height:420px;display:none;'></iframe>"
      ],
      "text/plain": [
       "<wandb.sdk.wandb_run.Run at 0x795077886060>"
      ]
     },
     "execution_count": 8,
     "metadata": {},
     "output_type": "execute_result"
    }
   ],
   "source": [
    "wandb.init(\n",
    "    project='dimensional_models', \n",
    "    config = experiment_config)"
   ]
  },
  {
   "cell_type": "code",
   "execution_count": 9,
   "id": "9658b5f4-57bc-4f98-8ad7-dbf4a7efcfd3",
   "metadata": {},
   "outputs": [
    {
     "name": "stdout",
     "output_type": "stream",
     "text": [
      "Will load : 11.02896 gb into memory.\n",
      "load took: 60.7337 seconds\n",
      "Will load : 0.91908 gb into memory.\n",
      "load took: 5.8425 seconds\n"
     ]
    }
   ],
   "source": [
    "#DT = datasets.SimulationData(simulation_names=['P2L', 'DG'], filter_scales=['50','100','200','400'])\n",
    "DT = datasets.SimulationData(simulation_names=experiment_config['simulation_names'], \n",
    "                             filter_scales=experiment_config['filter_scales'], \n",
    "                             window_size = experiment_config['window_size'],\n",
    "                             time_sel = experiment_config['all_time_range'],\n",
    "                             single_layer_mask=experiment_config['single_layer_mask'])\n",
    "\n",
    "ML_DT_train = datasets.MLXarrayDataset(simulation_data=DT, \n",
    "                                       all_ml_variables=experiment_config['all_ml_variables'],\n",
    "                                       time_range=experiment_config['train_time_range'],\n",
    "                                       num_batches = experiment_config['num_train_batches'])\n",
    "\n",
    "ML_DT_test = datasets.MLXarrayDataset(simulation_data=DT,\n",
    "                                      all_ml_variables=experiment_config['all_ml_variables'],\n",
    "                                      time_range=experiment_config['test_time_range'],\n",
    "                                      num_batches = experiment_config['num_test_batches'])"
   ]
  },
  {
   "cell_type": "code",
   "execution_count": 10,
   "id": "29800f80-ec75-4e96-a396-8b16ed6e0980",
   "metadata": {
    "scrolled": true
   },
   "outputs": [],
   "source": [
    "batch_xr = ML_DT_train.ml_batches[-1]"
   ]
  },
  {
   "cell_type": "code",
   "execution_count": 11,
   "id": "c616fb24-9243-45ad-8c40-528caef46766",
   "metadata": {},
   "outputs": [
    {
     "data": {
      "image/png": "[encoded data removed]",
      "text/plain": [
       "<Figure size 640x480 with 4 Axes>"
      ]
     },
     "metadata": {},
     "output_type": "display_data"
    }
   ],
   "source": [
    "plt.subplot(221)\n",
    "batch_xr[experiment_config['input_channels'][0]].plot.hist();\n",
    "batch_xr[experiment_config['input_channels'][1]].plot.hist();\n",
    "batch_xr[experiment_config['input_channels'][2]].plot.hist();\n",
    "batch_xr[experiment_config['input_channels'][3]].plot.hist();\n",
    "\n",
    "plt.subplot(222)\n",
    "batch_xr[experiment_config['input_channels'][4]].plot.hist();\n",
    "batch_xr[experiment_config['input_channels'][5]].plot.hist();\n",
    "\n",
    "plt.subplot(223)\n",
    "batch_xr[experiment_config['input_channels'][6]].plot.hist();\n",
    "\n",
    "plt.subplot(224)\n",
    "batch_xr[experiment_config['output_channels'][0]].plot.hist();\n",
    "batch_xr[experiment_config['output_channels'][1]].plot.hist();\n",
    "\n",
    "plt.tight_layout()"
   ]
  },
  {
   "cell_type": "code",
   "execution_count": 12,
   "id": "dd1974f0-0898-4d24-9d33-9cc12eae61f5",
   "metadata": {},
   "outputs": [
    {
     "data": {
      "text/html": [
       "<div><svg style=\"position: absolute; width: 0; height: 0; overflow: hidden\">\n",
       "<defs>\n",
       "<symbol id=\"icon-database\" viewBox=\"0 0 32 32\">\n",
       "<path d=\"M16 0c-8.837 0-16 2.239-16 5v4c0 2.761 7.163 5 16 5s16-2.239 16-5v-4c0-2.761-7.163-5-16-5z\"></path>\n",
       "<path d=\"M16 17c-8.837 0-16-2.239-16-5v6c0 2.761 7.163 5 16 5s16-2.239 16-5v-6c0 2.761-7.163 5-16 5z\"></path>\n",
       "<path d=\"M16 26c-8.837 0-16-2.239-16-5v6c0 2.761 7.163 5 16 5s16-2.239 16-5v-6c0 2.761-7.163 5-16 5z\"></path>\n",
       "</symbol>\n",
       "<symbol id=\"icon-file-text2\" viewBox=\"0 0 32 32\">\n",
       "<path d=\"M28.681 7.159c-0.694-0.947-1.662-2.053-2.724-3.116s-2.169-2.030-3.116-2.724c-1.612-1.182-2.393-1.319-2.841-1.319h-15.5c-1.378 0-2.5 1.121-2.5 2.5v27c0 1.378 1.122 2.5 2.5 2.5h23c1.378 0 2.5-1.122 2.5-2.5v-19.5c0-0.448-0.137-1.23-1.319-2.841zM24.543 5.457c0.959 0.959 1.712 1.825 2.268 2.543h-4.811v-4.811c0.718 0.556 1.584 1.309 2.543 2.268zM28 29.5c0 0.271-0.229 0.5-0.5 0.5h-23c-0.271 0-0.5-0.229-0.5-0.5v-27c0-0.271 0.229-0.5 0.5-0.5 0 0 15.499-0 15.5 0v7c0 0.552 0.448 1 1 1h7v19.5z\"></path>\n",
       "<path d=\"M23 26h-14c-0.552 0-1-0.448-1-1s0.448-1 1-1h14c0.552 0 1 0.448 1 1s-0.448 1-1 1z\"></path>\n",
       "<path d=\"M23 22h-14c-0.552 0-1-0.448-1-1s0.448-1 1-1h14c0.552 0 1 0.448 1 1s-0.448 1-1 1z\"></path>\n",
       "<path d=\"M23 18h-14c-0.552 0-1-0.448-1-1s0.448-1 1-1h14c0.552 0 1 0.448 1 1s-0.448 1-1 1z\"></path>\n",
       "</symbol>\n",
       "</defs>\n",
       "</svg>\n",
       "<style>/* CSS stylesheet for displaying xarray objects in jupyterlab.\n",
       " *\n",
       " */\n",
       "\n",
       ":root {\n",
       "  --xr-font-color0: var(--jp-content-font-color0, rgba(0, 0, 0, 1));\n",
       "  --xr-font-color2: var(--jp-content-font-color2, rgba(0, 0, 0, 0.54));\n",
       "  --xr-font-color3: var(--jp-content-font-color3, rgba(0, 0, 0, 0.38));\n",
       "  --xr-border-color: var(--jp-border-color2, #e0e0e0);\n",
       "  --xr-disabled-color: var(--jp-layout-color3, #bdbdbd);\n",
       "  --xr-background-color: var(--jp-layout-color0, white);\n",
       "  --xr-background-color-row-even: var(--jp-layout-color1, white);\n",
       "  --xr-background-color-row-odd: var(--jp-layout-color2, #eeeeee);\n",
       "}\n",
       "\n",
       "html[theme=dark],\n",
       "body[data-theme=dark],\n",
       "body.vscode-dark {\n",
       "  --xr-font-color0: rgba(255, 255, 255, 1);\n",
       "  --xr-font-color2: rgba(255, 255, 255, 0.54);\n",
       "  --xr-font-color3: rgba(255, 255, 255, 0.38);\n",
       "  --xr-border-color: #1F1F1F;\n",
       "  --xr-disabled-color: #515151;\n",
       "  --xr-background-color: #111111;\n",
       "  --xr-background-color-row-even: #111111;\n",
       "  --xr-background-color-row-odd: #313131;\n",
       "}\n",
       "\n",
       ".xr-wrap {\n",
       "  display: block !important;\n",
       "  min-width: 300px;\n",
       "  max-width: 700px;\n",
       "}\n",
       "\n",
       ".xr-text-repr-fallback {\n",
       "  /* fallback to plain text repr when CSS is not injected (untrusted notebook) */\n",
       "  display: none;\n",
       "}\n",
       "\n",
       ".xr-header {\n",
       "  padding-top: 6px;\n",
       "  padding-bottom: 6px;\n",
       "  margin-bottom: 4px;\n",
       "  border-bottom: solid 1px var(--xr-border-color);\n",
       "}\n",
       "\n",
       ".xr-header > div,\n",
       ".xr-header > ul {\n",
       "  display: inline;\n",
       "  margin-top: 0;\n",
       "  margin-bottom: 0;\n",
       "}\n",
       "\n",
       ".xr-obj-type,\n",
       ".xr-array-name {\n",
       "  margin-left: 2px;\n",
       "  margin-right: 10px;\n",
       "}\n",
       "\n",
       ".xr-obj-type {\n",
       "  color: var(--xr-font-color2);\n",
       "}\n",
       "\n",
       ".xr-sections {\n",
       "  padding-left: 0 !important;\n",
       "  display: grid;\n",
       "  grid-template-columns: 150px auto auto 1fr 20px 20px;\n",
       "}\n",
       "\n",
       ".xr-section-item {\n",
       "  display: contents;\n",
       "}\n",
       "\n",
       ".xr-section-item input {\n",
       "  display: none;\n",
       "}\n",
       "\n",
       ".xr-section-item input + label {\n",
       "  color: var(--xr-disabled-color);\n",
       "}\n",
       "\n",
       ".xr-section-item input:enabled + label {\n",
       "  cursor: pointer;\n",
       "  color: var(--xr-font-color2);\n",
       "}\n",
       "\n",
       ".xr-section-item input:enabled + label:hover {\n",
       "  color: var(--xr-font-color0);\n",
       "}\n",
       "\n",
       ".xr-section-summary {\n",
       "  grid-column: 1;\n",
       "  color: var(--xr-font-color2);\n",
       "  font-weight: 500;\n",
       "}\n",
       "\n",
       ".xr-section-summary > span {\n",
       "  display: inline-block;\n",
       "  padding-left: 0.5em;\n",
       "}\n",
       "\n",
       ".xr-section-summary-in:disabled + label {\n",
       "  color: var(--xr-font-color2);\n",
       "}\n",
       "\n",
       ".xr-section-summary-in + label:before {\n",
       "  display: inline-block;\n",
       "  content: '►';\n",
       "  font-size: 11px;\n",
       "  width: 15px;\n",
       "  text-align: center;\n",
       "}\n",
       "\n",
       ".xr-section-summary-in:disabled + label:before {\n",
       "  color: var(--xr-disabled-color);\n",
       "}\n",
       "\n",
       ".xr-section-summary-in:checked + label:before {\n",
       "  content: '▼';\n",
       "}\n",
       "\n",
       ".xr-section-summary-in:checked + label > span {\n",
       "  display: none;\n",
       "}\n",
       "\n",
       ".xr-section-summary,\n",
       ".xr-section-inline-details {\n",
       "  padding-top: 4px;\n",
       "  padding-bottom: 4px;\n",
       "}\n",
       "\n",
       ".xr-section-inline-details {\n",
       "  grid-column: 2 / -1;\n",
       "}\n",
       "\n",
       ".xr-section-details {\n",
       "  display: none;\n",
       "  grid-column: 1 / -1;\n",
       "  margin-bottom: 5px;\n",
       "}\n",
       "\n",
       ".xr-section-summary-in:checked ~ .xr-section-details {\n",
       "  display: contents;\n",
       "}\n",
       "\n",
       ".xr-array-wrap {\n",
       "  grid-column: 1 / -1;\n",
       "  display: grid;\n",
       "  grid-template-columns: 20px auto;\n",
       "}\n",
       "\n",
       ".xr-array-wrap > label {\n",
       "  grid-column: 1;\n",
       "  vertical-align: top;\n",
       "}\n",
       "\n",
       ".xr-preview {\n",
       "  color: var(--xr-font-color3);\n",
       "}\n",
       "\n",
       ".xr-array-preview,\n",
       ".xr-array-data {\n",
       "  padding: 0 5px !important;\n",
       "  grid-column: 2;\n",
       "}\n",
       "\n",
       ".xr-array-data,\n",
       ".xr-array-in:checked ~ .xr-array-preview {\n",
       "  display: none;\n",
       "}\n",
       "\n",
       ".xr-array-in:checked ~ .xr-array-data,\n",
       ".xr-array-preview {\n",
       "  display: inline-block;\n",
       "}\n",
       "\n",
       ".xr-dim-list {\n",
       "  display: inline-block !important;\n",
       "  list-style: none;\n",
       "  padding: 0 !important;\n",
       "  margin: 0;\n",
       "}\n",
       "\n",
       ".xr-dim-list li {\n",
       "  display: inline-block;\n",
       "  padding: 0;\n",
       "  margin: 0;\n",
       "}\n",
       "\n",
       ".xr-dim-list:before {\n",
       "  content: '(';\n",
       "}\n",
       "\n",
       ".xr-dim-list:after {\n",
       "  content: ')';\n",
       "}\n",
       "\n",
       ".xr-dim-list li:not(:last-child):after {\n",
       "  content: ',';\n",
       "  padding-right: 5px;\n",
       "}\n",
       "\n",
       ".xr-has-index {\n",
       "  font-weight: bold;\n",
       "}\n",
       "\n",
       ".xr-var-list,\n",
       ".xr-var-item {\n",
       "  display: contents;\n",
       "}\n",
       "\n",
       ".xr-var-item > div,\n",
       ".xr-var-item label,\n",
       ".xr-var-item > .xr-var-name span {\n",
       "  background-color: var(--xr-background-color-row-even);\n",
       "  margin-bottom: 0;\n",
       "}\n",
       "\n",
       ".xr-var-item > .xr-var-name:hover span {\n",
       "  padding-right: 5px;\n",
       "}\n",
       "\n",
       ".xr-var-list > li:nth-child(odd) > div,\n",
       ".xr-var-list > li:nth-child(odd) > label,\n",
       ".xr-var-list > li:nth-child(odd) > .xr-var-name span {\n",
       "  background-color: var(--xr-background-color-row-odd);\n",
       "}\n",
       "\n",
       ".xr-var-name {\n",
       "  grid-column: 1;\n",
       "}\n",
       "\n",
       ".xr-var-dims {\n",
       "  grid-column: 2;\n",
       "}\n",
       "\n",
       ".xr-var-dtype {\n",
       "  grid-column: 3;\n",
       "  text-align: right;\n",
       "  color: var(--xr-font-color2);\n",
       "}\n",
       "\n",
       ".xr-var-preview {\n",
       "  grid-column: 4;\n",
       "}\n",
       "\n",
       ".xr-index-preview {\n",
       "  grid-column: 2 / 5;\n",
       "  color: var(--xr-font-color2);\n",
       "}\n",
       "\n",
       ".xr-var-name,\n",
       ".xr-var-dims,\n",
       ".xr-var-dtype,\n",
       ".xr-preview,\n",
       ".xr-attrs dt {\n",
       "  white-space: nowrap;\n",
       "  overflow: hidden;\n",
       "  text-overflow: ellipsis;\n",
       "  padding-right: 10px;\n",
       "}\n",
       "\n",
       ".xr-var-name:hover,\n",
       ".xr-var-dims:hover,\n",
       ".xr-var-dtype:hover,\n",
       ".xr-attrs dt:hover {\n",
       "  overflow: visible;\n",
       "  width: auto;\n",
       "  z-index: 1;\n",
       "}\n",
       "\n",
       ".xr-var-attrs,\n",
       ".xr-var-data,\n",
       ".xr-index-data {\n",
       "  display: none;\n",
       "  background-color: var(--xr-background-color) !important;\n",
       "  padding-bottom: 5px !important;\n",
       "}\n",
       "\n",
       ".xr-var-attrs-in:checked ~ .xr-var-attrs,\n",
       ".xr-var-data-in:checked ~ .xr-var-data,\n",
       ".xr-index-data-in:checked ~ .xr-index-data {\n",
       "  display: block;\n",
       "}\n",
       "\n",
       ".xr-var-data > table {\n",
       "  float: right;\n",
       "}\n",
       "\n",
       ".xr-var-name span,\n",
       ".xr-var-data,\n",
       ".xr-index-name div,\n",
       ".xr-index-data,\n",
       ".xr-attrs {\n",
       "  padding-left: 25px !important;\n",
       "}\n",
       "\n",
       ".xr-attrs,\n",
       ".xr-var-attrs,\n",
       ".xr-var-data,\n",
       ".xr-index-data {\n",
       "  grid-column: 1 / -1;\n",
       "}\n",
       "\n",
       "dl.xr-attrs {\n",
       "  padding: 0;\n",
       "  margin: 0;\n",
       "  display: grid;\n",
       "  grid-template-columns: 125px auto;\n",
       "}\n",
       "\n",
       ".xr-attrs dt,\n",
       ".xr-attrs dd {\n",
       "  padding: 0;\n",
       "  margin: 0;\n",
       "  float: left;\n",
       "  padding-right: 10px;\n",
       "  width: auto;\n",
       "}\n",
       "\n",
       ".xr-attrs dt {\n",
       "  font-weight: normal;\n",
       "  grid-column: 1;\n",
       "}\n",
       "\n",
       ".xr-attrs dt:hover span {\n",
       "  display: inline-block;\n",
       "  background: var(--xr-background-color);\n",
       "  padding-right: 10px;\n",
       "}\n",
       "\n",
       ".xr-attrs dd {\n",
       "  grid-column: 2;\n",
       "  white-space: pre-wrap;\n",
       "  word-break: break-all;\n",
       "}\n",
       "\n",
       ".xr-icon-database,\n",
       ".xr-icon-file-text2,\n",
       ".xr-no-icon {\n",
       "  display: inline-block;\n",
       "  vertical-align: middle;\n",
       "  width: 1em;\n",
       "  height: 1.5em !important;\n",
       "  stroke-width: 0;\n",
       "  stroke: currentColor;\n",
       "  fill: currentColor;\n",
       "}\n",
       "</style><pre class='xr-text-repr-fallback'>&lt;xarray.Dataset&gt; Size: 80B\n",
       "Dimensions:          ()\n",
       "Data variables:\n",
       "    dudx_widened     float64 8B 4.225e-07\n",
       "    dvdx_widened     float64 8B 9.09e-07\n",
       "    dudy_widened     float64 8B 6.408e-07\n",
       "    dvdy_widened     float64 8B 4.242e-07\n",
       "    dhdx_widened     float64 8B 0.0006591\n",
       "    dhdy_widened     float64 8B 0.0007477\n",
       "    dhbardx_widened  float64 8B 0.001261\n",
       "    dhbardy_widened  float64 8B 0.0009414\n",
       "    filter_scale     float64 8B 1.341e+05\n",
       "    uphp             float32 4B 0.4053\n",
       "    vphp             float32 4B 0.61</pre><div class='xr-wrap' style='display:none'><div class='xr-header'><div class='xr-obj-type'>xarray.Dataset</div></div><ul class='xr-sections'><li class='xr-section-item'><input id='section-22536d30-0213-4df9-ba2f-b3517a9021f3' class='xr-section-summary-in' type='checkbox' disabled ><label for='section-22536d30-0213-4df9-ba2f-b3517a9021f3' class='xr-section-summary'  title='Expand/collapse section'>Dimensions:</label><div class='xr-section-inline-details'></div><div class='xr-section-details'></div></li><li class='xr-section-item'><input id='section-c138e721-3365-4b91-b461-41a625962669' class='xr-section-summary-in' type='checkbox' disabled ><label for='section-c138e721-3365-4b91-b461-41a625962669' class='xr-section-summary'  title='Expand/collapse section'>Coordinates: <span>(0)</span></label><div class='xr-section-inline-details'></div><div class='xr-section-details'><ul class='xr-var-list'></ul></div></li><li class='xr-section-item'><input id='section-87ccf3c3-4195-4211-9f50-8864787c2601' class='xr-section-summary-in' type='checkbox'  checked><label for='section-87ccf3c3-4195-4211-9f50-8864787c2601' class='xr-section-summary' >Data variables: <span>(11)</span></label><div class='xr-section-inline-details'></div><div class='xr-section-details'><ul class='xr-var-list'><li class='xr-var-item'><div class='xr-var-name'><span>dudx_widened</span></div><div class='xr-var-dims'>()</div><div class='xr-var-dtype'>float64</div><div class='xr-var-preview xr-preview'>4.225e-07</div><input id='attrs-0334ac57-be8f-413c-9f4c-b151db832fab' class='xr-var-attrs-in' type='checkbox' disabled><label for='attrs-0334ac57-be8f-413c-9f4c-b151db832fab' title='Show/Hide attributes'><svg class='icon xr-icon-file-text2'><use xlink:href='#icon-file-text2'></use></svg></label><input id='data-3a3329b5-ec87-4cc3-9f34-1b5934d2015e' class='xr-var-data-in' type='checkbox'><label for='data-3a3329b5-ec87-4cc3-9f34-1b5934d2015e' title='Show/Hide data repr'><svg class='icon xr-icon-database'><use xlink:href='#icon-database'></use></svg></label><div class='xr-var-attrs'><dl class='xr-attrs'></dl></div><div class='xr-var-data'><pre>array(4.2253517e-07)</pre></div></li><li class='xr-var-item'><div class='xr-var-name'><span>dvdx_widened</span></div><div class='xr-var-dims'>()</div><div class='xr-var-dtype'>float64</div><div class='xr-var-preview xr-preview'>9.09e-07</div><input id='attrs-5b8e633e-7968-4557-afc9-8b844656a1e9' class='xr-var-attrs-in' type='checkbox' disabled><label for='attrs-5b8e633e-7968-4557-afc9-8b844656a1e9' title='Show/Hide attributes'><svg class='icon xr-icon-file-text2'><use xlink:href='#icon-file-text2'></use></svg></label><input id='data-5553fca1-da99-43ed-879f-32474e7b3328' class='xr-var-data-in' type='checkbox'><label for='data-5553fca1-da99-43ed-879f-32474e7b3328' title='Show/Hide data repr'><svg class='icon xr-icon-database'><use xlink:href='#icon-database'></use></svg></label><div class='xr-var-attrs'><dl class='xr-attrs'></dl></div><div class='xr-var-data'><pre>array(9.08997441e-07)</pre></div></li><li class='xr-var-item'><div class='xr-var-name'><span>dudy_widened</span></div><div class='xr-var-dims'>()</div><div class='xr-var-dtype'>float64</div><div class='xr-var-preview xr-preview'>6.408e-07</div><input id='attrs-f5a5fe9e-97c6-4a8a-baa7-4f92d50a05e8' class='xr-var-attrs-in' type='checkbox' disabled><label for='attrs-f5a5fe9e-97c6-4a8a-baa7-4f92d50a05e8' title='Show/Hide attributes'><svg class='icon xr-icon-file-text2'><use xlink:href='#icon-file-text2'></use></svg></label><input id='data-90dd6fca-3f80-46a8-85e1-f42baa5707f3' class='xr-var-data-in' type='checkbox'><label for='data-90dd6fca-3f80-46a8-85e1-f42baa5707f3' title='Show/Hide data repr'><svg class='icon xr-icon-database'><use xlink:href='#icon-database'></use></svg></label><div class='xr-var-attrs'><dl class='xr-attrs'></dl></div><div class='xr-var-data'><pre>array(6.40795042e-07)</pre></div></li><li class='xr-var-item'><div class='xr-var-name'><span>dvdy_widened</span></div><div class='xr-var-dims'>()</div><div class='xr-var-dtype'>float64</div><div class='xr-var-preview xr-preview'>4.242e-07</div><input id='attrs-2009490c-ab57-4a01-88a0-c1968e4b43c0' class='xr-var-attrs-in' type='checkbox' disabled><label for='attrs-2009490c-ab57-4a01-88a0-c1968e4b43c0' title='Show/Hide attributes'><svg class='icon xr-icon-file-text2'><use xlink:href='#icon-file-text2'></use></svg></label><input id='data-55ccce44-cecf-4cc9-b606-b74574c0f7a1' class='xr-var-data-in' type='checkbox'><label for='data-55ccce44-cecf-4cc9-b606-b74574c0f7a1' title='Show/Hide data repr'><svg class='icon xr-icon-database'><use xlink:href='#icon-database'></use></svg></label><div class='xr-var-attrs'><dl class='xr-attrs'></dl></div><div class='xr-var-data'><pre>array(4.24229588e-07)</pre></div></li><li class='xr-var-item'><div class='xr-var-name'><span>dhdx_widened</span></div><div class='xr-var-dims'>()</div><div class='xr-var-dtype'>float64</div><div class='xr-var-preview xr-preview'>0.0006591</div><input id='attrs-d777b542-2abb-4ffe-b424-80a78f819ec9' class='xr-var-attrs-in' type='checkbox' disabled><label for='attrs-d777b542-2abb-4ffe-b424-80a78f819ec9' title='Show/Hide attributes'><svg class='icon xr-icon-file-text2'><use xlink:href='#icon-file-text2'></use></svg></label><input id='data-7055dae6-adcd-4727-a5de-875dec6caf26' class='xr-var-data-in' type='checkbox'><label for='data-7055dae6-adcd-4727-a5de-875dec6caf26' title='Show/Hide data repr'><svg class='icon xr-icon-database'><use xlink:href='#icon-database'></use></svg></label><div class='xr-var-attrs'><dl class='xr-attrs'></dl></div><div class='xr-var-data'><pre>array(0.00065908)</pre></div></li><li class='xr-var-item'><div class='xr-var-name'><span>dhdy_widened</span></div><div class='xr-var-dims'>()</div><div class='xr-var-dtype'>float64</div><div class='xr-var-preview xr-preview'>0.0007477</div><input id='attrs-bb9ad6f2-ebcd-4135-b0de-ab351ebe6bab' class='xr-var-attrs-in' type='checkbox' disabled><label for='attrs-bb9ad6f2-ebcd-4135-b0de-ab351ebe6bab' title='Show/Hide attributes'><svg class='icon xr-icon-file-text2'><use xlink:href='#icon-file-text2'></use></svg></label><input id='data-289e341d-0466-4da8-83e6-fe00535d7968' class='xr-var-data-in' type='checkbox'><label for='data-289e341d-0466-4da8-83e6-fe00535d7968' title='Show/Hide data repr'><svg class='icon xr-icon-database'><use xlink:href='#icon-database'></use></svg></label><div class='xr-var-attrs'><dl class='xr-attrs'></dl></div><div class='xr-var-data'><pre>array(0.00074765)</pre></div></li><li class='xr-var-item'><div class='xr-var-name'><span>dhbardx_widened</span></div><div class='xr-var-dims'>()</div><div class='xr-var-dtype'>float64</div><div class='xr-var-preview xr-preview'>0.001261</div><input id='attrs-8769fefd-ef7d-4f1e-9cd0-d61fd8661b4b' class='xr-var-attrs-in' type='checkbox' disabled><label for='attrs-8769fefd-ef7d-4f1e-9cd0-d61fd8661b4b' title='Show/Hide attributes'><svg class='icon xr-icon-file-text2'><use xlink:href='#icon-file-text2'></use></svg></label><input id='data-7f0c5ba6-2a03-47f5-8959-e876a3c1408d' class='xr-var-data-in' type='checkbox'><label for='data-7f0c5ba6-2a03-47f5-8959-e876a3c1408d' title='Show/Hide data repr'><svg class='icon xr-icon-database'><use xlink:href='#icon-database'></use></svg></label><div class='xr-var-attrs'><dl class='xr-attrs'></dl></div><div class='xr-var-data'><pre>array(0.00126135)</pre></div></li><li class='xr-var-item'><div class='xr-var-name'><span>dhbardy_widened</span></div><div class='xr-var-dims'>()</div><div class='xr-var-dtype'>float64</div><div class='xr-var-preview xr-preview'>0.0009414</div><input id='attrs-610a77bb-fbd7-41b1-a56e-334c0169e3bc' class='xr-var-attrs-in' type='checkbox' disabled><label for='attrs-610a77bb-fbd7-41b1-a56e-334c0169e3bc' title='Show/Hide attributes'><svg class='icon xr-icon-file-text2'><use xlink:href='#icon-file-text2'></use></svg></label><input id='data-c711eee7-003b-4f66-9562-9a6eb6e575bc' class='xr-var-data-in' type='checkbox'><label for='data-c711eee7-003b-4f66-9562-9a6eb6e575bc' title='Show/Hide data repr'><svg class='icon xr-icon-database'><use xlink:href='#icon-database'></use></svg></label><div class='xr-var-attrs'><dl class='xr-attrs'></dl></div><div class='xr-var-data'><pre>array(0.00094135)</pre></div></li><li class='xr-var-item'><div class='xr-var-name'><span>filter_scale</span></div><div class='xr-var-dims'>()</div><div class='xr-var-dtype'>float64</div><div class='xr-var-preview xr-preview'>1.341e+05</div><input id='attrs-34b7d3a7-fd7c-491a-8702-c2e00027145e' class='xr-var-attrs-in' type='checkbox' disabled><label for='attrs-34b7d3a7-fd7c-491a-8702-c2e00027145e' title='Show/Hide attributes'><svg class='icon xr-icon-file-text2'><use xlink:href='#icon-file-text2'></use></svg></label><input id='data-d5ebf325-e84c-475a-b5f7-65a1f5e14e55' class='xr-var-data-in' type='checkbox'><label for='data-d5ebf325-e84c-475a-b5f7-65a1f5e14e55' title='Show/Hide data repr'><svg class='icon xr-icon-database'><use xlink:href='#icon-database'></use></svg></label><div class='xr-var-attrs'><dl class='xr-attrs'></dl></div><div class='xr-var-data'><pre>array(134117.35811074)</pre></div></li><li class='xr-var-item'><div class='xr-var-name'><span>uphp</span></div><div class='xr-var-dims'>()</div><div class='xr-var-dtype'>float32</div><div class='xr-var-preview xr-preview'>0.4053</div><input id='attrs-0e952973-9296-47d2-9049-d0fecbd55c17' class='xr-var-attrs-in' type='checkbox' disabled><label for='attrs-0e952973-9296-47d2-9049-d0fecbd55c17' title='Show/Hide attributes'><svg class='icon xr-icon-file-text2'><use xlink:href='#icon-file-text2'></use></svg></label><input id='data-9909cbdf-5d26-4649-bd77-797bafa62716' class='xr-var-data-in' type='checkbox'><label for='data-9909cbdf-5d26-4649-bd77-797bafa62716' title='Show/Hide data repr'><svg class='icon xr-icon-database'><use xlink:href='#icon-database'></use></svg></label><div class='xr-var-attrs'><dl class='xr-attrs'></dl></div><div class='xr-var-data'><pre>array(0.40527645, dtype=float32)</pre></div></li><li class='xr-var-item'><div class='xr-var-name'><span>vphp</span></div><div class='xr-var-dims'>()</div><div class='xr-var-dtype'>float32</div><div class='xr-var-preview xr-preview'>0.61</div><input id='attrs-cf99447b-b6fd-4120-9ec8-188f667ec62a' class='xr-var-attrs-in' type='checkbox' disabled><label for='attrs-cf99447b-b6fd-4120-9ec8-188f667ec62a' title='Show/Hide attributes'><svg class='icon xr-icon-file-text2'><use xlink:href='#icon-file-text2'></use></svg></label><input id='data-f33490a8-a3a6-402d-896c-5c08534aa87a' class='xr-var-data-in' type='checkbox'><label for='data-f33490a8-a3a6-402d-896c-5c08534aa87a' title='Show/Hide data repr'><svg class='icon xr-icon-database'><use xlink:href='#icon-database'></use></svg></label><div class='xr-var-attrs'><dl class='xr-attrs'></dl></div><div class='xr-var-data'><pre>array(0.6100257, dtype=float32)</pre></div></li></ul></div></li><li class='xr-section-item'><input id='section-ccaacb06-8ec6-43f6-84b7-4bb5e9d84dc6' class='xr-section-summary-in' type='checkbox' disabled ><label for='section-ccaacb06-8ec6-43f6-84b7-4bb5e9d84dc6' class='xr-section-summary'  title='Expand/collapse section'>Indexes: <span>(0)</span></label><div class='xr-section-inline-details'></div><div class='xr-section-details'><ul class='xr-var-list'></ul></div></li><li class='xr-section-item'><input id='section-93c0ede3-0066-4189-b2c0-93a3f9165276' class='xr-section-summary-in' type='checkbox' disabled ><label for='section-93c0ede3-0066-4189-b2c0-93a3f9165276' class='xr-section-summary'  title='Expand/collapse section'>Attributes: <span>(0)</span></label><div class='xr-section-inline-details'></div><div class='xr-section-details'><dl class='xr-attrs'></dl></div></li></ul></div></div>"
      ],
      "text/plain": [
       "<xarray.Dataset> Size: 80B\n",
       "Dimensions:          ()\n",
       "Data variables:\n",
       "    dudx_widened     float64 8B 4.225e-07\n",
       "    dvdx_widened     float64 8B 9.09e-07\n",
       "    dudy_widened     float64 8B 6.408e-07\n",
       "    dvdy_widened     float64 8B 4.242e-07\n",
       "    dhdx_widened     float64 8B 0.0006591\n",
       "    dhdy_widened     float64 8B 0.0007477\n",
       "    dhbardx_widened  float64 8B 0.001261\n",
       "    dhbardy_widened  float64 8B 0.0009414\n",
       "    filter_scale     float64 8B 1.341e+05\n",
       "    uphp             float32 4B 0.4053\n",
       "    vphp             float32 4B 0.61"
      ]
     },
     "execution_count": 12,
     "metadata": {},
     "output_type": "execute_result"
    }
   ],
   "source": [
    "batch_xr.std()"
   ]
  },
  {
   "cell_type": "code",
   "execution_count": 13,
   "id": "f080e1df-7749-4e29-9ac6-d5d1b7f0499b",
   "metadata": {},
   "outputs": [],
   "source": [
    "normalize_data_dic = {\n",
    "    'dudx_widened': ([], 1e-7),  # scalar value\n",
    "    'dvdx_widened': ([], 1e-7),\n",
    "    'dudy_widened': ([], 1e-7),\n",
    "    'dvdy_widened': ([], 1e-7),\n",
    "    'dhdx_widened': ([], 1e-4),\n",
    "    'dhdy_widened': ([], 1e-4),\n",
    "    'dhbardx_widened': ([], 1e-3),\n",
    "    'dhbardy_widened': ([], 1e-3),\n",
    "    'filter_scale': ([], 140e3),\n",
    "    'uphp': ([], .4),\n",
    "    'vphp': ([], .4)}\n",
    "\n",
    "ds_norm = xr.Dataset(normalize_data_dic)"
   ]
  },
  {
   "cell_type": "code",
   "execution_count": 14,
   "id": "c92a2b46-99c4-4956-8c3f-987208712118",
   "metadata": {},
   "outputs": [],
   "source": [
    "wandb.config.update({\"normalization_constants\": normalize_data_dic})"
   ]
  },
  {
   "cell_type": "code",
   "execution_count": 15,
   "id": "ca28629a-eabb-407d-849b-c71da566da76",
   "metadata": {},
   "outputs": [],
   "source": [
    "# Define the variables and assign normalizations \n",
    "\n",
    "# normalize_data_dic = {\n",
    "#     'dudx': ([], 1e-6),  # scalar value\n",
    "#     'dvdx': ([], 1e-6),\n",
    "#     'dudy': ([], 1e-6),\n",
    "#     'dvdy': ([], 1e-6),\n",
    "#     'dhdx': ([], 1e-3),\n",
    "#     'dhdy': ([], 1e-3),\n",
    "#     'dedx_middle': ([], 1e-3),\n",
    "#     'dedy_middle': ([], 1e-3),\n",
    "#     'filter_scale': ([], 140e3),\n",
    "#     'uphp': ([], 4.),\n",
    "#     'vphp': ([], 4.),\n",
    "\n",
    "#     'dudx_nondim': ([], 1.),  # scalar value\n",
    "#     'dvdx_nondim': ([], 1.),\n",
    "#     'dudy_nondim': ([], 1.),\n",
    "#     'dvdy_nondim': ([], 1.),\n",
    "    \n",
    "#     'uphp_nondim': ([], 1e-5),\n",
    "#     'vphp_nondim': ([], 1e-5),\n",
    "\n",
    "#     'dudx_widened': ([], 1e-6),  # scalar value\n",
    "#     'dvdx_widened': ([], 1e-6),\n",
    "#     'dudy_widened': ([], 1e-6),\n",
    "#     'dvdy_widened': ([], 1e-6),\n",
    "#     'dhdx_widened': ([], 1e-3),\n",
    "#     'dhdy_widened': ([], 1e-3),\n",
    "#     'dedx_middle_widened': ([], 1e-3),\n",
    "#     'dedy_middle_widened': ([], 1e-3),\n",
    "#     'dhdx_widened_rotated': ([], 1e-3),\n",
    "#     'dhdy_widened_rotated': ([], 1e-3),\n",
    "    \n",
    "#     'dudx_widened_rotated_nondim': ([], 1e-1),  # scalar value\n",
    "#     'dvdx_widened_rotated_nondim': ([], 1e-1),\n",
    "#     'dudy_widened_rotated_nondim': ([], 1e-1),\n",
    "#     'dvdy_widened_rotated_nondim': ([], 1e-1),\n",
    "#     'dhdx_widened_rotated_nondim': ([], 1e-1),\n",
    "#     'dhdy_widened_rotated_nondim': ([], 1e-1),\n",
    "#     'uphp_rotated_nondim': ([], 1e-5),\n",
    "#     'vphp_rotated_nondim': ([], 1e-5),\n",
    "# }\n",
    "\n",
    "# ds_norm = xr.Dataset(normalize_data_dic)"
   ]
  },
  {
   "cell_type": "code",
   "execution_count": 16,
   "id": "b6c15cc0-1d83-45f3-820a-2a9a1428e03e",
   "metadata": {},
   "outputs": [],
   "source": [
    "train_ML_data = datasets.MLJAXDataset(ML_DT_train, \n",
    "                                      input_channels=experiment_config['input_channels'], \n",
    "                                      output_channels=experiment_config['output_channels'], \n",
    "                                      coeff_channels=experiment_config['coeff_channels'], \n",
    "                                      ds_norm=ds_norm)\n",
    "\n",
    "test_ML_data = datasets.MLJAXDataset(ML_DT_test, \n",
    "                                      input_channels=experiment_config['input_channels'], \n",
    "                                      output_channels=experiment_config['output_channels'], \n",
    "                                      coeff_channels=experiment_config['coeff_channels'],\n",
    "                                      ds_norm=ds_norm)\n",
    "\n",
    "ML_data_combo = {'train_data':train_ML_data, 'test_data':test_ML_data}"
   ]
  },
  {
   "cell_type": "code",
   "execution_count": 17,
   "id": "46c42845-27bc-4062-b1c9-edfffe4289a6",
   "metadata": {},
   "outputs": [
    {
     "name": "stdout",
     "output_type": "stream",
     "text": [
      "Input (X) batch shape: (100754, 201)\n",
      "Output (y) batch shape: (100754, 2)\n"
     ]
    }
   ],
   "source": [
    "for batch_out in ML_data_combo['train_data'].get_batches():\n",
    "    print(\"Input (X) batch shape:\", batch_out['X'].shape)\n",
    "    print(\"Output (y) batch shape:\", batch_out['y'].shape)\n",
    "    \n",
    "    # If you want to view a sample of the data\n",
    "    #print(\"Sample X:\", batch_out['X'])  # First sample of the batch\n",
    "    #print(\"Sample y:\", batch_out['y'])  # Corresponding label/target\n",
    "    break  # Remove break to print more batches"
   ]
  },
  {
   "cell_type": "code",
   "execution_count": 18,
   "id": "70333e9b-5fe5-4781-aada-364c60b006e2",
   "metadata": {},
   "outputs": [
    {
     "data": {
      "text/plain": [
       "201"
      ]
     },
     "execution_count": 18,
     "metadata": {},
     "output_type": "execute_result"
    }
   ],
   "source": [
    "num_in = batch_out['X'].shape[-1]\n",
    "num_in"
   ]
  },
  {
   "cell_type": "code",
   "execution_count": 19,
   "id": "657307d4-ea8b-49f3-9742-26207f04a046",
   "metadata": {},
   "outputs": [],
   "source": [
    "ANN_model = ML_classes.PointwiseANN(num_in = experiment_config['num_inputs'],\n",
    "                                    shape = experiment_config['network_shape']) "
   ]
  },
  {
   "cell_type": "code",
   "execution_count": 20,
   "id": "28434452-2e2c-4cc2-b4f2-03476551a2fd",
   "metadata": {},
   "outputs": [
    {
     "name": "stdout",
     "output_type": "stream",
     "text": [
      "8678\n"
     ]
    }
   ],
   "source": [
    "ANN_model.count_parameters()"
   ]
  },
  {
   "cell_type": "code",
   "execution_count": 21,
   "id": "2d3f874e-0a33-412f-8cad-8ed4ed13e548",
   "metadata": {},
   "outputs": [],
   "source": [
    "regress_sys = ML_classes.AnnRegressionSystem(ANN_model)"
   ]
  },
  {
   "cell_type": "code",
   "execution_count": null,
   "id": "c233c2a0-ae93-4d2d-8c12-242be7cabbc5",
   "metadata": {},
   "outputs": [
    {
     "name": "stdout",
     "output_type": "stream",
     "text": [
      "At epoch 1. Train loss :  1.5744957988326613 , Test loss: 1.057511043548584\n",
      "At epoch 3. Train loss :  0.7763661758319752 , Test loss: 0.7610811948776245\n",
      "At epoch 5. Train loss :  0.6235141818587845 , Test loss: 0.6475029706954956\n",
      "At epoch 7. Train loss :  0.5782750619424356 , Test loss: 0.5958170652389526\n",
      "At epoch 9. Train loss :  0.5231797920691 , Test loss: 0.5422486782073974\n",
      "At epoch 11. Train loss :  0.48536208271980286 , Test loss: 0.5050989270210267\n",
      "At epoch 13. Train loss :  0.46069359054436554 , Test loss: 0.4832715272903442\n",
      "At epoch 15. Train loss :  0.44121378740748846 , Test loss: 0.45424460172653197\n",
      "At epoch 17. Train loss :  0.41975911968463175 , Test loss: 0.45511614084243773\n",
      "At epoch 19. Train loss :  0.4140928025181229 , Test loss: 0.42161070704460146\n",
      "At epoch 21. Train loss :  0.3988725462475339 , Test loss: 0.4200186014175415\n",
      "At epoch 23. Train loss :  0.3818239199148642 , Test loss: 0.4034306526184082\n",
      "At epoch 25. Train loss :  0.36429811732189077 , Test loss: 0.3954587936401367\n",
      "At epoch 27. Train loss :  0.35824295153488983 , Test loss: 0.3751372516155243\n",
      "At epoch 29. Train loss :  0.34296079584070155 , Test loss: 0.3603388428688049\n",
      "At epoch 31. Train loss :  0.345504758325783 , Test loss: 0.3623602867126465\n",
      "At epoch 33. Train loss :  0.33492573451351476 , Test loss: 0.3736917555332184\n",
      "At epoch 35. Train loss :  0.3537865208612906 , Test loss: 0.36234123110771177\n",
      "At epoch 37. Train loss :  0.32922282009511383 , Test loss: 0.3535172700881958\n",
      "At epoch 39. Train loss :  0.32186000169934453 , Test loss: 0.3412861704826355\n",
      "At epoch 41. Train loss :  0.3114880403956851 , Test loss: 0.3401577234268188\n",
      "At epoch 43. Train loss :  0.3066842491562302 , Test loss: 0.328253310918808\n",
      "At epoch 45. Train loss :  0.304206678996215 , Test loss: 0.3228829264640808\n",
      "At epoch 47. Train loss :  0.29458800038775884 , Test loss: 0.32056317329406736\n",
      "At epoch 49. Train loss :  0.2967848020630914 , Test loss: 0.3230358839035034\n"
     ]
    }
   ],
   "source": [
    "%%time \n",
    "regress_sys.train_system(ML_data_combo, num_epoch=101, print_freq=2, use_wandb=True)"
   ]
  },
  {
   "cell_type": "markdown",
   "id": "a646a4c5-d662-4ee9-90ee-e51757ba912e",
   "metadata": {},
   "source": [
    "Clearly and obviously this loss is a function of the normalization that is used. "
   ]
  },
  {
   "cell_type": "code",
   "execution_count": null,
   "id": "99cf3540-5d7e-4647-b7ea-401e11afc6c4",
   "metadata": {},
   "outputs": [],
   "source": [
    "regress_sys.save_checkpoint(experiment_config['exp_ckpt_save_dir'])"
   ]
  },
  {
   "cell_type": "markdown",
   "id": "28b32119-5983-4c3c-92b8-b604ffe62ab6",
   "metadata": {},
   "source": [
    "### Model evaluation "
   ]
  },
  {
   "cell_type": "code",
   "execution_count": null,
   "id": "b68a1323-ee38-40c6-af18-1ee9e071c19d",
   "metadata": {},
   "outputs": [],
   "source": [
    "test_eval = evaluation.EvalSystem(simulation_data=DT,\n",
    "                                 input_channels=experiment_config['input_channels'],\n",
    "                                 output_channels=experiment_config['output_channels'], \n",
    "                                 coeff_channels=experiment_config['coeff_channels'], \n",
    "                                 ds_norm_factors=ds_norm,\n",
    "                                 eval_time_slice=slice(1000, 1010), \n",
    "                                 num_inputs=experiment_config['num_inputs'], \n",
    "                                 shape=experiment_config['network_shape'], \n",
    "                                 ckpt_dir=experiment_config['exp_ckpt_save_dir'])"
   ]
  },
  {
   "cell_type": "code",
   "execution_count": null,
   "id": "ac745e21-67c7-4422-adb6-6c15076c9eb2",
   "metadata": {},
   "outputs": [],
   "source": [
    "# Spin up eval pack\n",
    "test_eval.read_ann_regression_model()\n",
    "test_eval.read_eval_data()\n",
    "test_eval.predict()"
   ]
  },
  {
   "cell_type": "code",
   "execution_count": null,
   "id": "8a12298d-60dd-4176-a2fc-e017f080cb45",
   "metadata": {},
   "outputs": [],
   "source": [
    "exp = experiment_config['simulation_names'][0]\n",
    "var = experiment_config['output_channels'][0]\n",
    "\n",
    "for scale in experiment_config['filter_scales']:\n",
    "\n",
    "    plt.figure(figsize=(12, 7))\n",
    "    \n",
    "    vmin=-3.5\n",
    "    zl_choice = 0\n",
    "    \n",
    "    plt.subplot(231)\n",
    "    test_eval.eval_datatree.ml_dataset[exp][scale][var].isel(Time=0, zl=zl_choice).plot(vmin=vmin)\n",
    "    plt.title('True, layer 0')\n",
    "    \n",
    "    plt.subplot(232)\n",
    "    test_eval.eval_datatree.ml_dataset[exp][scale][var+'_pred'].isel(Time=0, zl=zl_choice).plot(vmin=vmin)\n",
    "    plt.title('Prediction, layer 0')\n",
    "    \n",
    "    plt.subplot(233)\n",
    "    (test_eval.eval_datatree.ml_dataset[exp][scale][var] - \n",
    "     test_eval.eval_datatree.ml_dataset[exp][scale][var+'_pred']).isel(Time=0, zl=zl_choice).plot(vmin=vmin)\n",
    "    plt.title('True - Prediction, layer 0')\n",
    "    \n",
    "    vmin=-1.2 \n",
    "    zl_choice = 1\n",
    "    \n",
    "    plt.subplot(234)\n",
    "    test_eval.eval_datatree.ml_dataset[exp][scale][var].isel(Time=0, zl=zl_choice).plot(vmin=vmin)\n",
    "    plt.title('True, layer 1')\n",
    "    \n",
    "    plt.subplot(235)\n",
    "    test_eval.eval_datatree.ml_dataset[exp][scale][var+'_pred'].isel(Time=0, zl=zl_choice).plot(vmin=vmin)\n",
    "    plt.title('Prediction, layer 1')\n",
    "    \n",
    "    plt.subplot(236)\n",
    "    (test_eval.eval_datatree.ml_dataset[exp][scale][var] - \n",
    "     test_eval.eval_datatree.ml_dataset[exp][scale][var+'_pred']).isel(Time=0, zl=zl_choice).plot(vmin=vmin)\n",
    "    plt.title('True - Prediction, layer 1')\n",
    "    \n",
    "    plt.suptitle(scale)\n",
    "    plt.tight_layout()\n",
    "    \n",
    "    #wandb.Image(plt)\n",
    "    #wandb.log({'chart':plt})\n",
    "    \n",
    "    # buf = io.BytesIO()\n",
    "    # fig.savefig(buf, format='png')\n",
    "    # buf.seek(0)\n",
    "    \n",
    "    # Log the figure to W&B\n",
    "    plt_key = var+ '_panels_' + scale\n",
    "    wandb.log({plt_key: wandb.Image(plt)})"
   ]
  },
  {
   "cell_type": "code",
   "execution_count": null,
   "id": "307b74c2-14f3-4075-a0a9-37434d41499b",
   "metadata": {},
   "outputs": [],
   "source": [
    "exp = experiment_config['simulation_names'][0]\n",
    "var = experiment_config['output_channels'][1]\n",
    "\n",
    "for scale in experiment_config['filter_scales']:\n",
    "\n",
    "    plt.figure(figsize=(12, 7))\n",
    "    \n",
    "    vmin=-3.5\n",
    "    zl_choice = 0\n",
    "    \n",
    "    plt.subplot(231)\n",
    "    test_eval.eval_datatree.ml_dataset[exp][scale][var].isel(Time=0, zl=zl_choice).plot(vmin=vmin)\n",
    "    plt.title('True, layer 0')\n",
    "    \n",
    "    plt.subplot(232)\n",
    "    test_eval.eval_datatree.ml_dataset[exp][scale][var+'_pred'].isel(Time=0, zl=zl_choice).plot(vmin=vmin)\n",
    "    plt.title('Prediction, layer 0')\n",
    "    \n",
    "    plt.subplot(233)\n",
    "    (test_eval.eval_datatree.ml_dataset[exp][scale][var] - \n",
    "     test_eval.eval_datatree.ml_dataset[exp][scale][var+'_pred']).isel(Time=0, zl=zl_choice).plot(vmin=vmin)\n",
    "    plt.title('True - Prediction, layer 0')\n",
    "    \n",
    "    vmin=-1.2 \n",
    "    zl_choice = 1\n",
    "    \n",
    "    plt.subplot(234)\n",
    "    test_eval.eval_datatree.ml_dataset[exp][scale][var].isel(Time=0, zl=zl_choice).plot(vmin=vmin)\n",
    "    plt.title('True, layer 1')\n",
    "    \n",
    "    plt.subplot(235)\n",
    "    test_eval.eval_datatree.ml_dataset[exp][scale][var+'_pred'].isel(Time=0, zl=zl_choice).plot(vmin=vmin)\n",
    "    plt.title('Prediction, layer 1')\n",
    "    \n",
    "    plt.subplot(236)\n",
    "    (test_eval.eval_datatree.ml_dataset[exp][scale][var] - \n",
    "     test_eval.eval_datatree.ml_dataset[exp][scale][var+'_pred']).isel(Time=0, zl=zl_choice).plot(vmin=vmin)\n",
    "    plt.title('True - Prediction, layer 1')\n",
    "    \n",
    "    plt.suptitle(scale)\n",
    "    plt.tight_layout()\n",
    "    \n",
    "    #wandb.Image(plt)\n",
    "    #wandb.log({'chart':plt})\n",
    "    \n",
    "    # buf = io.BytesIO()\n",
    "    # fig.savefig(buf, format='png')\n",
    "    # buf.seek(0)\n",
    "    \n",
    "    # Log the figure to W&B\n",
    "    plt_key = var+ '_panels_' + scale\n",
    "    wandb.log({plt_key: wandb.Image(plt)})"
   ]
  },
  {
   "cell_type": "code",
   "execution_count": null,
   "id": "9384a2ac-244b-4435-ba86-015ca1b306fb",
   "metadata": {},
   "outputs": [],
   "source": [
    "# Pick some region away from boundaries to do that stats "
   ]
  },
  {
   "cell_type": "code",
   "execution_count": null,
   "id": "6ccbea64-98c5-45f7-b29a-c5d429334e40",
   "metadata": {},
   "outputs": [],
   "source": [
    "#test_eval.calc_time_hor_space_metrics(yh_region=slice(31, 45), xh_region=slice(5, 17), dims=['Time','xh','yh'])\n",
    "#test_eval.calc_time_hor_space_metrics(var='vphp',yh_region=slice(31, 45), xh_region=slice(5, 17), dims=['Time','xh','yh'])"
   ]
  },
  {
   "cell_type": "code",
   "execution_count": null,
   "id": "ecd78c82-1307-4eca-85a2-8580e265b0f7",
   "metadata": {},
   "outputs": [],
   "source": [
    "test_eval.calc_time_hor_space_metrics(var='uphp', descriptor='all_space_time', dims=['Time','xh','yh','zl'])\n",
    "test_eval.calc_time_hor_space_metrics(var='vphp', descriptor='all_space_time', dims=['Time','xh','yh','zl'])\n",
    "\n",
    "test_eval.calc_time_hor_space_metrics(var='uphp', descriptor='layer_wise', dims=['Time','xh','yh'])\n",
    "test_eval.calc_time_hor_space_metrics(var='vphp', descriptor='layer_wise', dims=['Time','xh','yh'])"
   ]
  },
  {
   "cell_type": "code",
   "execution_count": null,
   "id": "6c4df013-0343-473c-a778-68d43f9213a5",
   "metadata": {},
   "outputs": [],
   "source": [
    "for exp in experiment_config['simulation_names']: \n",
    "    for scale in experiment_config['filter_scales']: \n",
    "        print(exp+' '+scale+'km, R2 for uphp is (layer:[0,1])'+ str(test_eval.eval_datatree.ml_dataset[exp][scale].uphp_R2_layer_wise.values))\n",
    "        print(exp+' '+scale+'km, R2 for vphp is (layer:[0,1])'+ str(test_eval.eval_datatree.ml_dataset[exp][scale].vphp_R2_layer_wise.values))"
   ]
  },
  {
   "cell_type": "code",
   "execution_count": null,
   "id": "353a2e6b-6825-401c-980a-bdfc6660629a",
   "metadata": {},
   "outputs": [],
   "source": [
    "for exp in experiment_config['simulation_names']: \n",
    "    for scale in experiment_config['filter_scales']: \n",
    "        print(exp+' '+scale+', corr for uphp is (layer:[0,1])'+ str(test_eval.eval_datatree.ml_dataset[exp][scale].uphp_corr_layer_wise.values))\n",
    "        print(exp+' '+scale+', corr for vphp is (layer:[0,1])'+ str(test_eval.eval_datatree.ml_dataset[exp][scale].vphp_corr_layer_wise.values))"
   ]
  },
  {
   "cell_type": "code",
   "execution_count": null,
   "id": "896425e4-57b5-4591-8d6d-4998fdcd9ce1",
   "metadata": {},
   "outputs": [],
   "source": [
    "for exp in experiment_config['simulation_names']: \n",
    "    for scale in experiment_config['filter_scales']: \n",
    "        print(exp+' '+scale+', MSE for uphp is (layer:[0,1])'+ str(test_eval.eval_datatree.ml_dataset[exp][scale].uphp_mse_layer_wise.values))\n",
    "        print(exp+' '+scale+', MSE for vphp is (layer:[0,1])'+ str(test_eval.eval_datatree.ml_dataset[exp][scale].vphp_mse_layer_wise.values))"
   ]
  },
  {
   "cell_type": "code",
   "execution_count": null,
   "id": "b0abae6e-4d87-4449-ba4d-9fc7c20b14c8",
   "metadata": {},
   "outputs": [],
   "source": [
    "## Write scalewise summary metrics into wandb \n",
    "\n",
    "R2_list = np.array([])\n",
    "corr_list = np.array([])\n",
    "mse_list = np.array([])\n",
    "\n",
    "for scale in experiment_config['filter_scales']:\n",
    "\n",
    "    mse = 0.5*(test_eval.eval_datatree.ml_dataset[exp][scale].uphp_mse_all_space_time.values + test_eval.eval_datatree.ml_dataset[exp][scale].vphp_mse_all_space_time.values)\n",
    "    corr = 0.5*(test_eval.eval_datatree.ml_dataset[exp][scale].uphp_corr_all_space_time.values + test_eval.eval_datatree.ml_dataset[exp][scale].vphp_corr_all_space_time.values)\n",
    "    R2 = 0.5*(test_eval.eval_datatree.ml_dataset[exp][scale].uphp_R2_all_space_time.values + test_eval.eval_datatree.ml_dataset[exp][scale].vphp_R2_all_space_time.values)\n",
    "    \n",
    "    wandb.run.summary['mse_'+scale] = mse\n",
    "    wandb.run.summary['R2_'+scale] = R2\n",
    "    wandb.run.summary['corr_'+scale] = corr\n",
    "    R2_list = np.append(R2_list, R2)\n",
    "    corr_list = np.append(corr_list, corr)\n",
    "    mse_list = np.append(mse_list, mse)\n",
    "\n",
    "wandb.run.summary['mse'] = np.mean(mse_list)\n",
    "wandb.run.summary['R2'] = np.mean(R2_list)\n",
    "wandb.run.summary['corr'] = np.mean(corr_list)\n",
    "\n",
    "for scale in experiment_config['filter_scales']:\n",
    "    wandb.run.summary['mse_'+scale+'_layerwise'] = 0.5*(test_eval.eval_datatree.ml_dataset[exp][scale].uphp_mse_layer_wise.values + test_eval.eval_datatree.ml_dataset[exp][scale].vphp_mse_layer_wise.values)\n",
    "    wandb.run.summary['R2_'+scale+'_layerwise'] = 0.5*(test_eval.eval_datatree.ml_dataset[exp][scale].uphp_R2_layer_wise.values + test_eval.eval_datatree.ml_dataset[exp][scale].vphp_R2_layer_wise.values)\n",
    "    wandb.run.summary['corr_'+scale+'_layerwise'] = 0.5*(test_eval.eval_datatree.ml_dataset[exp][scale].uphp_corr_layer_wise.values + test_eval.eval_datatree.ml_dataset[exp][scale].vphp_corr_layer_wise.values)\n",
    "    "
   ]
  },
  {
   "cell_type": "code",
   "execution_count": null,
   "id": "8182fc57-0167-4dae-a9b0-a13cab8fea57",
   "metadata": {},
   "outputs": [],
   "source": [
    "wandb.finish()"
   ]
  },
  {
   "cell_type": "code",
   "execution_count": null,
   "id": "1ab615c6-4319-4474-a5bd-f74de0c6ce55",
   "metadata": {},
   "outputs": [],
   "source": []
  },
  {
   "cell_type": "markdown",
   "id": "2adb7319-889d-4a11-b577-8aab0137bf7e",
   "metadata": {},
   "source": [
    "Note that the MSE values here are a bit larger than what we had in loss. This is for 2 reasons (i) There is a factor of 4 in normalization, and (ii) we divided the MSE in training by 2 out of convention. "
   ]
  },
  {
   "cell_type": "code",
   "execution_count": null,
   "id": "d2b93f3d-a546-43b9-ad84-37217b221602",
   "metadata": {},
   "outputs": [],
   "source": []
  }
 ],
 "metadata": {
  "kernelspec": {
   "display_name": "Python 3 (ipykernel)",
   "language": "python",
   "name": "python3"
  },
  "language_info": {
   "codemirror_mode": {
    "name": "ipython",
    "version": 3
   },
   "file_extension": ".py",
   "mimetype": "text/x-python",
   "name": "python",
   "nbconvert_exporter": "python",
   "pygments_lexer": "ipython3",
   "version": "3.12.4"
  }
 },
 "nbformat": 4,
 "nbformat_minor": 5
}
