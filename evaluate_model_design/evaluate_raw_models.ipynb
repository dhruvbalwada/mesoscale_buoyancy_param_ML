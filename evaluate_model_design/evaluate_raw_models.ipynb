{
 "cells": [
  {
   "cell_type": "markdown",
   "id": "f5bcc3de-671a-4141-a585-7edf64554ddf",
   "metadata": {},
   "source": [
    "# Evaluate models with dimensional inputs and outputs\n",
    "\n",
    "- [ ] Raw model  \n",
    "    - [ ] P2L  \n",
    "    - [ ] DG  \n",
    "        - [ ] Without topo  \n",
    "        - [ ] With topo  \n",
    "    - [ ] P2L+DG  "
   ]
  },
  {
   "cell_type": "code",
   "execution_count": null,
   "id": "82f8416c-aba2-4216-b6da-3159bd1ac77f",
   "metadata": {},
   "outputs": [],
   "source": []
  },
  {
   "cell_type": "code",
   "execution_count": null,
   "id": "0069a45f-4535-4e56-aac1-d9b95a37aa89",
   "metadata": {},
   "outputs": [],
   "source": []
  },
  {
   "cell_type": "code",
   "execution_count": null,
   "id": "06b12268-2f07-4b1d-b55c-f210baa59409",
   "metadata": {},
   "outputs": [],
   "source": []
  }
 ],
 "metadata": {
  "kernelspec": {
   "display_name": "Python 3 (ipykernel)",
   "language": "python",
   "name": "python3"
  },
  "language_info": {
   "codemirror_mode": {
    "name": "ipython",
    "version": 3
   },
   "file_extension": ".py",
   "mimetype": "text/x-python",
   "name": "python",
   "nbconvert_exporter": "python",
   "pygments_lexer": "ipython3",
   "version": "3.12.4"
  }
 },
 "nbformat": 4,
 "nbformat_minor": 5
}
