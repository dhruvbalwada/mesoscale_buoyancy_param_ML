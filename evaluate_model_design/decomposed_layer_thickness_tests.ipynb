{
 "cells": [
  {
   "cell_type": "markdown",
   "id": "975edea3-c8bd-4262-9cc9-f0d6b12fed2b",
   "metadata": {},
   "source": [
    "# Decomposed layer thickness gradients \n",
    "\n",
    "We split the layer thickness into two components: steady and unsteady. \n",
    "\n",
    "Steady corresponds to mean layer thickess and topographic effects, while the unsteady would correspond to the spatio-temporal variations that arise due to dynamics. "
   ]
  },
  {
   "cell_type": "code",
   "execution_count": 1,
   "id": "91058ddb-5f37-4e6d-b9e6-a0b809798711",
   "metadata": {},
   "outputs": [],
   "source": [
    "import warnings\n",
    "\n",
    "# Ignore all warnings\n",
    "warnings.filterwarnings(\"ignore\")\n",
    "\n",
    "import matplotlib.pyplot as plt\n",
    "import numpy as np\n",
    "import xarray as xr"
   ]
  },
  {
   "cell_type": "code",
   "execution_count": 2,
   "id": "e4dcb412-213c-476b-933d-6cc0f4ae28a1",
   "metadata": {},
   "outputs": [],
   "source": [
    "import sys\n",
    "sys.path.append('../modules/')"
   ]
  },
  {
   "cell_type": "code",
   "execution_count": 3,
   "id": "38f1c4bd-eac6-4dc0-8d63-656d4974def5",
   "metadata": {},
   "outputs": [
    {
     "name": "stderr",
     "output_type": "stream",
     "text": [
      "2024-10-07 02:01:52.117872: E external/local_xla/xla/stream_executor/cuda/cuda_dnn.cc:10575] Unable to register cuDNN factory: Attempting to register factory for plugin cuDNN when one has already been registered\n",
      "2024-10-07 02:01:52.117897: E external/local_xla/xla/stream_executor/cuda/cuda_fft.cc:479] Unable to register cuFFT factory: Attempting to register factory for plugin cuFFT when one has already been registered\n",
      "2024-10-07 02:01:52.119190: E external/local_xla/xla/stream_executor/cuda/cuda_blas.cc:1442] Unable to register cuBLAS factory: Attempting to register factory for plugin cuBLAS when one has already been registered\n"
     ]
    }
   ],
   "source": [
    "%reload_ext autoreload\n",
    "%autoreload 2\n",
    "import datasets\n",
    "import ML_classes\n",
    "import evaluation"
   ]
  },
  {
   "cell_type": "code",
   "execution_count": 4,
   "id": "caad9a24-d0db-470e-80f4-7abfca6b2d41",
   "metadata": {},
   "outputs": [],
   "source": [
    "# Experiment\n",
    "experiment_config= {'simulation_names':['DG'], \n",
    "                    'filter_scales':['50','100','200','400'],\n",
    "                    'window_size':5, \n",
    "                    \n",
    "                    'input_channels' : ['dudx_widened',  \n",
    "                                        'dvdx_widened', \n",
    "                                        'dudy_widened',\n",
    "                                        'dvdy_widened',\n",
    "                                        'dhdx_widened',\n",
    "                                        'dhdy_widened',\n",
    "                                        'dhbardx_widened',\n",
    "                                        'dhbardy_widened',\n",
    "                                        'filter_scale'],\n",
    "                    \n",
    "                    'output_channels' : ['uphp',\n",
    "                                         'vphp'],\n",
    "                    \n",
    "                    'coeff_channels'  : [], \n",
    "                    'sim_data_time_range': slice(0, 1200), \n",
    "                    'train_time_range': slice(0, 1000),\n",
    "                    'test_time_range' : slice(-64, None),\n",
    "                    'num_train_batches': 37, \n",
    "                    'num_test_batches' : 5, \n",
    "\n",
    "                    'num_inputs': 8*9 + 1, \n",
    "                    'network_shape': [36, 36, 2],\n",
    "\n",
    "                    'exp_ckpt_save_dir': '/home/jovyan/mesoscale_buoyancy_param_ML/ML_checkpoints/test_ckpt_DG'\n",
    "                    \n",
    "            }\n",
    "\n",
    "experiment_config['all_ml_variables'] = (experiment_config['input_channels'] + \n",
    "                                           experiment_config['output_channels'] +\n",
    "                                           experiment_config['coeff_channels'])\n",
    "\n",
    "experiment_config['num_inputs'] = (len(experiment_config['input_channels']) - 1)*experiment_config['window_size']**2 + 1"
   ]
  },
  {
   "cell_type": "code",
   "execution_count": 5,
   "id": "53667f26-f3bd-416f-86c0-4029dfe0c199",
   "metadata": {},
   "outputs": [],
   "source": [
    "# Define the variables and assign normalizations \n",
    "\n",
    "normalize_data_dic = {\n",
    "    'dudx': ([], 1e-6),  # scalar value\n",
    "    'dvdx': ([], 1e-6),\n",
    "    'dudy': ([], 1e-6),\n",
    "    'dvdy': ([], 1e-6),\n",
    "    'dhdx': ([], 1e-3),\n",
    "    'dhdy': ([], 1e-3),\n",
    "    'dedx_middle': ([], 1e-3),\n",
    "    'dedy_middle': ([], 1e-3),\n",
    "    'filter_scale': ([], 140e3),\n",
    "    'uphp': ([], 4.),\n",
    "    'vphp': ([], 4.),\n",
    "\n",
    "    'dudx_nondim': ([], 1.),  # scalar value\n",
    "    'dvdx_nondim': ([], 1.),\n",
    "    'dudy_nondim': ([], 1.),\n",
    "    'dvdy_nondim': ([], 1.),\n",
    "    \n",
    "    'uphp_nondim': ([], 1e-5),\n",
    "    'vphp_nondim': ([], 1e-5),\n",
    "\n",
    "    'dudx_widened': ([], 1e-6),  # scalar value\n",
    "    'dvdx_widened': ([], 1e-6),\n",
    "    'dudy_widened': ([], 1e-6),\n",
    "    'dvdy_widened': ([], 1e-6),\n",
    "    'dhdx_widened': ([], 1e-3),\n",
    "    'dhdy_widened': ([], 1e-3),\n",
    "    'dhbardx_widened': ([], 1e-3),\n",
    "    'dhbardy_widened': ([], 1e-3),\n",
    "    'dedx_middle_widened': ([], 1e-3),\n",
    "    'dedy_middle_widened': ([], 1e-3),\n",
    "\n",
    "    \n",
    "    'dhdx_widened_rotated': ([], 1e-3),\n",
    "    'dhdy_widened_rotated': ([], 1e-3),\n",
    "    \n",
    "    'dudx_widened_rotated_nondim': ([], 1e-1),  # scalar value\n",
    "    'dvdx_widened_rotated_nondim': ([], 1e-1),\n",
    "    'dudy_widened_rotated_nondim': ([], 1e-1),\n",
    "    'dvdy_widened_rotated_nondim': ([], 1e-1),\n",
    "    'dhdx_widened_rotated_nondim': ([], 1e-1),\n",
    "    'dhdy_widened_rotated_nondim': ([], 1e-1),\n",
    "    'uphp_rotated_nondim': ([], 1e-5),\n",
    "    'vphp_rotated_nondim': ([], 1e-5),\n",
    "}\n",
    "\n",
    "ds_norm = xr.Dataset(normalize_data_dic)"
   ]
  },
  {
   "cell_type": "code",
   "execution_count": 6,
   "id": "d33d7b75-7af1-45a2-9558-f51433d05942",
   "metadata": {},
   "outputs": [
    {
     "name": "stdout",
     "output_type": "stream",
     "text": [
      "CPU times: user 2min 39s, sys: 1min 23s, total: 4min 3s\n",
      "Wall time: 4min 1s\n"
     ]
    }
   ],
   "source": [
    "%%time\n",
    "#DT = datasets.SimulationData(simulation_names=['P2L', 'DG'], filter_scales=['50','100','200','400'])\n",
    "DT = datasets.SimulationData(simulation_names=experiment_config['simulation_names'], \n",
    "                             filter_scales=experiment_config['filter_scales'], \n",
    "                             window_size = experiment_config['window_size'],\n",
    "                             time_sel = experiment_config['sim_data_time_range'])"
   ]
  },
  {
   "cell_type": "code",
   "execution_count": 7,
   "id": "c5c60ed2-8d5f-4664-8b2f-97cdc512d1ac",
   "metadata": {},
   "outputs": [
    {
     "name": "stdout",
     "output_type": "stream",
     "text": [
      "Will load : 9.1908 gb into memory.\n",
      "load took: 30.5419 seconds\n",
      "Will load : 0.5882112 gb into memory.\n",
      "load took: 3.1628 seconds\n"
     ]
    }
   ],
   "source": [
    "ML_DT_train = datasets.MLXarrayDataset(simulation_data=DT, \n",
    "                                       all_ml_variables=experiment_config['all_ml_variables'],\n",
    "                                       time_range=experiment_config['train_time_range'],\n",
    "                                       num_batches = experiment_config['num_train_batches'])\n",
    "\n",
    "ML_DT_test = datasets.MLXarrayDataset(simulation_data=DT,\n",
    "                                      all_ml_variables=experiment_config['all_ml_variables'],\n",
    "                                      time_range=experiment_config['test_time_range'],\n",
    "                                      num_batches = experiment_config['num_test_batches'])"
   ]
  },
  {
   "cell_type": "code",
   "execution_count": 10,
   "id": "1a7983c7-ab55-41b3-b522-fa3f6ada509c",
   "metadata": {},
   "outputs": [],
   "source": [
    "batch_xr = ML_DT_train.ml_batches[0]"
   ]
  },
  {
   "cell_type": "code",
   "execution_count": 11,
   "id": "82a1b0f0-1f83-40e9-895a-b77a775fa469",
   "metadata": {},
   "outputs": [
    {
     "data": {
      "text/html": [
       "<div><svg style=\"position: absolute; width: 0; height: 0; overflow: hidden\">\n",
       "<defs>\n",
       "<symbol id=\"icon-database\" viewBox=\"0 0 32 32\">\n",
       "<path d=\"M16 0c-8.837 0-16 2.239-16 5v4c0 2.761 7.163 5 16 5s16-2.239 16-5v-4c0-2.761-7.163-5-16-5z\"></path>\n",
       "<path d=\"M16 17c-8.837 0-16-2.239-16-5v6c0 2.761 7.163 5 16 5s16-2.239 16-5v-6c0 2.761-7.163 5-16 5z\"></path>\n",
       "<path d=\"M16 26c-8.837 0-16-2.239-16-5v6c0 2.761 7.163 5 16 5s16-2.239 16-5v-6c0 2.761-7.163 5-16 5z\"></path>\n",
       "</symbol>\n",
       "<symbol id=\"icon-file-text2\" viewBox=\"0 0 32 32\">\n",
       "<path d=\"M28.681 7.159c-0.694-0.947-1.662-2.053-2.724-3.116s-2.169-2.030-3.116-2.724c-1.612-1.182-2.393-1.319-2.841-1.319h-15.5c-1.378 0-2.5 1.121-2.5 2.5v27c0 1.378 1.122 2.5 2.5 2.5h23c1.378 0 2.5-1.122 2.5-2.5v-19.5c0-0.448-0.137-1.23-1.319-2.841zM24.543 5.457c0.959 0.959 1.712 1.825 2.268 2.543h-4.811v-4.811c0.718 0.556 1.584 1.309 2.543 2.268zM28 29.5c0 0.271-0.229 0.5-0.5 0.5h-23c-0.271 0-0.5-0.229-0.5-0.5v-27c0-0.271 0.229-0.5 0.5-0.5 0 0 15.499-0 15.5 0v7c0 0.552 0.448 1 1 1h7v19.5z\"></path>\n",
       "<path d=\"M23 26h-14c-0.552 0-1-0.448-1-1s0.448-1 1-1h14c0.552 0 1 0.448 1 1s-0.448 1-1 1z\"></path>\n",
       "<path d=\"M23 22h-14c-0.552 0-1-0.448-1-1s0.448-1 1-1h14c0.552 0 1 0.448 1 1s-0.448 1-1 1z\"></path>\n",
       "<path d=\"M23 18h-14c-0.552 0-1-0.448-1-1s0.448-1 1-1h14c0.552 0 1 0.448 1 1s-0.448 1-1 1z\"></path>\n",
       "</symbol>\n",
       "</defs>\n",
       "</svg>\n",
       "<style>/* CSS stylesheet for displaying xarray objects in jupyterlab.\n",
       " *\n",
       " */\n",
       "\n",
       ":root {\n",
       "  --xr-font-color0: var(--jp-content-font-color0, rgba(0, 0, 0, 1));\n",
       "  --xr-font-color2: var(--jp-content-font-color2, rgba(0, 0, 0, 0.54));\n",
       "  --xr-font-color3: var(--jp-content-font-color3, rgba(0, 0, 0, 0.38));\n",
       "  --xr-border-color: var(--jp-border-color2, #e0e0e0);\n",
       "  --xr-disabled-color: var(--jp-layout-color3, #bdbdbd);\n",
       "  --xr-background-color: var(--jp-layout-color0, white);\n",
       "  --xr-background-color-row-even: var(--jp-layout-color1, white);\n",
       "  --xr-background-color-row-odd: var(--jp-layout-color2, #eeeeee);\n",
       "}\n",
       "\n",
       "html[theme=dark],\n",
       "body[data-theme=dark],\n",
       "body.vscode-dark {\n",
       "  --xr-font-color0: rgba(255, 255, 255, 1);\n",
       "  --xr-font-color2: rgba(255, 255, 255, 0.54);\n",
       "  --xr-font-color3: rgba(255, 255, 255, 0.38);\n",
       "  --xr-border-color: #1F1F1F;\n",
       "  --xr-disabled-color: #515151;\n",
       "  --xr-background-color: #111111;\n",
       "  --xr-background-color-row-even: #111111;\n",
       "  --xr-background-color-row-odd: #313131;\n",
       "}\n",
       "\n",
       ".xr-wrap {\n",
       "  display: block !important;\n",
       "  min-width: 300px;\n",
       "  max-width: 700px;\n",
       "}\n",
       "\n",
       ".xr-text-repr-fallback {\n",
       "  /* fallback to plain text repr when CSS is not injected (untrusted notebook) */\n",
       "  display: none;\n",
       "}\n",
       "\n",
       ".xr-header {\n",
       "  padding-top: 6px;\n",
       "  padding-bottom: 6px;\n",
       "  margin-bottom: 4px;\n",
       "  border-bottom: solid 1px var(--xr-border-color);\n",
       "}\n",
       "\n",
       ".xr-header > div,\n",
       ".xr-header > ul {\n",
       "  display: inline;\n",
       "  margin-top: 0;\n",
       "  margin-bottom: 0;\n",
       "}\n",
       "\n",
       ".xr-obj-type,\n",
       ".xr-array-name {\n",
       "  margin-left: 2px;\n",
       "  margin-right: 10px;\n",
       "}\n",
       "\n",
       ".xr-obj-type {\n",
       "  color: var(--xr-font-color2);\n",
       "}\n",
       "\n",
       ".xr-sections {\n",
       "  padding-left: 0 !important;\n",
       "  display: grid;\n",
       "  grid-template-columns: 150px auto auto 1fr 20px 20px;\n",
       "}\n",
       "\n",
       ".xr-section-item {\n",
       "  display: contents;\n",
       "}\n",
       "\n",
       ".xr-section-item input {\n",
       "  display: none;\n",
       "}\n",
       "\n",
       ".xr-section-item input + label {\n",
       "  color: var(--xr-disabled-color);\n",
       "}\n",
       "\n",
       ".xr-section-item input:enabled + label {\n",
       "  cursor: pointer;\n",
       "  color: var(--xr-font-color2);\n",
       "}\n",
       "\n",
       ".xr-section-item input:enabled + label:hover {\n",
       "  color: var(--xr-font-color0);\n",
       "}\n",
       "\n",
       ".xr-section-summary {\n",
       "  grid-column: 1;\n",
       "  color: var(--xr-font-color2);\n",
       "  font-weight: 500;\n",
       "}\n",
       "\n",
       ".xr-section-summary > span {\n",
       "  display: inline-block;\n",
       "  padding-left: 0.5em;\n",
       "}\n",
       "\n",
       ".xr-section-summary-in:disabled + label {\n",
       "  color: var(--xr-font-color2);\n",
       "}\n",
       "\n",
       ".xr-section-summary-in + label:before {\n",
       "  display: inline-block;\n",
       "  content: '►';\n",
       "  font-size: 11px;\n",
       "  width: 15px;\n",
       "  text-align: center;\n",
       "}\n",
       "\n",
       ".xr-section-summary-in:disabled + label:before {\n",
       "  color: var(--xr-disabled-color);\n",
       "}\n",
       "\n",
       ".xr-section-summary-in:checked + label:before {\n",
       "  content: '▼';\n",
       "}\n",
       "\n",
       ".xr-section-summary-in:checked + label > span {\n",
       "  display: none;\n",
       "}\n",
       "\n",
       ".xr-section-summary,\n",
       ".xr-section-inline-details {\n",
       "  padding-top: 4px;\n",
       "  padding-bottom: 4px;\n",
       "}\n",
       "\n",
       ".xr-section-inline-details {\n",
       "  grid-column: 2 / -1;\n",
       "}\n",
       "\n",
       ".xr-section-details {\n",
       "  display: none;\n",
       "  grid-column: 1 / -1;\n",
       "  margin-bottom: 5px;\n",
       "}\n",
       "\n",
       ".xr-section-summary-in:checked ~ .xr-section-details {\n",
       "  display: contents;\n",
       "}\n",
       "\n",
       ".xr-array-wrap {\n",
       "  grid-column: 1 / -1;\n",
       "  display: grid;\n",
       "  grid-template-columns: 20px auto;\n",
       "}\n",
       "\n",
       ".xr-array-wrap > label {\n",
       "  grid-column: 1;\n",
       "  vertical-align: top;\n",
       "}\n",
       "\n",
       ".xr-preview {\n",
       "  color: var(--xr-font-color3);\n",
       "}\n",
       "\n",
       ".xr-array-preview,\n",
       ".xr-array-data {\n",
       "  padding: 0 5px !important;\n",
       "  grid-column: 2;\n",
       "}\n",
       "\n",
       ".xr-array-data,\n",
       ".xr-array-in:checked ~ .xr-array-preview {\n",
       "  display: none;\n",
       "}\n",
       "\n",
       ".xr-array-in:checked ~ .xr-array-data,\n",
       ".xr-array-preview {\n",
       "  display: inline-block;\n",
       "}\n",
       "\n",
       ".xr-dim-list {\n",
       "  display: inline-block !important;\n",
       "  list-style: none;\n",
       "  padding: 0 !important;\n",
       "  margin: 0;\n",
       "}\n",
       "\n",
       ".xr-dim-list li {\n",
       "  display: inline-block;\n",
       "  padding: 0;\n",
       "  margin: 0;\n",
       "}\n",
       "\n",
       ".xr-dim-list:before {\n",
       "  content: '(';\n",
       "}\n",
       "\n",
       ".xr-dim-list:after {\n",
       "  content: ')';\n",
       "}\n",
       "\n",
       ".xr-dim-list li:not(:last-child):after {\n",
       "  content: ',';\n",
       "  padding-right: 5px;\n",
       "}\n",
       "\n",
       ".xr-has-index {\n",
       "  font-weight: bold;\n",
       "}\n",
       "\n",
       ".xr-var-list,\n",
       ".xr-var-item {\n",
       "  display: contents;\n",
       "}\n",
       "\n",
       ".xr-var-item > div,\n",
       ".xr-var-item label,\n",
       ".xr-var-item > .xr-var-name span {\n",
       "  background-color: var(--xr-background-color-row-even);\n",
       "  margin-bottom: 0;\n",
       "}\n",
       "\n",
       ".xr-var-item > .xr-var-name:hover span {\n",
       "  padding-right: 5px;\n",
       "}\n",
       "\n",
       ".xr-var-list > li:nth-child(odd) > div,\n",
       ".xr-var-list > li:nth-child(odd) > label,\n",
       ".xr-var-list > li:nth-child(odd) > .xr-var-name span {\n",
       "  background-color: var(--xr-background-color-row-odd);\n",
       "}\n",
       "\n",
       ".xr-var-name {\n",
       "  grid-column: 1;\n",
       "}\n",
       "\n",
       ".xr-var-dims {\n",
       "  grid-column: 2;\n",
       "}\n",
       "\n",
       ".xr-var-dtype {\n",
       "  grid-column: 3;\n",
       "  text-align: right;\n",
       "  color: var(--xr-font-color2);\n",
       "}\n",
       "\n",
       ".xr-var-preview {\n",
       "  grid-column: 4;\n",
       "}\n",
       "\n",
       ".xr-index-preview {\n",
       "  grid-column: 2 / 5;\n",
       "  color: var(--xr-font-color2);\n",
       "}\n",
       "\n",
       ".xr-var-name,\n",
       ".xr-var-dims,\n",
       ".xr-var-dtype,\n",
       ".xr-preview,\n",
       ".xr-attrs dt {\n",
       "  white-space: nowrap;\n",
       "  overflow: hidden;\n",
       "  text-overflow: ellipsis;\n",
       "  padding-right: 10px;\n",
       "}\n",
       "\n",
       ".xr-var-name:hover,\n",
       ".xr-var-dims:hover,\n",
       ".xr-var-dtype:hover,\n",
       ".xr-attrs dt:hover {\n",
       "  overflow: visible;\n",
       "  width: auto;\n",
       "  z-index: 1;\n",
       "}\n",
       "\n",
       ".xr-var-attrs,\n",
       ".xr-var-data,\n",
       ".xr-index-data {\n",
       "  display: none;\n",
       "  background-color: var(--xr-background-color) !important;\n",
       "  padding-bottom: 5px !important;\n",
       "}\n",
       "\n",
       ".xr-var-attrs-in:checked ~ .xr-var-attrs,\n",
       ".xr-var-data-in:checked ~ .xr-var-data,\n",
       ".xr-index-data-in:checked ~ .xr-index-data {\n",
       "  display: block;\n",
       "}\n",
       "\n",
       ".xr-var-data > table {\n",
       "  float: right;\n",
       "}\n",
       "\n",
       ".xr-var-name span,\n",
       ".xr-var-data,\n",
       ".xr-index-name div,\n",
       ".xr-index-data,\n",
       ".xr-attrs {\n",
       "  padding-left: 25px !important;\n",
       "}\n",
       "\n",
       ".xr-attrs,\n",
       ".xr-var-attrs,\n",
       ".xr-var-data,\n",
       ".xr-index-data {\n",
       "  grid-column: 1 / -1;\n",
       "}\n",
       "\n",
       "dl.xr-attrs {\n",
       "  padding: 0;\n",
       "  margin: 0;\n",
       "  display: grid;\n",
       "  grid-template-columns: 125px auto;\n",
       "}\n",
       "\n",
       ".xr-attrs dt,\n",
       ".xr-attrs dd {\n",
       "  padding: 0;\n",
       "  margin: 0;\n",
       "  float: left;\n",
       "  padding-right: 10px;\n",
       "  width: auto;\n",
       "}\n",
       "\n",
       ".xr-attrs dt {\n",
       "  font-weight: normal;\n",
       "  grid-column: 1;\n",
       "}\n",
       "\n",
       ".xr-attrs dt:hover span {\n",
       "  display: inline-block;\n",
       "  background: var(--xr-background-color);\n",
       "  padding-right: 10px;\n",
       "}\n",
       "\n",
       ".xr-attrs dd {\n",
       "  grid-column: 2;\n",
       "  white-space: pre-wrap;\n",
       "  word-break: break-all;\n",
       "}\n",
       "\n",
       ".xr-icon-database,\n",
       ".xr-icon-file-text2,\n",
       ".xr-no-icon {\n",
       "  display: inline-block;\n",
       "  vertical-align: middle;\n",
       "  width: 1em;\n",
       "  height: 1.5em !important;\n",
       "  stroke-width: 0;\n",
       "  stroke: currentColor;\n",
       "  fill: currentColor;\n",
       "}\n",
       "</style><pre class='xr-text-repr-fallback'>&lt;xarray.Dataset&gt; Size: 80B\n",
       "Dimensions:          ()\n",
       "Data variables:\n",
       "    dudx_widened     float64 8B 4.221e-07\n",
       "    dvdx_widened     float64 8B 9.159e-07\n",
       "    dudy_widened     float64 8B 6.401e-07\n",
       "    dvdy_widened     float64 8B 4.231e-07\n",
       "    dhdx_widened     float64 8B 0.0006589\n",
       "    dhdy_widened     float64 8B 0.0007489\n",
       "    dhbardx_widened  float64 8B 0.001267\n",
       "    dhbardy_widened  float64 8B 0.0009474\n",
       "    filter_scale     float64 8B 1.341e+05\n",
       "    uphp             float32 4B 0.4095\n",
       "    vphp             float32 4B 0.6068</pre><div class='xr-wrap' style='display:none'><div class='xr-header'><div class='xr-obj-type'>xarray.Dataset</div></div><ul class='xr-sections'><li class='xr-section-item'><input id='section-34deafe4-2ac7-4a1a-829a-ec275c5e1e25' class='xr-section-summary-in' type='checkbox' disabled ><label for='section-34deafe4-2ac7-4a1a-829a-ec275c5e1e25' class='xr-section-summary'  title='Expand/collapse section'>Dimensions:</label><div class='xr-section-inline-details'></div><div class='xr-section-details'></div></li><li class='xr-section-item'><input id='section-3a64dd7e-325c-41d7-bf45-31429ca8435d' class='xr-section-summary-in' type='checkbox' disabled ><label for='section-3a64dd7e-325c-41d7-bf45-31429ca8435d' class='xr-section-summary'  title='Expand/collapse section'>Coordinates: <span>(0)</span></label><div class='xr-section-inline-details'></div><div class='xr-section-details'><ul class='xr-var-list'></ul></div></li><li class='xr-section-item'><input id='section-61824988-8f30-4cfd-8f7a-64405fbdbbd6' class='xr-section-summary-in' type='checkbox'  checked><label for='section-61824988-8f30-4cfd-8f7a-64405fbdbbd6' class='xr-section-summary' >Data variables: <span>(11)</span></label><div class='xr-section-inline-details'></div><div class='xr-section-details'><ul class='xr-var-list'><li class='xr-var-item'><div class='xr-var-name'><span>dudx_widened</span></div><div class='xr-var-dims'>()</div><div class='xr-var-dtype'>float64</div><div class='xr-var-preview xr-preview'>4.221e-07</div><input id='attrs-cadb3636-3fba-4519-811c-0e61847d702a' class='xr-var-attrs-in' type='checkbox' disabled><label for='attrs-cadb3636-3fba-4519-811c-0e61847d702a' title='Show/Hide attributes'><svg class='icon xr-icon-file-text2'><use xlink:href='#icon-file-text2'></use></svg></label><input id='data-fb60546b-2f0e-4a9e-b58e-7d12b4cd142f' class='xr-var-data-in' type='checkbox'><label for='data-fb60546b-2f0e-4a9e-b58e-7d12b4cd142f' title='Show/Hide data repr'><svg class='icon xr-icon-database'><use xlink:href='#icon-database'></use></svg></label><div class='xr-var-attrs'><dl class='xr-attrs'></dl></div><div class='xr-var-data'><pre>array(4.2214271e-07)</pre></div></li><li class='xr-var-item'><div class='xr-var-name'><span>dvdx_widened</span></div><div class='xr-var-dims'>()</div><div class='xr-var-dtype'>float64</div><div class='xr-var-preview xr-preview'>9.159e-07</div><input id='attrs-05a1e9f9-b421-43a6-b436-ad324189cdb0' class='xr-var-attrs-in' type='checkbox' disabled><label for='attrs-05a1e9f9-b421-43a6-b436-ad324189cdb0' title='Show/Hide attributes'><svg class='icon xr-icon-file-text2'><use xlink:href='#icon-file-text2'></use></svg></label><input id='data-01b48d37-e1df-4ebe-809f-c6fca7571cb1' class='xr-var-data-in' type='checkbox'><label for='data-01b48d37-e1df-4ebe-809f-c6fca7571cb1' title='Show/Hide data repr'><svg class='icon xr-icon-database'><use xlink:href='#icon-database'></use></svg></label><div class='xr-var-attrs'><dl class='xr-attrs'></dl></div><div class='xr-var-data'><pre>array(9.15854081e-07)</pre></div></li><li class='xr-var-item'><div class='xr-var-name'><span>dudy_widened</span></div><div class='xr-var-dims'>()</div><div class='xr-var-dtype'>float64</div><div class='xr-var-preview xr-preview'>6.401e-07</div><input id='attrs-6c0a498e-25f3-4ea7-8652-c2d94343b94a' class='xr-var-attrs-in' type='checkbox' disabled><label for='attrs-6c0a498e-25f3-4ea7-8652-c2d94343b94a' title='Show/Hide attributes'><svg class='icon xr-icon-file-text2'><use xlink:href='#icon-file-text2'></use></svg></label><input id='data-05438df4-f330-4e29-8868-53eac322fba2' class='xr-var-data-in' type='checkbox'><label for='data-05438df4-f330-4e29-8868-53eac322fba2' title='Show/Hide data repr'><svg class='icon xr-icon-database'><use xlink:href='#icon-database'></use></svg></label><div class='xr-var-attrs'><dl class='xr-attrs'></dl></div><div class='xr-var-data'><pre>array(6.40106353e-07)</pre></div></li><li class='xr-var-item'><div class='xr-var-name'><span>dvdy_widened</span></div><div class='xr-var-dims'>()</div><div class='xr-var-dtype'>float64</div><div class='xr-var-preview xr-preview'>4.231e-07</div><input id='attrs-aa6c136a-a509-4a87-a37b-9948656471f3' class='xr-var-attrs-in' type='checkbox' disabled><label for='attrs-aa6c136a-a509-4a87-a37b-9948656471f3' title='Show/Hide attributes'><svg class='icon xr-icon-file-text2'><use xlink:href='#icon-file-text2'></use></svg></label><input id='data-2379eb3c-b5e8-42c1-b59b-286bc5033843' class='xr-var-data-in' type='checkbox'><label for='data-2379eb3c-b5e8-42c1-b59b-286bc5033843' title='Show/Hide data repr'><svg class='icon xr-icon-database'><use xlink:href='#icon-database'></use></svg></label><div class='xr-var-attrs'><dl class='xr-attrs'></dl></div><div class='xr-var-data'><pre>array(4.23117855e-07)</pre></div></li><li class='xr-var-item'><div class='xr-var-name'><span>dhdx_widened</span></div><div class='xr-var-dims'>()</div><div class='xr-var-dtype'>float64</div><div class='xr-var-preview xr-preview'>0.0006589</div><input id='attrs-06939c65-164d-4742-9ee9-202188c22379' class='xr-var-attrs-in' type='checkbox' disabled><label for='attrs-06939c65-164d-4742-9ee9-202188c22379' title='Show/Hide attributes'><svg class='icon xr-icon-file-text2'><use xlink:href='#icon-file-text2'></use></svg></label><input id='data-f8a51003-0527-463f-8d79-d63a721e4e25' class='xr-var-data-in' type='checkbox'><label for='data-f8a51003-0527-463f-8d79-d63a721e4e25' title='Show/Hide data repr'><svg class='icon xr-icon-database'><use xlink:href='#icon-database'></use></svg></label><div class='xr-var-attrs'><dl class='xr-attrs'></dl></div><div class='xr-var-data'><pre>array(0.00065894)</pre></div></li><li class='xr-var-item'><div class='xr-var-name'><span>dhdy_widened</span></div><div class='xr-var-dims'>()</div><div class='xr-var-dtype'>float64</div><div class='xr-var-preview xr-preview'>0.0007489</div><input id='attrs-236f0621-b35a-4605-b7b3-ba56cea7f9ef' class='xr-var-attrs-in' type='checkbox' disabled><label for='attrs-236f0621-b35a-4605-b7b3-ba56cea7f9ef' title='Show/Hide attributes'><svg class='icon xr-icon-file-text2'><use xlink:href='#icon-file-text2'></use></svg></label><input id='data-edc4b0ec-0df1-44a3-99f0-edfb9b83c9d1' class='xr-var-data-in' type='checkbox'><label for='data-edc4b0ec-0df1-44a3-99f0-edfb9b83c9d1' title='Show/Hide data repr'><svg class='icon xr-icon-database'><use xlink:href='#icon-database'></use></svg></label><div class='xr-var-attrs'><dl class='xr-attrs'></dl></div><div class='xr-var-data'><pre>array(0.00074895)</pre></div></li><li class='xr-var-item'><div class='xr-var-name'><span>dhbardx_widened</span></div><div class='xr-var-dims'>()</div><div class='xr-var-dtype'>float64</div><div class='xr-var-preview xr-preview'>0.001267</div><input id='attrs-c0a43694-3bbc-4cad-8817-5ca4930fdc28' class='xr-var-attrs-in' type='checkbox' disabled><label for='attrs-c0a43694-3bbc-4cad-8817-5ca4930fdc28' title='Show/Hide attributes'><svg class='icon xr-icon-file-text2'><use xlink:href='#icon-file-text2'></use></svg></label><input id='data-a0fccf2a-40cf-4b7c-8d22-af2310227e8d' class='xr-var-data-in' type='checkbox'><label for='data-a0fccf2a-40cf-4b7c-8d22-af2310227e8d' title='Show/Hide data repr'><svg class='icon xr-icon-database'><use xlink:href='#icon-database'></use></svg></label><div class='xr-var-attrs'><dl class='xr-attrs'></dl></div><div class='xr-var-data'><pre>array(0.00126715)</pre></div></li><li class='xr-var-item'><div class='xr-var-name'><span>dhbardy_widened</span></div><div class='xr-var-dims'>()</div><div class='xr-var-dtype'>float64</div><div class='xr-var-preview xr-preview'>0.0009474</div><input id='attrs-051acc34-52f1-4b7b-84f6-dca8416e39f6' class='xr-var-attrs-in' type='checkbox' disabled><label for='attrs-051acc34-52f1-4b7b-84f6-dca8416e39f6' title='Show/Hide attributes'><svg class='icon xr-icon-file-text2'><use xlink:href='#icon-file-text2'></use></svg></label><input id='data-7c49af06-1ebb-4b69-93a8-eb80da1256b5' class='xr-var-data-in' type='checkbox'><label for='data-7c49af06-1ebb-4b69-93a8-eb80da1256b5' title='Show/Hide data repr'><svg class='icon xr-icon-database'><use xlink:href='#icon-database'></use></svg></label><div class='xr-var-attrs'><dl class='xr-attrs'></dl></div><div class='xr-var-data'><pre>array(0.00094744)</pre></div></li><li class='xr-var-item'><div class='xr-var-name'><span>filter_scale</span></div><div class='xr-var-dims'>()</div><div class='xr-var-dtype'>float64</div><div class='xr-var-preview xr-preview'>1.341e+05</div><input id='attrs-2aea8608-7f5a-4e30-b745-172b0aabbae4' class='xr-var-attrs-in' type='checkbox' disabled><label for='attrs-2aea8608-7f5a-4e30-b745-172b0aabbae4' title='Show/Hide attributes'><svg class='icon xr-icon-file-text2'><use xlink:href='#icon-file-text2'></use></svg></label><input id='data-45518175-cfbe-4034-8b1b-42874dc54d48' class='xr-var-data-in' type='checkbox'><label for='data-45518175-cfbe-4034-8b1b-42874dc54d48' title='Show/Hide data repr'><svg class='icon xr-icon-database'><use xlink:href='#icon-database'></use></svg></label><div class='xr-var-attrs'><dl class='xr-attrs'></dl></div><div class='xr-var-data'><pre>array(134100.32662662)</pre></div></li><li class='xr-var-item'><div class='xr-var-name'><span>uphp</span></div><div class='xr-var-dims'>()</div><div class='xr-var-dtype'>float32</div><div class='xr-var-preview xr-preview'>0.4095</div><input id='attrs-0205c19f-a9d4-4076-ba68-3e41c4bdc645' class='xr-var-attrs-in' type='checkbox' disabled><label for='attrs-0205c19f-a9d4-4076-ba68-3e41c4bdc645' title='Show/Hide attributes'><svg class='icon xr-icon-file-text2'><use xlink:href='#icon-file-text2'></use></svg></label><input id='data-5a424e7a-fbda-498e-b0e3-6338e87b10dd' class='xr-var-data-in' type='checkbox'><label for='data-5a424e7a-fbda-498e-b0e3-6338e87b10dd' title='Show/Hide data repr'><svg class='icon xr-icon-database'><use xlink:href='#icon-database'></use></svg></label><div class='xr-var-attrs'><dl class='xr-attrs'></dl></div><div class='xr-var-data'><pre>array(0.4094909, dtype=float32)</pre></div></li><li class='xr-var-item'><div class='xr-var-name'><span>vphp</span></div><div class='xr-var-dims'>()</div><div class='xr-var-dtype'>float32</div><div class='xr-var-preview xr-preview'>0.6068</div><input id='attrs-91655939-6abf-4d3d-ab04-8eae3ccc69fb' class='xr-var-attrs-in' type='checkbox' disabled><label for='attrs-91655939-6abf-4d3d-ab04-8eae3ccc69fb' title='Show/Hide attributes'><svg class='icon xr-icon-file-text2'><use xlink:href='#icon-file-text2'></use></svg></label><input id='data-e5832e09-e641-453f-aaad-c6d38b2ec069' class='xr-var-data-in' type='checkbox'><label for='data-e5832e09-e641-453f-aaad-c6d38b2ec069' title='Show/Hide data repr'><svg class='icon xr-icon-database'><use xlink:href='#icon-database'></use></svg></label><div class='xr-var-attrs'><dl class='xr-attrs'></dl></div><div class='xr-var-data'><pre>array(0.6067914, dtype=float32)</pre></div></li></ul></div></li><li class='xr-section-item'><input id='section-ffa03111-7a2e-4f46-bec8-136ba0dc489b' class='xr-section-summary-in' type='checkbox' disabled ><label for='section-ffa03111-7a2e-4f46-bec8-136ba0dc489b' class='xr-section-summary'  title='Expand/collapse section'>Indexes: <span>(0)</span></label><div class='xr-section-inline-details'></div><div class='xr-section-details'><ul class='xr-var-list'></ul></div></li><li class='xr-section-item'><input id='section-fd0d5859-a80b-42d2-be4f-563104185b94' class='xr-section-summary-in' type='checkbox' disabled ><label for='section-fd0d5859-a80b-42d2-be4f-563104185b94' class='xr-section-summary'  title='Expand/collapse section'>Attributes: <span>(0)</span></label><div class='xr-section-inline-details'></div><div class='xr-section-details'><dl class='xr-attrs'></dl></div></li></ul></div></div>"
      ],
      "text/plain": [
       "<xarray.Dataset> Size: 80B\n",
       "Dimensions:          ()\n",
       "Data variables:\n",
       "    dudx_widened     float64 8B 4.221e-07\n",
       "    dvdx_widened     float64 8B 9.159e-07\n",
       "    dudy_widened     float64 8B 6.401e-07\n",
       "    dvdy_widened     float64 8B 4.231e-07\n",
       "    dhdx_widened     float64 8B 0.0006589\n",
       "    dhdy_widened     float64 8B 0.0007489\n",
       "    dhbardx_widened  float64 8B 0.001267\n",
       "    dhbardy_widened  float64 8B 0.0009474\n",
       "    filter_scale     float64 8B 1.341e+05\n",
       "    uphp             float32 4B 0.4095\n",
       "    vphp             float32 4B 0.6068"
      ]
     },
     "execution_count": 11,
     "metadata": {},
     "output_type": "execute_result"
    }
   ],
   "source": [
    "batch_xr.std()"
   ]
  },
  {
   "cell_type": "code",
   "execution_count": 12,
   "id": "7fdbb269-db9c-491f-9c14-c76064bf38c4",
   "metadata": {},
   "outputs": [
    {
     "data": {
      "image/png": "[encoded data removed]",
      "text/plain": [
       "<Figure size 640x480 with 4 Axes>"
      ]
     },
     "metadata": {},
     "output_type": "display_data"
    }
   ],
   "source": [
    "plt.subplot(221)\n",
    "batch_xr[experiment_config['input_channels'][0]].plot.hist();\n",
    "batch_xr[experiment_config['input_channels'][1]].plot.hist();\n",
    "batch_xr[experiment_config['input_channels'][2]].plot.hist();\n",
    "batch_xr[experiment_config['input_channels'][3]].plot.hist();\n",
    "\n",
    "plt.subplot(222)\n",
    "batch_xr[experiment_config['input_channels'][4]].plot.hist();\n",
    "batch_xr[experiment_config['input_channels'][5]].plot.hist();\n",
    "\n",
    "plt.subplot(223)\n",
    "batch_xr[experiment_config['input_channels'][6]].plot.hist();\n",
    "\n",
    "plt.subplot(224)\n",
    "batch_xr[experiment_config['output_channels'][0]].plot.hist();\n",
    "batch_xr[experiment_config['output_channels'][1]].plot.hist();\n",
    "\n",
    "plt.tight_layout()"
   ]
  },
  {
   "cell_type": "code",
   "execution_count": 13,
   "id": "b0dc89f8-7e53-465f-8f67-8c5966985141",
   "metadata": {},
   "outputs": [],
   "source": [
    "train_ML_data = datasets.MLJAXDataset(ML_DT_train, \n",
    "                                      input_channels=experiment_config['input_channels'], \n",
    "                                      output_channels=experiment_config['output_channels'], \n",
    "                                      coeff_channels=experiment_config['coeff_channels'], \n",
    "                                      ds_norm=ds_norm)\n",
    "\n",
    "test_ML_data = datasets.MLJAXDataset(ML_DT_test, \n",
    "                                      input_channels=experiment_config['input_channels'], \n",
    "                                      output_channels=experiment_config['output_channels'], \n",
    "                                      coeff_channels=experiment_config['coeff_channels'],\n",
    "                                      ds_norm=ds_norm)\n",
    "\n",
    "ML_data_combo = {'train_data':train_ML_data, 'test_data':test_ML_data}"
   ]
  },
  {
   "cell_type": "code",
   "execution_count": 14,
   "id": "4c3dc389-8196-4d48-bca3-d02b2d10331e",
   "metadata": {},
   "outputs": [
    {
     "name": "stdout",
     "output_type": "stream",
     "text": [
      "Input (X) batch shape: (83939, 201)\n",
      "Output (y) batch shape: (83939, 2)\n"
     ]
    }
   ],
   "source": [
    "for batch_out in ML_data_combo['train_data'].get_batches():\n",
    "    print(\"Input (X) batch shape:\", batch_out['X'].shape)\n",
    "    print(\"Output (y) batch shape:\", batch_out['y'].shape)\n",
    "    \n",
    "    # If you want to view a sample of the data\n",
    "    #print(\"Sample X:\", batch_out['X'])  # First sample of the batch\n",
    "    #print(\"Sample y:\", batch_out['y'])  # Corresponding label/target\n",
    "    break  # Remove break to print more batches"
   ]
  },
  {
   "cell_type": "code",
   "execution_count": 15,
   "id": "7efbec16-490a-47be-944d-2de4f093fa20",
   "metadata": {},
   "outputs": [
    {
     "data": {
      "text/plain": [
       "201"
      ]
     },
     "execution_count": 15,
     "metadata": {},
     "output_type": "execute_result"
    }
   ],
   "source": [
    "num_in = batch_out['X'].shape[-1]\n",
    "num_in"
   ]
  },
  {
   "cell_type": "code",
   "execution_count": 16,
   "id": "cae3d3ee-b9aa-418f-8244-31b9523c0a7b",
   "metadata": {},
   "outputs": [],
   "source": [
    "ANN_model = ML_classes.PointwiseANN(num_in = experiment_config['num_inputs'],\n",
    "                                    shape = experiment_config['network_shape']) "
   ]
  },
  {
   "cell_type": "code",
   "execution_count": 17,
   "id": "83e1e70f-8b2c-4892-bf68-98df61fed9ac",
   "metadata": {},
   "outputs": [
    {
     "name": "stdout",
     "output_type": "stream",
     "text": [
      "8678\n"
     ]
    }
   ],
   "source": [
    "ANN_model.count_parameters()"
   ]
  },
  {
   "cell_type": "code",
   "execution_count": 18,
   "id": "4e019784-5b12-471e-a151-476051c5ad6d",
   "metadata": {},
   "outputs": [],
   "source": [
    "regress_sys = ML_classes.AnnRegressionSystem(ANN_model)"
   ]
  },
  {
   "cell_type": "code",
   "execution_count": 20,
   "id": "8d88c076-2354-46a9-8cc0-dbad085bfdc5",
   "metadata": {},
   "outputs": [
    {
     "name": "stdout",
     "output_type": "stream",
     "text": [
      "At epoch 42. Train loss :  0.002723035471815918 , Test loss: 0.0033564999233931304\n",
      "At epoch 44. Train loss :  0.0027993918472045175 , Test loss: 0.0037034706212580202\n",
      "At epoch 46. Train loss :  0.0026977548589678228 , Test loss: 0.0031481456477195024\n",
      "At epoch 48. Train loss :  0.0026914528382287637 , Test loss: 0.0030879124999046324\n",
      "At epoch 50. Train loss :  0.0025807386012496173 , Test loss: 0.0030164210125803947\n",
      "At epoch 52. Train loss :  0.0024209935847367787 , Test loss: 0.0029032441787421705\n",
      "At epoch 54. Train loss :  0.0024087957131701545 , Test loss: 0.002903125388547778\n",
      "At epoch 56. Train loss :  0.0025720524198904232 , Test loss: 0.00294283302500844\n",
      "At epoch 58. Train loss :  0.0023825661644238877 , Test loss: 0.0027912068646401165\n",
      "At epoch 60. Train loss :  0.0024032678354430842 , Test loss: 0.002816012315452099\n",
      "At epoch 62. Train loss :  0.0024748474258828807 , Test loss: 0.0028024188708513976\n",
      "At epoch 64. Train loss :  0.0025430204900535377 , Test loss: 0.002832239493727684\n",
      "At epoch 66. Train loss :  0.0022977228037308196 , Test loss: 0.0027583227027207615\n",
      "At epoch 68. Train loss :  0.0022734361889495238 , Test loss: 0.0026872874703258278\n",
      "At epoch 70. Train loss :  0.0024061439986768607 , Test loss: 0.0033054724801331757\n",
      "At epoch 72. Train loss :  0.0022463586143645887 , Test loss: 0.0026588440872728825\n",
      "At epoch 74. Train loss :  0.0021814892408312174 , Test loss: 0.0026906412094831467\n",
      "At epoch 76. Train loss :  0.002249253334829936 , Test loss: 0.002697771601378918\n",
      "At epoch 78. Train loss :  0.002186874393373728 , Test loss: 0.002660184958949685\n",
      "At epoch 80. Train loss :  0.002151435234810452 , Test loss: 0.002623429847881198\n",
      "At epoch 82. Train loss :  0.002165340189192746 , Test loss: 0.002577105863019824\n",
      "CPU times: user 4min 49s, sys: 3.32 s, total: 4min 53s\n",
      "Wall time: 1min 43s\n"
     ]
    }
   ],
   "source": [
    "%%time \n",
    "regress_sys.train_system(ML_data_combo, num_epoch=41, print_freq=2)"
   ]
  },
  {
   "cell_type": "code",
   "execution_count": 21,
   "id": "7825da7d-2206-4572-92f6-007b3989e432",
   "metadata": {},
   "outputs": [],
   "source": [
    "regress_sys.save_checkpoint(experiment_config['exp_ckpt_save_dir'])"
   ]
  },
  {
   "cell_type": "code",
   "execution_count": 22,
   "id": "936d6d90-906a-448e-823e-b181ce6fe771",
   "metadata": {},
   "outputs": [],
   "source": [
    "test_eval = evaluation.EvalSystem(simulation_data=DT,\n",
    "                                 input_channels=experiment_config['input_channels'],\n",
    "                                 output_channels=experiment_config['output_channels'], \n",
    "                                 coeff_channels=experiment_config['coeff_channels'], \n",
    "                                 ds_norm_factors=ds_norm,\n",
    "                                 eval_time_slice=slice(1000, 1010), \n",
    "                                 num_inputs=experiment_config['num_inputs'], \n",
    "                                 shape=experiment_config['network_shape'], \n",
    "                                 ckpt_dir=experiment_config['exp_ckpt_save_dir'])"
   ]
  },
  {
   "cell_type": "code",
   "execution_count": 23,
   "id": "2136fd75-c513-4668-a5f4-9f33b8b96a68",
   "metadata": {},
   "outputs": [],
   "source": [
    "# Spin up eval pack\n",
    "test_eval.read_ann_regression_model()\n",
    "test_eval.read_eval_data()\n",
    "test_eval.predict()"
   ]
  },
  {
   "cell_type": "code",
   "execution_count": 29,
   "id": "791b3df8-a20c-4ab9-b9f6-99591a8df8d7",
   "metadata": {},
   "outputs": [
    {
     "data": {
      "image/png": "[encoded data removed]",
      "text/plain": [
       "<Figure size 1200x700 with 12 Axes>"
      ]
     },
     "metadata": {},
     "output_type": "display_data"
    }
   ],
   "source": [
    "exp = experiment_config['simulation_names'][0]\n",
    "scale = '200'\n",
    "\n",
    "plt.figure(figsize=(12, 7))\n",
    "\n",
    "vmin=-3.5\n",
    "zl_choice = 0\n",
    "\n",
    "plt.subplot(231)\n",
    "test_eval.eval_datatree.ml_dataset[exp][scale][experiment_config['output_channels'][zl_choice]].isel(Time=0, zl=0).plot(vmin=vmin)\n",
    "\n",
    "plt.subplot(232)\n",
    "test_eval.eval_datatree.ml_dataset[exp][scale][experiment_config['output_channels'][zl_choice]+'_pred'].isel(Time=0, zl=0).plot(vmin=vmin)\n",
    "\n",
    "plt.subplot(233)\n",
    "(test_eval.eval_datatree.ml_dataset[exp][scale][experiment_config['output_channels'][zl_choice]] - \n",
    " test_eval.eval_datatree.ml_dataset[exp][scale][experiment_config['output_channels'][zl_choice]+'_pred']).isel(Time=0, zl=0).plot(vmin=vmin)\n",
    "\n",
    "\n",
    "vmin=-1.2 \n",
    "zl_choice = 1\n",
    "\n",
    "plt.subplot(234)\n",
    "test_eval.eval_datatree.ml_dataset[exp][scale][experiment_config['output_channels'][0]].isel(Time=0, zl=zl_choice).plot(vmin=vmin)\n",
    "\n",
    "plt.subplot(235)\n",
    "test_eval.eval_datatree.ml_dataset[exp][scale][experiment_config['output_channels'][0]+'_pred'].isel(Time=0, zl=zl_choice).plot(vmin=vmin)\n",
    "\n",
    "plt.subplot(236)\n",
    "(test_eval.eval_datatree.ml_dataset[exp][scale][experiment_config['output_channels'][0]] - \n",
    " test_eval.eval_datatree.ml_dataset[exp][scale][experiment_config['output_channels'][0]+'_pred']).isel(Time=0, zl=zl_choice).plot(vmin=vmin)\n",
    "\n",
    "plt.tight_layout()"
   ]
  },
  {
   "cell_type": "code",
   "execution_count": 25,
   "id": "80ec0ed3-de07-4319-883b-91a97895c88a",
   "metadata": {},
   "outputs": [],
   "source": [
    "test_eval.calc_time_hor_space_metrics(yh_region=slice(31, 45), xh_region=slice(5, 17), dims=['Time','xh','yh'])\n",
    "test_eval.calc_time_hor_space_metrics(var='vphp',yh_region=slice(31, 45), xh_region=slice(5, 17), dims=['Time','xh','yh'])"
   ]
  },
  {
   "cell_type": "code",
   "execution_count": 26,
   "id": "966152fe-85ff-42aa-956c-2c62e95a8a84",
   "metadata": {},
   "outputs": [
    {
     "data": {
      "text/plain": [
       "5"
      ]
     },
     "execution_count": 26,
     "metadata": {},
     "output_type": "execute_result"
    }
   ],
   "source": [
    "experiment_config['window_size']"
   ]
  },
  {
   "cell_type": "code",
   "execution_count": 27,
   "id": "f1ac960b-3463-4bb1-96d7-5cd0ce7af2d1",
   "metadata": {},
   "outputs": [
    {
     "name": "stdout",
     "output_type": "stream",
     "text": [
      "DG 50km, R2 for uphp is (layer:[0,1])[0.93374107 0.91744036]\n",
      "DG 50km, R2 for vphp is (layer:[0,1])[0.95409847 0.92883505]\n",
      "DG 100km, R2 for uphp is (layer:[0,1])[0.93807188 0.87094377]\n",
      "DG 100km, R2 for vphp is (layer:[0,1])[0.94797027 0.90441837]\n",
      "DG 200km, R2 for uphp is (layer:[0,1])[0.88360323 0.71551232]\n",
      "DG 200km, R2 for vphp is (layer:[0,1])[0.85515814 0.78648346]\n",
      "DG 400km, R2 for uphp is (layer:[0,1])[0.75905566 0.68291342]\n",
      "DG 400km, R2 for vphp is (layer:[0,1])[0.53726055 0.42862123]\n"
     ]
    }
   ],
   "source": [
    "for exp in experiment_config['simulation_names']: \n",
    "    for scale in experiment_config['filter_scales']: \n",
    "        print(exp+' '+scale+'km, R2 for uphp is (layer:[0,1])'+ str(test_eval.eval_datatree.ml_dataset[exp][scale].uphp_R2_all_space_time.values))\n",
    "        print(exp+' '+scale+'km, R2 for vphp is (layer:[0,1])'+ str(test_eval.eval_datatree.ml_dataset[exp][scale].vphp_R2_all_space_time.values))"
   ]
  },
  {
   "cell_type": "code",
   "execution_count": 28,
   "id": "c0d36909-49a4-4868-ab69-6fe33a1a5a88",
   "metadata": {
    "jupyter": {
     "source_hidden": true
    }
   },
   "outputs": [
    {
     "name": "stdout",
     "output_type": "stream",
     "text": [
      "DG 50km, R2 for uphp is (layer:[0,1])[0.97221204 0.96492808]\n",
      "DG 50km, R2 for vphp is (layer:[0,1])[0.9776194  0.96585703]\n",
      "DG 100km, R2 for uphp is (layer:[0,1])[0.97011571 0.93764852]\n",
      "DG 100km, R2 for vphp is (layer:[0,1])[0.97483073 0.95178662]\n",
      "DG 200km, R2 for uphp is (layer:[0,1])[0.93934135 0.83399339]\n",
      "DG 200km, R2 for vphp is (layer:[0,1])[0.92204007 0.88617046]\n",
      "DG 400km, R2 for uphp is (layer:[0,1])[0.86685536 0.81051499]\n",
      "DG 400km, R2 for vphp is (layer:[0,1])[0.64723537 0.67356358]\n"
     ]
    }
   ],
   "source": [
    "for exp in experiment_config['simulation_names']: \n",
    "    for scale in experiment_config['filter_scales']: \n",
    "        print(exp+' '+scale+'km, R2 for uphp is (layer:[0,1])'+ str(test_eval.eval_datatree.ml_dataset[exp][scale].uphp_corr_all_space_time.values))\n",
    "        print(exp+' '+scale+'km, R2 for vphp is (layer:[0,1])'+ str(test_eval.eval_datatree.ml_dataset[exp][scale].vphp_corr_all_space_time.values))"
   ]
  },
  {
   "cell_type": "code",
   "execution_count": null,
   "id": "c66bc363-895a-492e-a0da-71223e018f16",
   "metadata": {},
   "outputs": [],
   "source": []
  }
 ],
 "metadata": {
  "kernelspec": {
   "display_name": "Python 3 (ipykernel)",
   "language": "python",
   "name": "python3"
  },
  "language_info": {
   "codemirror_mode": {
    "name": "ipython",
    "version": 3
   },
   "file_extension": ".py",
   "mimetype": "text/x-python",
   "name": "python",
   "nbconvert_exporter": "python",
   "pygments_lexer": "ipython3",
   "version": "3.12.7"
  }
 },
 "nbformat": 4,
 "nbformat_minor": 5
}
