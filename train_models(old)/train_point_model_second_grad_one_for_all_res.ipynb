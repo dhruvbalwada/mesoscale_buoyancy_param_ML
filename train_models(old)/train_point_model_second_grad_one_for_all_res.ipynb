{
 "cells": [
  {
   "cell_type": "markdown",
   "id": "7e8c307f-794f-4d81-b1a5-a8e51dffcb36",
   "metadata": {},
   "source": [
    "# Train a single ML model for all resolutions with second order gradients"
   ]
  },
  {
   "cell_type": "code",
   "execution_count": 35,
   "id": "fbf157b8-d6e4-4fff-a98b-e9f4c4a44c83",
   "metadata": {
    "tags": []
   },
   "outputs": [],
   "source": [
    "import xarray as xr\n",
    "import numpy as np \n",
    "\n",
    "import jax\n",
    "from typing import Any, Callable, Sequence\n",
    "from jax import lax, random, numpy as jnp\n",
    "#from flax.core import freeze, unfreeze\n",
    "from flax import linen as nn\n",
    "from flax.training import train_state \n",
    "from flax.training import checkpoints\n",
    "import flax\n",
    "flax.config.update('flax_use_orbax_checkpointing', True)\n",
    "\n",
    "import optax\n",
    "import xbatcher\n",
    "import fsspec\n",
    "\n",
    "#import hvplot.xarray\n",
    "\n",
    "import matplotlib.pyplot as plt\n",
    "from datatree import DataTree\n",
    "from datatree import open_datatree\n",
    "from datetime import datetime\n",
    "import xgcm\n",
    "\n",
    "import sys\n",
    "\n",
    "sys.path.append('../modules/')\n",
    "import helper_func as hf\n",
    "import ml_helper_func as ml_hf"
   ]
  },
  {
   "cell_type": "code",
   "execution_count": 2,
   "id": "5d7df161-4e8a-43ed-844e-54de50bab18c",
   "metadata": {
    "tags": []
   },
   "outputs": [],
   "source": [
    "import os \n",
    "M2LINES_BUCKET ='gs://leap-persistent/dhruvbalwada/m2lines_transfer'\n",
    "\n",
    "# Open all the datasets\n",
    "Lkey = ['50', '100', '200', '400']\n",
    "\n",
    "ds = {}\n",
    "for L in Lkey:\n",
    "    \n",
    "    ds_temp = xr.open_zarr(f'{M2LINES_BUCKET}/ML_data/ds_ML_'+L+'km_3D')\n",
    "    \n",
    "    ds[L] = ds_temp\n",
    "ds_tree = DataTree.from_dict(ds)\n",
    "\n",
    "# Open the mask files\n",
    "ds_mask_tree = open_datatree(f'{M2LINES_BUCKET}/ML_data/ds_ML_masks', engine='zarr')"
   ]
  },
  {
   "cell_type": "code",
   "execution_count": 33,
   "id": "2b548079-8d08-44db-a15a-e5f0d0208170",
   "metadata": {
    "tags": []
   },
   "outputs": [],
   "source": [
    "res_name = 'all'"
   ]
  },
  {
   "cell_type": "code",
   "execution_count": 5,
   "id": "c041f10f-f616-44fc-adbd-eccaece1bbda",
   "metadata": {
    "tags": []
   },
   "outputs": [],
   "source": [
    "output_channels = ['Sfnx','Sfny']                                      \n",
    "\n",
    "input_channels = ['U_x', 'U_y', 'U_xx', 'U_xy', 'U_yy',\n",
    "                  'V_x', 'V_y', 'V_xx', 'V_xy', 'V_yy',\n",
    "                  'Sx', 'Sy', 'Lfilt']"
   ]
  },
  {
   "cell_type": "code",
   "execution_count": 24,
   "id": "90e5f0d1-ec7e-464d-9ee1-3ba551f201b7",
   "metadata": {
    "tags": []
   },
   "outputs": [],
   "source": [
    "design_name = 'second_order'"
   ]
  },
  {
   "cell_type": "code",
   "execution_count": 6,
   "id": "6055fa04-f622-4460-9ee3-3c19b4e732d2",
   "metadata": {
    "tags": []
   },
   "outputs": [],
   "source": [
    "# Normalize by T_z for some variables\n",
    "# Center all the data\n",
    "facs = {}\n",
    "\n",
    "ds_tree_centered = {}\n",
    "ds_tree_centered_small = {}\n",
    "\n",
    "for L in Lkey:\n",
    "    \n",
    "    # Select dataset\n",
    "    ds = ds_tree[L].ds\n",
    "    grid = xgcm.Grid(ds, periodic='X')\n",
    "    \n",
    "    ds_mask= ds_mask_tree[L].to_dataset().maskC\n",
    "    \n",
    "    # Center the variables\n",
    "    ds_centered = hf.center_data(ds)\n",
    "    ds_centered['T_z'] = (ds_centered['T_z'].where(ds_centered['T_z']>=5e-5, 5e-5)) #.isel(time=0, XC=0).plot(vmin=-6e-3)\n",
    "\n",
    "    # Add variables that are actually used in the ML model.\n",
    "    ds_centered['Sx'] = -ds_centered['T_x']/ds_centered['T_z']\n",
    "    ds_centered['Sy'] = -ds_centered['T_y']/ds_centered['T_z']\n",
    "\n",
    "    ds_centered['Sfnx'] =  - ds_centered['uT']/ds_centered['T_z']\n",
    "    ds_centered['Sfny'] =  - ds_centered['vT']/ds_centered['T_z']\n",
    "    \n",
    "    ds_centered['Lfilt'] = (float(L) + 0*ds_centered.T)\n",
    "\n",
    "    ds_ML_vars = xr.merge([ds_centered[output_channels], ds_centered[input_channels]])\n",
    "    \n",
    "    \n",
    "    ds_tree_centered[L] = ds_ML_vars\n",
    "    \n",
    "        \n",
    "    sub_samp_fac = int( 400/ int(L) )\n",
    "    ds_ML_vars = ds_ML_vars.where(ds_mask>0.9999999, drop=True\n",
    "                                 ).sel(Z=slice(-200, -2700), YC=slice(400e3,1600e3))\n",
    "    \n",
    "    ds_tree_centered_small[L] = ds_ML_vars.isel( XC=slice(0,None,sub_samp_fac), \n",
    "                                                YC=slice(0,None,sub_samp_fac) )\n",
    "    \n",
    "    \n",
    "ds_tree_centered = DataTree.from_dict(ds_tree_centered)\n",
    "ds_tree_centered_small = DataTree.from_dict(ds_tree_centered_small)"
   ]
  },
  {
   "cell_type": "code",
   "execution_count": 7,
   "id": "c571231a-f47e-499d-a778-9ee808112f35",
   "metadata": {
    "tags": []
   },
   "outputs": [
    {
     "name": "stdout",
     "output_type": "stream",
     "text": [
      "Found 50km standard deviations on local\n",
      "Found 100km standard deviations on local\n",
      "Found 200km standard deviations on local\n",
      "Found 400km standard deviations on local\n"
     ]
    }
   ],
   "source": [
    "# Open standardization constants file (divide by std) \n",
    "\n",
    "ds_std_tree = {}\n",
    "for L in Lkey:\n",
    "    #print(L)\n",
    "    ds = ds_tree_centered[L].to_dataset()\n",
    "\n",
    "    ds_var = list(ds.keys())\n",
    "    \n",
    "    ds_mask = ds_mask_tree[L].to_dataset().maskC\n",
    "    \n",
    "    try: \n",
    "        ds_std = xr.open_zarr('./STD_'+L+'_km.nc')\n",
    "        print('Found '+L+'km standard deviations on local')\n",
    "    except:\n",
    "        print('Not found')\n",
    "        ds_std = hf.compute_std(ds, ds_mask, slice(0,100))\n",
    "        ds_std.compute();\n",
    "        ds_std.to_zarr('./STD_'+L+'_km.nc')\n",
    "    \n",
    "    #ds_normalized = hf.normalize_ds(ds, ds_std)\n",
    "\n",
    "    ds_std_tree[L] = ds_std\n",
    "    \n",
    "ds_std_tree = DataTree.from_dict(ds_std_tree)"
   ]
  },
  {
   "cell_type": "markdown",
   "id": "5de35a4a-4563-436c-b7b4-12785e37b5b2",
   "metadata": {},
   "source": [
    "- Mask the test and train data appropriately\n",
    "- Split into test and train\n",
    "- Add variable for filter scale\n",
    "- Stack and merge into one. \n",
    "- batch \n",
    "- >> train"
   ]
  },
  {
   "cell_type": "code",
   "execution_count": 8,
   "id": "85144b75-d944-497a-b7d3-cf65366893fe",
   "metadata": {
    "tags": []
   },
   "outputs": [],
   "source": [
    "#%%time\n",
    "#ds_tree_centered_small.load();"
   ]
  },
  {
   "cell_type": "code",
   "execution_count": 9,
   "id": "9dc5f7fb-2075-47a4-9fa6-e087a8dc7d6c",
   "metadata": {
    "tags": []
   },
   "outputs": [],
   "source": [
    "ds_train, ds_test = hf.split_train_test(ds_tree_centered_small)"
   ]
  },
  {
   "cell_type": "code",
   "execution_count": 10,
   "id": "187d41de-1741-4bab-ab6f-bf2c74009af5",
   "metadata": {
    "tags": []
   },
   "outputs": [],
   "source": [
    "ds_train_stacked = ds_train.stack(points=('XC','YC','Z','time'))\n",
    "ds_test_stacked  = ds_test.stack(points=('XC','YC','Z','time'))"
   ]
  },
  {
   "cell_type": "code",
   "execution_count": 11,
   "id": "27c946ba-a04e-4313-8377-d0df5b8554aa",
   "metadata": {
    "tags": []
   },
   "outputs": [],
   "source": [
    "ds_test_concat = xr.concat([ds_test_stacked['50'].to_dataset(),\n",
    "                            ds_test_stacked['100'].to_dataset(),\n",
    "                            ds_test_stacked['200'].to_dataset(),\n",
    "                            ds_test_stacked['400'].to_dataset()], \n",
    "                           dim='points')\n",
    "\n",
    "ds_train_concat = xr.concat([ds_train_stacked['50'].to_dataset(),\n",
    "                            ds_train_stacked['100'].to_dataset(),\n",
    "                            ds_train_stacked['200'].to_dataset(),\n",
    "                            ds_train_stacked['400'].to_dataset()],\n",
    "                           dim='points')"
   ]
  },
  {
   "cell_type": "code",
   "execution_count": 12,
   "id": "80d4d0be-19da-403c-ab7c-9cdc8f89de55",
   "metadata": {
    "tags": []
   },
   "outputs": [],
   "source": [
    "ds_train_nonan = ds_train_concat.dropna('points', subset=['Sfnx'])\n",
    "ds_test_nonan  = ds_test_concat.dropna('points', subset=['Sfnx'])"
   ]
  },
  {
   "cell_type": "code",
   "execution_count": 13,
   "id": "e3c78537-1c04-4d07-aa63-4e9fab036fb1",
   "metadata": {
    "tags": []
   },
   "outputs": [
    {
     "name": "stdout",
     "output_type": "stream",
     "text": [
      "11101500 1665225\n"
     ]
    }
   ],
   "source": [
    "npoints_train = len(ds_train_nonan['Sfnx'])\n",
    "npoints_test = len(ds_test_nonan['Sfnx'])\n",
    "print(npoints_train, npoints_test)"
   ]
  },
  {
   "cell_type": "code",
   "execution_count": 14,
   "id": "e4107fe4-6847-4980-a7ae-14f40fd2b449",
   "metadata": {
    "tags": []
   },
   "outputs": [
    {
     "name": "stdout",
     "output_type": "stream",
     "text": [
      "CPU times: user 4min 32s, sys: 33.8 s, total: 5min 6s\n",
      "Wall time: 5min 38s\n"
     ]
    }
   ],
   "source": [
    "%%time\n",
    "\n",
    "ds_train_nonan.load();\n",
    "ds_test_nonan.load();"
   ]
  },
  {
   "cell_type": "code",
   "execution_count": 17,
   "id": "ead5239f-91dd-444f-a064-c06d856244f8",
   "metadata": {
    "tags": []
   },
   "outputs": [],
   "source": [
    "ds_train_randomized = ds_train_nonan.isel(points=np.random.choice(npoints_train, size=npoints_train, replace=False))\n",
    "ds_test_randomized  = ds_test_nonan.isel(points=np.random.choice(npoints_test, size=npoints_test, replace=False))"
   ]
  },
  {
   "cell_type": "code",
   "execution_count": 18,
   "id": "626749fe-ac87-4c03-87ed-0b91da75916f",
   "metadata": {
    "tags": []
   },
   "outputs": [
    {
     "name": "stdout",
     "output_type": "stream",
     "text": [
      "Not found\n"
     ]
    }
   ],
   "source": [
    "try: \n",
    "    ds_norms = xr.open_zarr('./STD_all_HOD.nc')\n",
    "    print('Found '+L+'km standard deviations on local')\n",
    "except:\n",
    "    print('Not found')\n",
    "    ds_norms = ds_train_randomized.std()\n",
    "    ds_norms.compute();\n",
    "    ds_norms.to_zarr('./STD_all_HOD.nc')"
   ]
  },
  {
   "cell_type": "code",
   "execution_count": 19,
   "id": "acc16e02-2ae5-4b4a-bdaf-9a1709d50e3f",
   "metadata": {
    "tags": []
   },
   "outputs": [],
   "source": [
    "ds_train_normalized = (ds_train_randomized / ds_norms)\n",
    "ds_test_normalized = (ds_test_randomized / ds_norms)"
   ]
  },
  {
   "cell_type": "code",
   "execution_count": 20,
   "id": "219ee9df-b5f5-40bd-b475-e5c81e4ee5e8",
   "metadata": {
    "tags": []
   },
   "outputs": [],
   "source": [
    "bgen_train = xbatcher.BatchGenerator(ds = ds_train_normalized, \n",
    "                               input_dims={},\n",
    "                               batch_dims={'points': int(756000/2)}   )\n",
    "\n",
    "bgen_test = xbatcher.BatchGenerator(ds = ds_test_normalized, \n",
    "                               input_dims={},\n",
    "                               batch_dims={'points': int(756000/2)}   )"
   ]
  },
  {
   "cell_type": "code",
   "execution_count": 21,
   "id": "2f4a2e88-923b-40cb-a37e-8b902d15c7e3",
   "metadata": {
    "tags": []
   },
   "outputs": [
    {
     "data": {
      "text/plain": [
       "(29, 4)"
      ]
     },
     "execution_count": 21,
     "metadata": {},
     "output_type": "execute_result"
    }
   ],
   "source": [
    "len(bgen_train), len(bgen_test)"
   ]
  },
  {
   "cell_type": "markdown",
   "id": "5c3d62ea-6284-4836-af83-7327745a168c",
   "metadata": {},
   "source": [
    "### ML model"
   ]
  },
  {
   "cell_type": "code",
   "execution_count": 81,
   "id": "0c603212-f80b-4250-8f38-5e3614af0b3b",
   "metadata": {
    "tags": []
   },
   "outputs": [],
   "source": [
    "# this is something we play with (I think 32, 24, 2 work quite well).\n",
    "\n",
    "size_name = 'small'\n",
    "layer_sizes = [24, 24, 2]\n",
    "\n",
    "#size_name = 'medium'\n",
    "#layer_sizes = [32, 32, 2]\n",
    "\n",
    "#size_name = 'large'\n",
    "#layer_sizes = [64, 64, 2]\n",
    "\n",
    "model, params = ml_hf.initialize_model(layer_sizes, len(input_channels) )"
   ]
  },
  {
   "cell_type": "code",
   "execution_count": 82,
   "id": "68287675-c6ae-459f-83b4-6b990ce55d34",
   "metadata": {
    "tags": []
   },
   "outputs": [
    {
     "name": "stdout",
     "output_type": "stream",
     "text": [
      "986\n"
     ]
    }
   ],
   "source": [
    "param_count = sum(x.size for x in jax.tree_util.tree_leaves(params))\n",
    "print(param_count)"
   ]
  },
  {
   "cell_type": "code",
   "execution_count": 83,
   "id": "b0541ea5-08db-43b1-bb85-70c2f24dc2d9",
   "metadata": {
    "tags": []
   },
   "outputs": [],
   "source": [
    "# setup loss function\n",
    "loss_grad_fn = jax.value_and_grad(ml_hf.mse) # more convenient function as it outputs both value and gradient."
   ]
  },
  {
   "cell_type": "code",
   "execution_count": 84,
   "id": "a2310fa5-444a-470b-b2c4-5d0a9ef09ec5",
   "metadata": {
    "tags": []
   },
   "outputs": [],
   "source": [
    "# Setup optimizer \n",
    "\n",
    "learning_rate = .01 # .05 for 100, .01 for 100, .05 for 100\n",
    "# Maybe useful if wanting to set learning rates manually: https://github.com/deepmind/optax/issues/4\n",
    "\n",
    "# Initialize optimizer\n",
    "tx = optax.adam(learning_rate=learning_rate)\n",
    "\n",
    "# Define training state \n",
    "state = train_state.TrainState.create(\n",
    "            apply_fn=model.apply, params=params, tx=tx)"
   ]
  },
  {
   "cell_type": "code",
   "execution_count": 85,
   "id": "a5984adb-792b-4fc1-86fc-e9f0c2d8e0f5",
   "metadata": {
    "tags": []
   },
   "outputs": [],
   "source": [
    "num_epochs = 201"
   ]
  },
  {
   "cell_type": "code",
   "execution_count": 86,
   "id": "211fb064-53c5-427e-b7de-26d17a344487",
   "metadata": {
    "tags": []
   },
   "outputs": [
    {
     "data": {
      "text/plain": [
       "True"
      ]
     },
     "execution_count": 86,
     "metadata": {},
     "output_type": "execute_result"
    }
   ],
   "source": [
    "# initialize for wandb\n",
    "import wandb\n",
    "wandb.login()"
   ]
  },
  {
   "cell_type": "code",
   "execution_count": 87,
   "id": "73497e14-520a-47ac-9ec3-16ad64c7f80b",
   "metadata": {
    "tags": []
   },
   "outputs": [
    {
     "data": {
      "text/html": [
       "Tracking run with wandb version 0.15.12"
      ],
      "text/plain": [
       "<IPython.core.display.HTML object>"
      ]
     },
     "metadata": {},
     "output_type": "display_data"
    },
    {
     "data": {
      "text/html": [
       "Run data is saved locally in <code>/home/jovyan/mesoscale_buoyancy_param_ML/train_models/wandb/run-20231006_143126-1oz0s2l7</code>"
      ],
      "text/plain": [
       "<IPython.core.display.HTML object>"
      ]
     },
     "metadata": {},
     "output_type": "display_data"
    },
    {
     "data": {
      "text/html": [
       "Syncing run <strong><a href='https://wandb.ai/m2lines/pointwise_oct_2023/runs/1oz0s2l7' target=\"_blank\">second_order, all, small</a></strong> to <a href='https://wandb.ai/m2lines/pointwise_oct_2023' target=\"_blank\">Weights & Biases</a> (<a href='https://wandb.me/run' target=\"_blank\">docs</a>)<br/>"
      ],
      "text/plain": [
       "<IPython.core.display.HTML object>"
      ]
     },
     "metadata": {},
     "output_type": "display_data"
    },
    {
     "data": {
      "text/html": [
       " View project at <a href='https://wandb.ai/m2lines/pointwise_oct_2023' target=\"_blank\">https://wandb.ai/m2lines/pointwise_oct_2023</a>"
      ],
      "text/plain": [
       "<IPython.core.display.HTML object>"
      ]
     },
     "metadata": {},
     "output_type": "display_data"
    },
    {
     "data": {
      "text/html": [
       " View run at <a href='https://wandb.ai/m2lines/pointwise_oct_2023/runs/1oz0s2l7' target=\"_blank\">https://wandb.ai/m2lines/pointwise_oct_2023/runs/1oz0s2l7</a>"
      ],
      "text/plain": [
       "<IPython.core.display.HTML object>"
      ]
     },
     "metadata": {},
     "output_type": "display_data"
    }
   ],
   "source": [
    "run = wandb.init(\n",
    "    # Set the project where this run will be logged\n",
    "    project=\"pointwise_oct_2023\",\n",
    "    # Track hyperparameters and run metadata\n",
    "    name=design_name + \", \"+ res_name + \", \" + size_name,\n",
    "    config={\n",
    "        \"scale\": Lkey,\n",
    "        \"learning_rate\": learning_rate,\n",
    "        \"epochs\": num_epochs,\n",
    "        \"layer_sizes\": layer_sizes,\n",
    "        \"inputs\": input_channels, \n",
    "        \"outputs\": output_channels,\n",
    "        \"date\": str(datetime.now()),\n",
    "        \"num params\":param_count\n",
    "    })"
   ]
  },
  {
   "cell_type": "code",
   "execution_count": 88,
   "id": "58606c8a-4133-4bb4-b662-e818ea56b8c0",
   "metadata": {
    "tags": []
   },
   "outputs": [],
   "source": [
    "# to track model\n",
    "train_loss = np.array([])\n",
    "test_loss = np.array([])"
   ]
  },
  {
   "cell_type": "code",
   "execution_count": 89,
   "id": "b9aeea9f-d41e-409e-b3e6-25e9855aae65",
   "metadata": {
    "tags": []
   },
   "outputs": [
    {
     "name": "stdout",
     "output_type": "stream",
     "text": [
      "Train loss step 0:  0.9635270381795948 test loss: 0.8127514719963074\n",
      "Train loss step 10:  0.21882310972131533 test loss: 0.2267923429608345\n",
      "Train loss step 20:  0.1794810752416479 test loss: 0.18815046176314354\n",
      "Train loss step 30:  0.16950568916468783 test loss: 0.17826944217085838\n",
      "Train loss step 40:  0.1635751898946433 test loss: 0.1721809320151806\n",
      "Train loss step 50:  0.15883658106984763 test loss: 0.16814394667744637\n",
      "Train loss step 60:  0.1552692256097136 test loss: 0.1638949103653431\n",
      "Train loss step 70:  0.15085116850918737 test loss: 0.15888937562704086\n",
      "Train loss step 80:  0.14914553689545598 test loss: 0.1622294746339321\n",
      "Train loss step 90:  0.14821235116185813 test loss: 0.15527566522359848\n",
      "Train loss step 100:  0.146158736841432 test loss: 0.15490994229912758\n",
      "Train loss step 110:  0.14536011219024658 test loss: 0.15418944135308266\n",
      "Train loss step 120:  0.14423763700600328 test loss: 0.1524406336247921\n",
      "Train loss step 130:  0.14558340660456953 test loss: 0.15173499658703804\n",
      "Train loss step 140:  0.14274310911523885 test loss: 0.15153728425502777\n",
      "Train loss step 150:  0.1443280921927814 test loss: 0.15169557556509972\n",
      "Train loss step 160:  0.14212297211433278 test loss: 0.1503560096025467\n",
      "Train loss step 170:  0.14242336102600756 test loss: 0.1490410938858986\n",
      "Train loss step 180:  0.14291325314291592 test loss: 0.1494182012975216\n",
      "Train loss step 190:  0.1426266503745112 test loss: 0.148393414914608\n",
      "Train loss step 200:  0.14114087049303384 test loss: 0.14807764068245888\n",
      "CPU times: user 8min 15s, sys: 1min 36s, total: 9min 52s\n",
      "Wall time: 8min\n"
     ]
    }
   ],
   "source": [
    "%%time\n",
    "# Main training loop\n",
    "\n",
    "\n",
    "for i in range(num_epochs):\n",
    "    n=0\n",
    "    \n",
    "    loss_temp = np.array([]) # temp array to save batches\n",
    "    for batch in bgen_train:\n",
    "        \n",
    "        #batch = ml_hf.zero_nans(batch, 'uTbyT_z')\n",
    "        X_train = jnp.asarray(batch[input_channels].to_array().transpose(...,'variable').data)\n",
    "        y_train = jnp.asarray(batch[output_channels].to_array().transpose(...,'variable').data)\n",
    "        \n",
    "        \n",
    "        # Compute gradients and update parameters and optimizer state \n",
    "        loss_val, grads = loss_grad_fn(state.params, state.apply_fn, X_train, y_train)\n",
    "        state = state.apply_gradients(grads=grads)\n",
    "        \n",
    "        loss_temp = np.append(loss_temp, loss_val)\n",
    "    \n",
    "    \n",
    "    train_loss = np.append(train_loss, np.mean(loss_temp))\n",
    "    \n",
    "    test_loss_temp = np.array([])\n",
    "    for batch in bgen_test:\n",
    "        \n",
    "        #batch = ml_hf.zero_nans(batch, 'uTbyT_z')\n",
    "        X_test = jnp.asarray(batch[input_channels].to_array().transpose(...,'variable').data)\n",
    "        y_test = jnp.asarray(batch[output_channels].to_array().transpose(...,'variable').data)\n",
    "        \n",
    "        test_loss_temp = np.append(test_loss_temp, ml_hf.mse(state.params, state.apply_fn, X_test, y_test))\n",
    "    \n",
    "    test_loss = np.append(test_loss, np.mean(test_loss_temp))\n",
    "    wandb.log({'train_loss': train_loss[-1], 'test_loss': test_loss[-1]})\n",
    "    if i % 10  == 0:\n",
    "        print(f'Train loss step {i}: ', train_loss[-1], f'test loss:', test_loss[-1])"
   ]
  },
  {
   "cell_type": "code",
   "execution_count": 90,
   "id": "b8e2a3f3-07b9-4a48-85eb-8b1bd33646e0",
   "metadata": {
    "tags": []
   },
   "outputs": [
    {
     "data": {
      "image/png": "[encoded data removed]",
      "text/plain": [
       "<Figure size 640x480 with 1 Axes>"
      ]
     },
     "metadata": {},
     "output_type": "display_data"
    }
   ],
   "source": [
    "fig, ax = plt.subplots()\n",
    "\n",
    "ax.plot(train_loss, label='Training loss')\n",
    "ax.plot(test_loss, label='Test loss')\n",
    "\n",
    "ax.set_title('Loss curve for all filter scales')\n",
    "ax.grid()\n",
    "ax.set_yscale('log')\n",
    "ax.legend()\n",
    "\n",
    "fig.savefig('figures/'+res_name+'_km'+'/loss_curve_'+size_name+'.png')\n",
    "\n",
    "run.log({\"loss_curve\": wandb.Image(fig)})"
   ]
  },
  {
   "cell_type": "code",
   "execution_count": 91,
   "id": "149f358d-05ce-422e-ba4e-5ee87aa88659",
   "metadata": {
    "tags": []
   },
   "outputs": [
    {
     "data": {
      "text/plain": [
       "'ckpts_single_all_res_small_second_order/checkpoint_1'"
      ]
     },
     "execution_count": 91,
     "metadata": {},
     "output_type": "execute_result"
    }
   ],
   "source": [
    "# Save the checkpoint\n",
    "CKPT_DIR = 'ckpts_single_'+res_name+'_res_'+size_name+'_'+design_name\n",
    "checkpoints.save_checkpoint(ckpt_dir=CKPT_DIR, target=state, step=1, overwrite=True)"
   ]
  },
  {
   "cell_type": "code",
   "execution_count": 92,
   "id": "6c773a5e-447f-463a-8d58-d6fc5dbaf52f",
   "metadata": {
    "tags": []
   },
   "outputs": [],
   "source": [
    "# Read back from the checkpoint\n",
    "\n",
    "state = checkpoints.restore_checkpoint(ckpt_dir=CKPT_DIR, target=state)"
   ]
  },
  {
   "cell_type": "code",
   "execution_count": 93,
   "id": "208e6be1-4186-43f6-9a64-c8069927b61d",
   "metadata": {
    "tags": []
   },
   "outputs": [],
   "source": [
    "input_norms = np.zeros((len(input_channels),))\n",
    "\n",
    "for n, i in enumerate(input_channels):\n",
    "    #print(i + '=' + str(ds_std[i].values))\n",
    "    input_norms[n] = ds_norms[i].values\n",
    "    \n",
    "output_norms = np.zeros((len(output_channels),))\n",
    "\n",
    "for n, i in enumerate(output_channels):\n",
    "    #print(i + '=' + str(ds_std[i].values))\n",
    "    output_norms[n] = ds_norms[i].values\n",
    "    \n",
    "ds_layers = xr.Dataset()\n",
    "\n",
    "ds_layers['layer_sizes'] = xr.DataArray(np.array([len(input_channels),24, 24, len(output_channels)]).astype('int32'), dims=['num_layers'])\n",
    "\n",
    "ds_layers['A0'] = xr.DataArray(np.array(state.params['params']['layers_0']['kernel']).astype('float32'), dims=['input', 'layer1'])\n",
    "ds_layers['b0'] = xr.DataArray(np.array(state.params['params']['layers_0']['bias']).astype('float32'), dims=['layer1'])\n",
    "\n",
    "ds_layers['A1'] = xr.DataArray(np.array(state.params['params']['layers_1']['kernel']).astype('float32'), dims=['layer1', 'layer2'])\n",
    "ds_layers['b1'] = xr.DataArray(np.array(state.params['params']['layers_1']['bias']).astype('float32'), dims=['layer2'])\n",
    "\n",
    "ds_layers['A2'] = xr.DataArray(np.array(state.params['params']['layers_2']['kernel']).astype('float32'), dims=['layer2', 'output'])\n",
    "ds_layers['b2'] = xr.DataArray(np.array(state.params['params']['layers_2']['bias']).astype('float32'), dims=['output'])\n",
    "\n",
    "ds_layers['input_norms'] = xr.DataArray(input_norms.astype('float32'), dims=['input'])\n",
    "ds_layers['output_norms'] = xr.DataArray(output_norms.astype('float32'), dims=['output'])"
   ]
  },
  {
   "cell_type": "code",
   "execution_count": 94,
   "id": "4a3374e6-49d7-477e-af2a-dff9e7d53174",
   "metadata": {
    "tags": []
   },
   "outputs": [],
   "source": [
    "nc_name = 'ann_params_'+res_name+'_res_'+size_name+'_'+design_name+'.nc'\n",
    "ds_layers.to_netcdf(nc_name, mode='w')"
   ]
  },
  {
   "cell_type": "markdown",
   "id": "93d75026-5a92-4e89-bf21-949acde9e086",
   "metadata": {},
   "source": [
    "### Check if the model is doing well. "
   ]
  },
  {
   "cell_type": "code",
   "execution_count": 95,
   "id": "78b2e3ab-ab49-4147-83ff-d685467a4c1c",
   "metadata": {
    "tags": []
   },
   "outputs": [],
   "source": [
    "def R2_score(true, pred, dims = ['XC', 'YC', 'Z', 'time']):\n",
    "    RSS = ((true  - pred)**2).mean(dims)\n",
    "    TSS = ((true)**2).mean(dims)\n",
    "    R2 = 1 - RSS/TSS\n",
    "    return R2 \n",
    "\n",
    "def corr(true, pred, dims=['XC', 'YC', 'time','Z']):\n",
    "    RSS = ((true - true.mean(dims))* (pred - pred.mean(dims))).mean(dims)\n",
    "    TSS1 = ((true - true.mean(dims))**2).mean(dims)\n",
    "    TSS2 = ((pred - pred.mean(dims))**2).mean(dims)\n",
    "   \n",
    "    corr =  RSS/(TSS1**0.5 * TSS2**0.5)\n",
    "    return corr"
   ]
  },
  {
   "cell_type": "code",
   "execution_count": 96,
   "id": "2dd07976-14a8-4f99-8c9b-19d5670e6d92",
   "metadata": {
    "tags": []
   },
   "outputs": [],
   "source": [
    "R2_all = np.zeros((4,2))\n",
    "corr_all = np.zeros((4,2))\n",
    "\n",
    "for i, L in enumerate(Lkey):\n",
    "    ds_mask = ds_mask_tree[L].ds.maskC\n",
    "    ds_test = ds_tree_centered[L].ds.isel(time=slice(-10,-1)).where(ds_mask>0.99999).sel(YC=slice(400e3, 1600e3), Z=slice(-200, -2000))\n",
    "\n",
    "    ds_test_normalized = ds_test/ds_norms\n",
    "\n",
    "    y_pred = state.apply_fn(state.params, \n",
    "                            ds_test_normalized[input_channels].to_array().transpose(...,'variable'))\n",
    "\n",
    "    dims = ds_test[output_channels].to_array().transpose(...,'variable').dims\n",
    "    coords = ds_test[output_channels].to_array().transpose(...,'variable').coords\n",
    "\n",
    "    ds_pred = xr.DataArray(y_pred, dims=dims, coords=coords).to_dataset(dim='variable')\n",
    "    \n",
    "    R2_all[i,0] = R2_score(ds_test_normalized, ds_pred).Sfnx.values\n",
    "    R2_all[i,1] = R2_score(ds_test_normalized, ds_pred).Sfny.values\n",
    "    \n",
    "    corr_all[i,0] = corr(ds_test_normalized, ds_pred).Sfnx.values\n",
    "    corr_all[i,1] = corr(ds_test_normalized, ds_pred).Sfny.values"
   ]
  },
  {
   "cell_type": "code",
   "execution_count": 97,
   "id": "494f4b23-4608-4401-911e-0aef574c8b32",
   "metadata": {
    "tags": []
   },
   "outputs": [
    {
     "data": {
      "text/plain": [
       "array([[0.9038385 , 0.91306066],\n",
       "       [0.92327547, 0.93187665],\n",
       "       [0.87889361, 0.90770561],\n",
       "       [0.80980159, 0.82745177]])"
      ]
     },
     "execution_count": 97,
     "metadata": {},
     "output_type": "execute_result"
    }
   ],
   "source": [
    "R2_all"
   ]
  },
  {
   "cell_type": "code",
   "execution_count": 98,
   "id": "73e8e1bd-6a3a-4ab0-99ec-f78fdc519a4f",
   "metadata": {
    "tags": []
   },
   "outputs": [
    {
     "data": {
      "text/plain": [
       "array([[0.95165535, 0.95647137],\n",
       "       [0.96113628, 0.96515276],\n",
       "       [0.93723851, 0.95036184],\n",
       "       [0.89912017, 0.89602886]])"
      ]
     },
     "execution_count": 98,
     "metadata": {},
     "output_type": "execute_result"
    }
   ],
   "source": [
    "corr_all"
   ]
  },
  {
   "cell_type": "code",
   "execution_count": 99,
   "id": "2374ca4d-8bcd-4ef8-b52e-bee8fdf3b047",
   "metadata": {
    "tags": []
   },
   "outputs": [
    {
     "name": "stderr",
     "output_type": "stream",
     "text": [
      "/tmp/ipykernel_2077/3345578052.py:19: UserWarning: The figure layout has changed to tight\n",
      "  plt.tight_layout()\n"
     ]
    },
    {
     "data": {
      "image/png": "[encoded data removed]",
      "text/plain": [
       "<Figure size 800x360 with 2 Axes>"
      ]
     },
     "metadata": {},
     "output_type": "display_data"
    }
   ],
   "source": [
    "fig = plt.figure(figsize=(8 , 3.6))\n",
    "\n",
    "plt.subplot(121)\n",
    "plt.plot(Lkey, R2_all, label=['X', 'Y'])\n",
    "plt.ylim([0., 1.])\n",
    "plt.xlabel('Scale [km]')\n",
    "plt.ylabel('R2')\n",
    "plt.legend()\n",
    "plt.grid()\n",
    "\n",
    "plt.subplot(122)\n",
    "plt.plot(Lkey, corr_all)\n",
    "plt.ylim([0., 1.])\n",
    "plt.tight_layout()\n",
    "plt.xlabel('Scale [km]')\n",
    "plt.ylabel('Correlation')\n",
    "plt.grid()\n",
    "\n",
    "plt.tight_layout()\n",
    "run.log({\"R2&Corr\": wandb.Image(fig)})"
   ]
  },
  {
   "cell_type": "code",
   "execution_count": 80,
   "id": "4af2aa7d-6a24-4438-b139-f6e4e586cec3",
   "metadata": {},
   "outputs": [
    {
     "data": {
      "text/html": [
       "Waiting for W&B process to finish... <strong style=\"color:green\">(success).</strong>"
      ],
      "text/plain": [
       "<IPython.core.display.HTML object>"
      ]
     },
     "metadata": {},
     "output_type": "display_data"
    },
    {
     "data": {
      "text/html": [
       "<style>\n",
       "    table.wandb td:nth-child(1) { padding: 0 10px; text-align: left ; width: auto;} td:nth-child(2) {text-align: left ; width: 100%}\n",
       "    .wandb-row { display: flex; flex-direction: row; flex-wrap: wrap; justify-content: flex-start; width: 100% }\n",
       "    .wandb-col { display: flex; flex-direction: column; flex-basis: 100%; flex: 1; padding: 10px; }\n",
       "    </style>\n",
       "<div class=\"wandb-row\"><div class=\"wandb-col\"><h3>Run history:</h3><br/><table class=\"wandb\"><tr><td>test_loss</td><td>█▃▂▂▂▂▁▁▁▁▁▁▁▁▁▁▁▁▁▁▁▁▁▁▁▁▁▁▁▁▁▁▁▁▁▁▁▁▁▁</td></tr><tr><td>train_loss</td><td>█▃▂▂▂▂▁▁▁▁▁▁▁▁▁▁▁▁▁▁▁▁▁▁▁▁▁▁▁▁▁▁▁▁▁▁▁▁▁▁</td></tr></table><br/></div><div class=\"wandb-col\"><h3>Run summary:</h3><br/><table class=\"wandb\"><tr><td>test_loss</td><td>0.10761</td></tr><tr><td>train_loss</td><td>0.10003</td></tr></table><br/></div></div>"
      ],
      "text/plain": [
       "<IPython.core.display.HTML object>"
      ]
     },
     "metadata": {},
     "output_type": "display_data"
    },
    {
     "data": {
      "text/html": [
       " View run <strong style=\"color:#cdcd00\">second_order, all, large</strong> at: <a href='https://wandb.ai/m2lines/pointwise_oct_2023/runs/sfgk4e7c' target=\"_blank\">https://wandb.ai/m2lines/pointwise_oct_2023/runs/sfgk4e7c</a><br/> View job at <a href='https://wandb.ai/m2lines/pointwise_oct_2023/jobs/QXJ0aWZhY3RDb2xsZWN0aW9uOjEwNDcyMTQ0Mw==/version_details/v0' target=\"_blank\">https://wandb.ai/m2lines/pointwise_oct_2023/jobs/QXJ0aWZhY3RDb2xsZWN0aW9uOjEwNDcyMTQ0Mw==/version_details/v0</a><br/>Synced 6 W&B file(s), 2 media file(s), 0 artifact file(s) and 0 other file(s)"
      ],
      "text/plain": [
       "<IPython.core.display.HTML object>"
      ]
     },
     "metadata": {},
     "output_type": "display_data"
    },
    {
     "data": {
      "text/html": [
       "Find logs at: <code>./wandb/run-20231006_142127-sfgk4e7c/logs</code>"
      ],
      "text/plain": [
       "<IPython.core.display.HTML object>"
      ]
     },
     "metadata": {},
     "output_type": "display_data"
    }
   ],
   "source": [
    "run.finish()"
   ]
  },
  {
   "cell_type": "code",
   "execution_count": null,
   "id": "0d6357d0-d5e2-427f-a408-f90d1e2f57bc",
   "metadata": {},
   "outputs": [],
   "source": []
  }
 ],
 "metadata": {
  "kernelspec": {
   "display_name": "Python 3 (ipykernel)",
   "language": "python",
   "name": "python3"
  },
  "language_info": {
   "codemirror_mode": {
    "name": "ipython",
    "version": 3
   },
   "file_extension": ".py",
   "mimetype": "text/x-python",
   "name": "python",
   "nbconvert_exporter": "python",
   "pygments_lexer": "ipython3",
   "version": "3.10.12"
  }
 },
 "nbformat": 4,
 "nbformat_minor": 5
}
