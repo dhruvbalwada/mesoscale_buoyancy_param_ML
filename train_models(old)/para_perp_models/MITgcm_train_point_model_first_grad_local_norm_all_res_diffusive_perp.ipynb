{
 "cells": [
  {
   "cell_type": "markdown",
   "id": "a0e7cba6-6c6d-4163-acc9-493d17697d2f",
   "metadata": {},
   "source": [
    "## Train pointwise ML model using first order gradients, but on wider stencil. Also with local norm.\n",
    "## Also using the parallel perp division \n",
    "## also force the perp component to be downgradient diffusion\n",
    "\n",
    "Taking inspiration from LES gradient models we train a ML model using the first order gradients of velocity and slopes as input. The output will be the streamfunction. "
   ]
  },
  {
   "cell_type": "markdown",
   "id": "95dcadbd-3ee5-4c09-b189-0f130c7584e4",
   "metadata": {},
   "source": [
    "Here we attempt to a local normalization, with the hope that this helps improve the model performance. \n",
    "\n",
    "\n",
    "$$\n",
    "\\mathbf{\\Psi} = \\triangle x^2 |\\nabla \\overline{\\mathbf{u}}| |\\overline{\\mathbf{S}}| g_{nn} (\\nabla \\overline{\\mathbf{u}}/|\\nabla \\overline{\\mathbf{u}}|, \\overline{\\mathbf{S}}/|\\overline{\\mathbf{S}}|)\n",
    "$$\n",
    "\n",
    "\n",
    "Here the idea is that $g_{nn}$ may learn something that is less reliant on the amplitudes of simulation. Here the magnitudes of the velocity gradients and slopes are local, so calculated over the quantities over the region that the prediction is made. \n",
    "\n",
    "A more general form will be of the type:\n",
    "\n",
    "$$\n",
    "\\mathbf{\\Psi} = \\triangle x^2 |\\nabla \\overline{\\mathbf{u}}| |\\overline{\\mathbf{S}}| g_{nn} (\\nabla \\overline{\\mathbf{u}}/|\\nabla \\overline{\\mathbf{u}}|, \\overline{\\mathbf{S}}/|\\overline{\\mathbf{S}}|, \\triangle x)\n",
    "$$ \n",
    "But then the question becomes if we want to let the nn adjust based on the length scales, or if we think that the g may be scale invariant (or we adjust some coeff in front). "
   ]
  },
  {
   "cell_type": "code",
   "execution_count": 1,
   "id": "ad043a62-6446-40b0-8bd7-8712907e3300",
   "metadata": {},
   "outputs": [],
   "source": [
    "import warnings\n",
    "\n",
    "# Ignore all warnings\n",
    "warnings.filterwarnings(\"ignore\")"
   ]
  },
  {
   "cell_type": "code",
   "execution_count": 2,
   "id": "dca44cb6-627e-429d-89d6-60b0e98062be",
   "metadata": {
    "tags": []
   },
   "outputs": [],
   "source": [
    "import matplotlib.pyplot as plt\n",
    "import numpy as np\n",
    "import xarray as xr"
   ]
  },
  {
   "cell_type": "code",
   "execution_count": 3,
   "id": "9db7b11a-4742-4a72-b6e1-798605887040",
   "metadata": {
    "tags": []
   },
   "outputs": [],
   "source": [
    "import sys\n",
    "sys.path.append('../../modules/')"
   ]
  },
  {
   "cell_type": "code",
   "execution_count": 4,
   "id": "089dd712-243a-4910-85c5-a201d181ff2c",
   "metadata": {
    "tags": []
   },
   "outputs": [
    {
     "name": "stderr",
     "output_type": "stream",
     "text": [
      "2024-03-10 16:36:05.403241: E tensorflow/compiler/xla/stream_executor/cuda/cuda_dnn.cc:9342] Unable to register cuDNN factory: Attempting to register factory for plugin cuDNN when one has already been registered\n",
      "2024-03-10 16:36:05.403265: E tensorflow/compiler/xla/stream_executor/cuda/cuda_fft.cc:609] Unable to register cuFFT factory: Attempting to register factory for plugin cuFFT when one has already been registered\n",
      "2024-03-10 16:36:05.403271: E tensorflow/compiler/xla/stream_executor/cuda/cuda_blas.cc:1518] Unable to register cuBLAS factory: Attempting to register factory for plugin cuBLAS when one has already been registered\n"
     ]
    }
   ],
   "source": [
    "%reload_ext autoreload\n",
    "%autoreload 2\n",
    "import datasets\n",
    "import ML_classes"
   ]
  },
  {
   "cell_type": "code",
   "execution_count": 5,
   "id": "3d8e3f6f-4dc2-44e9-ad01-6acc930b483d",
   "metadata": {},
   "outputs": [],
   "source": [
    "kind = 'MITgcm'\n",
    "MITgcm_bucket ='gs://leap-persistent/dhruvbalwada/m2lines_transfer'\n",
    "\n",
    "window_size=1\n",
    "\n",
    "#fname = f'{MITgcm_bucket}/ML_data/ds_ML_'+L+'km_3D'\n",
    "    \n",
    "# Open dataset\n",
    "ML_data = datasets.MITgcm_all_transformer('-', '-', \n",
    "                                      input_channels=['U_x', 'U_y', \n",
    "                                                      'V_x', 'V_y', \n",
    "                                                      'Sx', 'Sy'])"
   ]
  },
  {
   "cell_type": "code",
   "execution_count": 6,
   "id": "5efe17a1-a8f9-4897-803a-ccaf8bf227f6",
   "metadata": {},
   "outputs": [
    {
     "name": "stdout",
     "output_type": "stream",
     "text": [
      "Dataset loaded from gs://leap-persistent/dhruvbalwada/m2lines_transfer/ML_data/ds_ML_50km_3D\n",
      "Centered\n",
      "Out para perp\n",
      "Dataset loaded from gs://leap-persistent/dhruvbalwada/m2lines_transfer/ML_data/ds_ML_100km_3D\n",
      "Centered\n",
      "Out para perp\n",
      "Dataset loaded from gs://leap-persistent/dhruvbalwada/m2lines_transfer/ML_data/ds_ML_200km_3D\n",
      "Centered\n",
      "Out para perp\n",
      "Dataset loaded from gs://leap-persistent/dhruvbalwada/m2lines_transfer/ML_data/ds_ML_400km_3D\n",
      "Centered\n",
      "Out para perp\n"
     ]
    }
   ],
   "source": [
    "ML_data.read_datatree(MITgcm_bucket, keep_filt_scale=True, para_perp_out=True)"
   ]
  },
  {
   "cell_type": "code",
   "execution_count": 7,
   "id": "e210ef58-6fc1-4d28-a2eb-d19ac565d7ba",
   "metadata": {},
   "outputs": [
    {
     "name": "stdout",
     "output_type": "stream",
     "text": [
      "Test and train batches split. Number of batches: 44-4\n"
     ]
    }
   ],
   "source": [
    "%%time\n",
    "ML_data.generate_test_train_batches(normalize=False)"
   ]
  },
  {
   "cell_type": "code",
   "execution_count": 42,
   "id": "c515f8a3-4d06-4a28-95ab-e541b3cf44ad",
   "metadata": {},
   "outputs": [
    {
     "name": "stdout",
     "output_type": "stream",
     "text": [
      "Diffuse\n"
     ]
    }
   ],
   "source": [
    "ANN_model = ML_classes.ANN(num_in = len(ML_data.input_channels), diffuse=True)"
   ]
  },
  {
   "cell_type": "code",
   "execution_count": 43,
   "id": "a0b206a3-37ec-4f67-95ce-664399078337",
   "metadata": {},
   "outputs": [],
   "source": [
    "regress_sys = ML_classes.RegressionSystem(ANN_model, local_norm=True, diffuse=False)"
   ]
  },
  {
   "cell_type": "code",
   "execution_count": 44,
   "id": "5ed1683e-227d-4ea5-a6d1-f87dae20b5a4",
   "metadata": {},
   "outputs": [
    {
     "name": "stdout",
     "output_type": "stream",
     "text": [
      "Train loss step 0:  11.624622041528875 test loss: 7.25203001499176\n",
      "Train loss step 1:  6.532819466157393 test loss: 6.8915135860443115\n",
      "Train loss step 2:  6.344367742538452 test loss: 6.760765314102173\n",
      "Train loss step 3:  6.245135914195668 test loss: 6.679792165756226\n",
      "Train loss step 4:  6.176493146202781 test loss: 6.620230436325073\n",
      "Train loss step 5:  6.132755420424721 test loss: 6.589184761047363\n",
      "Train loss step 6:  6.103092659603465 test loss: 6.566442608833313\n",
      "Train loss step 7:  6.0832989540967075 test loss: 6.548305869102478\n",
      "Train loss step 8:  6.067107330669057 test loss: 6.529115200042725\n",
      "Train loss step 9:  6.051297556270253 test loss: 6.520263910293579\n",
      "Train loss step 10:  6.040101116353815 test loss: 6.509528040885925\n",
      "Train loss step 11:  6.031793453476646 test loss: 6.4998250007629395\n",
      "Train loss step 12:  6.0259492288936265 test loss: 6.4938249588012695\n",
      "Train loss step 13:  6.020215153694153 test loss: 6.488789439201355\n",
      "Train loss step 14:  6.014379815621809 test loss: 6.480487585067749\n",
      "Train loss step 15:  6.0110402432355015 test loss: 6.475536227226257\n",
      "Train loss step 16:  6.007918921383944 test loss: 6.471925377845764\n",
      "Train loss step 17:  6.00499846718528 test loss: 6.468942403793335\n",
      "Train loss step 18:  6.002250714735552 test loss: 6.466342926025391\n",
      "Train loss step 19:  5.999620643529025 test loss: 6.4640793800354\n",
      "Train loss step 20:  5.997380495071411 test loss: 6.4618775844573975\n",
      "Train loss step 21:  5.99512639912692 test loss: 6.459658622741699\n",
      "Train loss step 22:  5.99267181483182 test loss: 6.457669019699097\n",
      "Train loss step 23:  5.9904174913059585 test loss: 6.455333948135376\n",
      "Train loss step 24:  5.988347617062655 test loss: 6.453266859054565\n",
      "Train loss step 25:  5.986206368966536 test loss: 6.451142072677612\n",
      "Train loss step 26:  5.984221913597801 test loss: 6.449151158332825\n",
      "Train loss step 27:  5.982372218912298 test loss: 6.447229862213135\n",
      "Train loss step 28:  5.980450229211287 test loss: 6.445095539093018\n",
      "Train loss step 29:  5.978783347389915 test loss: 6.4430224895477295\n",
      "Train loss step 30:  5.977027546275746 test loss: 6.440883040428162\n",
      "CPU times: user 29min 29s, sys: 49.3 s, total: 30min 19s\n",
      "Wall time: 25min 42s\n"
     ]
    }
   ],
   "source": [
    "%%time\n",
    "regress_sys.train_system(ML_data, 31, 1)"
   ]
  },
  {
   "cell_type": "code",
   "execution_count": null,
   "id": "b54d7c97-89b2-40c7-bb17-099907c7475b",
   "metadata": {},
   "outputs": [],
   "source": []
  },
  {
   "cell_type": "code",
   "execution_count": null,
   "id": "6008135b-f11e-4ea1-b7a8-46f1498bb373",
   "metadata": {},
   "outputs": [],
   "source": []
  },
  {
   "cell_type": "code",
   "execution_count": null,
   "id": "d8390a8e-57b8-4bad-9d36-8e76068216a0",
   "metadata": {},
   "outputs": [],
   "source": []
  },
  {
   "cell_type": "code",
   "execution_count": null,
   "id": "6b87decd-6f88-46de-9c3e-66b06d2c44cb",
   "metadata": {},
   "outputs": [],
   "source": []
  },
  {
   "cell_type": "code",
   "execution_count": 45,
   "id": "f24aefca-7f64-4c58-8146-a21fa2221023",
   "metadata": {},
   "outputs": [
    {
     "data": {
      "text/plain": [
       "<matplotlib.legend.Legend at 0x7c0bd2040fd0>"
      ]
     },
     "execution_count": 45,
     "metadata": {},
     "output_type": "execute_result"
    },
    {
     "data": {
      "image/png": "[encoded data removed]",
      "text/plain": [
       "<Figure size 640x480 with 1 Axes>"
      ]
     },
     "metadata": {},
     "output_type": "display_data"
    }
   ],
   "source": [
    "## Loss plot\n",
    "plt.plot(regress_sys.train_loss, label='Training loss, '+str(regress_sys.train_loss[-1]))\n",
    "plt.plot(regress_sys.test_loss, label='Test loss'+str(regress_sys.test_loss[-1]))\n",
    "\n",
    "plt.title('Loss curve')\n",
    "plt.grid()\n",
    "plt.yscale('log')\n",
    "plt.legend()"
   ]
  },
  {
   "cell_type": "code",
   "execution_count": 47,
   "id": "0d840a33-61a4-474e-9d1c-b80fb9a38758",
   "metadata": {},
   "outputs": [],
   "source": [
    "# Save the checkpoint\n",
    "CKPT_DIR = '/home/jovyan/mesoscale_buoyancy_param_ML/ML_checkpoints/ckpts_all_MITgcm_window_1_local_norm_true_out_para_perp_diffuse'\n",
    "regress_sys.save_checkpoint(CKPT_DIR)\n",
    "\n",
    "# Save model nc file\n",
    "model_nc = '/home/jovyan/mesoscale_buoyancy_param_ML/ML_model_ncs/' +'MITgcm_all_window_1_local_norm_true_out_para_perp_diffuse'+'.nc'\n",
    "regress_sys.save_weights_nc(model_nc)"
   ]
  },
  {
   "cell_type": "code",
   "execution_count": null,
   "id": "f6d087a0-d292-42c7-b789-98817f6c2654",
   "metadata": {},
   "outputs": [],
   "source": []
  }
 ],
 "metadata": {
  "kernelspec": {
   "display_name": "Python 3 (ipykernel)",
   "language": "python",
   "name": "python3"
  },
  "language_info": {
   "codemirror_mode": {
    "name": "ipython",
    "version": 3
   },
   "file_extension": ".py",
   "mimetype": "text/x-python",
   "name": "python",
   "nbconvert_exporter": "python",
   "pygments_lexer": "ipython3",
   "version": "3.11.7"
  }
 },
 "nbformat": 4,
 "nbformat_minor": 5
}
