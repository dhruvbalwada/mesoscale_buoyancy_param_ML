{
 "cells": [
  {
   "cell_type": "markdown",
   "id": "9fcb28a0-4811-474a-9e53-a447f0c52ed7",
   "metadata": {},
   "source": [
    "### Train ML model using MOM6 data long run"
   ]
  },
  {
   "cell_type": "code",
   "execution_count": 1,
   "id": "c9c8f8eb-843a-4386-9a78-b3baaa5073bd",
   "metadata": {
    "tags": []
   },
   "outputs": [
    {
     "name": "stderr",
     "output_type": "stream",
     "text": [
      "WARNING:absl:GlobalAsyncCheckpointManager is not imported correctly. Checkpointing of GlobalDeviceArrays will not be available.To use the feature, install tensorstore.\n"
     ]
    }
   ],
   "source": [
    "import xarray as xr\n",
    "import numpy as np \n",
    "\n",
    "import jax\n",
    "from typing import Any, Callable, Sequence\n",
    "from jax import lax, random, numpy as jnp\n",
    "#from flax.core import freeze, unfreeze\n",
    "from flax import linen as nn\n",
    "from flax.training import train_state \n",
    "from flax.training import checkpoints\n",
    "import flax\n",
    "flax.config.update('flax_use_orbax_checkpointing', True)\n",
    "\n",
    "import optax\n",
    "import xbatcher\n",
    "import fsspec\n",
    "\n",
    "#import hvplot.xarray\n",
    "\n",
    "import matplotlib.pyplot as plt\n",
    "from datatree import DataTree\n",
    "from datatree import open_datatree\n",
    "\n",
    "from datetime import datetime\n",
    "\n",
    "import xgcm\n",
    "\n",
    "import sys\n",
    "\n",
    "sys.path.append('../../modules/')\n",
    "import helper_func as hf\n",
    "import ml_helper_func as ml_hf"
   ]
  },
  {
   "cell_type": "code",
   "execution_count": 2,
   "id": "9fdfe6a7-86c4-4019-9b93-e0a5433f81eb",
   "metadata": {
    "tags": []
   },
   "outputs": [],
   "source": [
    "import os\n",
    "PERSISTENT_BUCKET = os.environ['PERSISTENT_BUCKET']"
   ]
  },
  {
   "cell_type": "code",
   "execution_count": 3,
   "id": "132214b2-4b93-4bc2-97cc-6fa3630e4eaf",
   "metadata": {
    "tags": []
   },
   "outputs": [
    {
     "name": "stderr",
     "output_type": "stream",
     "text": [
      "\u001b[34m\u001b[1mwandb\u001b[0m: Currently logged in as: \u001b[33mdhruvbalwada\u001b[0m (\u001b[33mm2lines\u001b[0m). Use \u001b[1m`wandb login --relogin`\u001b[0m to force relogin\n"
     ]
    },
    {
     "data": {
      "text/plain": [
       "True"
      ]
     },
     "execution_count": 3,
     "metadata": {},
     "output_type": "execute_result"
    }
   ],
   "source": [
    "# initialize for wandb\n",
    "import wandb\n",
    "wandb.login()"
   ]
  },
  {
   "cell_type": "code",
   "execution_count": 4,
   "id": "664157a2-4bdd-4fc5-99b3-5f9b8d91b9b0",
   "metadata": {
    "tags": []
   },
   "outputs": [],
   "source": [
    "#data_bucket = 'gs://leap-persistent/dhruvbalwada/MOM6/Phillips2Layer/res4km_sponge10day/'\n",
    "data_bucket = f'{PERSISTENT_BUCKET}/MOM6/Phillips2Layer/'"
   ]
  },
  {
   "cell_type": "code",
   "execution_count": 5,
   "id": "7d93a843-6b5f-45ac-8985-78a841b324cf",
   "metadata": {
    "tags": []
   },
   "outputs": [],
   "source": [
    "Lkey = ['50', '100', '200', '400']\n",
    "\n",
    "res_name = 'all'\n",
    "\n",
    "ds = {}\n",
    "\n",
    "for L in Lkey: \n",
    "    Lsel = int(L)\n",
    "    ds_temp = xr.open_zarr(f'{data_bucket}res4km_sponge10day_long_ml_data_'+L+'km.zarr').sel(yh=slice(float(Lsel), 1600-float(Lsel)))\n",
    "    \n",
    "    ds[L] = ds_temp \n",
    "\n",
    "ds_tree = DataTree.from_dict(ds)"
   ]
  },
  {
   "cell_type": "code",
   "execution_count": 6,
   "id": "632753a0-cf99-490a-ac59-5cb1a82244f3",
   "metadata": {
    "tags": []
   },
   "outputs": [],
   "source": [
    "try:\n",
    "    os.mkdir('figures/'+res_name+'km')\n",
    "except:\n",
    "    pass"
   ]
  },
  {
   "cell_type": "code",
   "execution_count": 7,
   "id": "94fe4254-f726-488b-b866-7d8e03eb831d",
   "metadata": {
    "tags": []
   },
   "outputs": [],
   "source": [
    "output_channels = ['Sfnx','Sfny']                                      \n",
    "\n",
    "input_channels = ['U_x', 'U_y', \n",
    "                  'V_x', 'V_y', \n",
    "                  #'U_z', 'V_z',\n",
    "                  'Sx', 'Sy', 'Lfilt']\n",
    "\n",
    "design_name = 'first_order'"
   ]
  },
  {
   "cell_type": "code",
   "execution_count": 8,
   "id": "157f58f2-66b9-4138-ab0f-277d721c7e97",
   "metadata": {
    "tags": []
   },
   "outputs": [],
   "source": [
    "def ML_vars(ds_L, choice=0):\n",
    "    \n",
    "    ds_test = xr.Dataset()\n",
    "    \n",
    "    ds_test['Sx'] = ds_L.slope_x.isel(zi=1)\n",
    "    ds_test['Sy'] = ds_L.slope_y.isel(zi=1)\n",
    "    #ds_test['Lfilt'] = ds_L.h.isel(zl=0)*0. + L\n",
    "    \n",
    "    # For the gradients we have some choices to make \n",
    "    \n",
    "    #choice = 0 # 0 thickness weighted, 1 bottom layer, 2 top layer\n",
    "    # Choose 0, since that is what we are currently using in online sims\n",
    "    if choice == 0:\n",
    "        ds_test['U_x'] = (ds_L.dudx * ds_L.h).sum('zl') / ds_L.h.sum('zl')\n",
    "        ds_test['U_y'] = (ds_L.dudy * ds_L.h).sum('zl') / ds_L.h.sum('zl')\n",
    "        ds_test['V_x'] = (ds_L.dvdx * ds_L.h).sum('zl') / ds_L.h.sum('zl')\n",
    "        ds_test['V_y'] = (ds_L.dvdy * ds_L.h).sum('zl') / ds_L.h.sum('zl')\n",
    "    elif choice ==1: \n",
    "        ds_test['U_x'] = ds_L.dudx.isel(zl=1)\n",
    "        ds_test['U_y'] = ds_L.dudy.isel(zl=1)\n",
    "        ds_test['V_x'] = ds_L.dvdx.isel(zl=1)\n",
    "        ds_test['V_y'] = ds_L.dvdy.isel(zl=1)\n",
    "        \n",
    "    ds_test['Sfnx'] = ds_L.uh_sg.isel(zl=1)\n",
    "    ds_test['Sfny'] = ds_L.vh_sg.isel(zl=1)\n",
    "    \n",
    "    #ds_test['U_z'] = (ds_L.u.isel(zl=0) - ds_L.u.isel(zl=1))/ ds_L.h.isel(zl=1)\n",
    "    #ds_test['V_z'] = (ds_L.v.isel(zl=0) - ds_L.v.isel(zl=1))/ ds_L.h.isel(zl=1)\n",
    "    # ! seems like U_z doesn't really help much\n",
    "    \n",
    "    return ds_test"
   ]
  },
  {
   "cell_type": "code",
   "execution_count": 9,
   "id": "1abf0e17-8d39-46fb-95dd-5a853b8b2b22",
   "metadata": {
    "tags": []
   },
   "outputs": [
    {
     "name": "stdout",
     "output_type": "stream",
     "text": [
      "8\n",
      "4\n",
      "2\n",
      "1\n"
     ]
    }
   ],
   "source": [
    "# Create the variables that will be used for the ML \n",
    "\n",
    "ds_tree_ML = {}\n",
    "ds_tree_ML_small = {} # to be used for the sub-sampled data\n",
    "\n",
    "for L in Lkey: \n",
    "    \n",
    "    # Select dataset \n",
    "    ds = ds_tree[L].ds\n",
    "    \n",
    "    ds_ML = ML_vars(ds, choice=1)\n",
    "    \n",
    "    ds_ML['Lfilt'] = (float(L) + 0*ds_ML.Sx )\n",
    "    \n",
    "    ds_tree_ML[L] = ds_ML\n",
    "    \n",
    "    sub_samp_fac = int( 400/ int(L) )\n",
    "    print(sub_samp_fac)\n",
    "    \n",
    "    ds_tree_ML_small[L] = ds_ML.isel( xh=slice(0, None, sub_samp_fac), \n",
    "                                      yh=slice(0, None, sub_samp_fac) )\n",
    "    \n",
    "ds_tree_ML = DataTree.from_dict(ds_tree_ML)\n",
    "ds_tree_ML_small = DataTree.from_dict(ds_tree_ML_small)"
   ]
  },
  {
   "cell_type": "code",
   "execution_count": 10,
   "id": "54644fc8-21af-4f82-8438-99fa9f0b0d19",
   "metadata": {
    "tags": []
   },
   "outputs": [],
   "source": [
    "ds_train = ds_tree_ML_small.isel(Time=slice(0, 7100))\n",
    "ds_test  = ds_tree_ML_small.isel(Time=slice(7100, None))"
   ]
  },
  {
   "cell_type": "code",
   "execution_count": 11,
   "id": "7e42817b-2e1d-4359-a204-6fd72529a068",
   "metadata": {
    "tags": []
   },
   "outputs": [],
   "source": [
    "ds_train_stacked = ds_train.stack(points = ['Time','xh','yh'])\n",
    "ds_test_stacked = ds_test.stack(points = ['Time','xh','yh'])"
   ]
  },
  {
   "cell_type": "code",
   "execution_count": 12,
   "id": "2143d0d1-9a4b-4667-ab80-78c6e1d76b21",
   "metadata": {
    "tags": []
   },
   "outputs": [
    {
     "name": "stdout",
     "output_type": "stream",
     "text": [
      "CPU times: user 1min 15s, sys: 16.3 s, total: 1min 31s\n",
      "Wall time: 2min 9s\n"
     ]
    }
   ],
   "source": [
    "%%time\n",
    "ds_train_stacked.load();\n",
    "ds_test_stacked.load();"
   ]
  },
  {
   "cell_type": "code",
   "execution_count": null,
   "id": "e2f0ebdf-c066-4481-a9d8-078f4097548a",
   "metadata": {},
   "outputs": [],
   "source": [
    "equal_data = False\n",
    "if equal_data:\n",
    "    ds_train_stacked_equal = {} \n",
    "\n",
    "    for L in Lkey: \n",
    "        ds = ds_train_stacked[L].ds\n",
    "\n",
    "        npoints = len(ds['Sfnx']) \n",
    "\n",
    "        ds_train_stacked_equal[L] = ds.isel(points=np.random.choice(npoints, size=npoints_400, replace=False))\n",
    "\n",
    "    ds_train_stacked_equal = DataTree.from_dict(ds_train_stacked_equal)"
   ]
  },
  {
   "cell_type": "code",
   "execution_count": 13,
   "id": "d217d539-ba46-4ece-926c-70cc7343d573",
   "metadata": {
    "tags": []
   },
   "outputs": [],
   "source": [
    "ds_test_concat = xr.concat([ds_test_stacked['50'].to_dataset(),\n",
    "                            ds_test_stacked['100'].to_dataset(),\n",
    "                            ds_test_stacked['200'].to_dataset(),\n",
    "                            ds_test_stacked['400'].to_dataset()], \n",
    "                           dim='points')\n",
    "\n",
    "ds_train_concat = xr.concat([ds_train_stacked['50'].to_dataset(),\n",
    "                            ds_train_stacked['100'].to_dataset(),\n",
    "                            ds_train_stacked['200'].to_dataset(),\n",
    "                            ds_train_stacked['400'].to_dataset()],\n",
    "                           dim='points')"
   ]
  },
  {
   "cell_type": "code",
   "execution_count": 14,
   "id": "f509bfef-22c1-459c-93dc-d5366eec307d",
   "metadata": {
    "tags": []
   },
   "outputs": [
    {
     "name": "stdout",
     "output_type": "stream",
     "text": [
      "CPU times: user 286 µs, sys: 0 ns, total: 286 µs\n",
      "Wall time: 292 µs\n"
     ]
    }
   ],
   "source": [
    "%%time \n",
    "ds_train_concat.load();\n",
    "ds_test_concat.load();"
   ]
  },
  {
   "cell_type": "code",
   "execution_count": 15,
   "id": "3650a815-3891-43a2-a11a-9f62ae75f387",
   "metadata": {
    "tags": []
   },
   "outputs": [
    {
     "name": "stdout",
     "output_type": "stream",
     "text": [
      "7817100 110100\n"
     ]
    }
   ],
   "source": [
    "npoints_train = len(ds_train_concat['Sfnx'])\n",
    "npoints_test = len(ds_test_concat['Sfnx'])\n",
    "print(npoints_train, npoints_test)"
   ]
  },
  {
   "cell_type": "code",
   "execution_count": 16,
   "id": "5ceb11b0-612f-4efd-b310-b6b34ad05ea9",
   "metadata": {
    "tags": []
   },
   "outputs": [],
   "source": [
    "ds_train_randomized = ds_train_concat.isel(points=np.random.choice(npoints_train, size=npoints_train, replace=False))\n",
    "ds_test_randomized  = ds_test_concat.isel(points=np.random.choice(npoints_test, size=npoints_test, replace=False))"
   ]
  },
  {
   "cell_type": "code",
   "execution_count": 17,
   "id": "559f975d-b3f5-487f-99f0-643daf2f2697",
   "metadata": {
    "tags": []
   },
   "outputs": [
    {
     "name": "stdout",
     "output_type": "stream",
     "text": [
      "deleted\n",
      "Not found\n"
     ]
    }
   ],
   "source": [
    "# norms \n",
    "flag_recalc_STD = True \n",
    "if flag_recalc_STD:\n",
    "    try: \n",
    "        os.remove('STD_all.nc')\n",
    "        print('deleted')\n",
    "    except:\n",
    "        pass\n",
    "    \n",
    "try: \n",
    "    ds_norms = xr.open_zarr('./STD_all.nc')\n",
    "    print('Found all km standard deviations on local')\n",
    "except:\n",
    "    print('Not found')\n",
    "    ds_norms = ds_train_randomized.std()\n",
    "    ds_norms.compute();\n",
    "    ds_norms.to_netcdf('./STD_all.nc')"
   ]
  },
  {
   "cell_type": "code",
   "execution_count": 18,
   "id": "71a1e3f8-0fb9-4d9d-a434-7f726575de96",
   "metadata": {
    "tags": []
   },
   "outputs": [],
   "source": [
    "ds_train_normalized = (ds_train_randomized / ds_norms)\n",
    "ds_test_normalized = (ds_test_randomized / ds_norms)"
   ]
  },
  {
   "cell_type": "code",
   "execution_count": 19,
   "id": "8b3584ab-2c39-4f8c-bcd7-45c7a2f7d8a3",
   "metadata": {
    "tags": []
   },
   "outputs": [],
   "source": [
    "bgen_train = xbatcher.BatchGenerator(ds = ds_train_normalized, \n",
    "                               input_dims={},\n",
    "                               batch_dims={'points': int(npoints_train/30)}   )\n",
    "\n",
    "bgen_test = xbatcher.BatchGenerator(ds = ds_test_normalized, \n",
    "                               input_dims={},\n",
    "                               batch_dims={'points': int(npoints_test)}   )"
   ]
  },
  {
   "cell_type": "code",
   "execution_count": 20,
   "id": "f91601d9-790a-4fb2-ae3b-74f135318fdf",
   "metadata": {
    "tags": []
   },
   "outputs": [
    {
     "data": {
      "text/plain": [
       "(30, 1)"
      ]
     },
     "execution_count": 20,
     "metadata": {},
     "output_type": "execute_result"
    }
   ],
   "source": [
    "len(bgen_train), len(bgen_test)"
   ]
  },
  {
   "cell_type": "markdown",
   "id": "b5cfa7b6-548b-47b0-8103-dc2c80e8f7cf",
   "metadata": {},
   "source": [
    "### ML model"
   ]
  },
  {
   "cell_type": "code",
   "execution_count": 23,
   "id": "f5c29e1d-108c-4909-b022-13d98acf4fdc",
   "metadata": {
    "tags": []
   },
   "outputs": [],
   "source": [
    "#size_name = 'small'\n",
    "#layer_sizes = [24, 24, 2]\n",
    "\n",
    "size_name = 'medium'\n",
    "layer_sizes = [32, 32, 2]\n",
    "\n",
    "#size_name = 'large'\n",
    "#layer_sizes = [64, 64, 2]\n",
    "\n",
    "\n",
    "model, params = ml_hf.initialize_model(layer_sizes, len(input_channels), random_key=3 )"
   ]
  },
  {
   "cell_type": "code",
   "execution_count": 24,
   "id": "f5d2accc-379c-457a-a88a-6176c8f0c2e8",
   "metadata": {
    "tags": []
   },
   "outputs": [
    {
     "name": "stdout",
     "output_type": "stream",
     "text": [
      "1378\n"
     ]
    }
   ],
   "source": [
    "param_count = sum(x.size for x in jax.tree_util.tree_leaves(params))\n",
    "print(param_count)"
   ]
  },
  {
   "cell_type": "code",
   "execution_count": 25,
   "id": "9109a7cb-9cdb-49a7-a232-a0d170f3eda5",
   "metadata": {
    "tags": []
   },
   "outputs": [],
   "source": [
    "# setup loss function\n",
    "loss_grad_fn = jax.value_and_grad(ml_hf.mse) # more convenient function as it outputs both value and gradient."
   ]
  },
  {
   "cell_type": "code",
   "execution_count": 26,
   "id": "9f80783a-dab4-4789-b5c0-5a4b50f747a8",
   "metadata": {
    "tags": []
   },
   "outputs": [],
   "source": [
    "design_name = 'first_order'"
   ]
  },
  {
   "cell_type": "code",
   "execution_count": 27,
   "id": "5cf37392-53a4-4c41-9c52-6f28ccf55ac4",
   "metadata": {
    "tags": []
   },
   "outputs": [],
   "source": [
    "# Setup optimizer \n",
    "\n",
    "learning_rate = .01 # .05 for 100, .01 for 100, .05 for 100\n",
    "# Maybe useful if wanting to set learning rates manually: https://github.com/deepmind/optax/issues/4\n",
    "\n",
    "# Initialize optimizer\n",
    "tx = optax.adam(learning_rate=learning_rate)\n",
    "\n",
    "# Define training state \n",
    "state = train_state.TrainState.create(\n",
    "            apply_fn=model.apply, params=params, tx=tx)"
   ]
  },
  {
   "cell_type": "code",
   "execution_count": 28,
   "id": "e80ece7b-5b4f-49ba-af55-6981da8a7886",
   "metadata": {
    "tags": []
   },
   "outputs": [],
   "source": [
    "num_epochs = 401"
   ]
  },
  {
   "cell_type": "code",
   "execution_count": 29,
   "id": "c539581c-05c6-4854-8880-c29e0a9377b1",
   "metadata": {
    "tags": []
   },
   "outputs": [
    {
     "data": {
      "text/html": [
       "Tracking run with wandb version 0.16.0"
      ],
      "text/plain": [
       "<IPython.core.display.HTML object>"
      ]
     },
     "metadata": {},
     "output_type": "display_data"
    },
    {
     "data": {
      "text/html": [
       "Run data is saved locally in <code>/home/jovyan/mesoscale_buoyancy_param_ML/train_models/train_on_MOM6_data/wandb/run-20231203_194542-etp7b2jw</code>"
      ],
      "text/plain": [
       "<IPython.core.display.HTML object>"
      ]
     },
     "metadata": {},
     "output_type": "display_data"
    },
    {
     "data": {
      "text/html": [
       "Syncing run <strong><a href='https://wandb.ai/m2lines/pointwise_nov_2023_MOM6/runs/etp7b2jw' target=\"_blank\">first_order, all, medium, equal_weights, random_key 3</a></strong> to <a href='https://wandb.ai/m2lines/pointwise_nov_2023_MOM6' target=\"_blank\">Weights & Biases</a> (<a href='https://wandb.me/run' target=\"_blank\">docs</a>)<br/>"
      ],
      "text/plain": [
       "<IPython.core.display.HTML object>"
      ]
     },
     "metadata": {},
     "output_type": "display_data"
    },
    {
     "data": {
      "text/html": [
       " View project at <a href='https://wandb.ai/m2lines/pointwise_nov_2023_MOM6' target=\"_blank\">https://wandb.ai/m2lines/pointwise_nov_2023_MOM6</a>"
      ],
      "text/plain": [
       "<IPython.core.display.HTML object>"
      ]
     },
     "metadata": {},
     "output_type": "display_data"
    },
    {
     "data": {
      "text/html": [
       " View run at <a href='https://wandb.ai/m2lines/pointwise_nov_2023_MOM6/runs/etp7b2jw' target=\"_blank\">https://wandb.ai/m2lines/pointwise_nov_2023_MOM6/runs/etp7b2jw</a>"
      ],
      "text/plain": [
       "<IPython.core.display.HTML object>"
      ]
     },
     "metadata": {},
     "output_type": "display_data"
    }
   ],
   "source": [
    "run = wandb.init(\n",
    "    # Set the project where this run will be logged\n",
    "    project=\"pointwise_nov_2023_MOM6\",\n",
    "    # Track hyperparameters and run metadata\n",
    "    name=design_name + \", \"+ res_name + \", \" + size_name+ \", equal_weights, random_key 3\" ,\n",
    "    config={\n",
    "        \"scale\": Lsel,\n",
    "        \"learning_rate\": learning_rate,\n",
    "        \"epochs\": num_epochs,\n",
    "        \"layer_sizes\": layer_sizes,\n",
    "        \"inputs\": input_channels, \n",
    "        \"outputs\": output_channels,\n",
    "        \"date\": str(datetime.now()),\n",
    "    })"
   ]
  },
  {
   "cell_type": "code",
   "execution_count": 30,
   "id": "39d0fbf6-53c7-4c9b-bf2f-b384e2b7a478",
   "metadata": {
    "tags": []
   },
   "outputs": [],
   "source": [
    "# to track model\n",
    "train_loss = np.array([])\n",
    "test_loss = np.array([])"
   ]
  },
  {
   "cell_type": "code",
   "execution_count": 31,
   "id": "09056e3e-0bde-4bcb-a482-db82110e49a2",
   "metadata": {
    "tags": []
   },
   "outputs": [
    {
     "name": "stdout",
     "output_type": "stream",
     "text": [
      "Train loss step 0:  0.8578453163305918 test loss: 0.6030227541923523\n",
      "Train loss step 10:  0.2484365224838257 test loss: 0.22662097215652466\n",
      "Train loss step 20:  0.2349412202835083 test loss: 0.21553491055965424\n",
      "Train loss step 30:  0.23001069525877635 test loss: 0.2115236520767212\n",
      "Train loss step 40:  0.22657736539840698 test loss: 0.2091473788022995\n",
      "Train loss step 50:  0.22420530368884403 test loss: 0.20742347836494446\n",
      "Train loss step 60:  0.22204043517510097 test loss: 0.205747589468956\n",
      "Train loss step 70:  0.21979013284047444 test loss: 0.20379717648029327\n",
      "Train loss step 80:  0.21717076996962228 test loss: 0.20093856751918793\n",
      "Train loss step 90:  0.21540917754173278 test loss: 0.19929561018943787\n",
      "Train loss step 100:  0.21419932494560878 test loss: 0.19825106859207153\n",
      "Train loss step 110:  0.21327276130517323 test loss: 0.19765859842300415\n",
      "Train loss step 120:  0.21220032026370367 test loss: 0.19653218984603882\n",
      "Train loss step 130:  0.21143126835425693 test loss: 0.196004718542099\n",
      "Train loss step 140:  0.21106992959976195 test loss: 0.19535326957702637\n",
      "Train loss step 150:  0.2106451854109764 test loss: 0.19419530034065247\n",
      "Train loss step 160:  0.21038048466046652 test loss: 0.1937084048986435\n",
      "Train loss step 170:  0.21005846013625462 test loss: 0.19344183802604675\n",
      "Train loss step 180:  0.20982114970684052 test loss: 0.19318334758281708\n",
      "Train loss step 190:  0.2096130520105362 test loss: 0.19292084872722626\n",
      "Train loss step 200:  0.20945003231366474 test loss: 0.19276612997055054\n",
      "Train loss step 210:  0.20928200632333754 test loss: 0.19257348775863647\n",
      "Train loss step 220:  0.20914288212855656 test loss: 0.1924056112766266\n",
      "Train loss step 230:  0.20900301138559976 test loss: 0.19224464893341064\n",
      "Train loss step 240:  0.20890464286009472 test loss: 0.19206978380680084\n",
      "Train loss step 250:  0.20878966053326925 test loss: 0.19193397462368011\n",
      "Train loss step 260:  0.20867253492275875 test loss: 0.19181567430496216\n",
      "Train loss step 270:  0.20857987304528555 test loss: 0.19173678755760193\n",
      "Train loss step 280:  0.2084291771054268 test loss: 0.19164176285266876\n",
      "Train loss step 290:  0.2083630343278249 test loss: 0.1915273815393448\n",
      "Train loss step 300:  0.20837685316801072 test loss: 0.19142121076583862\n",
      "Train loss step 310:  0.20828207830588022 test loss: 0.1913650631904602\n",
      "Train loss step 320:  0.20817803690830866 test loss: 0.19132894277572632\n",
      "Train loss step 330:  0.20813796371221543 test loss: 0.1913597136735916\n",
      "Train loss step 340:  0.20808323721090952 test loss: 0.19121918082237244\n",
      "Train loss step 350:  0.20801549206177394 test loss: 0.191167414188385\n",
      "Train loss step 360:  0.20795514037211735 test loss: 0.19114364683628082\n",
      "Train loss step 370:  0.20787048290173213 test loss: 0.19109642505645752\n",
      "Train loss step 380:  0.20783745596806208 test loss: 0.19103753566741943\n",
      "Train loss step 390:  0.20768041561047237 test loss: 0.19100774824619293\n",
      "Train loss step 400:  0.207523783047994 test loss: 0.19117245078086853\n",
      "CPU times: user 14min 24s, sys: 1min 41s, total: 16min 6s\n",
      "Wall time: 12min 50s\n"
     ]
    }
   ],
   "source": [
    "%%time\n",
    "# Main training loop\n",
    "\n",
    "\n",
    "for i in range(num_epochs):\n",
    "    n=0\n",
    "    \n",
    "    loss_temp = np.array([]) # temp array to save batches\n",
    "    for batch in bgen_train:\n",
    "        \n",
    "        #batch = ml_hf.zero_nans(batch, 'uTbyT_z')\n",
    "        X_train = jnp.asarray(batch[input_channels].to_array().transpose(...,'variable').data)\n",
    "        y_train = jnp.asarray(batch[output_channels].to_array().transpose(...,'variable').data)\n",
    "        \n",
    "        \n",
    "        # Compute gradients and update parameters and optimizer state \n",
    "        loss_val, grads = loss_grad_fn(state.params, state.apply_fn, X_train, y_train)\n",
    "        state = state.apply_gradients(grads=grads)\n",
    "        \n",
    "        loss_temp = np.append(loss_temp, loss_val)\n",
    "    \n",
    "    \n",
    "    train_loss = np.append(train_loss, np.mean(loss_temp))\n",
    "    \n",
    "    test_loss_temp = np.array([])\n",
    "    for batch in bgen_test:\n",
    "        \n",
    "        #batch = ml_hf.zero_nans(batch, 'uTbyT_z')\n",
    "        X_test = jnp.asarray(batch[input_channels].to_array().transpose(...,'variable').data)\n",
    "        y_test = jnp.asarray(batch[output_channels].to_array().transpose(...,'variable').data)\n",
    "        \n",
    "        test_loss_temp = np.append(test_loss_temp, ml_hf.mse(state.params, state.apply_fn, X_test, y_test))\n",
    "    \n",
    "    test_loss = np.append(test_loss, np.mean(test_loss_temp))\n",
    "    \n",
    "    wandb.log({'train_loss': train_loss[-1], 'test_loss': test_loss[-1]})\n",
    "    \n",
    "    if i % 10  == 0:\n",
    "        print(f'Train loss step {i}: ', train_loss[-1], f'test loss:', test_loss[-1])\n",
    "        "
   ]
  },
  {
   "cell_type": "code",
   "execution_count": 32,
   "id": "a871b767-1b54-4098-802e-ba198b76c241",
   "metadata": {
    "tags": []
   },
   "outputs": [
    {
     "data": {
      "image/png": "[encoded data removed]",
      "text/plain": [
       "<Figure size 640x480 with 1 Axes>"
      ]
     },
     "metadata": {},
     "output_type": "display_data"
    }
   ],
   "source": [
    "fig, ax = plt.subplots()\n",
    "\n",
    "ax.plot(train_loss, label='Training loss')\n",
    "ax.plot(test_loss, label='Test loss')\n",
    "\n",
    "ax.set_title('Loss curve for all filter scales')\n",
    "ax.grid()\n",
    "ax.set_yscale('log')\n",
    "ax.legend()\n",
    "\n",
    "fig.savefig('figures/'+res_name+'_km'+'/loss_curve_'+size_name+'random_key3.png')\n",
    "\n",
    "run.log({\"loss_curve\": wandb.Image(fig)})"
   ]
  },
  {
   "cell_type": "code",
   "execution_count": 33,
   "id": "7f95eeae-ada2-47c9-9d8c-b73bf2559b2c",
   "metadata": {},
   "outputs": [],
   "source": [
    "# Save the checkpoint\n",
    "#CKPT_DIR = 'ckpts_single_all_res_'+size_name\n",
    "CKPT_DIR = 'ckpts_single_all_res_'+size_name+'_long_sim_random3'\n",
    "#CKPT_DIR = 'ckpts_single_all_res_'+size_name+'_only_slope'"
   ]
  },
  {
   "cell_type": "code",
   "execution_count": 34,
   "id": "36cde573-e878-45d5-8acc-187b1b628945",
   "metadata": {
    "tags": []
   },
   "outputs": [],
   "source": [
    "flax.config.update('flax_use_orbax_checkpointing', False)"
   ]
  },
  {
   "cell_type": "code",
   "execution_count": 35,
   "id": "a0af9ec5-1b84-41cc-bc03-5b7a4c60b9be",
   "metadata": {
    "tags": []
   },
   "outputs": [
    {
     "data": {
      "text/plain": [
       "'ckpts_single_all_res_medium_long_sim_random3/checkpoint_1'"
      ]
     },
     "execution_count": 35,
     "metadata": {},
     "output_type": "execute_result"
    }
   ],
   "source": [
    "checkpoints.save_checkpoint(ckpt_dir=CKPT_DIR, target=state, step=1, overwrite=True)"
   ]
  },
  {
   "cell_type": "code",
   "execution_count": 36,
   "id": "2f7f042a-4f15-4cc0-a349-8bebe1942ef7",
   "metadata": {
    "tags": []
   },
   "outputs": [],
   "source": [
    "# Read back from the checkpoint\n",
    "state = checkpoints.restore_checkpoint(ckpt_dir=CKPT_DIR, target=state)"
   ]
  },
  {
   "cell_type": "code",
   "execution_count": 37,
   "id": "b07efd03-3dfb-46c4-9237-e1092f4feba6",
   "metadata": {
    "tags": []
   },
   "outputs": [],
   "source": [
    "input_norms = np.zeros((len(input_channels),))\n",
    "\n",
    "for n, i in enumerate(input_channels):\n",
    "    #print(i + '=' + str(ds_std[i].values))\n",
    "    input_norms[n] = ds_norms[i].values\n",
    "    \n",
    "output_norms = np.zeros((len(output_channels),))\n",
    "\n",
    "for n, i in enumerate(output_channels):\n",
    "    #print(i + '=' + str(ds_std[i].values))\n",
    "    output_norms[n] = ds_norms[i].values\n",
    "    \n",
    "ds_layers = xr.Dataset()\n",
    "\n",
    "ds_layers['layer_sizes'] = xr.DataArray(np.array([len(input_channels),layer_sizes[0], layer_sizes[1], len(output_channels)]).astype('int32'), dims=['num_layers'])\n",
    "\n",
    "ds_layers['A0'] = xr.DataArray(np.array(state.params['params']['layers_0']['kernel']).astype('float32'), dims=['input', 'layer1'])\n",
    "ds_layers['b0'] = xr.DataArray(np.array(state.params['params']['layers_0']['bias']).astype('float32'), dims=['layer1'])\n",
    "\n",
    "ds_layers['A1'] = xr.DataArray(np.array(state.params['params']['layers_1']['kernel']).astype('float32'), dims=['layer1', 'layer2'])\n",
    "ds_layers['b1'] = xr.DataArray(np.array(state.params['params']['layers_1']['bias']).astype('float32'), dims=['layer2'])\n",
    "\n",
    "ds_layers['A2'] = xr.DataArray(np.array(state.params['params']['layers_2']['kernel']).astype('float32'), dims=['layer2', 'output'])\n",
    "ds_layers['b2'] = xr.DataArray(np.array(state.params['params']['layers_2']['bias']).astype('float32'), dims=['output'])\n",
    "\n",
    "ds_layers['input_norms'] = xr.DataArray(input_norms.astype('float32'), dims=['input'])\n",
    "ds_layers['output_norms'] = xr.DataArray(output_norms.astype('float32'), dims=['output'])"
   ]
  },
  {
   "cell_type": "code",
   "execution_count": 38,
   "id": "0fd2c56a-10a7-4713-9b66-e038faf1fa57",
   "metadata": {
    "tags": []
   },
   "outputs": [
    {
     "data": {
      "text/html": [
       "<div><svg style=\"position: absolute; width: 0; height: 0; overflow: hidden\">\n",
       "<defs>\n",
       "<symbol id=\"icon-database\" viewBox=\"0 0 32 32\">\n",
       "<path d=\"M16 0c-8.837 0-16 2.239-16 5v4c0 2.761 7.163 5 16 5s16-2.239 16-5v-4c0-2.761-7.163-5-16-5z\"></path>\n",
       "<path d=\"M16 17c-8.837 0-16-2.239-16-5v6c0 2.761 7.163 5 16 5s16-2.239 16-5v-6c0 2.761-7.163 5-16 5z\"></path>\n",
       "<path d=\"M16 26c-8.837 0-16-2.239-16-5v6c0 2.761 7.163 5 16 5s16-2.239 16-5v-6c0 2.761-7.163 5-16 5z\"></path>\n",
       "</symbol>\n",
       "<symbol id=\"icon-file-text2\" viewBox=\"0 0 32 32\">\n",
       "<path d=\"M28.681 7.159c-0.694-0.947-1.662-2.053-2.724-3.116s-2.169-2.030-3.116-2.724c-1.612-1.182-2.393-1.319-2.841-1.319h-15.5c-1.378 0-2.5 1.121-2.5 2.5v27c0 1.378 1.122 2.5 2.5 2.5h23c1.378 0 2.5-1.122 2.5-2.5v-19.5c0-0.448-0.137-1.23-1.319-2.841zM24.543 5.457c0.959 0.959 1.712 1.825 2.268 2.543h-4.811v-4.811c0.718 0.556 1.584 1.309 2.543 2.268zM28 29.5c0 0.271-0.229 0.5-0.5 0.5h-23c-0.271 0-0.5-0.229-0.5-0.5v-27c0-0.271 0.229-0.5 0.5-0.5 0 0 15.499-0 15.5 0v7c0 0.552 0.448 1 1 1h7v19.5z\"></path>\n",
       "<path d=\"M23 26h-14c-0.552 0-1-0.448-1-1s0.448-1 1-1h14c0.552 0 1 0.448 1 1s-0.448 1-1 1z\"></path>\n",
       "<path d=\"M23 22h-14c-0.552 0-1-0.448-1-1s0.448-1 1-1h14c0.552 0 1 0.448 1 1s-0.448 1-1 1z\"></path>\n",
       "<path d=\"M23 18h-14c-0.552 0-1-0.448-1-1s0.448-1 1-1h14c0.552 0 1 0.448 1 1s-0.448 1-1 1z\"></path>\n",
       "</symbol>\n",
       "</defs>\n",
       "</svg>\n",
       "<style>/* CSS stylesheet for displaying xarray objects in jupyterlab.\n",
       " *\n",
       " */\n",
       "\n",
       ":root {\n",
       "  --xr-font-color0: var(--jp-content-font-color0, rgba(0, 0, 0, 1));\n",
       "  --xr-font-color2: var(--jp-content-font-color2, rgba(0, 0, 0, 0.54));\n",
       "  --xr-font-color3: var(--jp-content-font-color3, rgba(0, 0, 0, 0.38));\n",
       "  --xr-border-color: var(--jp-border-color2, #e0e0e0);\n",
       "  --xr-disabled-color: var(--jp-layout-color3, #bdbdbd);\n",
       "  --xr-background-color: var(--jp-layout-color0, white);\n",
       "  --xr-background-color-row-even: var(--jp-layout-color1, white);\n",
       "  --xr-background-color-row-odd: var(--jp-layout-color2, #eeeeee);\n",
       "}\n",
       "\n",
       "html[theme=dark],\n",
       "body[data-theme=dark],\n",
       "body.vscode-dark {\n",
       "  --xr-font-color0: rgba(255, 255, 255, 1);\n",
       "  --xr-font-color2: rgba(255, 255, 255, 0.54);\n",
       "  --xr-font-color3: rgba(255, 255, 255, 0.38);\n",
       "  --xr-border-color: #1F1F1F;\n",
       "  --xr-disabled-color: #515151;\n",
       "  --xr-background-color: #111111;\n",
       "  --xr-background-color-row-even: #111111;\n",
       "  --xr-background-color-row-odd: #313131;\n",
       "}\n",
       "\n",
       ".xr-wrap {\n",
       "  display: block !important;\n",
       "  min-width: 300px;\n",
       "  max-width: 700px;\n",
       "}\n",
       "\n",
       ".xr-text-repr-fallback {\n",
       "  /* fallback to plain text repr when CSS is not injected (untrusted notebook) */\n",
       "  display: none;\n",
       "}\n",
       "\n",
       ".xr-header {\n",
       "  padding-top: 6px;\n",
       "  padding-bottom: 6px;\n",
       "  margin-bottom: 4px;\n",
       "  border-bottom: solid 1px var(--xr-border-color);\n",
       "}\n",
       "\n",
       ".xr-header > div,\n",
       ".xr-header > ul {\n",
       "  display: inline;\n",
       "  margin-top: 0;\n",
       "  margin-bottom: 0;\n",
       "}\n",
       "\n",
       ".xr-obj-type,\n",
       ".xr-array-name {\n",
       "  margin-left: 2px;\n",
       "  margin-right: 10px;\n",
       "}\n",
       "\n",
       ".xr-obj-type {\n",
       "  color: var(--xr-font-color2);\n",
       "}\n",
       "\n",
       ".xr-sections {\n",
       "  padding-left: 0 !important;\n",
       "  display: grid;\n",
       "  grid-template-columns: 150px auto auto 1fr 20px 20px;\n",
       "}\n",
       "\n",
       ".xr-section-item {\n",
       "  display: contents;\n",
       "}\n",
       "\n",
       ".xr-section-item input {\n",
       "  display: none;\n",
       "}\n",
       "\n",
       ".xr-section-item input + label {\n",
       "  color: var(--xr-disabled-color);\n",
       "}\n",
       "\n",
       ".xr-section-item input:enabled + label {\n",
       "  cursor: pointer;\n",
       "  color: var(--xr-font-color2);\n",
       "}\n",
       "\n",
       ".xr-section-item input:enabled + label:hover {\n",
       "  color: var(--xr-font-color0);\n",
       "}\n",
       "\n",
       ".xr-section-summary {\n",
       "  grid-column: 1;\n",
       "  color: var(--xr-font-color2);\n",
       "  font-weight: 500;\n",
       "}\n",
       "\n",
       ".xr-section-summary > span {\n",
       "  display: inline-block;\n",
       "  padding-left: 0.5em;\n",
       "}\n",
       "\n",
       ".xr-section-summary-in:disabled + label {\n",
       "  color: var(--xr-font-color2);\n",
       "}\n",
       "\n",
       ".xr-section-summary-in + label:before {\n",
       "  display: inline-block;\n",
       "  content: '►';\n",
       "  font-size: 11px;\n",
       "  width: 15px;\n",
       "  text-align: center;\n",
       "}\n",
       "\n",
       ".xr-section-summary-in:disabled + label:before {\n",
       "  color: var(--xr-disabled-color);\n",
       "}\n",
       "\n",
       ".xr-section-summary-in:checked + label:before {\n",
       "  content: '▼';\n",
       "}\n",
       "\n",
       ".xr-section-summary-in:checked + label > span {\n",
       "  display: none;\n",
       "}\n",
       "\n",
       ".xr-section-summary,\n",
       ".xr-section-inline-details {\n",
       "  padding-top: 4px;\n",
       "  padding-bottom: 4px;\n",
       "}\n",
       "\n",
       ".xr-section-inline-details {\n",
       "  grid-column: 2 / -1;\n",
       "}\n",
       "\n",
       ".xr-section-details {\n",
       "  display: none;\n",
       "  grid-column: 1 / -1;\n",
       "  margin-bottom: 5px;\n",
       "}\n",
       "\n",
       ".xr-section-summary-in:checked ~ .xr-section-details {\n",
       "  display: contents;\n",
       "}\n",
       "\n",
       ".xr-array-wrap {\n",
       "  grid-column: 1 / -1;\n",
       "  display: grid;\n",
       "  grid-template-columns: 20px auto;\n",
       "}\n",
       "\n",
       ".xr-array-wrap > label {\n",
       "  grid-column: 1;\n",
       "  vertical-align: top;\n",
       "}\n",
       "\n",
       ".xr-preview {\n",
       "  color: var(--xr-font-color3);\n",
       "}\n",
       "\n",
       ".xr-array-preview,\n",
       ".xr-array-data {\n",
       "  padding: 0 5px !important;\n",
       "  grid-column: 2;\n",
       "}\n",
       "\n",
       ".xr-array-data,\n",
       ".xr-array-in:checked ~ .xr-array-preview {\n",
       "  display: none;\n",
       "}\n",
       "\n",
       ".xr-array-in:checked ~ .xr-array-data,\n",
       ".xr-array-preview {\n",
       "  display: inline-block;\n",
       "}\n",
       "\n",
       ".xr-dim-list {\n",
       "  display: inline-block !important;\n",
       "  list-style: none;\n",
       "  padding: 0 !important;\n",
       "  margin: 0;\n",
       "}\n",
       "\n",
       ".xr-dim-list li {\n",
       "  display: inline-block;\n",
       "  padding: 0;\n",
       "  margin: 0;\n",
       "}\n",
       "\n",
       ".xr-dim-list:before {\n",
       "  content: '(';\n",
       "}\n",
       "\n",
       ".xr-dim-list:after {\n",
       "  content: ')';\n",
       "}\n",
       "\n",
       ".xr-dim-list li:not(:last-child):after {\n",
       "  content: ',';\n",
       "  padding-right: 5px;\n",
       "}\n",
       "\n",
       ".xr-has-index {\n",
       "  font-weight: bold;\n",
       "}\n",
       "\n",
       ".xr-var-list,\n",
       ".xr-var-item {\n",
       "  display: contents;\n",
       "}\n",
       "\n",
       ".xr-var-item > div,\n",
       ".xr-var-item label,\n",
       ".xr-var-item > .xr-var-name span {\n",
       "  background-color: var(--xr-background-color-row-even);\n",
       "  margin-bottom: 0;\n",
       "}\n",
       "\n",
       ".xr-var-item > .xr-var-name:hover span {\n",
       "  padding-right: 5px;\n",
       "}\n",
       "\n",
       ".xr-var-list > li:nth-child(odd) > div,\n",
       ".xr-var-list > li:nth-child(odd) > label,\n",
       ".xr-var-list > li:nth-child(odd) > .xr-var-name span {\n",
       "  background-color: var(--xr-background-color-row-odd);\n",
       "}\n",
       "\n",
       ".xr-var-name {\n",
       "  grid-column: 1;\n",
       "}\n",
       "\n",
       ".xr-var-dims {\n",
       "  grid-column: 2;\n",
       "}\n",
       "\n",
       ".xr-var-dtype {\n",
       "  grid-column: 3;\n",
       "  text-align: right;\n",
       "  color: var(--xr-font-color2);\n",
       "}\n",
       "\n",
       ".xr-var-preview {\n",
       "  grid-column: 4;\n",
       "}\n",
       "\n",
       ".xr-index-preview {\n",
       "  grid-column: 2 / 5;\n",
       "  color: var(--xr-font-color2);\n",
       "}\n",
       "\n",
       ".xr-var-name,\n",
       ".xr-var-dims,\n",
       ".xr-var-dtype,\n",
       ".xr-preview,\n",
       ".xr-attrs dt {\n",
       "  white-space: nowrap;\n",
       "  overflow: hidden;\n",
       "  text-overflow: ellipsis;\n",
       "  padding-right: 10px;\n",
       "}\n",
       "\n",
       ".xr-var-name:hover,\n",
       ".xr-var-dims:hover,\n",
       ".xr-var-dtype:hover,\n",
       ".xr-attrs dt:hover {\n",
       "  overflow: visible;\n",
       "  width: auto;\n",
       "  z-index: 1;\n",
       "}\n",
       "\n",
       ".xr-var-attrs,\n",
       ".xr-var-data,\n",
       ".xr-index-data {\n",
       "  display: none;\n",
       "  background-color: var(--xr-background-color) !important;\n",
       "  padding-bottom: 5px !important;\n",
       "}\n",
       "\n",
       ".xr-var-attrs-in:checked ~ .xr-var-attrs,\n",
       ".xr-var-data-in:checked ~ .xr-var-data,\n",
       ".xr-index-data-in:checked ~ .xr-index-data {\n",
       "  display: block;\n",
       "}\n",
       "\n",
       ".xr-var-data > table {\n",
       "  float: right;\n",
       "}\n",
       "\n",
       ".xr-var-name span,\n",
       ".xr-var-data,\n",
       ".xr-index-name div,\n",
       ".xr-index-data,\n",
       ".xr-attrs {\n",
       "  padding-left: 25px !important;\n",
       "}\n",
       "\n",
       ".xr-attrs,\n",
       ".xr-var-attrs,\n",
       ".xr-var-data,\n",
       ".xr-index-data {\n",
       "  grid-column: 1 / -1;\n",
       "}\n",
       "\n",
       "dl.xr-attrs {\n",
       "  padding: 0;\n",
       "  margin: 0;\n",
       "  display: grid;\n",
       "  grid-template-columns: 125px auto;\n",
       "}\n",
       "\n",
       ".xr-attrs dt,\n",
       ".xr-attrs dd {\n",
       "  padding: 0;\n",
       "  margin: 0;\n",
       "  float: left;\n",
       "  padding-right: 10px;\n",
       "  width: auto;\n",
       "}\n",
       "\n",
       ".xr-attrs dt {\n",
       "  font-weight: normal;\n",
       "  grid-column: 1;\n",
       "}\n",
       "\n",
       ".xr-attrs dt:hover span {\n",
       "  display: inline-block;\n",
       "  background: var(--xr-background-color);\n",
       "  padding-right: 10px;\n",
       "}\n",
       "\n",
       ".xr-attrs dd {\n",
       "  grid-column: 2;\n",
       "  white-space: pre-wrap;\n",
       "  word-break: break-all;\n",
       "}\n",
       "\n",
       ".xr-icon-database,\n",
       ".xr-icon-file-text2,\n",
       ".xr-no-icon {\n",
       "  display: inline-block;\n",
       "  vertical-align: middle;\n",
       "  width: 1em;\n",
       "  height: 1.5em !important;\n",
       "  stroke-width: 0;\n",
       "  stroke: currentColor;\n",
       "  fill: currentColor;\n",
       "}\n",
       "</style><pre class='xr-text-repr-fallback'>&lt;xarray.DataArray &#x27;layer_sizes&#x27; (num_layers: 4)&gt;\n",
       "array([ 7, 32, 32,  2], dtype=int32)\n",
       "Dimensions without coordinates: num_layers</pre><div class='xr-wrap' style='display:none'><div class='xr-header'><div class='xr-obj-type'>xarray.DataArray</div><div class='xr-array-name'>'layer_sizes'</div><ul class='xr-dim-list'><li><span>num_layers</span>: 4</li></ul></div><ul class='xr-sections'><li class='xr-section-item'><div class='xr-array-wrap'><input id='section-7f68fc3f-1cdb-4c3e-8ae6-6da742fb1b34' class='xr-array-in' type='checkbox' checked><label for='section-7f68fc3f-1cdb-4c3e-8ae6-6da742fb1b34' title='Show/hide data repr'><svg class='icon xr-icon-database'><use xlink:href='#icon-database'></use></svg></label><div class='xr-array-preview xr-preview'><span>7 32 32 2</span></div><div class='xr-array-data'><pre>array([ 7, 32, 32,  2], dtype=int32)</pre></div></div></li><li class='xr-section-item'><input id='section-b372720c-c977-4723-a7b4-580dcdcfaeff' class='xr-section-summary-in' type='checkbox' disabled ><label for='section-b372720c-c977-4723-a7b4-580dcdcfaeff' class='xr-section-summary'  title='Expand/collapse section'>Coordinates: <span>(0)</span></label><div class='xr-section-inline-details'></div><div class='xr-section-details'><ul class='xr-var-list'></ul></div></li><li class='xr-section-item'><input id='section-045e2b34-a0eb-4426-bc52-b3fa74794aee' class='xr-section-summary-in' type='checkbox' disabled ><label for='section-045e2b34-a0eb-4426-bc52-b3fa74794aee' class='xr-section-summary'  title='Expand/collapse section'>Indexes: <span>(0)</span></label><div class='xr-section-inline-details'></div><div class='xr-section-details'><ul class='xr-var-list'></ul></div></li><li class='xr-section-item'><input id='section-d3dee89b-8aa9-4504-9ded-da9659cfdb7d' class='xr-section-summary-in' type='checkbox' disabled ><label for='section-d3dee89b-8aa9-4504-9ded-da9659cfdb7d' class='xr-section-summary'  title='Expand/collapse section'>Attributes: <span>(0)</span></label><div class='xr-section-inline-details'></div><div class='xr-section-details'><dl class='xr-attrs'></dl></div></li></ul></div></div>"
      ],
      "text/plain": [
       "<xarray.DataArray 'layer_sizes' (num_layers: 4)>\n",
       "array([ 7, 32, 32,  2], dtype=int32)\n",
       "Dimensions without coordinates: num_layers"
      ]
     },
     "execution_count": 38,
     "metadata": {},
     "output_type": "execute_result"
    }
   ],
   "source": [
    "ds_layers['layer_sizes'] "
   ]
  },
  {
   "cell_type": "code",
   "execution_count": 39,
   "id": "14c9a116-ba53-42f1-af9e-ceb64ba45b47",
   "metadata": {
    "tags": []
   },
   "outputs": [],
   "source": [
    "#ds_layers.to_netcdf('ann_params_all_res_'+size_name+'.nc', mode='w')\n",
    "ds_layers.to_netcdf('ann_params_all_res_'+size_name+'_long_random_3.nc', mode='w')"
   ]
  },
  {
   "cell_type": "markdown",
   "id": "f003f3b7-c977-430e-9957-2d66ee1a2c39",
   "metadata": {},
   "source": [
    "### Check if the model is doing well. "
   ]
  },
  {
   "cell_type": "code",
   "execution_count": 40,
   "id": "7fe24e0a-6dda-4408-b567-4eaef695afa6",
   "metadata": {
    "tags": []
   },
   "outputs": [],
   "source": [
    "def R2_score(true, pred, dims = ['xh', 'yh', 'Time']):\n",
    "    RSS = ((true  - pred)**2).mean(dims)\n",
    "    TSS = ((true)**2).mean(dims)\n",
    "    R2 = 1 - RSS/TSS\n",
    "    return R2 \n",
    "\n",
    "def corr(true, pred, dims=['xh', 'yh', 'Time']):\n",
    "    RSS = ((true - true.mean(dims))* (pred - pred.mean(dims))).mean(dims)\n",
    "    TSS1 = ((true - true.mean(dims))**2).mean(dims)\n",
    "    TSS2 = ((pred - pred.mean(dims))**2).mean(dims)\n",
    "   \n",
    "    corr =  RSS/(TSS1**0.5 * TSS2**0.5)\n",
    "    return corr"
   ]
  },
  {
   "cell_type": "code",
   "execution_count": 41,
   "id": "2a90692c-596a-49e6-8124-4f5d87ded883",
   "metadata": {},
   "outputs": [],
   "source": [
    "R2_all = np.zeros((4,2))\n",
    "corr_all = np.zeros((4,2))\n",
    "\n",
    "for i, L in enumerate(Lkey):\n",
    "    \n",
    "    ds_test = ds_tree_ML[L].ds.isel(Time=slice(-100,-1))\n",
    "\n",
    "    ds_test_normalized = ds_test/ds_norms\n",
    "\n",
    "    y_pred = state.apply_fn(state.params, \n",
    "                            ds_test_normalized[input_channels].to_array().transpose(...,'variable'))\n",
    "\n",
    "    dims = ds_test[output_channels].to_array().transpose(...,'variable').dims\n",
    "    coords = ds_test[output_channels].to_array().transpose(...,'variable').coords\n",
    "\n",
    "    ds_pred = xr.DataArray(y_pred, dims=dims, coords=coords).to_dataset(dim='variable')\n",
    "    \n",
    "    R2_all[i,0] = R2_score(ds_test_normalized, ds_pred).Sfnx.values\n",
    "    R2_all[i,1] = R2_score(ds_test_normalized, ds_pred).Sfny.values\n",
    "    \n",
    "    corr_all[i,0] = corr(ds_test_normalized, ds_pred).Sfnx.values\n",
    "    corr_all[i,1] = corr(ds_test_normalized, ds_pred).Sfny.values"
   ]
  },
  {
   "cell_type": "code",
   "execution_count": 42,
   "id": "f2be75c9-d338-4e78-a20b-a7fd35770cad",
   "metadata": {
    "tags": []
   },
   "outputs": [
    {
     "data": {
      "text/plain": [
       "array([[0.96055343, 0.95080772],\n",
       "       [0.94658245, 0.95601284],\n",
       "       [0.82634353, 0.88075249],\n",
       "       [0.67292895, 0.79523731]])"
      ]
     },
     "execution_count": 42,
     "metadata": {},
     "output_type": "execute_result"
    }
   ],
   "source": [
    "R2_all"
   ]
  },
  {
   "cell_type": "code",
   "execution_count": 43,
   "id": "a203d182-7b7c-4b86-9f69-da97ab5d26ba",
   "metadata": {
    "tags": []
   },
   "outputs": [
    {
     "data": {
      "text/plain": [
       "array([[0.98006191, 0.97966641],\n",
       "       [0.97204352, 0.97535363],\n",
       "       [0.903775  , 0.92107227],\n",
       "       [0.8002275 , 0.74748236]])"
      ]
     },
     "execution_count": 43,
     "metadata": {},
     "output_type": "execute_result"
    }
   ],
   "source": [
    "corr_all"
   ]
  },
  {
   "cell_type": "code",
   "execution_count": 44,
   "id": "9558247d-209b-4ec4-9eb2-24168e9fef85",
   "metadata": {
    "tags": []
   },
   "outputs": [
    {
     "name": "stderr",
     "output_type": "stream",
     "text": [
      "/tmp/ipykernel_4015/1866272175.py:19: UserWarning: The figure layout has changed to tight\n",
      "  plt.tight_layout()\n"
     ]
    },
    {
     "data": {
      "image/png": "[encoded data removed]",
      "text/plain": [
       "<Figure size 800x360 with 2 Axes>"
      ]
     },
     "metadata": {},
     "output_type": "display_data"
    }
   ],
   "source": [
    "fig = plt.figure(figsize=(8 , 3.6))\n",
    "\n",
    "plt.subplot(121)\n",
    "plt.plot(Lkey, R2_all, label=['X', 'Y'])\n",
    "plt.ylim([0., 1.])\n",
    "plt.xlabel('Scale [km]')\n",
    "plt.ylabel('R2')\n",
    "plt.legend()\n",
    "plt.grid()\n",
    "\n",
    "plt.subplot(122)\n",
    "plt.plot(Lkey, corr_all)\n",
    "plt.ylim([0., 1.])\n",
    "plt.tight_layout()\n",
    "plt.xlabel('Scale [km]')\n",
    "plt.ylabel('Correlation')\n",
    "plt.grid()\n",
    "\n",
    "plt.tight_layout()\n",
    "#run.log({\"R2&Corr\": wandb.Image(fig)})"
   ]
  },
  {
   "cell_type": "code",
   "execution_count": null,
   "id": "02c62381-38d8-4dff-88bf-2db1846f6c92",
   "metadata": {},
   "outputs": [],
   "source": []
  }
 ],
 "metadata": {
  "kernelspec": {
   "display_name": "Python 3 (ipykernel)",
   "language": "python",
   "name": "python3"
  },
  "language_info": {
   "codemirror_mode": {
    "name": "ipython",
    "version": 3
   },
   "file_extension": ".py",
   "mimetype": "text/x-python",
   "name": "python",
   "nbconvert_exporter": "python",
   "pygments_lexer": "ipython3",
   "version": "3.10.12"
  }
 },
 "nbformat": 4,
 "nbformat_minor": 5
}
