{
 "cells": [
  {
   "cell_type": "code",
   "execution_count": 1,
   "id": "39962c39-bfc1-4897-adf9-273782721914",
   "metadata": {},
   "outputs": [],
   "source": [
    "import xarray as xr\n",
    "import xrft\n",
    "import matplotlib.pyplot as plt"
   ]
  },
  {
   "cell_type": "code",
   "execution_count": 3,
   "id": "02c79f9e-6cee-469c-8427-bc2f134490ee",
   "metadata": {},
   "outputs": [],
   "source": [
    "import sys \n",
    "sys.path.append('../../modules/')"
   ]
  },
  {
   "cell_type": "code",
   "execution_count": 5,
   "id": "f33054d0-659a-43e9-bc08-c4d58336cb97",
   "metadata": {},
   "outputs": [],
   "source": [
    "%reload_ext autoreload\n",
    "%autoreload 2\n",
    "import P2L_online_analysis"
   ]
  },
  {
   "cell_type": "code",
   "execution_count": null,
   "id": "a3b583e8-a68c-438e-b57f-ca6201a3f3e1",
   "metadata": {},
   "outputs": [],
   "source": []
  }
 ],
 "metadata": {
  "kernelspec": {
   "display_name": "new_env",
   "language": "python",
   "name": "new_env"
  },
  "language_info": {
   "codemirror_mode": {
    "name": "ipython",
    "version": 3
   },
   "file_extension": ".py",
   "mimetype": "text/x-python",
   "name": "python",
   "nbconvert_exporter": "python",
   "pygments_lexer": "ipython3",
   "version": "3.10.12"
  }
 },
 "nbformat": 4,
 "nbformat_minor": 5
}
