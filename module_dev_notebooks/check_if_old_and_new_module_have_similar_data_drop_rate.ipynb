{
 "cells": [
  {
   "cell_type": "markdown",
   "id": "67f5c1af-5a16-46e7-8bd6-036e6950aba6",
   "metadata": {},
   "source": [
    "# Compare different batch generation codes"
   ]
  },
  {
   "cell_type": "code",
   "execution_count": 1,
   "id": "abf62cb7-9548-475f-9199-4dc13cbee758",
   "metadata": {
    "scrolled": true
   },
   "outputs": [
    {
     "name": "stderr",
     "output_type": "stream",
     "text": [
      "2024-09-05 19:23:24.773138: E external/local_xla/xla/stream_executor/cuda/cuda_dnn.cc:10575] Unable to register cuDNN factory: Attempting to register factory for plugin cuDNN when one has already been registered\n",
      "2024-09-05 19:23:24.773170: E external/local_xla/xla/stream_executor/cuda/cuda_fft.cc:479] Unable to register cuFFT factory: Attempting to register factory for plugin cuFFT when one has already been registered\n",
      "2024-09-05 19:23:24.774448: E external/local_xla/xla/stream_executor/cuda/cuda_blas.cc:1442] Unable to register cuBLAS factory: Attempting to register factory for plugin cuBLAS when one has already been registered\n"
     ]
    }
   ],
   "source": [
    "import sys\n",
    "sys.path.append('../modules/')\n",
    "\n",
    "%reload_ext autoreload\n",
    "%autoreload 2\n",
    "import datasets\n",
    "import ML_classes\n",
    "\n",
    "import matplotlib.pyplot as plt"
   ]
  },
  {
   "cell_type": "markdown",
   "id": "9a041caa-7c29-4c55-8b46-9e1310b83418",
   "metadata": {},
   "source": [
    "## Old way for making batches"
   ]
  },
  {
   "cell_type": "code",
   "execution_count": 10,
   "id": "898b1a4e-909b-4149-820c-8284d3c8a5a9",
   "metadata": {},
   "outputs": [],
   "source": [
    "ML_data = datasets.MOM6_all_transformer('-', 'all', \n",
    "                                       input_channels = ['U_x', 'U_y', \n",
    "                                                         'V_x', 'V_y', \n",
    "                                                         'Sx', 'Sy',\n",
    "                                                        'Lfilt'])"
   ]
  },
  {
   "cell_type": "code",
   "execution_count": 11,
   "id": "06801d8d-155f-4597-a949-e24ea8c18070",
   "metadata": {},
   "outputs": [
    {
     "name": "stdout",
     "output_type": "stream",
     "text": [
      "Dataset loaded from gs://leap-persistent/dhruvbalwada/MOM6/Double_Gyre/res5km/ml_data_50km.zarr\n",
      "Out para perp\n",
      "Subsampling\n",
      "Dataset loaded from gs://leap-persistent/dhruvbalwada/MOM6/Double_Gyre/res5km/ml_data_100km.zarr\n",
      "Out para perp\n",
      "Subsampling\n",
      "Dataset loaded from gs://leap-persistent/dhruvbalwada/MOM6/Double_Gyre/res5km/ml_data_200km.zarr\n",
      "Out para perp\n",
      "Subsampling\n",
      "Dataset loaded from gs://leap-persistent/dhruvbalwada/MOM6/Double_Gyre/res5km/ml_data_400km.zarr\n",
      "Out para perp\n",
      "Subsampling\n"
     ]
    }
   ],
   "source": [
    "exp = 'DG'\n",
    "window_size=1\n",
    "if exp == 'P2L':\n",
    "    MOM6_bucket = 'gs://leap-persistent/dhruvbalwada/MOM6/Phillips2Layer/'\n",
    "    \n",
    "    ML_data.read_datatree(MOM6_bucket, \n",
    "                      keep_filt_scale=True, para_perp_out = True)\n",
    "    \n",
    "elif exp == 'DG': \n",
    "    MOM6_bucket = 'gs://leap-persistent/dhruvbalwada/MOM6/Double_Gyre/res5km/ml_data_'\n",
    "    ML_data.read_datatree(MOM6_bucket, \n",
    "                      file_names='', # need this for file names in DG sim\n",
    "                      keep_filt_scale=True, \n",
    "                      para_perp_out = True, \n",
    "                      eta_bottom=True,\n",
    "                      large_filt=4,\n",
    "                      H_mask=150,\n",
    "                      sub_sample=True, \n",
    "                      window_size=window_size)\n",
    "    \n",
    "L = 'all'\n",
    "#ML_data = datasets.MOM6_all_transformer('-', 'all')"
   ]
  },
  {
   "cell_type": "code",
   "execution_count": 12,
   "id": "294baa84-0ea8-4f3e-8560-6137afef719c",
   "metadata": {},
   "outputs": [],
   "source": [
    "ML_data.datatree = ML_data.datatree.isel(Time=slice(-72, None))"
   ]
  },
  {
   "cell_type": "code",
   "execution_count": 14,
   "id": "33b2c915-d73d-4389-955b-ef326dab75f1",
   "metadata": {},
   "outputs": [
    {
     "name": "stdout",
     "output_type": "stream",
     "text": [
      "Test and train batches split. Number of batches: 37-5\n"
     ]
    },
    {
     "name": "stderr",
     "output_type": "stream",
     "text": [
      "/srv/conda/envs/notebook/lib/python3.12/site-packages/dask/core.py:127: RuntimeWarning: invalid value encountered in divide\n",
      "  return func(*(_execute_task(a, cache) for a in args))\n"
     ]
    }
   ],
   "source": [
    "ML_data.generate_test_train_batches(normalize=False)"
   ]
  },
  {
   "cell_type": "code",
   "execution_count": 15,
   "id": "4a5ef131-2d5d-49f9-9065-86af66101cd1",
   "metadata": {},
   "outputs": [
    {
     "data": {
      "text/plain": [
       "70056"
      ]
     },
     "execution_count": 15,
     "metadata": {},
     "output_type": "execute_result"
    }
   ],
   "source": [
    "old_len = len(ML_data.ds_train.points) + len(ML_data.ds_test.points)\n",
    "old_len"
   ]
  },
  {
   "cell_type": "markdown",
   "id": "404e9393-5a02-44fc-9da9-1e539c6b324e",
   "metadata": {},
   "source": [
    "## New way for making batches"
   ]
  },
  {
   "cell_type": "code",
   "execution_count": 16,
   "id": "4193bd25-b99c-435d-b29f-e86bfc108ce0",
   "metadata": {},
   "outputs": [],
   "source": [
    "DT = datasets.SimulationData(simulation_names=[exp], filter_scales=['50','100','200','400'])\n",
    "DT.preprocess_simulation_data(window_size=1)"
   ]
  },
  {
   "cell_type": "code",
   "execution_count": 17,
   "id": "883bcc4c-e517-4361-b9ef-5ec7a7496b82",
   "metadata": {},
   "outputs": [],
   "source": [
    "ML_DT_train = datasets.MLDataset(simulation_data=DT,\n",
    "                                 input_variables=['dudx_widened_rotated_nondim',\n",
    "                                                  'dvdx_widened_rotated_nondim',\n",
    "                                                  'dudy_widened_rotated_nondim',\n",
    "                                                  'dvdy_widened_rotated_nondim',\n",
    "                                                  'dhdx_widened_rotated_nondim',\n",
    "                                                  'dhdy_widened_rotated_nondim',\n",
    "                                                  'filter_scale'],\n",
    "                                 output_variables=['uphp_rotated_nondim','vphp_rotated_nondim'], \n",
    "                                time_range=slice(-72, None))"
   ]
  },
  {
   "cell_type": "code",
   "execution_count": 18,
   "id": "66ea3436-6f1b-4dc4-93d1-42e118bd621d",
   "metadata": {},
   "outputs": [
    {
     "name": "stdout",
     "output_type": "stream",
     "text": [
      "choose_ml_variables took: 0.0021 seconds\n",
      "Time subsampling took: 0.0151 seconds\n",
      "Horizontal subsampling took: 0.0099 seconds\n",
      "h_mask_ml_variables took: 0.0791 seconds\n",
      "stack_physical_dimensions took: 0.0416 seconds\n",
      "will load upto: 0.0451548 gb\n",
      "load took: 5.4895 seconds\n",
      "drop_nans took: 0.0467 seconds\n",
      "Seed set as:42\n",
      "randomize_along_points took: 0.0368 seconds\n",
      "Picked: 80312points\n",
      "pick_uniform_points took: 0.0036 seconds\n",
      "concat_datatree_nodes took: 0.0205 seconds\n",
      "randomize_concatenated_ml_dataset took: 0.0350 seconds\n",
      "generate_batches took: 0.0002 seconds\n",
      "CPU times: user 3.35 s, sys: 706 ms, total: 4.05 s\n",
      "Wall time: 5.78 s\n"
     ]
    }
   ],
   "source": [
    "%%time\n",
    "ML_DT_train.create_ML_variables()"
   ]
  },
  {
   "cell_type": "code",
   "execution_count": 19,
   "id": "7ed90a6b-cf9d-40ce-80b5-d6cbfb0e739d",
   "metadata": {},
   "outputs": [],
   "source": [
    "new_len = len(ML_DT_train.concatenated_ml_dataset.points)"
   ]
  },
  {
   "cell_type": "code",
   "execution_count": 20,
   "id": "8a136052-cb3d-4b8f-a734-c7bc990cee94",
   "metadata": {},
   "outputs": [
    {
     "data": {
      "text/plain": [
       "3.585588671919607"
      ]
     },
     "execution_count": 20,
     "metadata": {},
     "output_type": "execute_result"
    }
   ],
   "source": [
    "diff_len = new_len - old_len\n",
    "diff_len/old_len"
   ]
  },
  {
   "cell_type": "markdown",
   "id": "f1b7e156-a231-4812-906c-0a0405ba0107",
   "metadata": {},
   "source": [
    "The new method has lot more data than the old. Why is this difference there?\n",
    "- In new method we are using both layers.\n",
    "- In old method we dropped all data from near boundary, which we are not doing now. "
   ]
  },
  {
   "cell_type": "code",
   "execution_count": null,
   "id": "d76afad5-a232-4d3b-a2cd-f11a298d65b1",
   "metadata": {},
   "outputs": [],
   "source": []
  }
 ],
 "metadata": {
  "kernelspec": {
   "display_name": "Python 3 (ipykernel)",
   "language": "python",
   "name": "python3"
  },
  "language_info": {
   "codemirror_mode": {
    "name": "ipython",
    "version": 3
   },
   "file_extension": ".py",
   "mimetype": "text/x-python",
   "name": "python",
   "nbconvert_exporter": "python",
   "pygments_lexer": "ipython3",
   "version": "3.12.4"
  }
 },
 "nbformat": 4,
 "nbformat_minor": 5
}
