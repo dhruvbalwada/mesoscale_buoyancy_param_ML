{
 "cells": [
  {
   "cell_type": "code",
   "execution_count": 1,
   "id": "4d529f66-d4b2-4345-b9cf-04ccc4a1e8a1",
   "metadata": {},
   "outputs": [],
   "source": [
    "import xarray as xr\n",
    "import xrft\n",
    "import matplotlib.pyplot as plt\n",
    "import numpy as np"
   ]
  },
  {
   "cell_type": "code",
   "execution_count": 2,
   "id": "adc45ae2-35ba-4d42-926f-a0e7c556b01c",
   "metadata": {},
   "outputs": [],
   "source": [
    "from datatree import open_datatree, DataTree "
   ]
  },
  {
   "cell_type": "code",
   "execution_count": 6,
   "id": "0b166c4f-df2c-4774-b8b7-383a80f3d9e4",
   "metadata": {},
   "outputs": [
    {
     "data": {
      "text/plain": [
       "'0.0.15'"
      ]
     },
     "execution_count": 6,
     "metadata": {},
     "output_type": "execute_result"
    }
   ],
   "source": [
    "import datatree\n",
    "datatree.__version__"
   ]
  },
  {
   "cell_type": "code",
   "execution_count": 3,
   "id": "6e2d74ff-f7f1-4bee-8b04-fad5b9e96216",
   "metadata": {},
   "outputs": [],
   "source": [
    "res = [10, 20, 40, 80]\n",
    "C_ANN = np.array([0.0, 0.25, 0.5, 0.75, 1.0])\n",
    "C_GM = np.array([10, 50, 100, 500, 1000])/1000\n",
    "model_types = ['ANN', 'GM1000']"
   ]
  },
  {
   "cell_type": "code",
   "execution_count": 22,
   "id": "dd779c5a-4243-4234-8825-ca3d211042e6",
   "metadata": {},
   "outputs": [
    {
     "name": "stdout",
     "output_type": "stream",
     "text": [
      "Reading :res_10km_ANN_0.0\n"
     ]
    }
   ],
   "source": [
    "exp_dic = {}\n",
    "\n",
    "for ANN_type in model_types[0:1]: \n",
    "    exp_dic[ANN_type] = {}\n",
    "    for r in res[0:1]: \n",
    "        r = str(r)\n",
    "        exp_dic[ANN_type][r] = {}\n",
    "        if ANN_type == 'ANN':\n",
    "            C = C_ANN\n",
    "        elif ANN_type == 'GM1000':\n",
    "            C = C_GM\n",
    "\n",
    "        for coeff in C[0:1]: \n",
    "            coeff = str(coeff)\n",
    "            exp_dic[ANN_type][r][str(coeff)] = {}\n",
    "            exp_name = 'res_' + str(r) + 'km_' + str(ANN_type) + '_' + str(coeff)\n",
    "            print('Reading :' + exp_name)\n",
    "\n",
    "            exp_dic[ANN_type][r][coeff] = xr.Dataset()\n",
    "            #exp_dic[ANN_type][r][coeff]['ave_prog'] = xr.Dataset()"
   ]
  },
  {
   "cell_type": "code",
   "execution_count": 23,
   "id": "be07665f-6984-4744-b00a-ed58b730fd95",
   "metadata": {},
   "outputs": [
    {
     "data": {
      "text/plain": [
       "{'ANN': {'10': {'0.0': <xarray.Dataset> Size: 0B\n",
       "   Dimensions:  ()\n",
       "   Data variables:\n",
       "       *empty*}}}"
      ]
     },
     "execution_count": 23,
     "metadata": {},
     "output_type": "execute_result"
    }
   ],
   "source": [
    "exp_dic"
   ]
  },
  {
   "cell_type": "code",
   "execution_count": 24,
   "id": "fadc0484-3890-4419-b115-af9d2a08e13c",
   "metadata": {},
   "outputs": [
    {
     "ename": "TypeError",
     "evalue": "data object is not an xarray Dataset, DataArray, or None, it is of type <class 'dict'>",
     "output_type": "error",
     "traceback": [
      "\u001b[0;31m---------------------------------------------------------------------------\u001b[0m",
      "\u001b[0;31mTypeError\u001b[0m                                 Traceback (most recent call last)",
      "Cell \u001b[0;32mIn[24], line 1\u001b[0m\n\u001b[0;32m----> 1\u001b[0m exp_tree \u001b[38;5;241m=\u001b[39m \u001b[43mDataTree\u001b[49m\u001b[38;5;241;43m.\u001b[39;49m\u001b[43mfrom_dict\u001b[49m\u001b[43m(\u001b[49m\u001b[43mexp_dic\u001b[49m\u001b[43m)\u001b[49m\n",
      "File \u001b[0;32m/srv/conda/envs/notebook/lib/python3.12/site-packages/datatree/datatree.py:1076\u001b[0m, in \u001b[0;36mDataTree.from_dict\u001b[0;34m(cls, d, name)\u001b[0m\n\u001b[1;32m   1074\u001b[0m             new_node\u001b[38;5;241m.\u001b[39morphan()\n\u001b[1;32m   1075\u001b[0m         \u001b[38;5;28;01melse\u001b[39;00m:\n\u001b[0;32m-> 1076\u001b[0m             new_node \u001b[38;5;241m=\u001b[39m \u001b[38;5;28;43mcls\u001b[39;49m\u001b[43m(\u001b[49m\u001b[43mname\u001b[49m\u001b[38;5;241;43m=\u001b[39;49m\u001b[43mnode_name\u001b[49m\u001b[43m,\u001b[49m\u001b[43m \u001b[49m\u001b[43mdata\u001b[49m\u001b[38;5;241;43m=\u001b[39;49m\u001b[43mdata\u001b[49m\u001b[43m)\u001b[49m\n\u001b[1;32m   1077\u001b[0m         obj\u001b[38;5;241m.\u001b[39m_set_item(\n\u001b[1;32m   1078\u001b[0m             path,\n\u001b[1;32m   1079\u001b[0m             new_node,\n\u001b[1;32m   1080\u001b[0m             allow_overwrite\u001b[38;5;241m=\u001b[39m\u001b[38;5;28;01mFalse\u001b[39;00m,\n\u001b[1;32m   1081\u001b[0m             new_nodes_along_path\u001b[38;5;241m=\u001b[39m\u001b[38;5;28;01mTrue\u001b[39;00m,\n\u001b[1;32m   1082\u001b[0m         )\n\u001b[1;32m   1084\u001b[0m \u001b[38;5;28;01mreturn\u001b[39;00m obj\n",
      "File \u001b[0;32m/srv/conda/envs/notebook/lib/python3.12/site-packages/datatree/datatree.py:401\u001b[0m, in \u001b[0;36mDataTree.__init__\u001b[0;34m(self, data, parent, children, name)\u001b[0m\n\u001b[1;32m    399\u001b[0m \u001b[38;5;28;01mif\u001b[39;00m children \u001b[38;5;129;01mis\u001b[39;00m \u001b[38;5;28;01mNone\u001b[39;00m:\n\u001b[1;32m    400\u001b[0m     children \u001b[38;5;241m=\u001b[39m {}\n\u001b[0;32m--> 401\u001b[0m ds \u001b[38;5;241m=\u001b[39m \u001b[43m_coerce_to_dataset\u001b[49m\u001b[43m(\u001b[49m\u001b[43mdata\u001b[49m\u001b[43m)\u001b[49m\n\u001b[1;32m    402\u001b[0m _check_for_name_collisions(children, ds\u001b[38;5;241m.\u001b[39mvariables)\n\u001b[1;32m    404\u001b[0m \u001b[38;5;28msuper\u001b[39m()\u001b[38;5;241m.\u001b[39m\u001b[38;5;21m__init__\u001b[39m(name\u001b[38;5;241m=\u001b[39mname)\n",
      "File \u001b[0;32m/srv/conda/envs/notebook/lib/python3.12/site-packages/datatree/datatree.py:90\u001b[0m, in \u001b[0;36m_coerce_to_dataset\u001b[0;34m(data)\u001b[0m\n\u001b[1;32m     88\u001b[0m     ds \u001b[38;5;241m=\u001b[39m Dataset()\n\u001b[1;32m     89\u001b[0m \u001b[38;5;28;01melse\u001b[39;00m:\n\u001b[0;32m---> 90\u001b[0m     \u001b[38;5;28;01mraise\u001b[39;00m \u001b[38;5;167;01mTypeError\u001b[39;00m(\n\u001b[1;32m     91\u001b[0m         \u001b[38;5;124mf\u001b[39m\u001b[38;5;124m\"\u001b[39m\u001b[38;5;124mdata object is not an xarray Dataset, DataArray, or None, it is of type \u001b[39m\u001b[38;5;132;01m{\u001b[39;00m\u001b[38;5;28mtype\u001b[39m(data)\u001b[38;5;132;01m}\u001b[39;00m\u001b[38;5;124m\"\u001b[39m\n\u001b[1;32m     92\u001b[0m     )\n\u001b[1;32m     93\u001b[0m \u001b[38;5;28;01mreturn\u001b[39;00m ds\n",
      "\u001b[0;31mTypeError\u001b[0m: data object is not an xarray Dataset, DataArray, or None, it is of type <class 'dict'>"
     ]
    }
   ],
   "source": [
    "exp_tree = DataTree.from_dict(exp_dic)"
   ]
  },
  {
   "cell_type": "code",
   "execution_count": null,
   "id": "037c0837-7c45-45cc-91fa-f6694bf5b7a6",
   "metadata": {},
   "outputs": [],
   "source": []
  }
 ],
 "metadata": {
  "kernelspec": {
   "display_name": "Python 3 (ipykernel)",
   "language": "python",
   "name": "python3"
  },
  "language_info": {
   "codemirror_mode": {
    "name": "ipython",
    "version": 3
   },
   "file_extension": ".py",
   "mimetype": "text/x-python",
   "name": "python",
   "nbconvert_exporter": "python",
   "pygments_lexer": "ipython3",
   "version": "3.12.7"
  }
 },
 "nbformat": 4,
 "nbformat_minor": 5
}
