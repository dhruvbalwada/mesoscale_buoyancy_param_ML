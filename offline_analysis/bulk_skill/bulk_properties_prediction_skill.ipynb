{
 "cells": [
  {
   "cell_type": "code",
   "execution_count": 1,
   "id": "4f183f5d-f3bf-451e-992e-783decfe623f",
   "metadata": {},
   "outputs": [
    {
     "name": "stderr",
     "output_type": "stream",
     "text": [
      "2025-02-21 19:46:42.995376: E external/local_xla/xla/stream_executor/cuda/cuda_fft.cc:485] Unable to register cuFFT factory: Attempting to register factory for plugin cuFFT when one has already been registered\n",
      "2025-02-21 19:46:43.015111: E external/local_xla/xla/stream_executor/cuda/cuda_dnn.cc:8454] Unable to register cuDNN factory: Attempting to register factory for plugin cuDNN when one has already been registered\n",
      "2025-02-21 19:46:43.020842: E external/local_xla/xla/stream_executor/cuda/cuda_blas.cc:1452] Unable to register cuBLAS factory: Attempting to register factory for plugin cuBLAS when one has already been registered\n"
     ]
    }
   ],
   "source": [
    "import warnings\n",
    "\n",
    "# Ignore all warnings\n",
    "warnings.filterwarnings(\"ignore\")\n",
    "\n",
    "import matplotlib.pyplot as plt\n",
    "import numpy as np\n",
    "import xarray as xr\n",
    "\n",
    "import sys\n",
    "sys.path.append('../../modules/')\n",
    "\n",
    "%reload_ext autoreload\n",
    "%autoreload 2\n",
    "import datasets\n",
    "import ML_classes\n",
    "import evaluation"
   ]
  },
  {
   "cell_type": "code",
   "execution_count": 2,
   "id": "4fa099a4-dcf2-4cf1-85a1-0c0ea8e44719",
   "metadata": {},
   "outputs": [],
   "source": [
    "# We need one place to save all the experiment relevant info.  \n",
    "experiment_config= {#'simulation_names':['DG','P2L'], \n",
    "                    'simulation_names':['P2L'], \n",
    "                    'filter_scales':['50','100','200','400'],\n",
    "                    #'filter_scales':['100'],\n",
    "                    'window_size':3, \n",
    "                    'all_ml_variables' : ['dudx_widened_rotated_nondim',  # must include all variables, including those used as coefficients\n",
    "                                          'dvdx_widened_rotated_nondim', \n",
    "                                          'dudy_widened_rotated_nondim',\n",
    "                                          'dvdy_widened_rotated_nondim',\n",
    "                                          'dhdx_widened_rotated_nondim',\n",
    "                                          'dhdy_widened_rotated_nondim',\n",
    "                                          #'mag_nabla_h_widened',\n",
    "                                          #'filter_scale', \n",
    "                                          #'mag_nabla_u_widened',\n",
    "                                          'uphp_rotated_nondim',  # this non-dim has taken a particular form (see in paper, flux/L^2/|grad u|)\n",
    "                                          'vphp_rotated_nondim'], \n",
    "                    \n",
    "                    'input_channels' :   ['dudx_widened_rotated_nondim',  \n",
    "                                          'dvdx_widened_rotated_nondim', \n",
    "                                          'dudy_widened_rotated_nondim',\n",
    "                                          'dvdy_widened_rotated_nondim',\n",
    "                                          'dhdx_widened_rotated_nondim',\n",
    "                                          'dhdy_widened_rotated_nondim'],\n",
    "                    \n",
    "                    'output_channels' :  ['uphp_rotated_nondim',\n",
    "                                          'vphp_rotated_nondim'],\n",
    "                    \n",
    "                    'coeff_channels'  : [], \n",
    "\n",
    "                    'extra_channels'   : ['uphp_rotated',\n",
    "                                        'vphp_rotated', \n",
    "                                        'mag_nabla_h_widened',\n",
    "                                        'mag_nabla_u_widened',\n",
    "                                        'filter_scale'],\n",
    "\n",
    "                    'use_coeff_channels': False,\n",
    "\n",
    "                    'all_time_range': slice(0, 3600),\n",
    "                    'train_time_range': slice(0, 1024),\n",
    "                    'test_time_range' : slice(-128, None),\n",
    "                    'eval_time_range' : slice(0, 3600),\n",
    "                    'num_train_batches': 128, \n",
    "                    'num_test_batches' : 8, \n",
    "\n",
    "                    #'num_inputs': 55, \n",
    "                    'network_shape': [48, 48, 2],\n",
    "                    'exp_ckpt_save_dir': '/home/jovyan/mesoscale_buoyancy_param_ML/ML_checkpoints/evaluate_model_design/impact_train_experiment/window_3/shape_48_48_2/'\n",
    "                    #'network_shape': [36, 36, 2],\n",
    "                    #'exp_ckpt_save_dir': '/home/jovyan/mesoscale_buoyancy_param_ML/ML_checkpoints/evaluate_model_design/impact_train_experiment/window_3/'\n",
    "                    \n",
    "            }\n",
    "experiment_config['num_inputs'] = len(experiment_config['input_channels']) * experiment_config['window_size']**2"
   ]
  },
  {
   "cell_type": "code",
   "execution_count": 3,
   "id": "da299f62-860e-4c21-b72c-fef86cd1044e",
   "metadata": {},
   "outputs": [
    {
     "name": "stdout",
     "output_type": "stream",
     "text": [
      "CPU times: user 1min 23s, sys: 27.6 s, total: 1min 50s\n",
      "Wall time: 1min 43s\n"
     ]
    }
   ],
   "source": [
    "%%time\n",
    "#DT = datasets.SimulationData(simulation_names=['P2L', 'DG'], filter_scales=['50','100','200','400'])\n",
    "DT = datasets.SimulationData(simulation_names=experiment_config['simulation_names'], \n",
    "                             filter_scales=experiment_config['filter_scales'], \n",
    "                             window_size = experiment_config['window_size'], \n",
    "                             time_sel = experiment_config['all_time_range'],\n",
    "                             single_layer_mask_flag=True)"
   ]
  },
  {
   "cell_type": "code",
   "execution_count": 5,
   "id": "2a7099b8-7e2f-422e-b787-fdc77a255c22",
   "metadata": {},
   "outputs": [],
   "source": [
    "ds = DT.simulation_data['P2L']['100']\n"
   ]
  },
  {
   "cell_type": "code",
   "execution_count": 7,
   "id": "9b342d08-9a6d-4a50-aa87-282ae6ccd961",
   "metadata": {},
   "outputs": [
    {
     "data": {
      "text/plain": [
       "<xarray.plot.facetgrid.FacetGrid at 0x7f48740b6f30>"
      ]
     },
     "execution_count": 7,
     "metadata": {},
     "output_type": "execute_result"
    },
    {
     "data": {
      "image/png": "[encoded data removed]",
      "text/plain": [
       "<Figure size 700x300 with 3 Axes>"
      ]
     },
     "metadata": {},
     "output_type": "display_data"
    }
   ],
   "source": [
    "ds.vphp.isel(Time=slice(-400,None)).mean('Time').plot(col='zl')"
   ]
  },
  {
   "cell_type": "code",
   "execution_count": 8,
   "id": "3095b3a9-f00f-4479-b3f3-1b3537fa3ca2",
   "metadata": {},
   "outputs": [],
   "source": [
    "exp_sets = { #'DG_only': { 'sel_sim' :'DG' }, \n",
    "             #'P2L_only':{ 'sel_sim' :'P2L' }, \n",
    "             'DG_P2L':{'sel_sim' :['DG','P2L']}   \n",
    "            }\n",
    "\n",
    "for set_keys in exp_sets.keys(): \n",
    "    exp_sets[set_keys]['save_dir'] = experiment_config['exp_ckpt_save_dir'] + set_keys\n"
   ]
  },
  {
   "cell_type": "code",
   "execution_count": null,
   "id": "ee436044-87a0-404d-9714-95ef631e6dcf",
   "metadata": {},
   "outputs": [
    {
     "name": "stdout",
     "output_type": "stream",
     "text": [
      "/home/jovyan/mesoscale_buoyancy_param_ML/ML_checkpoints/evaluate_model_design/impact_train_experiment/window_3/shape_48_48_2/DG_P2L\n"
     ]
    }
   ],
   "source": [
    "# Load in and get the models ready to evaluate\n",
    "for set_keys in exp_sets.keys():\n",
    "    print(exp_sets[set_keys]['save_dir'])\n",
    "    exp_sets[set_keys]['eval_sys'] = evaluation.EvalSystem(simulation_data=DT,\n",
    "                                             input_channels=experiment_config['input_channels'],\n",
    "                                             output_channels=experiment_config['output_channels'], \n",
    "                                             coeff_channels=experiment_config['coeff_channels'], \n",
    "                                             extra_channels=experiment_config['extra_channels'],\n",
    "                                             use_norm_factors=True,\n",
    "                                             eval_time_slice= experiment_config['eval_time_range'], \n",
    "                                             num_inputs=experiment_config['num_inputs'], \n",
    "                                             shape=experiment_config['network_shape'], \n",
    "                                             ckpt_dir=exp_sets[set_keys]['save_dir'],\n",
    "                                             use_coeff_channels=experiment_config['use_coeff_channels'])\n",
    "\n",
    "    \n",
    "    exp_sets[set_keys]['eval_sys'].read_ann_regression_model()\n",
    "    exp_sets[set_keys]['eval_sys'].read_eval_data()\n",
    "    exp_sets[set_keys]['eval_sys'].predict()\n",
    "    exp_sets[set_keys]['eval_sys'].dimensionalize()"
   ]
  },
  {
   "cell_type": "code",
   "execution_count": null,
   "id": "cbb1c866-3ed1-4450-935a-e83e9be377d8",
   "metadata": {},
   "outputs": [],
   "source": []
  }
 ],
 "metadata": {
  "kernelspec": {
   "display_name": "Python 3 (ipykernel)",
   "language": "python",
   "name": "python3"
  },
  "language_info": {
   "codemirror_mode": {
    "name": "ipython",
    "version": 3
   },
   "file_extension": ".py",
   "mimetype": "text/x-python",
   "name": "python",
   "nbconvert_exporter": "python",
   "pygments_lexer": "ipython3",
   "version": "3.12.7"
  }
 },
 "nbformat": 4,
 "nbformat_minor": 5
}
