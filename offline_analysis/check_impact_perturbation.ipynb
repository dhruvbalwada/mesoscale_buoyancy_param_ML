{
 "cells": [
  {
   "cell_type": "markdown",
   "id": "e14ea941-8975-4198-b544-c86b32aefcfb",
   "metadata": {},
   "source": [
    "### Check impact of perturbation \n",
    "\n",
    "On Nov 27 we were finding that the ANN would lead to instability by adding small scale noise, which would grow exponentially. \n",
    "One strategy to address this might have been to try and get the ANN to produce smooth results at small scales. \n",
    "\n",
    "This is why we start by checking how the ANN responds to small scale perturbations. \n",
    "\n",
    "##### Note: We paused this because adding a filter in the implementation helps alleviate the instability. Pavel is still thinking about this for momentum parameterizations. "
   ]
  },
  {
   "cell_type": "code",
   "execution_count": null,
   "id": "a630787c-248d-429a-b9e2-302ddeb1d910",
   "metadata": {},
   "outputs": [],
   "source": []
  }
 ],
 "metadata": {
  "kernelspec": {
   "display_name": "Python 3 (ipykernel)",
   "language": "python",
   "name": "python3"
  },
  "language_info": {
   "codemirror_mode": {
    "name": "ipython",
    "version": 3
   },
   "file_extension": ".py",
   "mimetype": "text/x-python",
   "name": "python",
   "nbconvert_exporter": "python",
   "pygments_lexer": "ipython3",
   "version": "3.10.12"
  }
 },
 "nbformat": 4,
 "nbformat_minor": 5
}
